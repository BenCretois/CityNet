{
 "cells": [
  {
   "cell_type": "markdown",
   "metadata": {},
   "source": [
    "# Distraction classes confusion matrices\n",
    "\n",
    "The aim here is to plot a separate confusion matrix for each of the 'distraction' classes e.g. wind, rain etc"
   ]
  },
  {
   "cell_type": "code",
   "execution_count": 2,
   "metadata": {
    "collapsed": false
   },
   "outputs": [
    {
     "name": "stderr",
     "output_type": "stream",
     "text": [
      "/home/michael/anaconda/lib/python2.7/site-packages/IPython/utils/traitlets.py:5: UserWarning: IPython.utils.traitlets has moved to a top-level traitlets package.\n",
      "  warn(\"IPython.utils.traitlets has moved to a top-level traitlets package.\")\n",
      "/home/michael/anaconda/lib/python2.7/site-packages/IPython/kernel/__init__.py:13: ShimWarning: The `IPython.kernel` package has been deprecated. You should import from ipykernel or jupyter_client instead.\n",
      "  \"You should import from ipykernel or jupyter_client instead.\", ShimWarning)\n"
     ]
    }
   ],
   "source": [
    "%matplotlib inline\n",
    "import matplotlib.pyplot as plt\n",
    "\n",
    "import os\n",
    "import sys\n",
    "import cPickle as pickle\n",
    "import numpy as np\n",
    "import seaborn as sns\n",
    "import pandas as pd\n",
    "from scipy.ndimage.interpolation import zoom\n",
    "import collections\n",
    "from sklearn.metrics import confusion_matrix\n",
    "\n",
    "def force_make_dir(dirpath):\n",
    "    if not os.path.exists(dirpath):\n",
    "        os.makedirs(dirpath)\n",
    "    return dirpath"
   ]
  },
  {
   "cell_type": "code",
   "execution_count": 3,
   "metadata": {
    "collapsed": false
   },
   "outputs": [],
   "source": [
    "# run_type = 'mel32_train_large_hard_bootstrap'\n",
    "run_type = 'mel32_large_test_golden'#_noisy_loss'\n",
    "classname = 'biotic'\n",
    "\n",
    "base_dir = '/media/michael/Engage/data/audio/alison_data/golden_set/'\n",
    "labels_dir = base_dir + 'labels/Golden/'\n",
    "\n",
    "results_dir = base_dir + 'predictions/%s/%s/per_file_predictions/' % (run_type, classname)\n",
    "annotation_pkl_dir = base_dir + 'extracted/annotations/'\n",
    "\n",
    "# where to save\n",
    "savedir = force_make_dir(results_dir + '../distractors_analysis/')"
   ]
  },
  {
   "cell_type": "code",
   "execution_count": 4,
   "metadata": {
    "collapsed": true
   },
   "outputs": [],
   "source": [
    "def load_annotation_class(label_filename, classes_to_use):\n",
    "    '''\n",
    "    Create a label vector for a specific class or set of classes, \n",
    "    for a single file\n",
    "    '''\n",
    "    pd_annots = pd.read_csv(label_filename)\n",
    "\n",
    "    # create label vector...\n",
    "    sample_rate = 22050\n",
    "    label_vector = np.zeros((sample_rate * 60))  # sample rate x 60 seconds\n",
    "\n",
    "    # loop over each annotation...\n",
    "    for _, annot in pd_annots.iterrows():\n",
    "\n",
    "        # fill in the label vector\n",
    "        start_point = int(float(annot['LabelStartTime_Seconds']) * sample_rate)\n",
    "        end_point =  int(float(annot['LabelEndTime_Seconds']) * sample_rate)\n",
    "\n",
    "        if annot['Label'].lower() in classes_to_use:\n",
    "            label_vector[start_point:end_point] = 1\n",
    "\n",
    "    return label_vector"
   ]
  },
  {
   "cell_type": "code",
   "execution_count": 5,
   "metadata": {
    "collapsed": false
   },
   "outputs": [],
   "source": [
    "# Loading the data label converters\n",
    "converters = pd.read_csv(base_dir + 'choosingLabelsForAudiotagger.csv')\n",
    "sound_label_groups = collections.defaultdict(list)\n",
    "for idx, row in converters.iterrows():\n",
    "    sound_label_groups[row['Convert to']].append(row['Label'])\n",
    "sound_label_groups['Air traffic'].append('air traffic')\n",
    "sound_label_groups['Road traffic'].append('road traffic')\n",
    "sound_label_groups['Road traffic'].append('mix traffic')\n",
    " "
   ]
  },
  {
   "cell_type": "code",
   "execution_count": 6,
   "metadata": {
    "collapsed": false
   },
   "outputs": [],
   "source": [
    "# setting up which distractors we want to analyse\n",
    "distractors = ['Air traffic', 'Braking vehicle (road or rail)', 'Electrical disturbance', \n",
    "               'Human Voice', 'Mechanical', 'Rail Traffic', 'Rain', 'Road traffic', \n",
    "               'Siren', 'Vehicle horn (road or rail)', 'Wind']"
   ]
  },
  {
   "cell_type": "code",
   "execution_count": 7,
   "metadata": {
    "collapsed": false
   },
   "outputs": [
    {
     "name": "stdout",
     "output_type": "stream",
     "text": [
      "\n",
      "Plotting conf matrix for Air traffic:\n",
      "['airplane', 'air traffic']\n",
      "\n",
      "Plotting conf matrix for Braking vehicle (road or rail):\n",
      "['breaking vehicle', 'Braking', 'vehicle breaking']\n",
      "Skipping - there are no items here\n",
      "\n",
      "Plotting conf matrix for Electrical disturbance:\n",
      "['electrical']\n",
      "Skipping - there are no items here\n",
      "\n",
      "Plotting conf matrix for Human Voice:\n",
      "['human voice']\n",
      "Skipping - there are no items here\n",
      "\n",
      "Plotting conf matrix for Mechanical:\n",
      "['machinery', 'mechanical']\n",
      "\n",
      "Plotting conf matrix for Rail Traffic:\n",
      "['rail traffic']\n",
      "Skipping - there are no items here\n",
      "\n",
      "Plotting conf matrix for Rain:\n",
      "['rain', 'rainfall on vegetation']\n",
      "\n",
      "Plotting conf matrix for Road traffic:\n",
      "['Mix traffic', 'road traffic', 'mix traffic']\n",
      "\n",
      "Plotting conf matrix for Siren:\n",
      "['siren']\n",
      "\n",
      "Plotting conf matrix for Vehicle horn (road or rail):\n",
      "['beep', 'vehicle horn', 'train horn']\n",
      "Skipping - there are no items here\n",
      "\n",
      "Plotting conf matrix for Wind:\n",
      "['wind']\n"
     ]
    }
   ],
   "source": [
    "differences = {}\n",
    "all_with_without_scores = {}\n",
    "\n",
    "# load in the annotations\n",
    "for name in distractors:    \n",
    "    \n",
    "    distractor_classes = sound_label_groups[name]\n",
    "\n",
    "    tmp = dict.fromkeys(['tm', 'tp', 'tn', 'fp', 'fn'], 0)\n",
    "    totals = [tmp.copy(), tmp.copy()]\n",
    "    all_y_true = []\n",
    "    all_y_pred = []\n",
    "\n",
    "    for fname in os.listdir(labels_dir):\n",
    "\n",
    "        # load the annottion\n",
    "        distractor_labels = load_annotation_class(labels_dir + fname, distractor_classes)\n",
    "\n",
    "        y_true, y_pred_proba = pickle.load(open(\n",
    "                results_dir + fname.replace('-sceneRect.csv', '.pkl')))\n",
    "\n",
    "        factor = y_true.shape[0] / float(distractor_labels.shape[0])\n",
    "        distractor_labels = zoom(distractor_labels, factor, order=1)\n",
    "\n",
    "        y_pred_class = y_pred_proba[:, 1] > 0.5\n",
    "\n",
    "        all_y_true.append(y_true[distractor_labels > 0.5])\n",
    "        all_y_pred.append(y_pred_class[distractor_labels > 0.5])\n",
    "\n",
    "        slice_size = 60.0 / y_true.shape[0]\n",
    "\n",
    "        # loop over moments with both dont (0) and do (1) have the distractor sound\n",
    "        for distractor_class in [0, 1]:\n",
    "            tmp = totals[distractor_class]\n",
    "            idxs = distractor_labels > 0.5 if distractor_class else distractor_labels < 0.5\n",
    "            _y_true = y_true[idxs]\n",
    "            _y_pred = y_pred_class[idxs]\n",
    "            \n",
    "            tmp['tm'] += _y_true.shape[0]\n",
    "            tmp['tp'] += np.logical_and(_y_true == _y_pred, _y_true == 1).sum()\n",
    "            tmp['tn'] += np.logical_and(_y_true == _y_pred, _y_true == 0).sum()\n",
    "            tmp['fp'] += np.logical_and(_y_true != _y_pred, _y_true == 0).sum()\n",
    "            tmp['fn'] += np.logical_and(_y_true != _y_pred, _y_true == 1).sum()\n",
    "\n",
    "    ############################################################\n",
    "    # PLOTTING CONFUSION MATRIX\n",
    "    print \"\\nPlotting conf matrix for %s:\" % name\n",
    "    print distractor_classes\n",
    "    all_y_true = np.hstack(all_y_true)\n",
    "    all_y_pred = np.hstack(all_y_pred)\n",
    "    if len(all_y_true) == 0:\n",
    "        print \"Skipping - there are no items here\"\n",
    "        continue\n",
    "\n",
    "    cm = (confusion_matrix(all_y_true, all_y_pred) * slice_size).astype(int)[::-1]\n",
    "\n",
    "    fig = plt.figure(figsize=(4, 4))\n",
    "    ax = fig.add_axes((0.18,0.1,0.8,0.8))\n",
    "    ax = sns.heatmap(cm, annot=True, fmt=\"d\", ax=ax)\n",
    "    #plt.savefig(savedir + 'confusion_matrix1.pdf')\n",
    "    ax.grid('off')\n",
    "    ax.set_aspect(1.0)\n",
    "    plt.xticks([0.5, 1.5], ['None', classname.capitalize()])\n",
    "    plt.yticks([0.5, 1.5], ['None', classname.capitalize()])\n",
    "    plt.tick_params(axis='both', which='major', labelsize=16)\n",
    "    plt.ylabel('Actual', fontsize=20)\n",
    "    plt.xlabel('Predicted', fontsize=20)\n",
    "\n",
    "    plt.savefig(savedir + '%s.pdf' % name)\n",
    "    plt.savefig(savedir + '%s.png' % name, dpi=800)\n",
    "    plt.close()\n",
    "    \n",
    "    ############################################################\n",
    "    # Working out change in performance with/without distractor\n",
    "    scores = [np.nan, np.nan]\n",
    "    for distractor_present, total in enumerate(totals):\n",
    "        if sum(total[key] for key in ['tp', 'fn']):\n",
    "            A = float(total['tp']) / sum(total[key] for key in ['tp', 'fn'])\n",
    "        else:\n",
    "            A = np.nan\n",
    "\n",
    "        if sum(total[key] for key in ['fp', 'tn']):\n",
    "            B = float(total['tn']) / sum(total[key] for key in ['fp', 'tn'])\n",
    "        else:\n",
    "            B = np.nan\n",
    "\n",
    "        # this is a balanced score already\n",
    "        scores[distractor_present] = np.nansum((A, B)) / sum(~np.isnan((A, B)))\n",
    "\n",
    "    differences[name] = np.diff(scores)\n",
    "    all_with_without_scores[name] = scores"
   ]
  },
  {
   "cell_type": "code",
   "execution_count": 8,
   "metadata": {
    "collapsed": false
   },
   "outputs": [
    {
     "data": {
      "image/png": "[encoded data removed]",
      "text/plain": [
       "<matplotlib.figure.Figure at 0x7f2b8d84cdd0>"
      ]
     },
     "metadata": {},
     "output_type": "display_data"
    }
   ],
   "source": [
    "# Plotting the change in balanced accuracy with/without the sound type\n",
    "items = differences.items()\n",
    "items = sorted(items, key = lambda x:x[1])\n",
    "Y = np.arange(len(items))\n",
    "\n",
    "ax = plt.barh(Y, [xx[1] for xx in items])\n",
    "plt.yticks(Y + 0.5, [xx[0] for xx in items]);"
   ]
  },
  {
   "cell_type": "code",
   "execution_count": 30,
   "metadata": {
    "collapsed": false
   },
   "outputs": [
    {
     "name": "stdout",
     "output_type": "stream",
     "text": [
      "Siren           0.855    0.790    -7.65%\n",
      "Rain            0.857    0.795    -7.30%\n",
      "Road traffic    0.865    0.845    -2.34%\n",
      "Mechanical      0.853    0.923    +8.25%\n",
      "Air traffic     0.844    0.867    +2.77%\n",
      "Wind            0.854    0.828    -3.03%\n"
     ]
    }
   ],
   "source": [
    "for key, val in all_with_without_scores.items():\n",
    "    diff = 100 * (val[1] - val[0]) / (val[0])\n",
    "    print \"{: <16}{:05.3f}    {:05.3f}    {:+04.2f}%\".format(key, val[0], val[1], diff)"
   ]
  },
  {
   "cell_type": "code",
   "execution_count": 27,
   "metadata": {
    "collapsed": false
   },
   "outputs": [
    {
     "name": "stdout",
     "output_type": "stream",
     "text": [
      "Siren             -6.54\n",
      "Rain              -6.26\n",
      "Road traffic      -2.03\n",
      "Mechanical        +7.04\n",
      "Air traffic       +2.34\n",
      "Wind              -2.59\n"
     ]
    }
   ],
   "source": [
    "for key, val in all_with_without_scores.items():\n",
    "    diff = differences[key][0] * 100\n",
    "    print \"{: <16}  {:+05.2f}\".format(key, diff)"
   ]
  }
 ],
 "metadata": {
  "kernelspec": {
   "display_name": "Python 2",
   "language": "python",
   "name": "python2"
  },
  "language_info": {
   "codemirror_mode": {
    "name": "ipython",
    "version": 2
   },
   "file_extension": ".py",
   "mimetype": "text/x-python",
   "name": "python",
   "nbconvert_exporter": "python",
   "pygments_lexer": "ipython2",
   "version": "2.7.12"
  }
 },
 "nbformat": 4,
 "nbformat_minor": 0
}
