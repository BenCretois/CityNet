{
 "cells": [
  {
   "cell_type": "code",
   "execution_count": 3,
   "metadata": {
    "collapsed": false
   },
   "outputs": [
    {
     "name": "stdout",
     "output_type": "stream",
     "text": [
      "The autoreload extension is already loaded. To reload it, use:\n",
      "  %reload_ext autoreload\n"
     ]
    }
   ],
   "source": [
    "%load_ext autoreload\n",
    "%autoreload 2\n",
    "%matplotlib inline\n",
    "\n",
    "import matplotlib.pyplot as plt\n",
    "import numpy as np, yaml, cPickle as pickle\n",
    "from lib import data_io\n",
    "import pandas as pd\n",
    "from copy import copy\n",
    "from sklearn.cross_validation import train_test_split\n",
    "\n",
    "golden = True"
   ]
  },
  {
   "cell_type": "markdown",
   "metadata": {},
   "source": [
    "## Load in richness labels and spectrograms and biotic predictions"
   ]
  },
  {
   "cell_type": "code",
   "execution_count": 4,
   "metadata": {
    "collapsed": false
   },
   "outputs": [],
   "source": [
    "richness = pd.read_csv(\n",
    "    data_io.large_base + '../diversity_labelled_data/resultAndSiteFiles/6SitesWith90Minutes.csv')\n",
    "\n",
    "richness_files = set(xx.split('.')[0] for xx in richness.File)\n",
    "\n",
    "fname_to_richness = {}\n",
    "for idx, row in richness.iterrows():\n",
    "    \n",
    "    fname_to_richness[row['File'].split('.')[0]] = sum(\n",
    "        yy for xx, yy in row.iteritems() if xx != u'File')"
   ]
  },
  {
   "cell_type": "code",
   "execution_count": 5,
   "metadata": {
    "collapsed": false
   },
   "outputs": [],
   "source": [
    "# load in the spectrograms as computed\n",
    "specs = {}\n",
    "for fname in richness_files:\n",
    "    specs[fname] = pickle.load(open('tmp/specs/' + fname +  '.pkl'))"
   ]
  },
  {
   "cell_type": "code",
   "execution_count": 6,
   "metadata": {
    "collapsed": false
   },
   "outputs": [],
   "source": [
    "# load in the predictions\n",
    "preds = {}\n",
    "for fname in richness_files:\n",
    "    preds[fname] = pickle.load(open('tmp/preds/' + fname +  '_biotic.pkl'))"
   ]
  },
  {
   "cell_type": "markdown",
   "metadata": {},
   "source": [
    "## Train test split by *site*"
   ]
  },
  {
   "cell_type": "code",
   "execution_count": 7,
   "metadata": {
    "collapsed": false
   },
   "outputs": [],
   "source": [
    "sites = list(set(xx.split('_')[0] for xx in richness_files))\n",
    "test_sites = sites[0:1]\n",
    "train_sites = sites[1:]"
   ]
  },
  {
   "cell_type": "code",
   "execution_count": 8,
   "metadata": {
    "collapsed": false
   },
   "outputs": [],
   "source": [
    "test_files = [xx for xx in richness_files if xx.split('_')[0] in test_sites]\n",
    "train_files = [xx for xx in richness_files if xx.split('_')[0] in train_sites]"
   ]
  },
  {
   "cell_type": "markdown",
   "metadata": {},
   "source": [
    "## Compute features from spectrograms"
   ]
  },
  {
   "cell_type": "code",
   "execution_count": 10,
   "metadata": {
    "collapsed": false
   },
   "outputs": [
    {
     "name": "stdout",
     "output_type": "stream",
     "text": [
      "(449, 33) (449,) (89, 33) (89,)\n"
     ]
    }
   ],
   "source": [
    "from lib.features import compute_all_feats\n",
    "\n",
    "test_X = compute_all_feats(specs, test_files, preds)\n",
    "train_X = compute_all_feats(specs, train_files, preds)\n",
    "\n",
    "test_y = np.hstack(fname_to_richness[fname] for fname in test_files)\n",
    "train_y = np.hstack(fname_to_richness[fname] for fname in train_files)\n",
    "\n",
    "print train_X.shape, train_y.shape, test_X.shape, test_y.shape"
   ]
  },
  {
   "cell_type": "markdown",
   "metadata": {},
   "source": [
    "## Do machine learning"
   ]
  },
  {
   "cell_type": "code",
   "execution_count": 11,
   "metadata": {
    "collapsed": false
   },
   "outputs": [],
   "source": [
    "from sklearn.ensemble import RandomForestRegressor\n",
    "rf = RandomForestRegressor(25, max_depth=25)\n",
    "rf.fit(train_X, train_y)\n",
    "pred_y = rf.predict(test_X)"
   ]
  },
  {
   "cell_type": "code",
   "execution_count": 12,
   "metadata": {
    "collapsed": false
   },
   "outputs": [
    {
     "name": "stderr",
     "output_type": "stream",
     "text": [
      "/home/michael/anaconda/lib/python2.7/site-packages/IPython/utils/traitlets.py:5: UserWarning: IPython.utils.traitlets has moved to a top-level traitlets package.\n",
      "  warn(\"IPython.utils.traitlets has moved to a top-level traitlets package.\")\n",
      "/home/michael/anaconda/lib/python2.7/site-packages/IPython/kernel/__init__.py:13: ShimWarning: The `IPython.kernel` package has been deprecated. You should import from ipykernel or jupyter_client instead.\n",
      "  \"You should import from ipykernel or jupyter_client instead.\", ShimWarning)\n"
     ]
    },
    {
     "data": {
      "text/plain": [
       "[<matplotlib.lines.Line2D at 0x7f89f56b7b50>]"
      ]
     },
     "execution_count": 12,
     "metadata": {},
     "output_type": "execute_result"
    },
    {
     "data": {
      "image/png": "[encoded data removed]",
      "text/plain": [
       "<matplotlib.figure.Figure at 0x7f89f85a1b10>"
      ]
     },
     "metadata": {},
     "output_type": "display_data"
    }
   ],
   "source": [
    "import seaborn as sns\n",
    "plt.figure(figsize=(10, 10))\n",
    "plt.plot(test_y + np.random.randn(test_y.shape[0]) * 0.05 , pred_y, 'o')\n",
    "plt.xlabel('Ground truth', fontsize=20)\n",
    "plt.ylabel('Predicted', fontsize=20)\n",
    "plt.axis('equal')\n",
    "plt.plot([0, 10], [0, 10], ':')"
   ]
  },
  {
   "cell_type": "code",
   "execution_count": 13,
   "metadata": {
    "collapsed": false
   },
   "outputs": [
    {
     "data": {
      "text/plain": [
       "[<matplotlib.lines.Line2D at 0x7f89f55d9290>]"
      ]
     },
     "execution_count": 13,
     "metadata": {},
     "output_type": "execute_result"
    },
    {
     "data": {
      "image/png": "[encoded data removed]",
      "text/plain": [
       "<matplotlib.figure.Figure at 0x7f89f85a1090>"
      ]
     },
     "metadata": {},
     "output_type": "display_data"
    }
   ],
   "source": [
    "plt.plot(rf.feature_importances_)"
   ]
  },
  {
   "cell_type": "markdown",
   "metadata": {
    "collapsed": true
   },
   "source": [
    "## Do it again, but this time do for all sites"
   ]
  },
  {
   "cell_type": "code",
   "execution_count": 14,
   "metadata": {
    "collapsed": false
   },
   "outputs": [
    {
     "name": "stdout",
     "output_type": "stream",
     "text": [
      "[302  46  31  21  13  14   9   3   7   1   2]\n"
     ]
    }
   ],
   "source": [
    "print np.bincount(train_y)"
   ]
  },
  {
   "cell_type": "code",
   "execution_count": 15,
   "metadata": {
    "collapsed": false
   },
   "outputs": [
    {
     "ename": "NameError",
     "evalue": "name 'idxs' is not defined",
     "output_type": "error",
     "traceback": [
      "\u001b[1;31m---------------------------------------------------------------------------\u001b[0m",
      "\u001b[1;31mNameError\u001b[0m                                 Traceback (most recent call last)",
      "\u001b[1;32m<ipython-input-15-50e14f83a20c>\u001b[0m in \u001b[0;36m<module>\u001b[1;34m()\u001b[0m\n\u001b[1;32m----> 1\u001b[1;33m \u001b[1;32mprint\u001b[0m \u001b[0midxs\u001b[0m\u001b[1;33m\u001b[0m\u001b[0m\n\u001b[0m",
      "\u001b[1;31mNameError\u001b[0m: name 'idxs' is not defined"
     ]
    }
   ],
   "source": [
    "print idxs\n"
   ]
  },
  {
   "cell_type": "code",
   "execution_count": 18,
   "metadata": {
    "collapsed": false
   },
   "outputs": [],
   "source": [
    "all_preds = []\n",
    "all_gt = []\n",
    "pred_mapping = {}\n",
    "\n",
    "for test_site in sites:\n",
    "    test_sites = [test_site]\n",
    "    train_sites = list(set(sites) - set(test_sites))\n",
    "\n",
    "    test_files = [xx for xx in richness_files if xx.split('_')[0] in test_sites]\n",
    "    train_files = [xx for xx in richness_files if xx.split('_')[0] in train_sites]\n",
    "\n",
    "    # Compute features\n",
    "    test_X = compute_all_feats(specs, test_files, preds)\n",
    "    train_X = compute_all_feats(specs, train_files, preds)\n",
    "\n",
    "    test_y = np.hstack(fname_to_richness[fname] for fname in test_files)\n",
    "    train_y = np.hstack(fname_to_richness[fname] for fname in train_files)\n",
    "    \n",
    "    # Resample training classes\n",
    "    if 1:\n",
    "        max_cls_size = np.bincount(train_y).max()\n",
    "        idxs = []\n",
    "        for cls in np.unique(train_y):\n",
    "            idxs.append(np.random.choice(np.where(train_y == cls)[0], max_cls_size))\n",
    "        idxs = np.hstack(idxs)\n",
    "        train_X = train_X[idxs]\n",
    "        train_y = train_y[idxs]\n",
    "\n",
    "    # Training and prediction\n",
    "    rf = RandomForestRegressor(10, max_depth=15)\n",
    "    rf.fit(train_X, train_y)\n",
    "    pred_y = rf.predict(test_X)\n",
    "    \n",
    "    all_preds.append(pred_y)\n",
    "    all_gt.append(test_y)\n",
    "    \n",
    "    for test_file, pred in zip(test_files, pred_y):\n",
    "        pred_mapping[test_file] = pred"
   ]
  },
  {
   "cell_type": "code",
   "execution_count": 17,
   "metadata": {
    "collapsed": false
   },
   "outputs": [
    {
     "data": {
      "text/plain": [
       "[<matplotlib.lines.Line2D at 0x7f89f5510bd0>]"
      ]
     },
     "execution_count": 17,
     "metadata": {},
     "output_type": "execute_result"
    },
    {
     "data": {
      "image/png": "[encoded data removed]",
      "text/plain": [
       "<matplotlib.figure.Figure at 0x7f89f560f4d0>"
      ]
     },
     "metadata": {},
     "output_type": "display_data"
    }
   ],
   "source": [
    "# plot for all\n",
    "all_preds = np.hstack(all_preds)\n",
    "all_gt = np.hstack(all_gt)\n",
    "\n",
    "plt.figure(figsize=(10, 10))\n",
    "plt.plot(all_gt + np.random.randn(all_gt.shape[0]) * 0.02 , \n",
    "         all_preds + np.random.randn(all_gt.shape[0]) * 0.02, \n",
    "         'o', markersize=5)\n",
    "plt.xlabel('Ground truth', fontsize=20)\n",
    "plt.ylabel('Predicted', fontsize=20)\n",
    "plt.axis('equal')\n",
    "plt.plot([0, 10], [0, 10], ':')\n"
   ]
  },
  {
   "cell_type": "code",
   "execution_count": 20,
   "metadata": {
    "collapsed": false
   },
   "outputs": [
    {
     "name": "stdout",
     "output_type": "stream",
     "text": [
      "538\n"
     ]
    }
   ],
   "source": [
    "print len(pred_mapping)"
   ]
  },
  {
   "cell_type": "markdown",
   "metadata": {},
   "source": [
    "## Do on all the golden set (must do differently...)"
   ]
  },
  {
   "cell_type": "code",
   "execution_count": 27,
   "metadata": {
    "collapsed": false
   },
   "outputs": [],
   "source": [
    "# Getting the list of golden files and seeing if we have predicted for them...\n",
    "import os\n",
    "\n",
    "base = '/media/michael/Engage/data/audio/alison_data//golden_set/'\n",
    "spec_pkl_dir = base + 'extracted/specs/mel/'\n",
    "golden_files = [xx.split('.')[0] for xx in os.listdir(spec_pkl_dir) if xx.endswith('.pkl')]"
   ]
  },
  {
   "cell_type": "code",
   "execution_count": 65,
   "metadata": {
    "collapsed": false
   },
   "outputs": [],
   "source": [
    "# Load in all the golden spectrograms\n",
    "golden_specs = {fname: pickle.load(open('./tmp/specs/' + fname + '.pkl')) for fname in golden_files}\n",
    "golden_preds = {fname: pickle.load(open('./tmp/preds/' + fname + '_biotic.pkl')) for fname in golden_files}"
   ]
  },
  {
   "cell_type": "code",
   "execution_count": 67,
   "metadata": {
    "collapsed": false
   },
   "outputs": [
    {
     "name": "stdout",
     "output_type": "stream",
     "text": [
      "30\n"
     ]
    }
   ],
   "source": [
    "import collections\n",
    "all_preds = []\n",
    "all_gt = []\n",
    "pred_mapping = collections.defaultdict(list)\n",
    "failed = 0\n",
    "\n",
    "for test_site in sites:\n",
    "    test_sites = [test_site]\n",
    "    train_sites = list(set(sites) - set(test_sites))\n",
    "\n",
    "    test_files = [xx for xx in richness_files if xx.split('_')[0] in test_sites]\n",
    "    train_files = [xx for xx in richness_files if xx.split('_')[0] in train_sites]\n",
    "\n",
    "    # Compute features\n",
    "    test_X = compute_all_feats(golden_specs, golden_files, golden_preds)\n",
    "    train_X = compute_all_feats(specs, train_files, preds)\n",
    "\n",
    "    train_y = np.hstack(fname_to_richness[fname] for fname in train_files)\n",
    "    \n",
    "    # Resample training classes\n",
    "    if 1:\n",
    "        max_cls_size = np.bincount(train_y).max()\n",
    "        idxs = []\n",
    "        for cls in np.unique(train_y):\n",
    "            idxs.append(np.random.choice(np.where(train_y == cls)[0], max_cls_size))\n",
    "        idxs = np.hstack(idxs)\n",
    "        train_X = train_X[idxs]\n",
    "        train_y = train_y[idxs]\n",
    "\n",
    "    # Training and prediction\n",
    "    rf = RandomForestRegressor(10, max_depth=15)\n",
    "    rf.fit(train_X, train_y)\n",
    "    pred_y = rf.predict(test_X)\n",
    "    \n",
    "    all_preds.append(pred_y)\n",
    "    \n",
    "    for test_file, pred in zip(golden_files, pred_y):\n",
    "        \n",
    "        # check not in the \n",
    "        if test_file not in train_files:\n",
    "            pred_mapping[test_file].append(pred)\n",
    "        else:\n",
    "            failed += 1\n",
    "\n",
    "print failed"
   ]
  },
  {
   "cell_type": "code",
   "execution_count": 72,
   "metadata": {
    "collapsed": false
   },
   "outputs": [
    {
     "name": "stdout",
     "output_type": "stream",
     "text": [
      "{'BR28LB-11881_20150803_20300018': 0.31666666666666665, 'SE23-13527_20130907_1651': 1.0833333333333333, 'HA86RB-13527_20130730_0541': 1.5, 'E29RR-013378_20150530_07300012': 3.3666666666666667, 'W112NN-13548_20130709_1234': 0.8833333333333333, 'BR4-013378_20150820_22000018': 0.064129661672663887, 'E29RR-013378_20150526_08300012': 2.8000000000000003, 'BR67US-13534_20150801_12300024': 2.070207815863554, 'HA53AA-13548_20130730_0305': 0.23333333333333331, 'SE3-13548_20130911_0655': 0.033333333333333333, 'DA5-011881_20150827_1830007': 2.3666666666666667, 'E29RR-013378_20150530_03000023': 0.0, 'WC2H8LG-3527_20130715_1400': 3.6333333333333329, 'CR05EF-13527_20130921_1236': 0.9663793103448276, 'SW154LA-3527_20130705_0909': 2.2833333333333337, 'TW76ER-13534_20150626_02300015': 0.81666666666666676, 'CM167NP-3527_20150910_07300016': 4.1166666666666663, 'BR4-013378_20150825_0200003': 1.8666666666666665, 'BR28LB-11881_20150801_20300022': 0.29999999999999999, 'E29RR-013378_20150531_05300014': 3.0833333333333335, 'HA86RB-13527_20130728_1101': 0.69999999999999996, 'HA53AA-13548_20130729_0801': 2.1697979797979796, 'TW76ER-13534_20150623_2000008': 6.8833333333333329, 'E105JP-13548_20131009_0717': 5.7000000000000002, 'CR8-13548_20130918_1109': 2.6000000000000001, 'CR05EF-13527_20130916_0823': 6.1000000000000005, 'CM167NP-3527_20150910_2000004': 0.25, 'HA53AA-13548_20130727_0954': 0.25, 'W112NN-13548_20130709_0403': 5.1833333333333327, 'E29RR-013378_20150526_18000018': 3.2333333333333329, 'DA5-011881_20150826_08000016': 2.9333333333333336, 'HA53AA-13548_20130724_0346': 0.0, 'W112NN-13548_20130713_0448': 1.5031313131313133, 'IG62XL-13534_20150514_17300028': 2.0500000000000003, 'BR20EG-13548_20150720_12000019': 1.1833333333333333, 'CR8-13548_20130921_0806': 6.4000000000000004, 'IG62XL-13534_20150512_21000014': 0.51666666666666672, 'TW76ER-13534_20150625_1000009': 2.9833333333333338, 'BR67US-13534_20150802_07300023': 4.0499999999999998, 'HA86RB-13527_20130726_1319': 0.90000000000000002}\n"
     ]
    }
   ],
   "source": [
    "pred_avgs = {fname: np.mean(vals) for fname, vals in pred_mapping.iteritems()}\n",
    "\n",
    "print pred_avgs"
   ]
  },
  {
   "cell_type": "code",
   "execution_count": 75,
   "metadata": {
    "collapsed": false
   },
   "outputs": [],
   "source": [
    "with open('./tmp/golden_richness_predictions.csv', 'w') as f:\n",
    "    for fname, pred in pred_avgs.items():\n",
    "        f.write('%s, %.2f\\n' % (fname, pred))"
   ]
  }
 ],
 "metadata": {
  "kernelspec": {
   "display_name": "Python 2",
   "language": "python",
   "name": "python2"
  },
  "language_info": {
   "codemirror_mode": {
    "name": "ipython",
    "version": 2
   },
   "file_extension": ".py",
   "mimetype": "text/x-python",
   "name": "python",
   "nbconvert_exporter": "python",
   "pygments_lexer": "ipython2",
   "version": "2.7.12"
  }
 },
 "nbformat": 4,
 "nbformat_minor": 0
}
