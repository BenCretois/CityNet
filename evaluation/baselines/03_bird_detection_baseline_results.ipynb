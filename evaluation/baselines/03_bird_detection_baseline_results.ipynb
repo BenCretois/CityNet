{
 "cells": [
  {
   "cell_type": "code",
   "execution_count": 1,
   "metadata": {
    "collapsed": false
   },
   "outputs": [],
   "source": [
    "%load_ext autoreload\n",
    "%autoreload 2\n",
    "%matplotlib inline\n",
    "import os\n",
    "import sys\n",
    "import numpy as np\n",
    "import matplotlib.pyplot as plt\n",
    "\n",
    "from scipy.misc import imread, imsave\n",
    "import cPickle as pickle\n",
    "import yaml\n",
    "import collections\n",
    "from tqdm import tqdm\n",
    "import time\n",
    "from scipy.ndimage.interpolation import zoom"
   ]
  },
  {
   "cell_type": "markdown",
   "metadata": {},
   "source": [
    "# Loading and interpreting results"
   ]
  },
  {
   "cell_type": "code",
   "execution_count": 2,
   "metadata": {
    "collapsed": false
   },
   "outputs": [],
   "source": [
    "base = '/media/michael/Engage/data/audio/bird_audio_detection_challenge/'\n",
    "\n",
    "if 0:\n",
    "\n",
    "    import h5py\n",
    "    h5path = base + '/results/master/predictions/golden_model_second_3_2.h5'\n",
    "    f = h5py.File(h5path)\n",
    "    \n",
    "    res = np.array(f['results'])\n",
    "    fname_to_res = {fname.split('.')[0]:r for fname, r in zip(fnames, res)}\n",
    "    \n",
    "    names = [fname.split('.')[0] for fname in fnames]\n",
    "    orig_fnames = set('_'.join(name.split('_')[:-1]) for name in names)\n",
    "else:\n",
    "    import pandas as pd\n",
    "    res = pd.read_csv(base + 'results//as_provided_by_author//prediction_first.csv')"
   ]
  },
  {
   "cell_type": "code",
   "execution_count": 3,
   "metadata": {
    "collapsed": false
   },
   "outputs": [],
   "source": [
    "fname_to_res = {}\n",
    "for row in res.iterrows():\n",
    "    fname_to_res[row[1]['fname']] = row[1]['Unnamed: 1']\n",
    "    \n",
    "orig_fnames = set('_'.join(name.split('_')[:-2]) for name in fname_to_res)"
   ]
  },
  {
   "cell_type": "code",
   "execution_count": 20,
   "metadata": {
    "collapsed": false
   },
   "outputs": [
    {
     "name": "stderr",
     "output_type": "stream",
     "text": [
      "/home/michael/anaconda/lib/python2.7/site-packages/ipykernel/__main__.py:9: VisibleDeprecationWarning: using a non-integer number instead of an integer will result in an error in the future\n"
     ]
    }
   ],
   "source": [
    "aggragated_preds = {}\n",
    "\n",
    "# we're going to chunk up each golden audio file into 10second bits \n",
    "overlap_time = 0\n",
    "chunklength = 1\n",
    "\n",
    "for orig_fname in orig_fnames:\n",
    "    \n",
    "    this_res = np.zeros(60.0 / chunklength)\n",
    "    for start_idx, start_time in enumerate(np.arange(0, 60, chunklength)):\n",
    "        \n",
    "        name = orig_fname + '_%05.2f' % start_time \n",
    "        name = name.replace('.', '_')\n",
    "        \n",
    "        # note - assuming one second gaps\n",
    "        this_res[start_idx] = fname_to_res[name]\n",
    "        \n",
    "    aggragated_preds[orig_fname] = np.zeros_like(this_res)\n",
    "\n",
    "    aggragated_preds[orig_fname] = this_res"
   ]
  },
  {
   "cell_type": "markdown",
   "metadata": {},
   "source": [
    "# Saving results in our format"
   ]
  },
  {
   "cell_type": "code",
   "execution_count": 21,
   "metadata": {
    "collapsed": true
   },
   "outputs": [],
   "source": [
    "# load gt\n",
    "gts = {}\n",
    "gt_dir = '/media/michael/Engage/data/audio/alison_data/golden_set/extracted/annotations/'\n",
    "for fname in aggragated_preds:\n",
    "    gts[fname] = pickle.load(open(gt_dir + fname + '.pkl'))[0]['biotic']"
   ]
  },
  {
   "cell_type": "code",
   "execution_count": 22,
   "metadata": {
    "collapsed": false
   },
   "outputs": [],
   "source": [
    "savedir = '/media/michael/Engage/data/audio/alison_data/golden_set/predictions/warblr_challenge_baseline/biotic/per_file_predictions/'\n",
    "\n",
    "for fname in aggragated_preds.keys():\n",
    "    pred = aggragated_preds[fname]\n",
    "    resized_pred = zoom(pred.astype(float), 1319.0 / pred.shape[0], order=1)\n",
    "    resized_pred = np.vstack((1.0 - resized_pred, resized_pred)).T\n",
    "    resized_gt = zoom(gts[fname].astype(float), 1319.0 / gts[fname].shape[0], order=1)\n",
    "\n",
    "    with open(savedir + fname + '.pkl', 'w') as f:\n",
    "        pickle.dump((resized_gt, resized_pred), f, -1)"
   ]
  },
  {
   "cell_type": "code",
   "execution_count": null,
   "metadata": {
    "collapsed": true
   },
   "outputs": [],
   "source": []
  }
 ],
 "metadata": {
  "kernelspec": {
   "display_name": "Python 2",
   "language": "python",
   "name": "python2"
  },
  "language_info": {
   "codemirror_mode": {
    "name": "ipython",
    "version": 2
   },
   "file_extension": ".py",
   "mimetype": "text/x-python",
   "name": "python",
   "nbconvert_exporter": "python",
   "pygments_lexer": "ipython2",
   "version": "2.7.12"
  }
 },
 "nbformat": 4,
 "nbformat_minor": 0
}
