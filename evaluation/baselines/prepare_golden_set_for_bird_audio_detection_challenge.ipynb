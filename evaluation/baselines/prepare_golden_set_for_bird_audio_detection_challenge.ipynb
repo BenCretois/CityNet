{
 "cells": [
  {
   "cell_type": "code",
   "execution_count": 1,
   "metadata": {
    "collapsed": false
   },
   "outputs": [],
   "source": [
    "%load_ext autoreload\n",
    "%autoreload 2\n",
    "%matplotlib inline\n",
    "import os\n",
    "import sys\n",
    "import numpy as np\n",
    "import matplotlib.pyplot as plt\n",
    "\n",
    "from scipy.misc import imread, imsave\n",
    "import cPickle as pickle\n",
    "import yaml\n",
    "import collections\n",
    "from tqdm import tqdm\n",
    "import time\n",
    "from scipy.ndimage.interpolation import zoom\n",
    "from scipy.io import wavfile"
   ]
  },
  {
   "cell_type": "markdown",
   "metadata": {},
   "source": [
    "# 10s chunks"
   ]
  },
  {
   "cell_type": "code",
   "execution_count": 7,
   "metadata": {
    "collapsed": false
   },
   "outputs": [],
   "source": [
    "# we're going to chunk up each golden audio file into 10second bits \n",
    "overlap_time = 1\n",
    "chunklength = 10"
   ]
  },
  {
   "cell_type": "code",
   "execution_count": 8,
   "metadata": {
    "collapsed": true
   },
   "outputs": [],
   "source": [
    "input_wav_dir = '/media/michael/Engage/data/audio/alison_data/golden_set/wavs/'\n",
    "output_wav_dir = '/media/michael/Engage/data/audio/bird_audio_detection_challenge/audio/our_data_as_chunks/'"
   ]
  },
  {
   "cell_type": "code",
   "execution_count": 22,
   "metadata": {
    "collapsed": false
   },
   "outputs": [],
   "source": [
    "fnames = os.listdir(input_wav_dir)\n",
    "\n",
    "for fname in fnames:\n",
    "    sr, wav = wavfile.read(input_wav_dir + fname)\n",
    "    \n",
    "    for start_time in np.arange(0, 60, overlap_time):\n",
    "        start_idx = start_time * sr\n",
    "        end_idx = (start_time + chunklength) * sr\n",
    "\n",
    "        if end_idx > wav.shape[0]:\n",
    "            break\n",
    "        \n",
    "        savename = fname.replace('.wav', '') + '_%04d.wav' % start_time\n",
    "        \n",
    "        wavfile.write(output_wav_dir + savename, sr, wav[start_idx:end_idx])"
   ]
  },
  {
   "cell_type": "code",
   "execution_count": null,
   "metadata": {
    "collapsed": true
   },
   "outputs": [],
   "source": [
    "base = '/media/michael/Engage/data/audio/bird_audio_detection_challenge/'\n",
    "fnames = os.listdir(base + 'results/master/spect/our_data_as_0.5s_chunks/')\n",
    "filelistpath = base + 'labels/golden_filelist.csv'\n",
    "\n",
    "with open(filelistpath, 'w') as f:\n",
    "    for fname in fnames:\n",
    "        f.write(fname.split('.')[0] + ',\\n')\n",
    "    "
   ]
  },
  {
   "cell_type": "markdown",
   "metadata": {},
   "source": [
    "# 0.5s non-overlapping chunks"
   ]
  },
  {
   "cell_type": "code",
   "execution_count": 9,
   "metadata": {
    "collapsed": true
   },
   "outputs": [],
   "source": [
    "# we're going to chunk up each golden audio file into 10second bits \n",
    "overlap_time = 0\n",
    "chunklength = 0.5"
   ]
  },
  {
   "cell_type": "code",
   "execution_count": 4,
   "metadata": {
    "collapsed": true
   },
   "outputs": [],
   "source": [
    "input_wav_dir = '/media/michael/Engage/data/audio/alison_data/golden_set/wavs/'\n",
    "output_wav_dir = '/media/michael/Engage/data/audio/bird_audio_detection_challenge/audio/our_data_as_0.5s_chunks/'\n",
    "\n",
    "if not os.path.exists(output_wav_dir):\n",
    "    os.makedirs(output_wav_dir)"
   ]
  },
  {
   "cell_type": "code",
   "execution_count": 16,
   "metadata": {
    "collapsed": false
   },
   "outputs": [
    {
     "name": "stderr",
     "output_type": "stream",
     "text": [
      "/home/michael/anaconda/lib/python2.7/site-packages/ipykernel/__main__.py:15: VisibleDeprecationWarning: using a non-integer number instead of an integer will result in an error in the future\n"
     ]
    }
   ],
   "source": [
    "fnames = os.listdir(input_wav_dir)\n",
    "\n",
    "for fname in fnames:\n",
    "    sr, wav = wavfile.read(input_wav_dir + fname)\n",
    "    \n",
    "    for start_time in np.arange(0, 60, chunklength):\n",
    "        start_idx = start_time * sr\n",
    "        end_idx = (start_time + chunklength) * sr\n",
    "\n",
    "        if end_idx > wav.shape[0]:\n",
    "            break\n",
    "        \n",
    "        savename = fname.replace('.wav', '') + '_%04f.wav' % start_time\n",
    "        \n",
    "        wavfile.write(output_wav_dir + savename, sr, wav[start_idx:end_idx])"
   ]
  },
  {
   "cell_type": "code",
   "execution_count": 8,
   "metadata": {
    "collapsed": false
   },
   "outputs": [],
   "source": [
    "base = '/media/michael/Engage/data/audio/bird_audio_detection_challenge/'\n",
    "fnames = os.listdir(output_wav_dir)\n",
    "filelistpath = base + 'labels/our_data_as_0.5s_chunks.csv'\n",
    "\n",
    "with open(filelistpath, 'w') as f:\n",
    "    for fname in fnames:\n",
    "        f.write(fname.split('.')[0] + ',\\n')"
   ]
  }
 ],
 "metadata": {
  "kernelspec": {
   "display_name": "Python 2",
   "language": "python",
   "name": "python2"
  },
  "language_info": {
   "codemirror_mode": {
    "name": "ipython",
    "version": 2
   },
   "file_extension": ".py",
   "mimetype": "text/x-python",
   "name": "python",
   "nbconvert_exporter": "python",
   "pygments_lexer": "ipython2",
   "version": "2.7.12"
  }
 },
 "nbformat": 4,
 "nbformat_minor": 0
}
