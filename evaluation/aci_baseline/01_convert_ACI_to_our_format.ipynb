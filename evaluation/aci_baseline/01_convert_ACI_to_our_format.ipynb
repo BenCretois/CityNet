{
 "cells": [
  {
   "cell_type": "code",
   "execution_count": 51,
   "metadata": {
    "collapsed": false
   },
   "outputs": [
    {
     "name": "stdout",
     "output_type": "stream",
     "text": [
      "The autoreload extension is already loaded. To reload it, use:\n",
      "  %reload_ext autoreload\n"
     ]
    }
   ],
   "source": [
    "%load_ext autoreload\n",
    "%autoreload 2\n",
    "%matplotlib inline\n",
    "import os\n",
    "import sys\n",
    "import numpy as np\n",
    "import matplotlib.pyplot as plt\n",
    "import cPickle as pickle\n",
    "from scipy.ndimage.interpolation import zoom"
   ]
  },
  {
   "cell_type": "code",
   "execution_count": 52,
   "metadata": {
    "collapsed": true
   },
   "outputs": [],
   "source": [
    "import pandas as pd"
   ]
  },
  {
   "cell_type": "code",
   "execution_count": 53,
   "metadata": {
    "collapsed": false
   },
   "outputs": [],
   "source": [
    "base = '/home/michael/Dropbox/engage/FairbrassFirmanetal_/data/predictions/ACI_baseline/'\n",
    "df = pd.read_csv(base + 'overlap_noRound.csv')"
   ]
  },
  {
   "cell_type": "code",
   "execution_count": 54,
   "metadata": {
    "collapsed": false
   },
   "outputs": [],
   "source": [
    "savedir = '/media/michael/Engage/data/audio/alison_data/golden_set/predictions/aci_baseline/biotic/per_file_predictions/'\n",
    "\n",
    "if not os.path.exists(savedir):\n",
    "    os.makedirs(savedir)\n",
    "\n",
    "for key in df.keys()[1:]:\n",
    "    \n",
    "    # loading ACI pred and gt\n",
    "    preds = df[key]\n",
    "    gt, _ = pickle.load(open(savepath.replace('aci_baseline', 'mel32_large_test_golden')))\n",
    "    \n",
    "    # converting to correct shape and format\n",
    "    factor = float(gt.shape[0]) / preds.shape[0]\n",
    "    preds_conv = zoom(preds, factor, order=1)\n",
    "    preds_conv += preds_conv.min()\n",
    "    preds_conv /= preds_conv.max()\n",
    "    preds_conv = np.vstack((preds_conv, 1.0 - preds_conv)).T\n",
    "    \n",
    "    # saving to disk\n",
    "    savepath = savedir + key.replace('.wav', '.pkl')\n",
    "    with open(savepath, 'w') as f:\n",
    "        pickle.dump((gt, preds_conv), f, -1)"
   ]
  }
 ],
 "metadata": {
  "kernelspec": {
   "display_name": "Python 2",
   "language": "python",
   "name": "python2"
  },
  "language_info": {
   "codemirror_mode": {
    "name": "ipython",
    "version": 2
   },
   "file_extension": ".py",
   "mimetype": "text/x-python",
   "name": "python",
   "nbconvert_exporter": "python",
   "pygments_lexer": "ipython2",
   "version": "2.7.12"
  }
 },
 "nbformat": 4,
 "nbformat_minor": 0
}
