{
 "cells": [
  {
   "cell_type": "code",
   "execution_count": 1,
   "metadata": {
    "collapsed": false
   },
   "outputs": [],
   "source": [
    "%load_ext autoreload\n",
    "%autoreload 2\n",
    "%matplotlib inline\n",
    "import os\n",
    "import sys\n",
    "import numpy as np\n",
    "import matplotlib.pyplot as plt\n",
    "import cPickle as pickle\n",
    "from scipy.ndimage.interpolation import zoom\n",
    "import pandas as pd\n",
    "import collections"
   ]
  },
  {
   "cell_type": "code",
   "execution_count": 9,
   "metadata": {
    "collapsed": false
   },
   "outputs": [
    {
     "name": "stdout",
     "output_type": "stream",
     "text": [
      "Index([u'FILENAME', u'SAMPLINGRATE', u'BIT', u'DURATION', u'CHANNELS',\n",
      "       u'INDEX', u'MAX_FREQ', u'DB_THRESHOLD', u'FREQ_STEPS', u'LEFT_CHANNEL',\n",
      "       u'RIGHT_CHANNEL'],\n",
      "      dtype='object')\n"
     ]
    }
   ],
   "source": [
    "print df.keys()"
   ]
  },
  {
   "cell_type": "code",
   "execution_count": 10,
   "metadata": {
    "collapsed": false
   },
   "outputs": [
    {
     "name": "stdout",
     "output_type": "stream",
     "text": [
      "/home/michael/Dropbox/engage/FairbrassFirmanetal_/data/predictions/baselines/ACI_baseline/oneSec/goldenTestSet_oneSec_ADI.csv\n"
     ]
    }
   ],
   "source": [
    "print base + 'goldenTestSet_%s_%s.csv' % (timetype, baseline_name)"
   ]
  },
  {
   "cell_type": "markdown",
   "metadata": {},
   "source": [
    "# ACI baseline"
   ]
  },
  {
   "cell_type": "code",
   "execution_count": 12,
   "metadata": {
    "collapsed": false
   },
   "outputs": [
    {
     "name": "stdout",
     "output_type": "stream",
     "text": [
      " . . . . . . . . . . . . . . . . . . . . . . . . . . . . . . . . . . . . . . . .\n"
     ]
    }
   ],
   "source": [
    "#base = '/home/michael/Dropbox/engage/FairbrassFirmanetal_/data/predictions/ACI_baseline/'\n",
    "timetype = 'oneSec'\n",
    "\n",
    "for baseline_name in ['ACI']:\n",
    "    base = ('/home/michael/Dropbox/engage/FairbrassFirmanetal_/data/'\n",
    "            'predictions/baselines/ACI_baseline/oneSec/')\n",
    "    df = pd.read_csv(base + 'goldenTestSet_%s_%s.csv' % (timetype, baseline_name))\n",
    "\n",
    "    savedir = ('/media/michael/Engage/data/audio/alison_data/golden_set/predictions/'\n",
    "                '%s_%s_baseline/biotic/per_file_predictions/' % (timetype, baseline_name))\n",
    "\n",
    "    if not os.path.exists(savedir):\n",
    "        os.makedirs(savedir)\n",
    "\n",
    "    for key in df.keys()[1:]:\n",
    "\n",
    "        # loading ACI pred and gt\n",
    "        savepath = savedir + key.replace('.wav', '.pkl')\n",
    "        preds = df[key]\n",
    "        with open(savepath.replace('%s_%s_baseline' % (timetype, baseline_name), 'mel32_large_test_golden_fullsplit')) as f:\n",
    "            gt, _ = pickle.load(f)\n",
    "\n",
    "        # converting to correct shape and format\n",
    "        factor = float(gt.shape[0]) / preds.shape[0]\n",
    "        preds_conv = zoom(preds, factor, order=1)\n",
    "        preds_conv = np.vstack((1.0 - preds_conv, preds_conv)).T\n",
    "\n",
    "        # saving to disk\n",
    "        with open(savepath, 'w') as f:\n",
    "            pickle.dump((gt, preds_conv), f, -1)\n",
    "        print \".\","
   ]
  },
  {
   "cell_type": "markdown",
   "metadata": {},
   "source": [
    "# Doing NDSI baseline"
   ]
  },
  {
   "cell_type": "code",
   "execution_count": 20,
   "metadata": {
    "collapsed": false
   },
   "outputs": [],
   "source": [
    "baseline_name = 'NDSI'\n",
    "timetype='oneSec'\n",
    "\n",
    "for classname, csv_key in [('biotic', 'Biophony'), ('anthrop', 'Anthrophony')]:\n",
    "\n",
    "    # sorting out folder and load paths\n",
    "    foldername = '%s_%s_baseline' % (timetype, baseline_name)\n",
    "    savedir = ('/media/michael/Engage/data/audio/alison_data/golden_set/predictions/'\n",
    "            '%s/%s/per_file_predictions/' % (foldername, classname))\n",
    "\n",
    "    if not os.path.exists(savedir):\n",
    "        os.makedirs(savedir)\n",
    "\n",
    "    base = '/home/michael/Dropbox/engage/FairbrassFirmanetal_/data/predictions/baselines/ACI_baseline/oneSec/'\n",
    "    res = pd.read_csv(base + 'goldenTestSet_%s_%s.csv' % (timetype, baseline_name))\n",
    "\n",
    "    # extracting all results from the csv file\n",
    "    fname_to_res = collections.defaultdict(list)\n",
    "    fname_to_times = collections.defaultdict(list)\n",
    "    for _, row in res.iterrows():\n",
    "        fname = '_'.join(row['Filename'].split('_')[:-1])\n",
    "        fname_to_res[fname].append(row[csv_key])\n",
    "        fname_to_times[fname].append(float(row['Filename'].split('_')[-1][:-4]))\n",
    "\n",
    "    # for each original file, resize and save the results\n",
    "    for fname in fname_to_res:\n",
    "        savepath = savedir + fname + '.pkl'\n",
    "        gt, _ = pickle.load(open(savepath.replace(foldername, 'mel32_large_test_golden_fullsplit')))\n",
    "\n",
    "        # converting to correct shape and format\n",
    "        preds = np.array(fname_to_res[fname])\n",
    "        sort_idxs = np.argsort(fname_to_times[fname])\n",
    "        preds = preds[sort_idxs]\n",
    "\n",
    "        factor = float(gt.shape[0]) / preds.shape[0]\n",
    "        preds_conv = zoom(preds, factor, order=1)\n",
    "#         preds_conv += preds_conv.min()\n",
    "#         preds_conv /= preds_conv.max()\n",
    "        preds_conv = np.vstack((1.0 - preds_conv, preds_conv)).T\n",
    "\n",
    "        # saving to disk\n",
    "        with open(savepath, 'w') as f:\n",
    "            pickle.dump((gt, preds_conv), f, -1)"
   ]
  },
  {
   "cell_type": "markdown",
   "metadata": {},
   "source": [
    "# Doing BI baseline"
   ]
  },
  {
   "cell_type": "code",
   "execution_count": 17,
   "metadata": {
    "collapsed": false,
    "scrolled": false
   },
   "outputs": [
    {
     "data": {
      "image/png": "[encoded data removed]",
      "text/plain": [
       "<matplotlib.figure.Figure at 0x7f8dd65df0d0>"
      ]
     },
     "metadata": {},
     "output_type": "display_data"
    },
    {
     "data": {
      "image/png": "[encoded data removed]",
      "text/plain": [
       "<matplotlib.figure.Figure at 0x7f8dd65df450>"
      ]
     },
     "metadata": {},
     "output_type": "display_data"
    }
   ],
   "source": [
    "timetype = 'oneSec'\n",
    "\n",
    "for baseline_name in ['BI', 'ADI']:\n",
    "\n",
    "    # sorting out folder and load paths\n",
    "    foldername = '%s_%s_baseline' % (timetype, baseline_name)\n",
    "    savedir = ('/media/michael/Engage/data/audio/alison_data/golden_set/predictions/'\n",
    "            '%s/biotic/per_file_predictions/' % foldername)\n",
    "\n",
    "    if not os.path.exists(savedir):\n",
    "        os.makedirs(savedir)\n",
    "\n",
    "    base = ('/home/michael/Dropbox/engage/FairbrassFirmanetal_/data/'\n",
    "        'predictions/baselines/ACI_baseline/oneSec/')\n",
    "    res = pd.read_csv(base + 'goldenTestSet_%s_%s.csv' % (timetype, baseline_name))\n",
    "\n",
    "    # extracting all results from the csv file\n",
    "    fname_to_res = collections.defaultdict(list)\n",
    "    for _, row in res.iterrows():\n",
    "        fname = '_'.join(row['FILENAME'].split('_')[:-1])\n",
    "        fname_to_res[fname].append(row['LEFT_CHANNEL'])\n",
    "\n",
    "    # for each original file, resize and save the results\n",
    "    for fname in fname_to_res:\n",
    "        savepath = savedir + fname + '.pkl'\n",
    "        gt, _ = pickle.load(open(savepath.replace(foldername, 'mel32_large_test_golden_fullsplit')))\n",
    "\n",
    "        # converting to correct shape and format\n",
    "        preds = np.array(fname_to_res[fname])\n",
    "        factor = float(gt.shape[0]) / preds.shape[0]\n",
    "        preds_conv = zoom(preds, factor, order=1)\n",
    "#         preds_conv += preds_conv.min()\n",
    "#         preds_conv /= preds_conv.max()\n",
    "        preds_conv = np.vstack((1.0 - preds_conv, preds_conv)).T\n",
    "\n",
    "        # saving to disk\n",
    "        with open(savepath, 'w') as f:\n",
    "            pickle.dump((gt, preds_conv), f, -1)\n",
    "\n",
    "    plt.figure()\n",
    "    plt.plot(preds_conv[:, 0])\n",
    "    plt.plot(gt)"
   ]
  },
  {
   "cell_type": "code",
   "execution_count": null,
   "metadata": {
    "collapsed": true
   },
   "outputs": [],
   "source": []
  }
 ],
 "metadata": {
  "kernelspec": {
   "display_name": "Python 2",
   "language": "python",
   "name": "python2"
  },
  "language_info": {
   "codemirror_mode": {
    "name": "ipython",
    "version": 2
   },
   "file_extension": ".py",
   "mimetype": "text/x-python",
   "name": "python",
   "nbconvert_exporter": "python",
   "pygments_lexer": "ipython2",
   "version": "2.7.12"
  }
 },
 "nbformat": 4,
 "nbformat_minor": 0
}
