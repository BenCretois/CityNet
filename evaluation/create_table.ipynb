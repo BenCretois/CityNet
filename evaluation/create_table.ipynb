{
 "cells": [
  {
   "cell_type": "code",
   "execution_count": 1,
   "metadata": {
    "collapsed": true
   },
   "outputs": [],
   "source": [
    "%load_ext autoreload\n",
    "%autoreload 2\n",
    "%matplotlib inline\n",
    "import os\n",
    "import sys\n",
    "import numpy as np\n",
    "import matplotlib.pyplot as plt\n",
    "\n",
    "from scipy.misc import imread, imsave\n",
    "import cPickle as pickle\n",
    "import yaml\n",
    "import collections\n",
    "from tqdm import tqdm\n",
    "import time\n",
    "from scipy.ndimage.interpolation import zoom"
   ]
  },
  {
   "cell_type": "code",
   "execution_count": 2,
   "metadata": {
    "collapsed": true
   },
   "outputs": [],
   "source": [
    "base = '/media/michael/Engage/data/audio/alison_data/golden_set/predictions/'\n",
    "runs = ['ensemble_train', 'ensemble_train_2']\n",
    "classnames = ['biotic', 'anthrop']"
   ]
  },
  {
   "cell_type": "code",
   "execution_count": null,
   "metadata": {
    "collapsed": false
   },
   "outputs": [],
   "source": []
  },
  {
   "cell_type": "code",
   "execution_count": 3,
   "metadata": {
    "collapsed": true
   },
   "outputs": [],
   "source": [
    "metrics = ['recall_at_095_prec', 'avg_precision']"
   ]
  },
  {
   "cell_type": "code",
   "execution_count": 8,
   "metadata": {
    "collapsed": false
   },
   "outputs": [
    {
     "name": "stdout",
     "output_type": "stream",
     "text": [
      "biotic,,\n",
      "ensemble_train, 0.710, 0.934\n",
      "warblr_challenge_baseline, 0.398, 0.872\n",
      "oneSec_ACI_baseline, 0.000, 0.663\n",
      "oneSec_ADI_baseline, 0.001, 0.439\n",
      "oneSec_BI_baseline, 0.002, 0.516\n",
      "oneSec_NDSI_baseline, 0.000, 0.503\n",
      "anthrop,,\n",
      "ensemble_train_2, 0.859, 0.977\n",
      "oneSec_NDSI_baseline, 0.815, 0.975\n",
      "\n"
     ]
    }
   ],
   "source": [
    "csv = []\n",
    "for classname in classnames:\n",
    "    \n",
    "    csv.append(classname + ',,' + '\\n')\n",
    "    \n",
    "    if classname == 'biotic':\n",
    "        runs = ['ensemble_train',  'warblr_challenge_baseline',  'oneSec_ACI_baseline', 'oneSec_ADI_baseline', 'oneSec_BI_baseline', 'oneSec_NDSI_baseline']\n",
    "    else:\n",
    "        runs = ['ensemble_train_2', 'oneSec_NDSI_baseline']\n",
    "        \n",
    "    scores = {}\n",
    "    for run in runs:\n",
    "        scores[run]  = yaml.load(open(base + run + '/' + classname + '/analysis/scores.yaml'))\n",
    "        \n",
    "    for run in runs:\n",
    "        csv.append(run)\n",
    "        for metric in metrics:\n",
    "            csv.append(\", %0.3f\" % scores[run][metric],)\n",
    "        csv.append(\"\\n\")\n",
    "        \n",
    "print \"\".join(csv)\n",
    "\n",
    "with open('/home/michael/Dropbox/engage/FairbrassFirmanetal_/data/tables.csv', 'w') as f:\n",
    "    f.write(\"\".join(csv))\n",
    "    "
   ]
  }
 ],
 "metadata": {
  "kernelspec": {
   "display_name": "Python 2",
   "language": "python",
   "name": "python2"
  },
  "language_info": {
   "codemirror_mode": {
    "name": "ipython",
    "version": 2
   },
   "file_extension": ".py",
   "mimetype": "text/x-python",
   "name": "python",
   "nbconvert_exporter": "python",
   "pygments_lexer": "ipython2",
   "version": "2.7.12"
  }
 },
 "nbformat": 4,
 "nbformat_minor": 0
}
