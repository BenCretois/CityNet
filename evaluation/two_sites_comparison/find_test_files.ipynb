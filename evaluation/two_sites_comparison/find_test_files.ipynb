{
 "cells": [
  {
   "cell_type": "code",
   "execution_count": 1,
   "metadata": {
    "collapsed": true
   },
   "outputs": [],
   "source": [
    "# Finding the files we want to analyse"
   ]
  },
  {
   "cell_type": "code",
   "execution_count": 2,
   "metadata": {
    "collapsed": true
   },
   "outputs": [],
   "source": [
    "import glob"
   ]
  },
  {
   "cell_type": "code",
   "execution_count": 3,
   "metadata": {
    "collapsed": true
   },
   "outputs": [],
   "source": [
    "test_files = ['W8'] #'RM14_3YB', 'IG62XL', 'E29RR', "
   ]
  },
  {
   "cell_type": "code",
   "execution_count": 4,
   "metadata": {
    "collapsed": true
   },
   "outputs": [],
   "source": [
    "search_locs = [\n",
    "    '/media/michael/Elements/Fieldwork_Data/',\n",
    "    '/media/michael/Elements1/Fieldwork_Data/',\n",
    "    '/media/michael/Elements2/Fieldwork_Data/2015/']"
   ]
  },
  {
   "cell_type": "code",
   "execution_count": 5,
   "metadata": {
    "collapsed": false,
    "scrolled": false
   },
   "outputs": [
    {
     "name": "stdout",
     "output_type": "stream",
     "text": [
      "0\n",
      "72562\n",
      "0\n"
     ]
    }
   ],
   "source": [
    "for loc in search_locs:\n",
    "    files = glob.glob(loc + '*/*/*/*/*')\n",
    "    print len(files)\n",
    "    for fname in files:\n",
    "        for test_file in test_files:\n",
    "            if test_file in fname and 'SM2BAT+' not in fname:\n",
    "                print fname"
   ]
  },
  {
   "cell_type": "code",
   "execution_count": 6,
   "metadata": {
    "collapsed": false
   },
   "outputs": [],
   "source": [
    "import os\n",
    "for loc in search_locs:\n",
    "    for fname in os.walk(loc):\n",
    "        for test_file in test_files:\n",
    "            if test_file in fname and 'SM2BAT+' not in fname:\n",
    "                print fname"
   ]
  },
  {
   "cell_type": "markdown",
   "metadata": {},
   "source": [
    "    /media/michael/Elements/Fieldwork_Data/2013/RM14_3YB\n",
    "    /media/michael/Elements1/Fieldwork_Data/2015/IG62XL/SM2+/\n",
    "    /media/michael/Elements1/Fieldwork_Data/2015/E29RR/250515-010615/SM2+/\n",
    "    \n",
    "\n"
   ]
  }
 ],
 "metadata": {
  "kernelspec": {
   "display_name": "Python 2",
   "language": "python",
   "name": "python2"
  },
  "language_info": {
   "codemirror_mode": {
    "name": "ipython",
    "version": 2
   },
   "file_extension": ".py",
   "mimetype": "text/x-python",
   "name": "python",
   "nbconvert_exporter": "python",
   "pygments_lexer": "ipython2",
   "version": "2.7.12"
  }
 },
 "nbformat": 4,
 "nbformat_minor": 0
}
