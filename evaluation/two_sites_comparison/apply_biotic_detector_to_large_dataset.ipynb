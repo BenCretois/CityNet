{
 "cells": [
  {
   "cell_type": "code",
   "execution_count": 1,
   "metadata": {
    "collapsed": false
   },
   "outputs": [
    {
     "name": "stderr",
     "output_type": "stream",
     "text": [
      "Using gpu device 0: GeForce GTX 770 (CNMeM is disabled, cuDNN 5110)\n",
      "/home/michael/anaconda/lib/python2.7/site-packages/IPython/utils/traitlets.py:5: UserWarning: IPython.utils.traitlets has moved to a top-level traitlets package.\n",
      "  warn(\"IPython.utils.traitlets has moved to a top-level traitlets package.\")\n",
      "/home/michael/anaconda/lib/python2.7/site-packages/IPython/kernel/__init__.py:13: ShimWarning: The `IPython.kernel` package has been deprecated. You should import from ipykernel or jupyter_client instead.\n",
      "  \"You should import from ipykernel or jupyter_client instead.\", ShimWarning)\n"
     ]
    }
   ],
   "source": [
    "'''\n",
    "A notebook which allows a pretrained detector to be applied to \n",
    "any audio file.\n",
    "'''\n",
    "%load_ext autoreload\n",
    "%autoreload 2\n",
    "%matplotlib inline\n",
    "\n",
    "# General imports\n",
    "import os\n",
    "import sys\n",
    "import matplotlib.pyplot as plt\n",
    "import numpy as np\n",
    "import yaml\n",
    "import cPickle as pickle\n",
    "from scipy.ndimage.interpolation import zoom\n",
    "\n",
    "# Neural network imports\n",
    "import nolearn\n",
    "import lasagne\n",
    "\n",
    "# Custom functions and classes\n",
    "sys.path.append('../..')\n",
    "from lib import train_helpers\n",
    "\n",
    "# Wav file loading and manipulation\n",
    "import librosa\n",
    "from librosa.feature import melspectrogram"
   ]
  },
  {
   "cell_type": "markdown",
   "metadata": {},
   "source": [
    "## Testing options"
   ]
  },
  {
   "cell_type": "code",
   "execution_count": 7,
   "metadata": {
    "collapsed": false
   },
   "outputs": [],
   "source": [
    "# You can provide here either:\n",
    "#   A path to a single .wav file, \n",
    "# or\n",
    "#   A path to a folder which contains one or more .wav files\n",
    "#\n",
    "# In this example code, we give a folder which contains a single .wav file.\n",
    "# We could also give the complete path to this file - the result would be the same\n",
    "# test_file_or_folder = '/home/michael/Dropbox/FairbrassFirmanetal_/models/example_test_data/'\n",
    "# test_file_or_folder = '/media/michael/Engage/data/audio/alison_data/diversity_labelled_data/'\n",
    "test_file_or_folder = '/media/michael/Elements1/Fieldwork_Data/2015/IG62XL/SM2+/'\n",
    "test_file_or_folder = '/media/michael/Elements1/Fieldwork_Data/2015/E29RR/250515-010615/SM2+/'\n",
    "\n",
    "# specify where the pretrained model is that we want to load\n",
    "models_dir = '/home/michael/projects/alison_audio2/models/biotic/'\n",
    "\n",
    "# Specify the names of the files we want to load in\n",
    "# (Keep as they are to load in the model in the dropbox folder)\n",
    "weights_path = os.path.join(models_dir, 'weights_99.pkl')\n",
    "options_path = os.path.join(models_dir, 'network_opts.yaml')"
   ]
  },
  {
   "cell_type": "code",
   "execution_count": 8,
   "metadata": {
    "collapsed": false
   },
   "outputs": [],
   "source": [
    "# Loading the options for network architecture, spectrogram type etc\n",
    "options = yaml.load(open(options_path))\n",
    "\n",
    "# Checking the weights exist\n",
    "assert os.path.exists(weights_path), 'Error - cannot find the weights file at ' + weights_path"
   ]
  },
  {
   "cell_type": "markdown",
   "metadata": {},
   "source": [
    "## Finding the .wav files to test on"
   ]
  },
  {
   "cell_type": "code",
   "execution_count": 9,
   "metadata": {
    "collapsed": false
   },
   "outputs": [
    {
     "ename": "Exception",
     "evalue": "('No such file or folder: ', '/media/michael/Elements1/Fieldwork_Data/2015/E29RR/250515-010615/SM2+/')",
     "output_type": "error",
     "traceback": [
      "\u001b[1;31m---------------------------------------------------------------------------\u001b[0m",
      "\u001b[1;31mException\u001b[0m                                 Traceback (most recent call last)",
      "\u001b[1;32m<ipython-input-9-3781febce3f8>\u001b[0m in \u001b[0;36m<module>\u001b[1;34m()\u001b[0m\n\u001b[0;32m     13\u001b[0m \u001b[1;33m\u001b[0m\u001b[0m\n\u001b[0;32m     14\u001b[0m \u001b[1;32melse\u001b[0m\u001b[1;33m:\u001b[0m\u001b[1;33m\u001b[0m\u001b[0m\n\u001b[1;32m---> 15\u001b[1;33m     \u001b[1;32mraise\u001b[0m \u001b[0mException\u001b[0m\u001b[1;33m(\u001b[0m\u001b[1;34m\"No such file or folder: \"\u001b[0m\u001b[1;33m,\u001b[0m \u001b[0mtest_file_or_folder\u001b[0m\u001b[1;33m)\u001b[0m\u001b[1;33m\u001b[0m\u001b[0m\n\u001b[0m\u001b[0;32m     16\u001b[0m \u001b[1;33m\u001b[0m\u001b[0m\n\u001b[0;32m     17\u001b[0m \u001b[1;32mprint\u001b[0m \u001b[1;34m\"We will load %d file(s) from the folder:\"\u001b[0m \u001b[1;33m%\u001b[0m \u001b[0mlen\u001b[0m\u001b[1;33m(\u001b[0m\u001b[0mfilenames\u001b[0m\u001b[1;33m)\u001b[0m\u001b[1;33m\u001b[0m\u001b[0m\n",
      "\u001b[1;31mException\u001b[0m: ('No such file or folder: ', '/media/michael/Elements1/Fieldwork_Data/2015/E29RR/250515-010615/SM2+/')"
     ]
    }
   ],
   "source": [
    "if os.path.isdir(test_file_or_folder):\n",
    "    \n",
    "    # User provided a folder - we must get the list of wav files\n",
    "    wav_dir = test_file_or_folder\n",
    "    filenames = [xx for xx in os.listdir(wav_dir) if xx.endswith('.wav')]\n",
    "    assert len(filenames), 'Error - no files found!'\n",
    "\n",
    "elif os.path.isfile(test_file_or_folder):\n",
    "    \n",
    "    # User provided a file - we must deal with the filename appropriately\n",
    "    wav_dir = os.path.dirname(test_file_or_folder)\n",
    "    filenames = [os.path.basename(test_file_or_folder)]\n",
    "\n",
    "else:\n",
    "    raise Exception(\"No such file or folder: \", test_file_or_folder)\n",
    "    \n",
    "print \"We will load %d file(s) from the folder:\" % len(filenames)\n",
    "print wav_dir\n",
    "print \n",
    "print \"Files are:\"\n",
    "for filename in filenames:\n",
    "    print \"  -\", filename"
   ]
  },
  {
   "cell_type": "markdown",
   "metadata": {},
   "source": [
    "## Setting up network"
   ]
  },
  {
   "cell_type": "code",
   "execution_count": 6,
   "metadata": {
    "collapsed": false
   },
   "outputs": [
    {
     "name": "stderr",
     "output_type": "stream",
     "text": [
      "/home/michael/anaconda/lib/python2.7/site-packages/nolearn/lasagne/base.py:430: UserWarning: The Param class is deprecated. Replace Param(default=N) by theano.In(value=N)\n",
      "  for input_layer in input_layers]\n",
      "/home/michael/anaconda/lib/python2.7/site-packages/nolearn/lasagne/base.py:431: UserWarning: The Param class is deprecated. Replace Param(default=N) by theano.In(value=N)\n",
      "  inputs = X_inputs + [theano.Param(y_batch, name=\"y\")]\n"
     ]
    }
   ],
   "source": [
    "# Create the layers of the neural network, with the same options we used in training\n",
    "net_options = {xx: options[xx] for xx in train_helpers.net_params}\n",
    "network = train_helpers.create_net(**net_options)\n",
    "\n",
    "# Create an object which will iterate over the test spectrograms appropriately\n",
    "test_sampler = train_helpers.SpecSampler(\n",
    "    4, options['HWW'], False, options['LEARN_LOG'], randomise=0, seed=10)\n",
    "\n",
    "# Create a nolearn object to contain the network and push data through it\n",
    "net = nolearn.lasagne.NeuralNet(\n",
    "    layers=network['prob'], update=lasagne.updates.adam, batch_iterator_test=test_sampler)\n",
    "\n",
    "# Initialise the network and load in the pretrained parameters\n",
    "net.initialize()\n",
    "net.load_params_from(weights_path)"
   ]
  },
  {
   "cell_type": "markdown",
   "metadata": {},
   "source": [
    "## Generating spectrogram(s)"
   ]
  },
  {
   "cell_type": "code",
   "execution_count": 7,
   "metadata": {
    "collapsed": false
   },
   "outputs": [],
   "source": [
    "# We will store spectrograms in a dictionary, where keys are the filenames\n",
    "specs = {}  \n",
    "\n",
    "# Loop over each file we want to predict for\n",
    "for filename in filenames:\n",
    "    \n",
    "    if filename in specs:\n",
    "        continue\n",
    "\n",
    "    # Read in the wav file\n",
    "    wav, sample_rate = librosa.load(os.path.join(wav_dir, filename), 22050)\n",
    "\n",
    "    # Compute the spectrogram\n",
    "    spec = melspectrogram(wav, sr=sample_rate, n_fft=options['N_FFT'], \n",
    "                          hop_length=options['HOP_LENGTH'], n_mels=options['N_MELS'])\n",
    "\n",
    "    # Do log conversion:\n",
    "    spec = np.log(options['A'] + options['B'] * spec)\n",
    "    spec -= np.median(spec, axis=1, keepdims=True)\n",
    "\n",
    "    # Add to the dictionary\n",
    "    specs[filename] = spec.astype(np.float32)"
   ]
  },
  {
   "cell_type": "markdown",
   "metadata": {},
   "source": [
    "## Applying classifier"
   ]
  },
  {
   "cell_type": "code",
   "execution_count": 8,
   "metadata": {
    "collapsed": false
   },
   "outputs": [],
   "source": [
    "# Push this list through the network\n",
    "# test_sampler, defined above, does the hard work here.\n",
    "from tqdm import tqdm\n",
    "preds = {}\n",
    "\n",
    "for filename in tqdm(filenames):\n",
    "    preds[filename] = net.predict_proba([specs[filename]])"
   ]
  },
  {
   "cell_type": "markdown",
   "metadata": {},
   "source": [
    "## Saving results to disk"
   ]
  },
  {
   "cell_type": "code",
   "execution_count": 9,
   "metadata": {
    "collapsed": true
   },
   "outputs": [],
   "source": [
    "savedir = '/home/michael/Dropbox/engage/FairbrassFirmanetal_/data/predictions/ours_on_all_data/'\n",
    "for fname, pred in preds.iteritems():\n",
    "    with open(savedir + fname.replace('.wav', '_' + options['CLASSNAME'] + '.pkl'), 'w') as f:\n",
    "        pickle.dump(pred, f, -1)"
   ]
  }
 ],
 "metadata": {
  "kernelspec": {
   "display_name": "Python 2",
   "language": "python",
   "name": "python2"
  },
  "language_info": {
   "codemirror_mode": {
    "name": "ipython",
    "version": 2
   },
   "file_extension": ".py",
   "mimetype": "text/x-python",
   "name": "python",
   "nbconvert_exporter": "python",
   "pygments_lexer": "ipython2",
   "version": "2.7.12"
  }
 },
 "nbformat": 4,
 "nbformat_minor": 0
}
