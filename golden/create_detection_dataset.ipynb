{
 "cells": [
  {
   "cell_type": "markdown",
   "metadata": {
    "collapsed": true
   },
   "source": [
    "# Creating detection dataset\n",
    "\n",
    "A one-off notebook to create a labelling for each moment of the one minute dataset, saying if there is human noise, animal noise or both"
   ]
  },
  {
   "cell_type": "code",
   "execution_count": 97,
   "metadata": {
    "collapsed": false
   },
   "outputs": [
    {
     "name": "stdout",
     "output_type": "stream",
     "text": [
      "The autoreload extension is already loaded. To reload it, use:\n",
      "  %reload_ext autoreload\n"
     ]
    }
   ],
   "source": [
    "%load_ext autoreload\n",
    "%autoreload 2\n",
    "%matplotlib inline\n",
    "import matplotlib.pyplot as plt\n",
    "\n",
    "import os\n",
    "import sys\n",
    "import cPickle as pickle\n",
    "\n",
    "from data_helpers import load_annotations\n",
    "\n",
    "where_to_save = '/media/michael/Seagate/engage/alison_data/golden_set/extracted/annotations/'\n",
    "base_path = '/media/michael/Seagate/engage/alison_data/golden_set/labels/Golden/'"
   ]
  },
  {
   "cell_type": "code",
   "execution_count": 59,
   "metadata": {
    "collapsed": false
   },
   "outputs": [],
   "source": [
    "# load in the annotations\n",
    "for fname in os.listdir(base_path):\n",
    "    savename = where_to_save + fname\n",
    "    if os.path.exists(savename):\n",
    "        continue\n",
    "    \n",
    "    # load the annottion\n",
    "    annots, wav, sample_rate = load_annotations(fname)\n",
    "    \n",
    "    # save to disk\n",
    "    with open(savename, 'w') as f:\n",
    "        pickle.dump((annots, wav, sample_rate), f, -1)"
   ]
  },
  {
   "cell_type": "code",
   "execution_count": 99,
   "metadata": {
    "collapsed": false
   },
   "outputs": [],
   "source": [
    "# Creating a data split\n",
    "import collections\n",
    "from sklearn.cross_validation import train_test_split, LabelKFold\n",
    "import numpy as np\n",
    "import yaml\n",
    "\n",
    "np.random.seed(10)\n",
    "\n",
    "files = [xx.replace('-sceneRect.csv', '') for xx in os.listdir(base_path)]\n",
    "\n",
    "# dict mapping locations to filenames\n",
    "loc_to_fname = collections.defaultdict(list)\n",
    "for fname in files:\n",
    "    loc_to_fname[fname.split('-')[0]].append(fname)"
   ]
  },
  {
   "cell_type": "code",
   "execution_count": 100,
   "metadata": {
    "collapsed": false
   },
   "outputs": [],
   "source": [
    "splits = []\n",
    "locs = loc_to_fname.keys()\n",
    "\n",
    "for train_idx, test_idx in LabelKFold(locs):\n",
    "    train_locs = [locs[xx] for xx in train_idx]\n",
    "    test_locs = [locs[xx] for xx in test_idx]\n",
    "    \n",
    "    train_files = [xx for loc in train_locs for xx in loc_to_fname[loc]]\n",
    "    test_files = [xx for loc in test_locs for xx in loc_to_fname[loc]]\n",
    "    \n",
    "    split = dict(train_files=train_files, test_files=test_files, train_locs=train_locs, test_locs=test_locs)\n",
    "    splits.append(split)\n",
    "    \n",
    "\n",
    "with open(where_to_save + '../splits/3-fold_split.yaml', 'w') as f:\n",
    "    yaml.dump(splits, f, default_flow_style=False)\n"
   ]
  }
 ],
 "metadata": {
  "kernelspec": {
   "display_name": "Python 2",
   "language": "python",
   "name": "python2"
  },
  "language_info": {
   "codemirror_mode": {
    "name": "ipython",
    "version": 2
   },
   "file_extension": ".py",
   "mimetype": "text/x-python",
   "name": "python",
   "nbconvert_exporter": "python",
   "pygments_lexer": "ipython2",
   "version": "2.7.11"
  }
 },
 "nbformat": 4,
 "nbformat_minor": 0
}
