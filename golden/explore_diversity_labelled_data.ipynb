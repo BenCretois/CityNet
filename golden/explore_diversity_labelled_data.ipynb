{
 "cells": [
  {
   "cell_type": "code",
   "execution_count": 2,
   "metadata": {
    "collapsed": false
   },
   "outputs": [
    {
     "name": "stdout",
     "output_type": "stream",
     "text": [
      "The autoreload extension is already loaded. To reload it, use:\n",
      "  %reload_ext autoreload\n"
     ]
    }
   ],
   "source": [
    "%load_ext autoreload\n",
    "%autoreload 2\n",
    "%matplotlib inline\n",
    "\n",
    "import matplotlib.pyplot as plt\n",
    "import numpy as np, yaml, cPickle as pickle\n",
    "import data_io\n",
    "import pandas as pd\n",
    "\n",
    "golden = True"
   ]
  },
  {
   "cell_type": "code",
   "execution_count": 20,
   "metadata": {
    "collapsed": false
   },
   "outputs": [],
   "source": [
    "from sklearn.cross_validation import train_test_split\n",
    "\n",
    "\n",
    "richness = pd.read_csv(\n",
    "    data_io.large_base + '../diversity_labelled_data/resultAndSiteFiles/6SitesWith90Minutes.csv')\n",
    "\n",
    "richness_files = set(xx.split('.')[0] for xx in richness.File)\n",
    "# train_files, test_files = train_test_split(richness.File, test_size=0.25)"
   ]
  },
  {
   "cell_type": "code",
   "execution_count": 76,
   "metadata": {
    "collapsed": false
   },
   "outputs": [],
   "source": [
    "fname_to_richness = {}\n",
    "for idx, row in richness.iterrows():\n",
    "    \n",
    "    fname_to_richness[row['File'].split('.')[0]] = sum(\n",
    "        yy for xx, yy in row.iteritems() if xx != u'File')\n",
    "    "
   ]
  },
  {
   "cell_type": "code",
   "execution_count": 34,
   "metadata": {
    "collapsed": false
   },
   "outputs": [],
   "source": [
    "sites = list(set(xx.split('_')[0] for xx in richness_files))\n",
    "test_sites = sites[0:1]\n",
    "train_sites = sites[1:]"
   ]
  },
  {
   "cell_type": "code",
   "execution_count": 40,
   "metadata": {
    "collapsed": false
   },
   "outputs": [],
   "source": [
    "test_files = [xx for xx in richness_files if xx.split('_')[0] in test_sites]\n",
    "train_files = [xx for xx in richness_files if xx.split('_')[0] in train_sites]"
   ]
  },
  {
   "cell_type": "code",
   "execution_count": 54,
   "metadata": {
    "collapsed": false
   },
   "outputs": [],
   "source": [
    "import os\n",
    "\n",
    "# a lookup for where to find each file\n",
    "src1 = data_io.large_base + '../diversity_labelled_data/specs/mel/'\n",
    "src2 = data_io.large_base + '/specs/mel/'\n",
    "\n",
    "mapper = {}\n",
    "for idx, src in enumerate([src1, src2]):\n",
    "    for fname in os.listdir(src):\n",
    "        mapper[fname.split('.')[0]] = (src, idx)\n"
   ]
  },
  {
   "cell_type": "code",
   "execution_count": 62,
   "metadata": {
    "collapsed": false
   },
   "outputs": [],
   "source": [
    "import cPickle as pickle \n",
    "\n",
    "mel_dir = data_io.large_base + '../diversity_labelled_data/specs/mel/'\n",
    "\n",
    "def load_specs(fnames):\n",
    "    specs = {}\n",
    "    for fname in fnames:\n",
    "        src, idx = mapper[fname]\n",
    "        spec = pickle.load(open(src + fname + ['.wav', '.pkl'][idx]))\n",
    "        specs[fname] = spec\n",
    "    return specs\n",
    "    \n",
    "\n",
    "train_specs = load_specs(train_files)\n",
    "test_specs = load_specs(test_files)"
   ]
  },
  {
   "cell_type": "code",
   "execution_count": 63,
   "metadata": {
    "collapsed": false
   },
   "outputs": [],
   "source": [
    "def compute_ACI(spectro,j_bin):\n",
    "    \"\"\"\n",
    "    Compute the Acoustic Complexity Index from the spectrogram of an audio signal.\n",
    "    Reference: Pieretti N, Farina A, Morri FD (2011) A new methodology to infer the singing activity of an avian community: the Acoustic Complexity Index (ACI). Ecological Indicators, 11, 868-873.\n",
    "    Ported from the soundecology R package.\n",
    "    spectro: the spectrogram of the audio signal\n",
    "    j_bin: temporal size of the frame (in samples)\n",
    "    \"\"\"\n",
    "\n",
    "    #times = range(0, spectro.shape[1], j_bin) # relevant time indices\n",
    "    times = range(0, spectro.shape[1]-10, j_bin) # alternative time indices to follow the R code\n",
    "\n",
    "    jspecs = [np.array(spectro[:,i:i+j_bin]) for i in times]  # sub-spectros of temporal size j\n",
    "\n",
    "    aci = [sum((np.sum(abs(np.diff(jspec)), axis=1) / np.sum(jspec, axis=1))) for jspec in jspecs] \t# list of ACI values on each jspecs\n",
    "    main_value = sum(aci)\n",
    "    temporal_values = aci\n",
    "\n",
    "    return main_value, temporal_values # return main (global) value, temporal values\n",
    "\n",
    "def ACI_inspired_features(spec):\n",
    "    return np.abs(np.diff(spec)).sum(axis=1)# / np.sum(spec, axis=1)\n"
   ]
  },
  {
   "cell_type": "code",
   "execution_count": 122,
   "metadata": {
    "collapsed": false
   },
   "outputs": [
    {
     "name": "stdout",
     "output_type": "stream",
     "text": [
      "(449, 161) (449,) (89, 161) (89,)\n"
     ]
    },
    {
     "name": "stderr",
     "output_type": "stream",
     "text": [
      "/home/michael/anaconda/lib/python2.7/site-packages/ipykernel/__main__.py:5: VisibleDeprecationWarning: boolean index did not match indexed array along dimension 1; dimension is 1293 but corresponding boolean dimension is 1292\n",
      "/home/michael/anaconda/lib/python2.7/site-packages/ipykernel/__main__.py:6: VisibleDeprecationWarning: boolean index did not match indexed array along dimension 1; dimension is 1293 but corresponding boolean dimension is 1292\n"
     ]
    }
   ],
   "source": [
    "from copy import copy\n",
    "def compute_features(_spec, annot):\n",
    "    spec = copy(_spec)\n",
    "    spec -= np.median(spec, 1, keepdims=True)\n",
    "    just_biotic_normed = spec[:, annot > 0.5]\n",
    "    just_biotic_unnormed = _spec[:, annot > 0.5]\n",
    "    \n",
    "    if just_biotic_normed.size == 0:\n",
    "        return np.zeros(33)\n",
    "    X = []\n",
    "    X.append(just_biotic_normed.mean(1))\n",
    "    X.append(just_biotic_unnormed.std(1))\n",
    "    X.append(just_biotic_unnormed.mean(1))\n",
    "    X.append(just_biotic_unnormed.std(1))\n",
    "    X.append(just_biotic_unnormed.shape[1])\n",
    "    X.append(ACI_inspired_features(just_biotic_unnormed))\n",
    "    tmp = np.hstack(X)\n",
    "    return tmp\n",
    "\n",
    "def compute_all_feats(specs, fnames, annots):    \n",
    "    X = []\n",
    "    for fname in fnames:#, annots):\n",
    "        X.append(compute_features(specs[fname], np.ones(spec.shape[1])))\n",
    "    return np.vstack(X)\n",
    "    \n",
    "def load_annots(fnames):\n",
    "    return np.hstack(fname_to_richness[fname] for fname in fnames)\n",
    "\n",
    "#test_annots = [np.zeros(xx.shape[1]) for xx in test_specs]\n",
    "test_X = compute_all_feats(test_specs, test_files, None)\n",
    "train_X = compute_all_feats(train_specs, train_files, None)\n",
    "\n",
    "test_y = load_annots(test_files)\n",
    "train_y = load_annots(train_files)\n",
    "\n",
    "print train_X.shape, train_y.shape, test_X.shape, test_y.shape"
   ]
  },
  {
   "cell_type": "code",
   "execution_count": 123,
   "metadata": {
    "collapsed": false
   },
   "outputs": [
    {
     "name": "stdout",
     "output_type": "stream",
     "text": [
      "[ 0  2  4  0  0  0  0  0  0  2  0  0  7  0  0  0  0  0  5  4  0  1  0  0  0\n",
      "  0  1  0  1  0  0  1  5  1  1  0  2  0  0  0  0  0  0  1  0  3  0  3  0  6\n",
      "  0  1  3  2  0  1  0  0  1  0  0  8  0  2  1  4  0  0  8  0  0  4  1  0  9\n",
      "  0  0  0  0  3  0  0 10  0  0  0  0  0  0  0  0  0  0  0  0  0  2  0  3  0\n",
      "  1  2  2  0  0  0  0  0  0  0  0  0  7  0  0  1  0  2  0  0  3  0  1  0  0\n",
      "  2  0  2  3  0  0  1  0  0  0  0  0  8  0  0  4  0  2  0  0  2  0  0  5  6\n",
      "  3  0  0  0  0  1  0  1  0  0  0  5  1  0  0  0  0  0  6  0  6  0  6  0  0\n",
      "  0  0  1  0  0  0  0  1  0  0  0  0  0  0  0  0  0  0  0  0  0  0  4  2  0\n",
      "  1  5  0  0  0  0  0  4  0  0  2  0  0  5  8  0  0  0  0  0  0  0  0  0  0\n",
      "  0  2  0  0  0  0  1  0  0  0  4  1  0  6  0  0  0  0  5  0  0  0  5  2  0\n",
      "  1  0  6  0  0  3  1  0  1  0  0  0  3  0  0  0  1  1  0  0  0  0  8  2  0\n",
      "  0  0  0  0  3  3  5  0  3 10  1  0  0  0  0  0  2  0  0  0  1  2  0  0  0\n",
      "  0  1  2  1  0  0  0  0  5  0  0  0  0  0  3  0  0  0  4  0  0  1  0  0  0\n",
      "  2  0  1  7  0  0  0  1  0  0  0  0  0  0  0  0  0  2  0  5  0  0  0  0  0\n",
      "  0  1  0  0  3  0  2  3  4  0  4  8  0  0  2  0  6  0  0  0  0  0  0  2  0\n",
      "  0  0  0  0  0  2  0  3  0  0  0  5  0  1  0  1  0  0  2  0  1  3  0  1  0\n",
      "  0  4  0  0  0  0  3  0  0  0  5  0  4  1  0  1  0  6  1  0  0  0  0  1  0\n",
      "  0  0  0  0  0  0  0  3  0  2  1  0  0  0  0  2  0  8  0  0  5  2  3  0]\n"
     ]
    }
   ],
   "source": [
    "print train_y"
   ]
  },
  {
   "cell_type": "code",
   "execution_count": 125,
   "metadata": {
    "collapsed": false
   },
   "outputs": [],
   "source": [
    "from sklearn.ensemble import RandomForestRegressor\n",
    "rf = RandomForestRegressor(25, max_depth=25)\n",
    "rf.fit(train_X, train_y)\n",
    "pred_y = rf.predict(test_X)"
   ]
  },
  {
   "cell_type": "code",
   "execution_count": 126,
   "metadata": {
    "collapsed": false
   },
   "outputs": [
    {
     "data": {
      "text/plain": [
       "[<matplotlib.lines.Line2D at 0x7f032cf2e990>]"
      ]
     },
     "execution_count": 126,
     "metadata": {},
     "output_type": "execute_result"
    },
    {
     "data": {
      "image/png": "[encoded data removed]",
      "text/plain": [
       "<matplotlib.figure.Figure at 0x7f032cedd350>"
      ]
     },
     "metadata": {},
     "output_type": "display_data"
    }
   ],
   "source": [
    "import seaborn as sns\n",
    "plt.figure(figsize=(10, 10))\n",
    "plt.plot(test_y + np.random.randn(test_y.shape[0]) * 0.05 , pred_y, 'o')\n",
    "plt.xlabel('Ground truth')\n",
    "plt.ylabel('Predicted')\n",
    "plt.axis('equal')\n",
    "plt.plot([0, 10], [0, 10], ':')"
   ]
  },
  {
   "cell_type": "code",
   "execution_count": null,
   "metadata": {
    "collapsed": true
   },
   "outputs": [],
   "source": []
  }
 ],
 "metadata": {
  "kernelspec": {
   "display_name": "Python 2",
   "language": "python",
   "name": "python2"
  },
  "language_info": {
   "codemirror_mode": {
    "name": "ipython",
    "version": 2
   },
   "file_extension": ".py",
   "mimetype": "text/x-python",
   "name": "python",
   "nbconvert_exporter": "python",
   "pygments_lexer": "ipython2",
   "version": "2.7.12"
  }
 },
 "nbformat": 4,
 "nbformat_minor": 0
}
