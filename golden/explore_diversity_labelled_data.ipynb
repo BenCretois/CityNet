{
 "cells": [
  {
   "cell_type": "code",
   "execution_count": 1,
   "metadata": {
    "collapsed": false
   },
   "outputs": [],
   "source": [
    "%load_ext autoreload\n",
    "%autoreload 2\n",
    "%matplotlib inline\n",
    "\n",
    "import matplotlib.pyplot as plt\n",
    "import numpy as np, yaml, cPickle as pickle\n",
    "import data_io\n",
    "import pandas as pd\n",
    "from copy import copy\n",
    "from sklearn.cross_validation import train_test_split\n",
    "\n",
    "golden = True"
   ]
  },
  {
   "cell_type": "markdown",
   "metadata": {},
   "source": [
    "## Load in richness labels and spectrograms and biotic predictions"
   ]
  },
  {
   "cell_type": "code",
   "execution_count": 67,
   "metadata": {
    "collapsed": false
   },
   "outputs": [],
   "source": [
    "richness = pd.read_csv(\n",
    "    data_io.large_base + '../diversity_labelled_data/resultAndSiteFiles/6SitesWith90Minutes.csv')\n",
    "\n",
    "richness_files = set(xx.split('.')[0] for xx in richness.File)"
   ]
  },
  {
   "cell_type": "code",
   "execution_count": 68,
   "metadata": {
    "collapsed": false
   },
   "outputs": [],
   "source": [
    "fname_to_richness = {}\n",
    "for idx, row in richness.iterrows():\n",
    "    \n",
    "    fname_to_richness[row['File'].split('.')[0]] = sum(\n",
    "        yy for xx, yy in row.iteritems() if xx != u'File')"
   ]
  },
  {
   "cell_type": "code",
   "execution_count": 69,
   "metadata": {
    "collapsed": false
   },
   "outputs": [],
   "source": [
    "# load in the spectrograms as computed\n",
    "specs = {}\n",
    "for fname in richness_files:\n",
    "    specs[fname] = pickle.load(open('tmp/specs/' + fname +  '.pkl'))"
   ]
  },
  {
   "cell_type": "code",
   "execution_count": 29,
   "metadata": {
    "collapsed": false
   },
   "outputs": [],
   "source": [
    "# load in the predictions\n",
    "preds = {}\n",
    "for fname in richness_files:\n",
    "    preds[fname] = pickle.load(open('tmp/preds/' + fname +  '_biotic.pkl'))"
   ]
  },
  {
   "cell_type": "markdown",
   "metadata": {},
   "source": [
    "## Train test split by *site*"
   ]
  },
  {
   "cell_type": "code",
   "execution_count": 23,
   "metadata": {
    "collapsed": false
   },
   "outputs": [],
   "source": [
    "sites = list(set(xx.split('_')[0] for xx in richness_files))\n",
    "test_sites = sites[0:1]\n",
    "train_sites = sites[1:]"
   ]
  },
  {
   "cell_type": "code",
   "execution_count": 24,
   "metadata": {
    "collapsed": false
   },
   "outputs": [],
   "source": [
    "test_files = [xx for xx in richness_files if xx.split('_')[0] in test_sites]\n",
    "train_files = [xx for xx in richness_files if xx.split('_')[0] in train_sites]"
   ]
  },
  {
   "cell_type": "markdown",
   "metadata": {},
   "source": [
    "## Compute features from spectrograms"
   ]
  },
  {
   "cell_type": "code",
   "execution_count": 31,
   "metadata": {
    "collapsed": false
   },
   "outputs": [],
   "source": [
    "def compute_ACI(spectro,j_bin):\n",
    "    \"\"\"\n",
    "    Compute the Acoustic Complexity Index from the spectrogram of an audio signal.\n",
    "    Reference: Pieretti N, Farina A, Morri FD (2011) A new methodology to infer \n",
    "    the singing activity of an avian community: the Acoustic Complexity Index (ACI). \n",
    "    Ecological Indicators, 11, 868-873.\n",
    "\n",
    "    Ported from the soundecology R package.\n",
    "    spectro: the spectrogram of the audio signal\n",
    "    j_bin: temporal size of the frame (in samples)\n",
    "    \"\"\"\n",
    "\n",
    "    #times = range(0, spectro.shape[1], j_bin) # relevant time indices\n",
    "    times = range(0, spectro.shape[1]-10, j_bin) # alternative time indices to follow the R code\n",
    "\n",
    "    jspecs = [np.array(spectro[:,i:i+j_bin]) for i in times]  # sub-spectros of temporal size j\n",
    "\n",
    "    aci = [sum((np.sum(abs(np.diff(jspec)), axis=1) / np.sum(jspec, axis=1))) for jspec in jspecs] \t# list of ACI values on each jspecs\n",
    "    main_value = sum(aci)\n",
    "    temporal_values = aci\n",
    "\n",
    "    return main_value, temporal_values # return main (global) value, temporal values\n",
    "\n",
    "\n",
    "def ACI_inspired_features(spec):\n",
    "    return np.abs(np.diff(spec)).sum(axis=1)# / np.sum(spec, axis=1)\n",
    "\n",
    "\n",
    "def compute_features(_spec, annot):\n",
    "    spec = copy(_spec)\n",
    "    spec -= np.median(spec, 1, keepdims=True)\n",
    "    just_biotic_normed = spec[:, annot > 0.5]\n",
    "    just_biotic_unnormed = _spec[:, annot > 0.5]\n",
    "    \n",
    "    if just_biotic_normed.size == 0:\n",
    "        return np.zeros(161)\n",
    "    X = []\n",
    "    X.append(just_biotic_normed.mean(1))\n",
    "    X.append(just_biotic_normed.std(1))\n",
    "    X.append(just_biotic_unnormed.mean(1))\n",
    "    X.append(just_biotic_unnormed.std(1))\n",
    "    X.append(just_biotic_unnormed.shape[1])\n",
    "    X.append(ACI_inspired_features(just_biotic_unnormed))\n",
    "    tmp = np.hstack(X)\n",
    "    return tmp\n",
    "\n",
    "\n",
    "def compute_all_feats(specs, fnames, annots):    \n",
    "    X = []\n",
    "    for fname in fnames:#, annots):\n",
    "        X.append(compute_features(specs[fname], preds[fname][:, 1]))\n",
    "#         print X[-1].shape\n",
    "    return np.vstack(X)"
   ]
  },
  {
   "cell_type": "code",
   "execution_count": null,
   "metadata": {
    "collapsed": true
   },
   "outputs": [],
   "source": [
    "#test_annots = [np.zeros(xx.shape[1]) for xx in test_specs]\n",
    "test_X = compute_all_feats(specs, test_files, None)\n",
    "train_X = compute_all_feats(specs, train_files, None)\n",
    "\n",
    "test_y = np.hstack(fname_to_richness[fname] for fname in test_files)\n",
    "train_y = np.hstack(fname_to_richness[fname] for fname in train_files)\n",
    "\n",
    "print train_X.shape, train_y.shape, test_X.shape, test_y.shape"
   ]
  },
  {
   "cell_type": "markdown",
   "metadata": {},
   "source": [
    "## Do machine learning"
   ]
  },
  {
   "cell_type": "code",
   "execution_count": 64,
   "metadata": {
    "collapsed": false
   },
   "outputs": [],
   "source": [
    "from sklearn.ensemble import RandomForestRegressor\n",
    "rf = RandomForestRegressor(25, max_depth=25)\n",
    "rf.fit(train_X, train_y)\n",
    "pred_y = rf.predict(test_X)"
   ]
  },
  {
   "cell_type": "code",
   "execution_count": 74,
   "metadata": {
    "collapsed": false
   },
   "outputs": [
    {
     "data": {
      "text/plain": [
       "[<matplotlib.lines.Line2D at 0x7f4a5fef9fd0>]"
      ]
     },
     "execution_count": 74,
     "metadata": {},
     "output_type": "execute_result"
    },
    {
     "data": {
      "image/png": "[encoded data removed]",
      "text/plain": [
       "<matplotlib.figure.Figure at 0x7f4a5ff7f990>"
      ]
     },
     "metadata": {},
     "output_type": "display_data"
    }
   ],
   "source": [
    "import seaborn as sns\n",
    "plt.figure(figsize=(10, 10))\n",
    "plt.plot(test_y + np.random.randn(test_y.shape[0]) * 0.05 , pred_y, 'o')\n",
    "plt.xlabel('Ground truth', fontsize=20)\n",
    "plt.ylabel('Predicted', fontsize=20)\n",
    "plt.axis('equal')\n",
    "plt.plot([0, 10], [0, 10], ':')"
   ]
  },
  {
   "cell_type": "code",
   "execution_count": 66,
   "metadata": {
    "collapsed": false
   },
   "outputs": [
    {
     "data": {
      "text/plain": [
       "[<matplotlib.lines.Line2D at 0x7f4a60105a10>]"
      ]
     },
     "execution_count": 66,
     "metadata": {},
     "output_type": "execute_result"
    },
    {
     "data": {
      "image/png": "[encoded data removed]",
      "text/plain": [
       "<matplotlib.figure.Figure at 0x7f4a62c84bd0>"
      ]
     },
     "metadata": {},
     "output_type": "display_data"
    }
   ],
   "source": [
    "plt.plot(rf.feature_importances_)"
   ]
  },
  {
   "cell_type": "code",
   "execution_count": null,
   "metadata": {
    "collapsed": true
   },
   "outputs": [],
   "source": []
  }
 ],
 "metadata": {
  "kernelspec": {
   "display_name": "Python 2",
   "language": "python",
   "name": "python2"
  },
  "language_info": {
   "codemirror_mode": {
    "name": "ipython",
    "version": 2
   },
   "file_extension": ".py",
   "mimetype": "text/x-python",
   "name": "python",
   "nbconvert_exporter": "python",
   "pygments_lexer": "ipython2",
   "version": "2.7.12"
  }
 },
 "nbformat": 4,
 "nbformat_minor": 0
}
