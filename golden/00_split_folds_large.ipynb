{
 "cells": [
  {
   "cell_type": "code",
   "execution_count": 1,
   "metadata": {
    "collapsed": true
   },
   "outputs": [],
   "source": [
    "import os\n",
    "from collections import Counter\n",
    "import random\n",
    "import yaml\n",
    "\n",
    "base = '/media/michael/Engage/data/audio/alison_data/large_dataset/'"
   ]
  },
  {
   "cell_type": "code",
   "execution_count": 2,
   "metadata": {
    "collapsed": false
   },
   "outputs": [
    {
     "name": "stdout",
     "output_type": "stream",
     "text": [
      "1575\n",
      "63\n"
     ]
    }
   ],
   "source": [
    "spec_pkl_dir = base + 'annots/'\n",
    "files = [xx for xx in os.listdir(spec_pkl_dir) if xx.endswith('.pkl')]\n",
    "file_sites = [xx.split('_')[0] for xx in files]\n",
    "print len(files)\n",
    "print len(set(file_sites))"
   ]
  },
  {
   "cell_type": "code",
   "execution_count": 3,
   "metadata": {
    "collapsed": false
   },
   "outputs": [
    {
     "name": "stdout",
     "output_type": "stream",
     "text": [
      "Counter({'CR05EF-13527': 25, 'E47EN-013527': 25, 'E105JP-13548': 25, 'E29RR-013378': 25, 'DA5-011881': 25, 'BR28LB-11881': 25, 'SE64PL-13534': 25, 'IG110FJ-3527': 25, 'HA86RB-13527': 25, 'CR8-13548': 25, 'W1T4BQ-11881': 25, 'SE84EA-13534': 25, 'E140EY-13527': 25, 'SE6-011881': 25, 'N29BX-013548': 25, 'SE3-13548': 25, 'SE12RT-2-534': 25, 'WC2N6RH-3548': 25, 'SE23-13527': 25, 'N17-013534': 25, 'NW32BZ-13527': 25, 'E10NR-013534': 25, 'KT186AP-3548': 25, 'RM154HX-1881': 25, 'SE41SA-13534': 25, 'SE232NZ-1881': 25, 'SW154JY-3548': 25, 'TN147QB-3378': 25, 'SW1W0QP-3534': 25, 'CR01SG-11881': 25, 'N88JD-013378': 25, 'BR20EG-13548': 25, 'CR0-013534': 25, 'IG62XL-13534': 25, 'NW1-013527': 25, 'W42PH-013534': 25, 'WC2H8LG-3527': 25, 'W112NN-13548': 25, 'RM25EL-13534': 25, 'SW154LA-3527': 25, 'NW10TA-13548': 25, 'CM167NP-3527': 25, 'NW23SH-13548': 25, 'SE154EE13527': 25, 'HA53AA-13548': 25, 'RM41PL-13527': 25, 'RM41LD-11881': 25, 'SW1E6BN-3548': 25, 'BR67US-13534': 25, 'NW33RY-13534': 25, 'SE116DN-3548': 25, 'SE109EY-3548': 25, 'TW76BE-11881': 25, 'W84LA-013548': 25, 'SE220SD-3548': 25, 'SE12RT-1-548': 25, 'SW112PN-3527': 25, 'N41ES-013548': 25, 'RM14-3YB-944': 25, 'W55EQ-11881': 25, 'BR4-013378': 25, 'TW76ER-13534': 25, 'SW66DU-11881': 25})\n"
     ]
    }
   ],
   "source": [
    "site_counts = Counter(file_sites)\n",
    "print site_counts"
   ]
  },
  {
   "cell_type": "code",
   "execution_count": 4,
   "metadata": {
    "collapsed": false
   },
   "outputs": [
    {
     "name": "stdout",
     "output_type": "stream",
     "text": [
      "Seed is  0\n",
      "21 525\n",
      "21 525\n",
      "21 525\n"
     ]
    }
   ],
   "source": [
    "num_folds = 3\n",
    "\n",
    "for seed in range(1000):\n",
    "    print \"Seed is \", seed\n",
    "    sites = sorted(list(set(file_sites)))\n",
    "    random.seed(seed)\n",
    "    random.shuffle(sites)\n",
    "\n",
    "    fold_size = len(sites) / num_folds\n",
    "    file_fold_size = len(files) / num_folds\n",
    "\n",
    "    # manually getting the 3 folds\n",
    "    folds = []\n",
    "    folds.append(sites[:fold_size])\n",
    "    folds.append(sites[fold_size:2*fold_size])\n",
    "    folds.append(sites[2*fold_size:3*fold_size])\n",
    "\n",
    "    wav_folds = []\n",
    "    \n",
    "    passed = True\n",
    "\n",
    "    for fold in folds:\n",
    "        wav_fold_list = [xx.split('-sceneRect.csv')[0] \n",
    "                         for xx in files \n",
    "                         if xx.split('_')[0] in fold]\n",
    "        wav_folds.append(wav_fold_list)\n",
    "\n",
    "        num_files = sum([site_counts[xx] for xx in fold])\n",
    "        print len(fold), num_files\n",
    "        if num_files < 6:\n",
    "            passed = False\n",
    "    if passed: break"
   ]
  },
  {
   "cell_type": "code",
   "execution_count": 7,
   "metadata": {
    "collapsed": false
   },
   "outputs": [],
   "source": [
    "# # saving the folds to disk\n",
    "savedir = base + 'splits/'"
   ]
  },
  {
   "cell_type": "code",
   "execution_count": 6,
   "metadata": {
    "collapsed": false
   },
   "outputs": [],
   "source": [
    "# savepath = savedir + 'fold_sites.yaml'\n",
    "# yaml.dump(folds, open(savepath, 'w'), default_flow_style=False)\n",
    "\n",
    "# savepath = savedir + 'folds.yaml'\n",
    "# yaml.dump(wav_folds, open(savepath, 'w'), default_flow_style=False)"
   ]
  }
 ],
 "metadata": {
  "kernelspec": {
   "display_name": "Python 2",
   "language": "python",
   "name": "python2"
  },
  "language_info": {
   "codemirror_mode": {
    "name": "ipython",
    "version": 2
   },
   "file_extension": ".py",
   "mimetype": "text/x-python",
   "name": "python",
   "nbconvert_exporter": "python",
   "pygments_lexer": "ipython2",
   "version": "2.7.11"
  }
 },
 "nbformat": 4,
 "nbformat_minor": 0
}
