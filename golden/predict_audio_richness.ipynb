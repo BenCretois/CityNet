{
 "cells": [
  {
   "cell_type": "code",
   "execution_count": 1,
   "metadata": {
    "collapsed": false
   },
   "outputs": [],
   "source": [
    "%load_ext autoreload\n",
    "%autoreload 2\n",
    "%matplotlib inline\n",
    "\n",
    "import matplotlib.pyplot as plt\n",
    "import numpy as np, yaml, cPickle as pickle\n",
    "import data_io\n",
    "import pandas as pd\n",
    "\n",
    "golden = False"
   ]
  },
  {
   "cell_type": "code",
   "execution_count": 2,
   "metadata": {
    "collapsed": false
   },
   "outputs": [],
   "source": [
    "train_files, test_files = data_io.load_splits(test_fold=0, large_data=True)"
   ]
  },
  {
   "cell_type": "code",
   "execution_count": 3,
   "metadata": {
    "collapsed": false
   },
   "outputs": [],
   "source": [
    "# load richness file\n",
    "richness = pd.read_csv(data_io.large_base + 'other_annots/allSpeciesRichness.csv')\n",
    "fname_to_rich = {}\n",
    "for fname, rich in zip(richness['Filename'], richness['birdSpeciesRichness']):\n",
    "    fname_to_rich[fname.replace('.wav', '.pkl')] = rich\n",
    "    \n",
    "train_files = [xx for xx in train_files if xx in fname_to_rich]\n",
    "test_files = [xx for xx in test_files if xx in fname_to_rich]"
   ]
  },
  {
   "cell_type": "code",
   "execution_count": 4,
   "metadata": {
    "collapsed": false
   },
   "outputs": [
    {
     "name": "stdout",
     "output_type": "stream",
     "text": [
      "/media/michael/Engage/data/audio/alison_data/large_dataset/annots/CR8-13548_20130921_1528.pkl\n",
      "/media/michael/Engage/data/audio/alison_data/large_dataset/annots/W84LA-013548_20130627_2326.pkl\n",
      "/media/michael/Engage/data/audio/alison_data/large_dataset/annots/E105JP-13548_20131013_0916.pkl\n",
      "/media/michael/Engage/data/audio/alison_data/large_dataset/annots/NW1-013527_20130701_0804.pkl\n",
      "/media/michael/Engage/data/audio/alison_data/large_dataset/annots/W84LA-013548_20130624_1901.pkl\n",
      "/media/michael/Engage/data/audio/alison_data/large_dataset/annots/E105JP-13548_20131011_1352.pkl\n",
      "/media/michael/Engage/data/audio/alison_data/large_dataset/annots/NW1-013527_20130625_0801.pkl\n",
      "/media/michael/Engage/data/audio/alison_data/large_dataset/annots/W112NN-13548_20130712_0355.pkl\n",
      "/media/michael/Engage/data/audio/alison_data/large_dataset/annots/W84LA-013548_20130626_2005.pkl\n",
      "/media/michael/Engage/data/audio/alison_data/large_dataset/annots/NW1-013527_20130626_0521.pkl\n",
      "/media/michael/Engage/data/audio/alison_data/large_dataset/annots/W112NN-13548_20130714_0923.pkl\n",
      "/media/michael/Engage/data/audio/alison_data/large_dataset/annots/E105JP-13548_20131009_0326.pkl\n",
      "/media/michael/Engage/data/audio/alison_data/large_dataset/annots/W84LA-013548_20130624_1909.pkl\n",
      "/media/michael/Engage/data/audio/alison_data/large_dataset/annots/NW1-013527_20130629_1258.pkl\n",
      "/media/michael/Engage/data/audio/alison_data/large_dataset/annots/CR8-13548_20130921_1053.pkl\n",
      "/media/michael/Engage/data/audio/alison_data/large_dataset/annots/E105JP-13548_20131011_2050.pkl\n",
      "/media/michael/Engage/data/audio/alison_data/large_dataset/annots/W112NN-13548_20130710_1912.pkl\n",
      "/media/michael/Engage/data/audio/alison_data/large_dataset/annots/SE23-13527_20130911_2332.pkl\n",
      "/media/michael/Engage/data/audio/alison_data/large_dataset/annots/E105JP-13548_20131010_0635.pkl\n",
      "/media/michael/Engage/data/audio/alison_data/large_dataset/annots/W84LA-013548_20130627_1331.pkl\n",
      "/media/michael/Engage/data/audio/alison_data/large_dataset/annots/W84LA-013548_20130625_2026.pkl\n",
      "/media/michael/Engage/data/audio/alison_data/large_dataset/annots/NW1-013527_20130628_2123.pkl\n",
      "/media/michael/Engage/data/audio/alison_data/large_dataset/annots/SE23-13527_20130909_0316.pkl\n",
      "/media/michael/Engage/data/audio/alison_data/large_dataset/annots/CR8-13548_20130916_1140.pkl\n",
      "/media/michael/Engage/data/audio/alison_data/large_dataset/annots/W84LA-013548_20130622_0433.pkl\n",
      "/media/michael/Engage/data/audio/alison_data/large_dataset/annots/NW1-013527_20130629_0254.pkl\n",
      "/media/michael/Engage/data/audio/alison_data/large_dataset/annots/W112NN-13548_20130711_0039.pkl\n",
      "/media/michael/Engage/data/audio/alison_data/large_dataset/annots/E105JP-13548_20131009_0409.pkl\n",
      "/media/michael/Engage/data/audio/alison_data/large_dataset/annots/W112NN-13548_20130708_2146.pkl\n",
      "/media/michael/Engage/data/audio/alison_data/large_dataset/annots/SE23-13527_20130908_0428.pkl\n",
      "/media/michael/Engage/data/audio/alison_data/large_dataset/annots/W112NN-13548_20130715_0013.pkl\n",
      "/media/michael/Engage/data/audio/alison_data/large_dataset/annots/SE23-13527_20130910_0939.pkl\n",
      "/media/michael/Engage/data/audio/alison_data/large_dataset/annots/W112NN-13548_20130711_0116.pkl\n",
      "/media/michael/Engage/data/audio/alison_data/large_dataset/annots/E105JP-13548_20131010_0728.pkl\n",
      "/media/michael/Engage/data/audio/alison_data/large_dataset/annots/CR8-13548_20130917_2053.pkl\n",
      "/media/michael/Engage/data/audio/alison_data/large_dataset/annots/W112NN-13548_20130716_0117.pkl\n",
      "/media/michael/Engage/data/audio/alison_data/large_dataset/annots/W84LA-013548_20130625_1852.pkl\n",
      "/media/michael/Engage/data/audio/alison_data/large_dataset/annots/SE23-13527_20130912_0130.pkl\n",
      "/media/michael/Engage/data/audio/alison_data/large_dataset/annots/SE23-13527_20130907_2055.pkl\n",
      "/media/michael/Engage/data/audio/alison_data/large_dataset/annots/E105JP-13548_20131009_1123.pkl\n",
      "/media/michael/Engage/data/audio/alison_data/large_dataset/annots/W112NN-13548_20130711_0903.pkl\n",
      "/media/michael/Engage/data/audio/alison_data/large_dataset/annots/SE23-13527_20130908_1706.pkl\n",
      "/media/michael/Engage/data/audio/alison_data/large_dataset/annots/SE23-13527_20130910_0512.pkl\n",
      "/media/michael/Engage/data/audio/alison_data/large_dataset/annots/W112NN-13548_20130710_1956.pkl\n",
      "/media/michael/Engage/data/audio/alison_data/large_dataset/annots/E105JP-13548_20131011_1822.pkl\n",
      "/media/michael/Engage/data/audio/alison_data/large_dataset/annots/W84LA-013548_20130623_0141.pkl\n",
      "/media/michael/Engage/data/audio/alison_data/large_dataset/annots/NW1-013527_20130628_2200.pkl\n",
      "/media/michael/Engage/data/audio/alison_data/large_dataset/annots/SE23-13527_20130913_1641.pkl\n",
      "/media/michael/Engage/data/audio/alison_data/large_dataset/annots/CR8-13548_20130917_0636.pkl\n",
      "/media/michael/Engage/data/audio/alison_data/large_dataset/annots/SE23-13527_20130911_1046.pkl\n",
      "/media/michael/Engage/data/audio/alison_data/large_dataset/annots/SE23-13527_20130911_1245.pkl\n",
      "/media/michael/Engage/data/audio/alison_data/large_dataset/annots/W112NN-13548_20130710_1911.pkl\n",
      "/media/michael/Engage/data/audio/alison_data/large_dataset/annots/E105JP-13548_20131010_2130.pkl\n",
      "/media/michael/Engage/data/audio/alison_data/large_dataset/annots/W84LA-013548_20130625_1049.pkl\n",
      "/media/michael/Engage/data/audio/alison_data/large_dataset/annots/NW1-013527_20130701_0520.pkl\n",
      "/media/michael/Engage/data/audio/alison_data/large_dataset/annots/NW1-013527_20130627_1940.pkl\n",
      "/media/michael/Engage/data/audio/alison_data/large_dataset/annots/CR8-13548_20130921_1918.pkl\n",
      "/media/michael/Engage/data/audio/alison_data/large_dataset/annots/CR8-13548_20130917_1705.pkl\n",
      "/media/michael/Engage/data/audio/alison_data/large_dataset/annots/E105JP-13548_20131007_0956.pkl\n",
      "/media/michael/Engage/data/audio/alison_data/large_dataset/annots/W112NN-13548_20130710_1342.pkl\n",
      "/media/michael/Engage/data/audio/alison_data/large_dataset/annots/W112NN-13548_20130709_2130.pkl\n",
      "/media/michael/Engage/data/audio/alison_data/large_dataset/annots/E105JP-13548_20131010_0009.pkl\n",
      "/media/michael/Engage/data/audio/alison_data/large_dataset/annots/SE23-13527_20130913_0246.pkl\n",
      "/media/michael/Engage/data/audio/alison_data/large_dataset/annots/NW1-013527_20130628_0003.pkl\n",
      "/media/michael/Engage/data/audio/alison_data/large_dataset/annots/CR8-13548_20130920_0150.pkl\n",
      "/media/michael/Engage/data/audio/alison_data/large_dataset/annots/CR8-13548_20130916_1337.pkl\n",
      "/media/michael/Engage/data/audio/alison_data/large_dataset/annots/CR8-13548_20130919_0742.pkl\n",
      "/media/michael/Engage/data/audio/alison_data/large_dataset/annots/CR8-13548_20130918_0142.pkl\n",
      "/media/michael/Engage/data/audio/alison_data/large_dataset/annots/E105JP-13548_20131012_2004.pkl\n",
      "/media/michael/Engage/data/audio/alison_data/large_dataset/annots/W84LA-013548_20130624_1117.pkl\n",
      "/media/michael/Engage/data/audio/alison_data/large_dataset/annots/W84LA-013548_20130625_0421.pkl\n",
      "/media/michael/Engage/data/audio/alison_data/large_dataset/annots/SE23-13527_20130911_0909.pkl\n",
      "/media/michael/Engage/data/audio/alison_data/large_dataset/annots/W84LA-013548_20130621_1837.pkl\n",
      "/media/michael/Engage/data/audio/alison_data/large_dataset/annots/CR8-13548_20130918_1752.pkl\n",
      "/media/michael/Engage/data/audio/alison_data/large_dataset/annots/W112NN-13548_20130711_1503.pkl\n",
      "/media/michael/Engage/data/audio/alison_data/large_dataset/annots/NW1-013527_20130627_0255.pkl\n",
      "/media/michael/Engage/data/audio/alison_data/large_dataset/annots/NW1-013527_20130630_1116.pkl\n",
      "/media/michael/Engage/data/audio/alison_data/large_dataset/annots/NW1-013527_20130629_0351.pkl\n",
      "/media/michael/Engage/data/audio/alison_data/large_dataset/annots/SE23-13527_20130907_1651.pkl\n",
      "/media/michael/Engage/data/audio/alison_data/large_dataset/annots/W112NN-13548_20130710_0820.pkl\n",
      "/media/michael/Engage/data/audio/alison_data/large_dataset/annots/NW1-013527_20130629_0239.pkl\n",
      "/media/michael/Engage/data/audio/alison_data/large_dataset/annots/W112NN-13548_20130714_1741.pkl\n",
      "/media/michael/Engage/data/audio/alison_data/large_dataset/annots/E105JP-13548_20131012_0211.pkl\n",
      "/media/michael/Engage/data/audio/alison_data/large_dataset/annots/CR8-13548_20130920_2150.pkl\n",
      "/media/michael/Engage/data/audio/alison_data/large_dataset/annots/E105JP-13548_20131011_0725.pkl\n",
      "/media/michael/Engage/data/audio/alison_data/large_dataset/annots/W112NN-13548_20130714_0353.pkl\n",
      "/media/michael/Engage/data/audio/alison_data/large_dataset/annots/CR8-13548_20130917_0019.pkl\n",
      "/media/michael/Engage/data/audio/alison_data/large_dataset/annots/W112NN-13548_20130709_1234.pkl\n",
      "/media/michael/Engage/data/audio/alison_data/large_dataset/annots/W84LA-013548_20130623_1709.pkl\n",
      "/media/michael/Engage/data/audio/alison_data/large_dataset/annots/CR8-13548_20130920_1503.pkl\n",
      "/media/michael/Engage/data/audio/alison_data/large_dataset/annots/W112NN-13548_20130711_1419.pkl\n",
      "/media/michael/Engage/data/audio/alison_data/large_dataset/annots/CR8-13548_20130917_1818.pkl\n",
      "/media/michael/Engage/data/audio/alison_data/large_dataset/annots/CR8-13548_20130919_2241.pkl\n",
      "/media/michael/Engage/data/audio/alison_data/large_dataset/annots/W112NN-13548_20130716_0607.pkl\n",
      "/media/michael/Engage/data/audio/alison_data/large_dataset/annots/W84LA-013548_20130624_0600.pkl\n",
      "/media/michael/Engage/data/audio/alison_data/large_dataset/annots/W112NN-13548_20130715_0330.pkl\n",
      "/media/michael/Engage/data/audio/alison_data/large_dataset/annots/SE23-13527_20130908_0609.pkl\n",
      "/media/michael/Engage/data/audio/alison_data/large_dataset/annots/W84LA-013548_20130622_0130.pkl\n",
      "/media/michael/Engage/data/audio/alison_data/large_dataset/annots/SE23-13527_20130911_0149.pkl\n",
      "/media/michael/Engage/data/audio/alison_data/large_dataset/annots/NW1-013527_20130629_1207.pkl\n",
      "/media/michael/Engage/data/audio/alison_data/large_dataset/annots/E105JP-13548_20131007_2256.pkl\n",
      "/media/michael/Engage/data/audio/alison_data/large_dataset/annots/NW1-013527_20130626_1513.pkl\n",
      "/media/michael/Engage/data/audio/alison_data/large_dataset/annots/CR8-13548_20130921_0806.pkl\n",
      "/media/michael/Engage/data/audio/alison_data/large_dataset/annots/SE23-13527_20130907_0620.pkl\n",
      "/media/michael/Engage/data/audio/alison_data/large_dataset/annots/CR8-13548_20130916_2153.pkl\n",
      "/media/michael/Engage/data/audio/alison_data/large_dataset/annots/SE23-13527_20130909_0146.pkl\n",
      "/media/michael/Engage/data/audio/alison_data/large_dataset/annots/W84LA-013548_20130625_1946.pkl\n",
      "/media/michael/Engage/data/audio/alison_data/large_dataset/annots/W112NN-13548_20130713_0448.pkl\n",
      "/media/michael/Engage/data/audio/alison_data/large_dataset/annots/CR8-13548_20130916_0220.pkl\n",
      "/media/michael/Engage/data/audio/alison_data/large_dataset/annots/E105JP-13548_20131007_0513.pkl\n",
      "/media/michael/Engage/data/audio/alison_data/large_dataset/annots/E105JP-13548_20131009_0717.pkl\n",
      "/media/michael/Engage/data/audio/alison_data/large_dataset/annots/W112NN-13548_20130712_2324.pkl\n",
      "/media/michael/Engage/data/audio/alison_data/large_dataset/annots/SE23-13527_20130912_2233.pkl\n",
      "/media/michael/Engage/data/audio/alison_data/large_dataset/annots/NW1-013527_20130629_0945.pkl\n",
      "/media/michael/Engage/data/audio/alison_data/large_dataset/annots/W84LA-013548_20130624_2145.pkl\n",
      "/media/michael/Engage/data/audio/alison_data/large_dataset/annots/CR8-13548_20130918_1109.pkl\n",
      "/media/michael/Engage/data/audio/alison_data/large_dataset/annots/E105JP-13548_20131011_0921.pkl\n",
      "/media/michael/Engage/data/audio/alison_data/large_dataset/annots/SE23-13527_20130909_1724.pkl\n",
      "/media/michael/Engage/data/audio/alison_data/large_dataset/annots/NW1-013527_20130701_0005.pkl\n",
      "/media/michael/Engage/data/audio/alison_data/large_dataset/annots/W84LA-013548_20130625_0001.pkl\n",
      "/media/michael/Engage/data/audio/alison_data/large_dataset/annots/NW1-013527_20130628_1507.pkl\n",
      "/media/michael/Engage/data/audio/alison_data/large_dataset/annots/W112NN-13548_20130714_2309.pkl\n",
      "/media/michael/Engage/data/audio/alison_data/large_dataset/annots/E105JP-13548_20131006_2019.pkl\n",
      "/media/michael/Engage/data/audio/alison_data/large_dataset/annots/W84LA-013548_20130626_1221.pkl\n",
      "/media/michael/Engage/data/audio/alison_data/large_dataset/annots/W84LA-013548_20130624_1916.pkl\n",
      "/media/michael/Engage/data/audio/alison_data/large_dataset/annots/SE23-13527_20130906_1713.pkl\n",
      "/media/michael/Engage/data/audio/alison_data/large_dataset/annots/NW1-013527_20130626_0643.pkl\n",
      "/media/michael/Engage/data/audio/alison_data/large_dataset/annots/CR8-13548_20130917_1055.pkl\n",
      "/media/michael/Engage/data/audio/alison_data/large_dataset/annots/SE23-13527_20130913_1057.pkl\n",
      "/media/michael/Engage/data/audio/alison_data/large_dataset/annots/W84LA-013548_20130627_1757.pkl\n",
      "/media/michael/Engage/data/audio/alison_data/large_dataset/annots/E105JP-13548_20131008_2039.pkl\n",
      "/media/michael/Engage/data/audio/alison_data/large_dataset/annots/NW1-013527_20130630_0535.pkl\n",
      "/media/michael/Engage/data/audio/alison_data/large_dataset/annots/SE23-13527_20130913_1752.pkl\n",
      "/media/michael/Engage/data/audio/alison_data/large_dataset/annots/W84LA-013548_20130627_1125.pkl\n",
      "/media/michael/Engage/data/audio/alison_data/large_dataset/annots/E105JP-13548_20131013_1624.pkl\n",
      "/media/michael/Engage/data/audio/alison_data/large_dataset/annots/W84LA-013548_20130623_1144.pkl\n",
      "/media/michael/Engage/data/audio/alison_data/large_dataset/annots/CR8-13548_20130919_1246.pkl\n",
      "/media/michael/Engage/data/audio/alison_data/large_dataset/annots/SE23-13527_20130912_1412.pkl\n",
      "/media/michael/Engage/data/audio/alison_data/large_dataset/annots/CR8-13548_20130922_0511.pkl\n",
      "/media/michael/Engage/data/audio/alison_data/large_dataset/annots/W112NN-13548_20130709_0403.pkl\n",
      "/media/michael/Engage/data/audio/alison_data/large_dataset/annots/NW1-013527_20130627_0256.pkl\n",
      "/media/michael/Engage/data/audio/alison_data/large_dataset/annots/E105JP-13548_20131008_0141.pkl\n",
      "/media/michael/Engage/data/audio/alison_data/large_dataset/annots/W84LA-013548_20130622_0300.pkl\n",
      "/media/michael/Engage/data/audio/alison_data/large_dataset/annots/CR8-13548_20130919_1848.pkl\n",
      "/media/michael/Engage/data/audio/alison_data/large_dataset/annots/SE23-13527_20130913_1238.pkl\n",
      "/media/michael/Engage/data/audio/alison_data/large_dataset/annots/NW1-013527_20130627_0555.pkl\n",
      "/media/michael/Engage/data/audio/alison_data/large_dataset/annots/E105JP-13548_20131012_0658.pkl\n",
      "/media/michael/Engage/data/audio/alison_data/large_dataset/annots/NW1-013527_20130625_0603.pkl\n",
      "/media/michael/Engage/data/audio/alison_data/large_dataset/annots/E105JP-13548_20131012_2334.pkl\n",
      "/media/michael/Engage/data/audio/alison_data/large_dataset/annots/NW1-013527_20130624_1917.pkl\n",
      "/media/michael/Engage/data/audio/alison_data/large_dataset/annots/HA86RB-13527_20130723_1534.pkl\n",
      "/media/michael/Engage/data/audio/alison_data/large_dataset/annots/SE3-13548_20130907_1922.pkl\n",
      "/media/michael/Engage/data/audio/alison_data/large_dataset/annots/E47EN-013527_20131009_2031.pkl\n",
      "/media/michael/Engage/data/audio/alison_data/large_dataset/annots/E47EN-013527_20131006_1856.pkl\n",
      "/media/michael/Engage/data/audio/alison_data/large_dataset/annots/E47EN-013527_20131009_1613.pkl\n",
      "/media/michael/Engage/data/audio/alison_data/large_dataset/annots/HA86RB-13527_20130727_0010.pkl\n",
      "/media/michael/Engage/data/audio/alison_data/large_dataset/annots/SE3-13548_20130909_1113.pkl\n",
      "/media/michael/Engage/data/audio/alison_data/large_dataset/annots/HA53AA-13548_20130725_2321.pkl\n",
      "/media/michael/Engage/data/audio/alison_data/large_dataset/annots/HA53AA-13548_20130727_0216.pkl\n",
      "/media/michael/Engage/data/audio/alison_data/large_dataset/annots/E47EN-013527_20131012_0842.pkl\n",
      "/media/michael/Engage/data/audio/alison_data/large_dataset/annots/SE3-13548_20130911_2126.pkl\n",
      "/media/michael/Engage/data/audio/alison_data/large_dataset/annots/HA53AA-13548_20130725_2332.pkl\n",
      "/media/michael/Engage/data/audio/alison_data/large_dataset/annots/SE3-13548_20130913_0552.pkl\n",
      "/media/michael/Engage/data/audio/alison_data/large_dataset/annots/E47EN-013527_20131012_0221.pkl\n",
      "/media/michael/Engage/data/audio/alison_data/large_dataset/annots/HA53AA-13548_20130729_1040.pkl\n",
      "/media/michael/Engage/data/audio/alison_data/large_dataset/annots/E47EN-013527_20131008_0904.pkl\n",
      "/media/michael/Engage/data/audio/alison_data/large_dataset/annots/HA86RB-13527_20130728_1101.pkl\n",
      "/media/michael/Engage/data/audio/alison_data/large_dataset/annots/SE3-13548_20130911_0655.pkl\n",
      "/media/michael/Engage/data/audio/alison_data/large_dataset/annots/HA53AA-13548_20130724_0044.pkl\n",
      "/media/michael/Engage/data/audio/alison_data/large_dataset/annots/HA53AA-13548_20130725_1707.pkl\n",
      "/media/michael/Engage/data/audio/alison_data/large_dataset/annots/SE3-13548_20130908_1215.pkl\n",
      "/media/michael/Engage/data/audio/alison_data/large_dataset/annots/HA86RB-13527_20130730_0318.pkl\n",
      "/media/michael/Engage/data/audio/alison_data/large_dataset/annots/E47EN-013527_20131008_0708.pkl\n",
      "/media/michael/Engage/data/audio/alison_data/large_dataset/annots/SE3-13548_20130911_1428.pkl\n",
      "/media/michael/Engage/data/audio/alison_data/large_dataset/annots/HA86RB-13527_20130730_0324.pkl\n",
      "/media/michael/Engage/data/audio/alison_data/large_dataset/annots/E47EN-013527_20131012_1341.pkl\n",
      "/media/michael/Engage/data/audio/alison_data/large_dataset/annots/HA86RB-13527_20130725_0138.pkl\n",
      "/media/michael/Engage/data/audio/alison_data/large_dataset/annots/HA86RB-13527_20130726_2048.pkl\n",
      "/media/michael/Engage/data/audio/alison_data/large_dataset/annots/SE3-13548_20130908_0601.pkl\n",
      "/media/michael/Engage/data/audio/alison_data/large_dataset/annots/HA86RB-13527_20130730_1113.pkl\n",
      "/media/michael/Engage/data/audio/alison_data/large_dataset/annots/HA86RB-13527_20130724_1723.pkl\n",
      "/media/michael/Engage/data/audio/alison_data/large_dataset/annots/E47EN-013527_20131011_0036.pkl\n",
      "/media/michael/Engage/data/audio/alison_data/large_dataset/annots/HA86RB-13527_20130729_2137.pkl\n",
      "/media/michael/Engage/data/audio/alison_data/large_dataset/annots/E47EN-013527_20131007_0912.pkl\n",
      "/media/michael/Engage/data/audio/alison_data/large_dataset/annots/E47EN-013527_20131008_1821.pkl\n",
      "/media/michael/Engage/data/audio/alison_data/large_dataset/annots/SE3-13548_20130910_0613.pkl\n",
      "/media/michael/Engage/data/audio/alison_data/large_dataset/annots/HA53AA-13548_20130726_1808.pkl\n",
      "/media/michael/Engage/data/audio/alison_data/large_dataset/annots/HA86RB-13527_20130729_2133.pkl\n",
      "/media/michael/Engage/data/audio/alison_data/large_dataset/annots/E47EN-013527_20131008_2246.pkl\n",
      "/media/michael/Engage/data/audio/alison_data/large_dataset/annots/HA53AA-13548_20130724_0452.pkl\n",
      "/media/michael/Engage/data/audio/alison_data/large_dataset/annots/HA86RB-13527_20130725_1424.pkl\n",
      "/media/michael/Engage/data/audio/alison_data/large_dataset/annots/HA53AA-13548_20130726_0745.pkl\n",
      "/media/michael/Engage/data/audio/alison_data/large_dataset/annots/SE3-13548_20130907_0511.pkl\n",
      "/media/michael/Engage/data/audio/alison_data/large_dataset/annots/HA86RB-13527_20130727_2048.pkl\n",
      "/media/michael/Engage/data/audio/alison_data/large_dataset/annots/HA86RB-13527_20130726_1319.pkl\n",
      "/media/michael/Engage/data/audio/alison_data/large_dataset/annots/HA53AA-13548_20130726_0131.pkl\n",
      "/media/michael/Engage/data/audio/alison_data/large_dataset/annots/HA86RB-13527_20130730_0541.pkl\n",
      "/media/michael/Engage/data/audio/alison_data/large_dataset/annots/HA53AA-13548_20130727_0954.pkl\n",
      "/media/michael/Engage/data/audio/alison_data/large_dataset/annots/HA86RB-13527_20130727_0542.pkl\n",
      "/media/michael/Engage/data/audio/alison_data/large_dataset/annots/HA86RB-13527_20130726_0513.pkl\n",
      "/media/michael/Engage/data/audio/alison_data/large_dataset/annots/SE3-13548_20130912_0635.pkl\n",
      "/media/michael/Engage/data/audio/alison_data/large_dataset/annots/HA53AA-13548_20130730_0828.pkl\n",
      "/media/michael/Engage/data/audio/alison_data/large_dataset/annots/HA86RB-13527_20130727_0351.pkl\n",
      "/media/michael/Engage/data/audio/alison_data/large_dataset/annots/E47EN-013527_20131013_1434.pkl\n",
      "/media/michael/Engage/data/audio/alison_data/large_dataset/annots/SE3-13548_20130908_0522.pkl\n",
      "/media/michael/Engage/data/audio/alison_data/large_dataset/annots/HA86RB-13527_20130724_1523.pkl\n",
      "/media/michael/Engage/data/audio/alison_data/large_dataset/annots/HA86RB-13527_20130725_0338.pkl\n",
      "/media/michael/Engage/data/audio/alison_data/large_dataset/annots/SE3-13548_20130910_2057.pkl\n",
      "/media/michael/Engage/data/audio/alison_data/large_dataset/annots/SE3-13548_20130907_0715.pkl\n",
      "/media/michael/Engage/data/audio/alison_data/large_dataset/annots/HA53AA-13548_20130724_0614.pkl\n",
      "/media/michael/Engage/data/audio/alison_data/large_dataset/annots/E47EN-013527_20131011_0511.pkl\n",
      "/media/michael/Engage/data/audio/alison_data/large_dataset/annots/E47EN-013527_20131006_2308.pkl\n",
      "/media/michael/Engage/data/audio/alison_data/large_dataset/annots/HA53AA-13548_20130725_2105.pkl\n",
      "/media/michael/Engage/data/audio/alison_data/large_dataset/annots/HA86RB-13527_20130727_2357.pkl\n",
      "/media/michael/Engage/data/audio/alison_data/large_dataset/annots/HA53AA-13548_20130730_0305.pkl\n",
      "/media/michael/Engage/data/audio/alison_data/large_dataset/annots/HA53AA-13548_20130728_1233.pkl\n",
      "/media/michael/Engage/data/audio/alison_data/large_dataset/annots/HA53AA-13548_20130729_0801.pkl\n",
      "/media/michael/Engage/data/audio/alison_data/large_dataset/annots/HA53AA-13548_20130724_0346.pkl\n",
      "/media/michael/Engage/data/audio/alison_data/large_dataset/annots/E47EN-013527_20131011_1501.pkl\n",
      "/media/michael/Engage/data/audio/alison_data/large_dataset/annots/HA53AA-13548_20130729_1024.pkl\n",
      "/media/michael/Engage/data/audio/alison_data/large_dataset/annots/HA86RB-13527_20130725_2054.pkl\n",
      "/media/michael/Engage/data/audio/alison_data/large_dataset/annots/E47EN-013527_20131007_0612.pkl\n",
      "/media/michael/Engage/data/audio/alison_data/large_dataset/annots/SE3-13548_20130909_0734.pkl\n",
      "/media/michael/Engage/data/audio/alison_data/large_dataset/annots/E47EN-013527_20131013_0707.pkl\n",
      "/media/michael/Engage/data/audio/alison_data/large_dataset/annots/SE3-13548_20130909_1449.pkl\n",
      "/media/michael/Engage/data/audio/alison_data/large_dataset/annots/SE3-13548_20130909_1210.pkl\n",
      "/media/michael/Engage/data/audio/alison_data/large_dataset/annots/E47EN-013527_20131008_0430.pkl\n",
      "/media/michael/Engage/data/audio/alison_data/large_dataset/annots/SE3-13548_20130912_1548.pkl\n",
      "/media/michael/Engage/data/audio/alison_data/large_dataset/annots/HA53AA-13548_20130724_0303.pkl\n",
      "/media/michael/Engage/data/audio/alison_data/large_dataset/annots/E47EN-013527_20131007_1620.pkl\n",
      "/media/michael/Engage/data/audio/alison_data/large_dataset/annots/SE3-13548_20130909_2313.pkl\n",
      "/media/michael/Engage/data/audio/alison_data/large_dataset/annots/E47EN-013527_20131011_0154.pkl\n",
      "/media/michael/Engage/data/audio/alison_data/large_dataset/annots/E47EN-013527_20131012_1841.pkl\n",
      "/media/michael/Engage/data/audio/alison_data/large_dataset/annots/HA53AA-13548_20130724_0910.pkl\n",
      "/media/michael/Engage/data/audio/alison_data/large_dataset/annots/SE3-13548_20130906_1648.pkl\n",
      "/media/michael/Engage/data/audio/alison_data/large_dataset/annots/HA53AA-13548_20130729_2308.pkl\n",
      "/media/michael/Engage/data/audio/alison_data/large_dataset/annots/HA53AA-13548_20130730_0722.pkl\n",
      "/media/michael/Engage/data/audio/alison_data/large_dataset/annots/SE3-13548_20130907_0103.pkl\n",
      "/media/michael/Engage/data/audio/alison_data/large_dataset/annots/E47EN-013527_20131010_0952.pkl\n",
      "/media/michael/Engage/data/audio/alison_data/large_dataset/annots/SE3-13548_20130909_2011.pkl\n",
      "/media/michael/Engage/data/audio/alison_data/large_dataset/annots/SE3-13548_20130913_0304.pkl\n",
      "/media/michael/Engage/data/audio/alison_data/large_dataset/annots/HA53AA-13548_20130729_0452.pkl\n",
      "/media/michael/Engage/data/audio/alison_data/large_dataset/annots/SE3-13548_20130912_0003.pkl\n",
      "/media/michael/Engage/data/audio/alison_data/large_dataset/annots/HA86RB-13527_20130728_0402.pkl\n",
      "/media/michael/Engage/data/audio/alison_data/large_dataset/annots/E47EN-013527_20131011_1953.pkl\n",
      "/media/michael/Engage/data/audio/alison_data/large_dataset/annots/HA53AA-13548_20130730_0658.pkl\n",
      "/media/michael/Engage/data/audio/alison_data/large_dataset/annots/HA86RB-13527_20130723_1345.pkl\n",
      "/media/michael/Engage/data/audio/alison_data/large_dataset/annots/E47EN-013527_20131013_1740.pkl\n",
      "/media/michael/Engage/data/audio/alison_data/large_dataset/annots/HA86RB-13527_20130724_1446.pkl\n",
      "/media/michael/Engage/data/audio/alison_data/large_dataset/annots/SE3-13548_20130912_1421.pkl\n",
      "/media/michael/Engage/data/audio/alison_data/large_dataset/annots/RM14-3YB-944_1_20130616_140200_000.pkl\n",
      "/media/michael/Engage/data/audio/alison_data/large_dataset/annots/CR05EF-13527_20130917_1656.pkl\n",
      "/media/michael/Engage/data/audio/alison_data/large_dataset/annots/RM14-3YB-944_1_20130617_100500_000.pkl\n",
      "/media/michael/Engage/data/audio/alison_data/large_dataset/annots/WC2H8LG-3527_20130710_0654.pkl\n",
      "/media/michael/Engage/data/audio/alison_data/large_dataset/annots/CR05EF-13527_20130916_0431.pkl\n",
      "/media/michael/Engage/data/audio/alison_data/large_dataset/annots/CR05EF-13527_20130916_1738.pkl\n",
      "/media/michael/Engage/data/audio/alison_data/large_dataset/annots/SW112PN-3527_20130817_1552.pkl\n",
      "/media/michael/Engage/data/audio/alison_data/large_dataset/annots/RM14-3YB-944_1_20130614_160800_000.pkl\n",
      "/media/michael/Engage/data/audio/alison_data/large_dataset/annots/SW154LA-3527_20130705_2256.pkl\n",
      "/media/michael/Engage/data/audio/alison_data/large_dataset/annots/RM14-3YB-944_1_20130618_010600_000.pkl\n",
      "/media/michael/Engage/data/audio/alison_data/large_dataset/annots/SW154LA-3527_20130702_1327.pkl\n",
      "/media/michael/Engage/data/audio/alison_data/large_dataset/annots/RM14-3YB-944_1_20130616_210700_000.pkl\n",
      "/media/michael/Engage/data/audio/alison_data/large_dataset/annots/SW112PN-3527_20130819_0531.pkl\n",
      "/media/michael/Engage/data/audio/alison_data/large_dataset/annots/SW112PN-3527_20130820_1350.pkl\n",
      "/media/michael/Engage/data/audio/alison_data/large_dataset/annots/RM14-3YB-944_1_20130616_160300_000.pkl\n",
      "/media/michael/Engage/data/audio/alison_data/large_dataset/annots/RM14-3YB-944_1_20130615_140700_000.pkl\n",
      "/media/michael/Engage/data/audio/alison_data/large_dataset/annots/WC2H8LG-3527_20130712_0406.pkl\n",
      "/media/michael/Engage/data/audio/alison_data/large_dataset/annots/WC2H8LG-3527_20130711_0216.pkl\n",
      "/media/michael/Engage/data/audio/alison_data/large_dataset/annots/SW112PN-3527_20130819_0842.pkl\n",
      "/media/michael/Engage/data/audio/alison_data/large_dataset/annots/WC2H8LG-3527_20130715_0725.pkl\n",
      "/media/michael/Engage/data/audio/alison_data/large_dataset/annots/SW112PN-3527_20130822_1239.pkl\n",
      "/media/michael/Engage/data/audio/alison_data/large_dataset/annots/SW112PN-3527_20130818_1957.pkl\n",
      "/media/michael/Engage/data/audio/alison_data/large_dataset/annots/SW154LA-3527_20130705_0934.pkl\n",
      "/media/michael/Engage/data/audio/alison_data/large_dataset/annots/SW154LA-3527_20130706_1437.pkl\n",
      "/media/michael/Engage/data/audio/alison_data/large_dataset/annots/CR05EF-13527_20130916_0823.pkl\n",
      "/media/michael/Engage/data/audio/alison_data/large_dataset/annots/SW154LA-3527_20130702_2326.pkl\n",
      "/media/michael/Engage/data/audio/alison_data/large_dataset/annots/CR05EF-13527_20130919_2256.pkl\n",
      "/media/michael/Engage/data/audio/alison_data/large_dataset/annots/RM14-3YB-944_1_20130616_060500_000.pkl\n",
      "/media/michael/Engage/data/audio/alison_data/large_dataset/annots/CR05EF-13527_20130921_1236.pkl\n",
      "/media/michael/Engage/data/audio/alison_data/large_dataset/annots/RM14-3YB-944_1_20130619_010000_000.pkl\n",
      "/media/michael/Engage/data/audio/alison_data/large_dataset/annots/SW154LA-3527_20130704_2356.pkl\n",
      "/media/michael/Engage/data/audio/alison_data/large_dataset/annots/RM14-3YB-944_1_20130615_170200_000.pkl\n",
      "/media/michael/Engage/data/audio/alison_data/large_dataset/annots/SW154LA-3527_20130706_2005.pkl\n",
      "/media/michael/Engage/data/audio/alison_data/large_dataset/annots/WC2H8LG-3527_20130712_1419.pkl\n",
      "/media/michael/Engage/data/audio/alison_data/large_dataset/annots/RM14-3YB-944_1_20130615_050700_000.pkl\n",
      "/media/michael/Engage/data/audio/alison_data/large_dataset/annots/WC2H8LG-3527_20130713_1030.pkl\n",
      "/media/michael/Engage/data/audio/alison_data/large_dataset/annots/SW112PN-3527_20130821_0735.pkl\n",
      "/media/michael/Engage/data/audio/alison_data/large_dataset/annots/RM14-3YB-944_1_20130616_130700_000.pkl\n",
      "/media/michael/Engage/data/audio/alison_data/large_dataset/annots/CR05EF-13527_20130917_1415.pkl\n",
      "/media/michael/Engage/data/audio/alison_data/large_dataset/annots/CR05EF-13527_20130921_0115.pkl\n",
      "/media/michael/Engage/data/audio/alison_data/large_dataset/annots/SW112PN-3527_20130818_1438.pkl\n",
      "/media/michael/Engage/data/audio/alison_data/large_dataset/annots/WC2H8LG-3527_20130709_0758.pkl\n",
      "/media/michael/Engage/data/audio/alison_data/large_dataset/annots/WC2H8LG-3527_20130710_1013.pkl\n",
      "/media/michael/Engage/data/audio/alison_data/large_dataset/annots/SW112PN-3527_20130821_1402.pkl\n",
      "/media/michael/Engage/data/audio/alison_data/large_dataset/annots/WC2H8LG-3527_20130715_0153.pkl\n",
      "/media/michael/Engage/data/audio/alison_data/large_dataset/annots/SW112PN-3527_20130820_2233.pkl\n",
      "/media/michael/Engage/data/audio/alison_data/large_dataset/annots/SW112PN-3527_20130821_1144.pkl\n",
      "/media/michael/Engage/data/audio/alison_data/large_dataset/annots/CR05EF-13527_20130920_1257.pkl\n",
      "/media/michael/Engage/data/audio/alison_data/large_dataset/annots/CR05EF-13527_20130917_0331.pkl\n",
      "/media/michael/Engage/data/audio/alison_data/large_dataset/annots/SW154LA-3527_20130707_1534.pkl\n",
      "/media/michael/Engage/data/audio/alison_data/large_dataset/annots/SW154LA-3527_20130706_1834.pkl\n",
      "/media/michael/Engage/data/audio/alison_data/large_dataset/annots/SW154LA-3527_20130703_1224.pkl\n",
      "/media/michael/Engage/data/audio/alison_data/large_dataset/annots/WC2H8LG-3527_20130714_0627.pkl\n",
      "/media/michael/Engage/data/audio/alison_data/large_dataset/annots/RM14-3YB-944_1_20130617_200000_000.pkl\n",
      "/media/michael/Engage/data/audio/alison_data/large_dataset/annots/WC2H8LG-3527_20130709_1908.pkl\n",
      "/media/michael/Engage/data/audio/alison_data/large_dataset/annots/RM14-3YB-944_1_20130613_060400_000.pkl\n",
      "/media/michael/Engage/data/audio/alison_data/large_dataset/annots/RM14-3YB-944_1_20130619_090300_000.pkl\n",
      "/media/michael/Engage/data/audio/alison_data/large_dataset/annots/SW112PN-3527_20130822_1306.pkl\n",
      "/media/michael/Engage/data/audio/alison_data/large_dataset/annots/CR05EF-13527_20130916_1909.pkl\n",
      "/media/michael/Engage/data/audio/alison_data/large_dataset/annots/CR05EF-13527_20130920_0836.pkl\n",
      "/media/michael/Engage/data/audio/alison_data/large_dataset/annots/SW154LA-3527_20130705_2203.pkl\n",
      "/media/michael/Engage/data/audio/alison_data/large_dataset/annots/RM14-3YB-944_1_20130617_010400_000.pkl\n",
      "/media/michael/Engage/data/audio/alison_data/large_dataset/annots/WC2H8LG-3527_20130712_0902.pkl\n",
      "/media/michael/Engage/data/audio/alison_data/large_dataset/annots/SW112PN-3527_20130816_2305.pkl\n",
      "/media/michael/Engage/data/audio/alison_data/large_dataset/annots/SW112PN-3527_20130823_0418.pkl\n",
      "/media/michael/Engage/data/audio/alison_data/large_dataset/annots/SW154LA-3527_20130707_0902.pkl\n",
      "/media/michael/Engage/data/audio/alison_data/large_dataset/annots/CR05EF-13527_20130920_0020.pkl\n",
      "/media/michael/Engage/data/audio/alison_data/large_dataset/annots/RM14-3YB-944_1_20130619_060700_000.pkl\n",
      "/media/michael/Engage/data/audio/alison_data/large_dataset/annots/CR05EF-13527_20130918_0937.pkl\n",
      "/media/michael/Engage/data/audio/alison_data/large_dataset/annots/CR05EF-13527_20130918_1553.pkl\n",
      "/media/michael/Engage/data/audio/alison_data/large_dataset/annots/SW112PN-3527_20130817_0521.pkl\n",
      "/media/michael/Engage/data/audio/alison_data/large_dataset/annots/SW154LA-3527_20130706_0100.pkl\n",
      "/media/michael/Engage/data/audio/alison_data/large_dataset/annots/CR05EF-13527_20130916_1717.pkl\n",
      "/media/michael/Engage/data/audio/alison_data/large_dataset/annots/SW112PN-3527_20130819_1214.pkl\n",
      "/media/michael/Engage/data/audio/alison_data/large_dataset/annots/SW154LA-3527_20130703_1009.pkl\n",
      "/media/michael/Engage/data/audio/alison_data/large_dataset/annots/RM14-3YB-944_1_20130612_080500_000.pkl\n",
      "/media/michael/Engage/data/audio/alison_data/large_dataset/annots/SW112PN-3527_20130817_1018.pkl\n",
      "/media/michael/Engage/data/audio/alison_data/large_dataset/annots/SW112PN-3527_20130819_1549.pkl\n",
      "/media/michael/Engage/data/audio/alison_data/large_dataset/annots/SW112PN-3527_20130822_1616.pkl\n",
      "/media/michael/Engage/data/audio/alison_data/large_dataset/annots/WC2H8LG-3527_20130710_0603.pkl\n",
      "/media/michael/Engage/data/audio/alison_data/large_dataset/annots/WC2H8LG-3527_20130714_2130.pkl\n",
      "/media/michael/Engage/data/audio/alison_data/large_dataset/annots/SW154LA-3527_20130705_0909.pkl\n",
      "/media/michael/Engage/data/audio/alison_data/large_dataset/annots/SW154LA-3527_20130707_1944.pkl\n",
      "/media/michael/Engage/data/audio/alison_data/large_dataset/annots/SW112PN-3527_20130818_2331.pkl\n",
      "/media/michael/Engage/data/audio/alison_data/large_dataset/annots/RM14-3YB-944_1_20130612_160500_000.pkl\n",
      "/media/michael/Engage/data/audio/alison_data/large_dataset/annots/CR05EF-13527_20130919_0938.pkl\n",
      "/media/michael/Engage/data/audio/alison_data/large_dataset/annots/SW112PN-3527_20130819_1311.pkl\n",
      "/media/michael/Engage/data/audio/alison_data/large_dataset/annots/RM14-3YB-944_1_20130618_160000_000.pkl\n",
      "/media/michael/Engage/data/audio/alison_data/large_dataset/annots/CR05EF-13527_20130920_2205.pkl\n",
      "/media/michael/Engage/data/audio/alison_data/large_dataset/annots/CR05EF-13527_20130917_1023.pkl\n",
      "/media/michael/Engage/data/audio/alison_data/large_dataset/annots/SW154LA-3527_20130705_1144.pkl\n",
      "/media/michael/Engage/data/audio/alison_data/large_dataset/annots/WC2H8LG-3527_20130715_0923.pkl\n",
      "/media/michael/Engage/data/audio/alison_data/large_dataset/annots/WC2H8LG-3527_20130712_0417.pkl\n",
      "/media/michael/Engage/data/audio/alison_data/large_dataset/annots/WC2H8LG-3527_20130709_2104.pkl\n",
      "/media/michael/Engage/data/audio/alison_data/large_dataset/annots/SW112PN-3527_20130820_2328.pkl\n",
      "/media/michael/Engage/data/audio/alison_data/large_dataset/annots/WC2H8LG-3527_20130715_1400.pkl\n",
      "/media/michael/Engage/data/audio/alison_data/large_dataset/annots/RM14-3YB-944_1_20130616_020000_000.pkl\n",
      "/media/michael/Engage/data/audio/alison_data/large_dataset/annots/RM14-3YB-944_1_20130616_200800_000.pkl\n",
      "/media/michael/Engage/data/audio/alison_data/large_dataset/annots/SW154LA-3527_20130707_0204.pkl\n",
      "/media/michael/Engage/data/audio/alison_data/large_dataset/annots/SW112PN-3527_20130823_0634.pkl\n",
      "/media/michael/Engage/data/audio/alison_data/large_dataset/annots/SW154LA-3527_20130707_1654.pkl\n",
      "/media/michael/Engage/data/audio/alison_data/large_dataset/annots/WC2H8LG-3527_20130713_1545.pkl\n",
      "/media/michael/Engage/data/audio/alison_data/large_dataset/annots/WC2H8LG-3527_20130711_1137.pkl\n",
      "/media/michael/Engage/data/audio/alison_data/large_dataset/annots/CR05EF-13527_20130921_0931.pkl\n",
      "/media/michael/Engage/data/audio/alison_data/large_dataset/annots/SW112PN-3527_20130817_1920.pkl\n",
      "/media/michael/Engage/data/audio/alison_data/large_dataset/annots/SW154LA-3527_20130704_0145.pkl\n",
      "/media/michael/Engage/data/audio/alison_data/large_dataset/annots/SW154LA-3527_20130706_1203.pkl\n",
      "/media/michael/Engage/data/audio/alison_data/large_dataset/annots/SW154LA-3527_20130702_2124.pkl\n",
      "/media/michael/Engage/data/audio/alison_data/large_dataset/annots/WC2H8LG-3527_20130708_1009.pkl\n",
      "/media/michael/Engage/data/audio/alison_data/large_dataset/annots/CR05EF-13527_20130918_1342.pkl\n",
      "/media/michael/Engage/data/audio/alison_data/large_dataset/annots/RM14-3YB-944_1_20130612_140700_000.pkl\n",
      "/media/michael/Engage/data/audio/alison_data/large_dataset/annots/RM14-3YB-944_1_20130612_010200_000.pkl\n",
      "/media/michael/Engage/data/audio/alison_data/large_dataset/annots/SW154LA-3527_20130706_1154.pkl\n",
      "/media/michael/Engage/data/audio/alison_data/large_dataset/annots/RM14-3YB-944_1_20130615_180400_000.pkl\n",
      "/media/michael/Engage/data/audio/alison_data/large_dataset/annots/CR05EF-13527_20130922_0537.pkl\n",
      "/media/michael/Engage/data/audio/alison_data/large_dataset/annots/WC2H8LG-3527_20130712_0603.pkl\n",
      "/media/michael/Engage/data/audio/alison_data/large_dataset/annots/WC2H8LG-3527_20130710_1110.pkl\n",
      "/media/michael/Engage/data/audio/alison_data/large_dataset/annots/SW154LA-3527_20130702_2302.pkl\n",
      "/media/michael/Engage/data/audio/alison_data/large_dataset/annots/SW112PN-3527_20130819_2345.pkl\n",
      "/media/michael/Engage/data/audio/alison_data/large_dataset/annots/WC2H8LG-3527_20130708_1820.pkl\n",
      "/media/michael/Engage/data/audio/alison_data/large_dataset/annots/SW154LA-3527_20130705_0811.pkl\n",
      "/media/michael/Engage/data/audio/alison_data/large_dataset/annots/CR05EF-13527_20130917_1527.pkl\n",
      "/media/michael/Engage/data/audio/alison_data/large_dataset/annots/WC2H8LG-3527_20130712_0119.pkl\n",
      "/media/michael/Engage/data/audio/alison_data/large_dataset/annots/CR05EF-13527_20130916_1158.pkl\n",
      "/media/michael/Engage/data/audio/alison_data/large_dataset/annots/CR05EF-13527_20130919_1733.pkl\n"
     ]
    },
    {
     "name": "stderr",
     "output_type": "stream",
     "text": [
      "/home/michael/anaconda/lib/python2.7/site-packages/scipy/ndimage/interpolation.py:549: UserWarning: From scipy 0.13.0, the output shape of zoom() is calculated with round() instead of int() - for these inputs the size of the returned array has changed.\n",
      "  \"the returned array has changed.\", UserWarning)\n"
     ]
    }
   ],
   "source": [
    "# load in all spectrograms plus ground truth biotic annotations\n",
    "train_specs, train_annots = data_io.load_data(\n",
    "    train_files, 'mel', False, 'biotic', 0.001, 10.0, is_golden=False)\n",
    "test_specs, test_annots = data_io.load_data(\n",
    "    test_files, 'mel', False, 'biotic', 0.001, 10.0, is_golden=False)\n",
    "# fname_to_spec = {fname: spec for fname, spec in zip(train_files, all_specs)}"
   ]
  },
  {
   "cell_type": "code",
   "execution_count": 5,
   "metadata": {
    "collapsed": false
   },
   "outputs": [
    {
     "name": "stdout",
     "output_type": "stream",
     "text": [
      "250 125\n",
      "375\n"
     ]
    }
   ],
   "source": [
    "print len(train_files), len(test_files)\n",
    "print len(richness)"
   ]
  },
  {
   "cell_type": "code",
   "execution_count": 75,
   "metadata": {
    "collapsed": false
   },
   "outputs": [],
   "source": [
    "def compute_ACI(spectro,j_bin):\n",
    "    \"\"\"\n",
    "    Compute the Acoustic Complexity Index from the spectrogram of an audio signal.\n",
    "    Reference: Pieretti N, Farina A, Morri FD (2011) A new methodology to infer the singing activity of an avian community: the Acoustic Complexity Index (ACI). Ecological Indicators, 11, 868-873.\n",
    "    Ported from the soundecology R package.\n",
    "    spectro: the spectrogram of the audio signal\n",
    "    j_bin: temporal size of the frame (in samples)\n",
    "    \"\"\"\n",
    "\n",
    "    #times = range(0, spectro.shape[1], j_bin) # relevant time indices\n",
    "    times = range(0, spectro.shape[1]-10, j_bin) # alternative time indices to follow the R code\n",
    "\n",
    "    jspecs = [np.array(spectro[:,i:i+j_bin]) for i in times]  # sub-spectros of temporal size j\n",
    "\n",
    "    aci = [sum((np.sum(abs(np.diff(jspec)), axis=1) / np.sum(jspec, axis=1))) for jspec in jspecs] \t# list of ACI values on each jspecs\n",
    "    main_value = sum(aci)\n",
    "    temporal_values = aci\n",
    "\n",
    "    return main_value, temporal_values # return main (global) value, temporal values\n",
    "\n",
    "def ACI_inspired_features(spec):\n",
    "    return np.abs(np.diff(spec)).sum(axis=1)# / np.sum(spec, axis=1)\n"
   ]
  },
  {
   "cell_type": "code",
   "execution_count": 76,
   "metadata": {
    "collapsed": false
   },
   "outputs": [
    {
     "data": {
      "text/plain": [
       "<matplotlib.colorbar.Colorbar at 0x7f989d219f90>"
      ]
     },
     "execution_count": 76,
     "metadata": {},
     "output_type": "execute_result"
    },
    {
     "data": {
      "image/png": "[encoded data removed]",
      "text/plain": [
       "<matplotlib.figure.Figure at 0x7f989d48e610>"
      ]
     },
     "metadata": {},
     "output_type": "display_data"
    }
   ],
   "source": [
    "plt.imshow(np.log(train_specs[0]))\n",
    "plt.colorbar()"
   ]
  },
  {
   "cell_type": "code",
   "execution_count": 97,
   "metadata": {
    "collapsed": false
   },
   "outputs": [
    {
     "name": "stdout",
     "output_type": "stream",
     "text": [
      "(250, 33) (250,) (125, 33) (125,)\n"
     ]
    }
   ],
   "source": [
    "from copy import copy\n",
    "def compute_features(_spec, annot):\n",
    "    spec = copy(_spec)\n",
    "    spec -= np.median(spec, 1, keepdims=True)\n",
    "    just_biotic_normed = spec[:, annot > 0.5]\n",
    "    just_biotic_unnormed = _spec[:, annot > 0.5]\n",
    "    \n",
    "#     print just_biotic_unnormed.shape\n",
    "    \n",
    "    if just_biotic_normed.size == 0:\n",
    "        return np.zeros(33)\n",
    "    X = []\n",
    "#     X.append(just_biotic_normed.mean(1))\n",
    "#     X.append(just_biotic_unnormed.std(1))\n",
    "#     X.append(just_biotic_unnormed.mean(1))\n",
    "#     X.append(just_biotic_unnormed.std(1))\n",
    "    X.append(just_biotic_unnormed.shape[1])\n",
    "    X.append(ACI_inspired_features(just_biotic_unnormed))\n",
    "    tmp = np.hstack(X)\n",
    "    return tmp\n",
    "\n",
    "\n",
    "train_X = []\n",
    "for spec, annot in zip(train_specs, train_annots):\n",
    "    train_X.append(compute_features(spec, annot))\n",
    "train_X = np.vstack(train_X)\n",
    "train_y = np.array([fname_to_rich[fname] for fname in train_files])\n",
    "\n",
    "\n",
    "test_X = []\n",
    "for spec, annot in zip(test_specs, test_annots):\n",
    "    test_X.append(compute_features(spec, annot))\n",
    "test_X = np.vstack(test_X)\n",
    "test_y = np.array([fname_to_rich[fname] for fname in test_files])\n",
    "\n",
    "print train_X.shape, train_y.shape, test_X.shape, test_y.shape"
   ]
  },
  {
   "cell_type": "code",
   "execution_count": 98,
   "metadata": {
    "collapsed": false
   },
   "outputs": [],
   "source": [
    "from sklearn.ensemble import RandomForestRegressor\n",
    "rf = RandomForestRegressor(25, max_depth=10)\n",
    "rf.fit(train_X, train_y)\n",
    "pred_y = rf.predict(test_X)"
   ]
  },
  {
   "cell_type": "code",
   "execution_count": 99,
   "metadata": {
    "collapsed": false
   },
   "outputs": [
    {
     "data": {
      "text/plain": [
       "[<matplotlib.lines.Line2D at 0x7f989cf709d0>]"
      ]
     },
     "execution_count": 99,
     "metadata": {},
     "output_type": "execute_result"
    },
    {
     "data": {
      "image/png": "[encoded data removed]",
      "text/plain": [
       "<matplotlib.figure.Figure at 0x7f989ce82b90>"
      ]
     },
     "metadata": {},
     "output_type": "display_data"
    }
   ],
   "source": [
    "import seaborn as sns\n",
    "plt.figure(figsize=(10, 10))\n",
    "plt.plot(test_y + np.random.randn(test_y.shape[0]) * 0.1 , pred_y, 'o')\n",
    "plt.xlabel('Ground truth')\n",
    "plt.ylabel('Predicted')\n",
    "plt.axis('equal')\n",
    "plt.plot([0, 10], [0, 10], ':')"
   ]
  },
  {
   "cell_type": "code",
   "execution_count": 100,
   "metadata": {
    "collapsed": false
   },
   "outputs": [
    {
     "name": "stdout",
     "output_type": "stream",
     "text": [
      "0.674924444444\n",
      "1.42233451812\n",
      "0.141333333333\n",
      "0.666936773586\n"
     ]
    }
   ],
   "source": [
    "from sklearn.metrics import *\n",
    "for met in [mean_absolute_error, mean_squared_error, median_absolute_error, r2_score]:\n",
    "    print met(test_y, pred_y)"
   ]
  },
  {
   "cell_type": "code",
   "execution_count": 85,
   "metadata": {
    "collapsed": false
   },
   "outputs": [
    {
     "data": {
      "text/plain": [
       "0.604398763037"
      ]
     },
     "execution_count": 85,
     "metadata": {},
     "output_type": "execute_result"
    }
   ],
   "source": [
    "# Using mel32:\n",
    "0.76416\n",
    "1.85260214044\n",
    "0.28\n",
    "0.566182470934\n",
    "\n",
    "\n",
    "# mel64\n",
    "0.773277040854\n",
    "1.90792352389\n",
    "0.164210526316\n",
    "0.553228051123\n",
    "\n",
    "# just scalar\n",
    "0.739294679908\n",
    "1.68940084081\n",
    "0.273333333333\n",
    "0.604398763037\n",
    "\n",
    "# scalar + ACI inspired features\n",
    "0.674924444444\n",
    "1.42233451812\n",
    "0.141333333333\n",
    "0.666936773586"
   ]
  },
  {
   "cell_type": "code",
   "execution_count": 86,
   "metadata": {
    "collapsed": false
   },
   "outputs": [
    {
     "name": "stdout",
     "output_type": "stream",
     "text": [
      "[   0.            0.           44.            0.          457.00732422\n",
      "    0.            0.            0.           24.          229.9984436     0.\n",
      "    0.            0.            0.           45.            0.            0.\n",
      "    0.            0.          279.97674561    0.            0.            0.\n",
      "    0.            0.            0.            0.            0.            0.\n",
      "    0.            0.          158.            0.            0.            0.\n",
      "    0.            0.            0.            0.            0.            0.\n",
      "    0.            0.          122.            0.            0.            0.\n",
      "  134.00671387  174.98684692    0.            0.           63.\n",
      "    8.99960899    0.            0.            0.            0.            0.\n",
      "    0.            0.            0.           25.          793.99285889\n",
      "    0.            0.           58.           54.            0.            0.\n",
      "    0.           13.            0.            0.           98.        ]\n"
     ]
    }
   ],
   "source": [
    "lengths = []\n",
    "for spec, annot in zip(test_specs, test_annots):\n",
    "    lengths.append(annot.sum())\n",
    "lengths = np.array(lengths)\n",
    "richnesses = np.array([fname_to_rich[fname] for fname in test_files])\n",
    "\n",
    "print lengths[richnesses == 0]"
   ]
  },
  {
   "cell_type": "code",
   "execution_count": null,
   "metadata": {
    "collapsed": true
   },
   "outputs": [],
   "source": []
  },
  {
   "cell_type": "code",
   "execution_count": null,
   "metadata": {
    "collapsed": true
   },
   "outputs": [],
   "source": []
  }
 ],
 "metadata": {
  "kernelspec": {
   "display_name": "Python 2",
   "language": "python",
   "name": "python2"
  },
  "language_info": {
   "codemirror_mode": {
    "name": "ipython",
    "version": 2
   },
   "file_extension": ".py",
   "mimetype": "text/x-python",
   "name": "python",
   "nbconvert_exporter": "python",
   "pygments_lexer": "ipython2",
   "version": "2.7.11"
  }
 },
 "nbformat": 4,
 "nbformat_minor": 0
}
