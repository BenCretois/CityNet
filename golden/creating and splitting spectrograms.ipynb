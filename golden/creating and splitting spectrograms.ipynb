{
 "cells": [
  {
   "cell_type": "code",
   "execution_count": 2,
   "metadata": {
    "collapsed": false
   },
   "outputs": [],
   "source": [
    "# creating spectrograms from all the files, and saving split labelled versions to disk ready for machine learning\n",
    "%load_ext autoreload\n",
    "%autoreload 2\n",
    "%matplotlib inline\n",
    "import matplotlib.pyplot as plt\n",
    "\n",
    "import os\n",
    "import sys\n",
    "import cPickle as pickle\n",
    "import numpy as np\n",
    "\n",
    "# from data_helpers import load_annotations\n",
    "\n",
    "annotation_pkl_dir = '/media/michael/Seagate/engage/alison_data/golden_set/extracted/annotations/'\n",
    "savedir = '/media/michael/Seagate/engage/alison_data/golden_set/extracted/specs/'\n",
    "base_path = '/media/michael/Seagate/engage/alison_data/golden_set/labels/Golden/'"
   ]
  },
  {
   "cell_type": "code",
   "execution_count": 3,
   "metadata": {
    "collapsed": true
   },
   "outputs": [],
   "source": [
    "def gen_spec(x, sr):\n",
    "    specNStepMod = 0.01    # horizontal resolution of spectogram 0.01\n",
    "    specNWinMod = 0.03     # vertical resolution of spectogram 0.03\n",
    "\n",
    "    ## Parameters\n",
    "    nstep = int(sr * specNStepMod)\n",
    "    nwin  = int(sr * specNWinMod)\n",
    "    nfft = nwin\n",
    "\n",
    "    # Get all windows of x with length n as a single array, using strides to avoid data duplication\n",
    "    #shape = (nfft, len(range(nfft, len(x), nstep)))\n",
    "    shape = (nfft, ((x.shape[0] - nfft - 1)/nstep)+1)\n",
    "    strides = (x.itemsize, nstep*x.itemsize)\n",
    "    x_wins = np.lib.stride_tricks.as_strided(x, shape=shape, strides=strides)\n",
    "\n",
    "    # Apply hamming window\n",
    "    x_wins_ham = np.hamming(x_wins.shape[0])[..., np.newaxis] * x_wins\n",
    "\n",
    "    # compute fft\n",
    "    fft_mat = np.fft.fft(x_wins_ham, n=nfft, axis=0)[:(nfft/2), :]\n",
    "\n",
    "    # log magnitude\n",
    "    fft_mat_lm = np.log(np.abs(fft_mat))\n",
    "    fft_mat = np.abs(fft_mat)\n",
    "\n",
    "    return fft_mat"
   ]
  },
  {
   "cell_type": "code",
   "execution_count": 20,
   "metadata": {
    "collapsed": false
   },
   "outputs": [],
   "source": [
    "# create (multi-channel?) spectrogram\n",
    "files = os.listdir(annotation_pkl_dir)\n",
    "\n",
    "spec_type = '330'\n",
    "this_save_dir = savedir + spec_type + '/'\n",
    "for fname in files:\n",
    "    if fname.endswith('.pkl'):\n",
    "\n",
    "        with open(annotation_pkl_dir + fname) as f:\n",
    "            annots, wav, sample_rate = pickle.load(f)\n",
    "\n",
    "        spec = gen_spec(wav, sample_rate)\n",
    "\n",
    "        with open(this_save_dir + fname, 'w') as f:\n",
    "            pickle.dump(spec, f, -1)\n",
    "            \n",
    "        print fname"
   ]
  },
  {
   "cell_type": "code",
   "execution_count": 7,
   "metadata": {
    "collapsed": false
   },
   "outputs": [
    {
     "name": "stdout",
     "output_type": "stream",
     "text": [
      "BR20EG-13548_20150720_12000019.pkl\n",
      "BR28LB-11881_20150801_20300022.pkl\n",
      "BR28LB-11881_20150803_20300018.pkl\n",
      "BR4-013378_20150820_22000018.pkl\n",
      "BR4-013378_20150825_0200003.pkl\n",
      "BR67US-13534_20150801_12300024.pkl\n",
      "DA5-011881_20150827_1830007.pkl\n",
      "E105JP-13548_20131009_0717.pkl\n",
      "E29RR-013378_20150526_08300012.pkl\n",
      "E29RR-013378_20150526_18000018.pkl\n",
      "E29RR-013378_20150530_03000023.pkl\n",
      "E29RR-013378_20150530_07300012.pkl\n",
      "E29RR-013378_20150531_05300014.pkl\n",
      "HA53AA-13548_20130724_0346.pkl\n",
      "HA53AA-13548_20130727_0954.pkl\n",
      "HA53AA-13548_20130729_0801.pkl\n",
      "HA53AA-13548_20130730_0305.pkl\n",
      "HA86RB-13527_20130726_1319.pkl\n",
      "BR67US-13534_20150802_07300023.pkl\n",
      "CM167NP-3527_20150910_07300016.pkl\n",
      "CM167NP-3527_20150910_2000004.pkl\n",
      "CR05EF-13527_20130916_0823.pkl\n",
      "CR05EF-13527_20130921_1236.pkl\n",
      "CR8-13548_20130918_1109.pkl\n",
      "CR8-13548_20130921_0806.pkl\n",
      "HA86RB-13527_20130730_0541.pkl\n",
      "IG62XL-13534_20150512_21000014.pkl\n",
      "IG62XL-13534_20150514_17300028.pkl\n",
      "SE23-13527_20130907_1651.pkl\n",
      "SE3-13548_20130911_0655.pkl\n",
      "SW154LA-3527_20130705_0909.pkl\n",
      "DA5-011881_20150826_08000016.pkl\n",
      "HA86RB-13527_20130728_1101.pkl\n",
      "TW76ER-13534_20150623_2000008.pkl\n",
      "TW76ER-13534_20150625_1000009.pkl\n",
      "TW76ER-13534_20150626_02300015.pkl\n",
      "W112NN-13548_20130709_0403.pkl\n",
      "W112NN-13548_20130709_1234.pkl\n",
      "W112NN-13548_20130713_0448.pkl\n",
      "WC2H8LG-3527_20130715_1400.pkl\n"
     ]
    },
    {
     "name": "stderr",
     "output_type": "stream",
     "text": [
      "/home/michael/anaconda/lib/python2.7/site-packages/matplotlib/__init__.py:872: UserWarning: axes.color_cycle is deprecated and replaced with axes.prop_cycle; please use the latter.\n",
      "  warnings.warn(self.msg_depr % (key, alt_key))\n"
     ]
    }
   ],
   "source": [
    "import librosa\n",
    "\n",
    "N_FFT = 2048\n",
    "HOP_LENGTH = 1024 # 512\n",
    "N_MELS = 32 # 128\n",
    "\n",
    "# create (multi-channel?) spectrogram\n",
    "files = os.listdir(annotation_pkl_dir)\n",
    "\n",
    "spec_type = 'mel'\n",
    "\n",
    "this_save_dir = savedir + spec_type + '/'\n",
    "for fname in files:\n",
    "    if fname.endswith('.pkl'):\n",
    "\n",
    "        with open(annotation_pkl_dir + fname) as f:\n",
    "            annots, wav, sample_rate = pickle.load(f)\n",
    "\n",
    "        spec = librosa.feature.melspectrogram(\n",
    "            wav, sr=sample_rate, n_fft=N_FFT, hop_length=HOP_LENGTH, n_mels=N_MELS)\n",
    "\n",
    "        with open(this_save_dir + fname, 'w') as f:\n",
    "            pickle.dump(spec, f, -1)\n",
    "            \n",
    "        print fname"
   ]
  },
  {
   "cell_type": "code",
   "execution_count": 8,
   "metadata": {
    "collapsed": false
   },
   "outputs": [
    {
     "name": "stdout",
     "output_type": "stream",
     "text": [
      "(32, 1319)\n"
     ]
    }
   ],
   "source": [
    "print spec.shape"
   ]
  }
 ],
 "metadata": {
  "kernelspec": {
   "display_name": "Python 2",
   "language": "python",
   "name": "python2"
  },
  "language_info": {
   "codemirror_mode": {
    "name": "ipython",
    "version": 2
   },
   "file_extension": ".py",
   "mimetype": "text/x-python",
   "name": "python",
   "nbconvert_exporter": "python",
   "pygments_lexer": "ipython2",
   "version": "2.7.11"
  }
 },
 "nbformat": 4,
 "nbformat_minor": 0
}
