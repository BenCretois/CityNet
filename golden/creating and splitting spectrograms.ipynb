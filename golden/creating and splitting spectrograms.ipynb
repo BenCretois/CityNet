{
 "cells": [
  {
   "cell_type": "code",
   "execution_count": 14,
   "metadata": {
    "collapsed": false
   },
   "outputs": [
    {
     "name": "stdout",
     "output_type": "stream",
     "text": [
      "The autoreload extension is already loaded. To reload it, use:\n",
      "  %reload_ext autoreload\n"
     ]
    }
   ],
   "source": [
    "# creating spectrograms from all the files, and saving split labelled versions to disk ready for machine learning\n",
    "%load_ext autoreload\n",
    "%autoreload 2\n",
    "%matplotlib inline\n",
    "import matplotlib.pyplot as plt\n",
    "\n",
    "import os\n",
    "import sys\n",
    "import cPickle as pickle\n",
    "import numpy as np\n",
    "\n",
    "# from data_helpers import load_annotations\n",
    "\n",
    "annotation_pkl_dir = '/media/michael/Seagate/engage/alison_data/golden_set/extracted/annotations/'\n",
    "savedir = '/media/michael/Seagate/engage/alison_data/golden_set/extracted/specs/'\n",
    "base_path = '/media/michael/Seagate/engage/alison_data/golden_set/labels/Golden/'"
   ]
  },
  {
   "cell_type": "code",
   "execution_count": null,
   "metadata": {
    "collapsed": true
   },
   "outputs": [],
   "source": [
    "def gen_spec(x, sr):\n",
    "    specNStepMod = 0.01    # horizontal resolution of spectogram 0.01\n",
    "    specNWinMod = 0.03     # vertical resolution of spectogram 0.03\n",
    "\n",
    "    ## Parameters\n",
    "    nstep = int(sr * specNStepMod)\n",
    "    nwin  = int(sr * specNWinMod)\n",
    "    nfft = nwin\n",
    "\n",
    "    # Get all windows of x with length n as a single array, using strides to avoid data duplication\n",
    "    #shape = (nfft, len(range(nfft, len(x), nstep)))\n",
    "    shape = (nfft, ((x.shape[0] - nfft - 1)/nstep)+1)\n",
    "    strides = (x.itemsize, nstep*x.itemsize)\n",
    "    x_wins = np.lib.stride_tricks.as_strided(x, shape=shape, strides=strides)\n",
    "\n",
    "    # Apply hamming window\n",
    "    x_wins_ham = np.hamming(x_wins.shape[0])[..., np.newaxis] * x_wins\n",
    "\n",
    "    # compute fft\n",
    "    fft_mat = np.fft.fft(x_wins_ham, n=nfft, axis=0)[:(nfft/2), :]\n",
    "\n",
    "    # log magnitude\n",
    "    fft_mat_lm = np.log(np.abs(fft_mat))\n",
    "    fft_mat = np.abs(fft_mat)\n",
    "\n",
    "    return fft_mat"
   ]
  },
  {
   "cell_type": "code",
   "execution_count": 20,
   "metadata": {
    "collapsed": false
   },
   "outputs": [],
   "source": [
    "# create (multi-channel?) spectrogram\n",
    "files = os.listdir(annotation_pkl_dir)\n",
    "\n",
    "for fname in files:\n",
    "    if fname.endswith('*.pkl'):\n",
    "\n",
    "        with open(annotation_pkl_dir + fname) as f:\n",
    "            annots, wav, sample_rate = pickle.load(f)\n",
    "\n",
    "        spec = gen_spec(wav, sample_rate)\n",
    "\n",
    "        with open(savedir + fname, 'w') as f:\n",
    "            pickle.dump(spec, f, -1)\n",
    "            \n",
    "        print fname"
   ]
  },
  {
   "cell_type": "code",
   "execution_count": 392,
   "metadata": {
    "collapsed": false
   },
   "outputs": [],
   "source": []
  }
 ],
 "metadata": {
  "kernelspec": {
   "display_name": "Python 2",
   "language": "python",
   "name": "python2"
  },
  "language_info": {
   "codemirror_mode": {
    "name": "ipython",
    "version": 2
   },
   "file_extension": ".py",
   "mimetype": "text/x-python",
   "name": "python",
   "nbconvert_exporter": "python",
   "pygments_lexer": "ipython2",
   "version": "2.7.11"
  }
 },
 "nbformat": 4,
 "nbformat_minor": 0
}
