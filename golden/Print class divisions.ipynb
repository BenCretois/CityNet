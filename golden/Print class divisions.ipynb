{
 "cells": [
  {
   "cell_type": "code",
   "execution_count": 1,
   "metadata": {
    "collapsed": false
   },
   "outputs": [
    {
     "name": "stderr",
     "output_type": "stream",
     "text": [
      "/home/michael/anaconda/lib/python2.7/site-packages/IPython/utils/traitlets.py:5: UserWarning: IPython.utils.traitlets has moved to a top-level traitlets package.\n",
      "  warn(\"IPython.utils.traitlets has moved to a top-level traitlets package.\")\n",
      "/home/michael/anaconda/lib/python2.7/site-packages/IPython/kernel/__init__.py:13: ShimWarning: The `IPython.kernel` package has been deprecated. You should import from ipykernel or jupyter_client instead.\n",
      "  \"You should import from ipykernel or jupyter_client instead.\", ShimWarning)\n"
     ]
    }
   ],
   "source": [
    "from data_helpers import other, human_noises, animal_noises"
   ]
  },
  {
   "cell_type": "code",
   "execution_count": 2,
   "metadata": {
    "collapsed": false
   },
   "outputs": [
    {
     "name": "stdout",
     "output_type": "stream",
     "text": [
      "dripping water\n",
      "electrical disturbance\n",
      "metalic\n",
      "metalic sound\n",
      "rain\n",
      "rubbish bag\n",
      "shower\n",
      "unknown\n",
      "unknown sound\n",
      "vegetation\n",
      "wind\n"
     ]
    }
   ],
   "source": [
    "for xx in sorted(other):\n",
    "    print xx"
   ]
  },
  {
   "cell_type": "code",
   "execution_count": 3,
   "metadata": {
    "collapsed": false
   },
   "outputs": [
    {
     "name": "stdout",
     "output_type": "stream",
     "text": [
      "air traffic\n",
      "airplane\n",
      "alarm\n",
      "anthropogenic unknown\n",
      "applause\n",
      "ball bouncing\n",
      "barking dog\n",
      "bat hitting ball\n",
      "beep\n",
      "bells\n",
      "braking\n",
      "braking vehicle (road or rail)\n",
      "breaking vehicle\n",
      "building ventilation system\n",
      "bus emitting\n",
      "camera\n",
      "car alarm\n",
      "car horn\n",
      "cat\n",
      "church bell\n",
      "church bells\n",
      "clapping\n",
      "coughing\n",
      "deck lowering\n",
      "dog bark\n",
      "dog barking\n",
      "door opening\n",
      "electrical\n",
      "footsteps\n",
      "glass into bins\n",
      "hammering\n",
      "horn\n",
      "human voice\n",
      "human voices\n",
      "laughing\n",
      "lawnmower\n",
      "machinery\n",
      "mechanical\n",
      "metal\n",
      "mix traffic\n",
      "mobile phone\n",
      "mower\n",
      "music\n",
      "rail traffic\n",
      "road traffic\n",
      "rock\n",
      "siren\n",
      "startthecar\n",
      "sweeping broom\n",
      "television\n",
      "train doors (beeping)\n",
      "train horn\n",
      "train station announcement\n",
      "vehicle alarm\n",
      "vehicle breaking\n",
      "vehicle horn\n",
      "vehicle horn (road or rail)\n",
      "voices\n",
      "whistle\n"
     ]
    }
   ],
   "source": [
    "for xx in sorted(human_noises):\n",
    "    print xx"
   ]
  },
  {
   "cell_type": "code",
   "execution_count": 4,
   "metadata": {
    "collapsed": false
   },
   "outputs": [
    {
     "name": "stdout",
     "output_type": "stream",
     "text": [
      "amphibian\n",
      "animal\n",
      "bat\n",
      "bird\n",
      "fox\n",
      "grey squirrel\n",
      "insect\n",
      "invertebrate\n",
      "rainfall on vegetation\n",
      "russling leaves (animal)\n",
      "russling vegetation (animal)\n",
      "squirrel\n",
      "water dripping\n",
      "water splashing\n",
      "wing beats\n",
      "wings beating\n"
     ]
    }
   ],
   "source": [
    "for xx in sorted(animal_noises):\n",
    "    print xx"
   ]
  },
  {
   "cell_type": "code",
   "execution_count": 10,
   "metadata": {
    "collapsed": false
   },
   "outputs": [
    {
     "data": {
      "text/plain": [
       "array([0, 1, 2, 3, 4, 5, 6, 7, 8, 9])"
      ]
     },
     "execution_count": 10,
     "metadata": {},
     "output_type": "execute_result"
    }
   ],
   "source": [
    "import numpy as np\n",
    "a = np.arange(10)\n",
    "a[:]"
   ]
  },
  {
   "cell_type": "code",
   "execution_count": null,
   "metadata": {
    "collapsed": true
   },
   "outputs": [],
   "source": []
  }
 ],
 "metadata": {
  "kernelspec": {
   "display_name": "Python 2",
   "language": "python",
   "name": "python2"
  },
  "language_info": {
   "codemirror_mode": {
    "name": "ipython",
    "version": 2
   },
   "file_extension": ".py",
   "mimetype": "text/x-python",
   "name": "python",
   "nbconvert_exporter": "python",
   "pygments_lexer": "ipython2",
   "version": "2.7.11"
  }
 },
 "nbformat": 4,
 "nbformat_minor": 0
}
