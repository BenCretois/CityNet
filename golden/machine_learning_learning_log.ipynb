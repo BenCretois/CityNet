{
 "cells": [
  {
   "cell_type": "code",
   "execution_count": 3,
   "metadata": {
    "collapsed": false
   },
   "outputs": [
    {
     "name": "stderr",
     "output_type": "stream",
     "text": [
      "Using gpu device 0: GeForce GTX 770 (CNMeM is disabled, cuDNN 5004)\n",
      "/home/michael/anaconda/lib/python2.7/site-packages/Theano-0.9.0.dev1-py2.7.egg/theano/tensor/signal/downsample.py:6: UserWarning: downsample module has been moved to the theano.tensor.signal.pool module.\n",
      "  \"downsample module has been moved to the theano.tensor.signal.pool module.\")\n"
     ]
    }
   ],
   "source": [
    "# creating spectrograms from all the files, and saving split labelled versions to disk ready for machine learning\n",
    "%load_ext autoreload\n",
    "%autoreload 2\n",
    "%matplotlib inline\n",
    "import matplotlib.pyplot as plt\n",
    "\n",
    "import os\n",
    "import sys\n",
    "import cPickle as pickle\n",
    "import numpy as np\n",
    "import time\n",
    "import random \n",
    "\n",
    "from scipy.ndimage.interpolation import zoom\n",
    "\n",
    "#from data_helpers import load_annotations\n",
    "\n",
    "import nolearn\n",
    "import nolearn.lasagne\n",
    "import lasagne.layers\n",
    "\n",
    "from lasagne.layers import InputLayer, DimshuffleLayer\n",
    "from lasagne.layers import DenseLayer\n",
    "from lasagne.layers import NonlinearityLayer\n",
    "from lasagne.layers import DropoutLayer\n",
    "from lasagne.layers import Pool2DLayer as PoolLayer\n",
    "from lasagne.layers.dnn import Conv2DDNNLayer as ConvLayer\n",
    "from lasagne.nonlinearities import softmax, very_leaky_rectify as vlr\n",
    "import theano\n",
    "\n",
    "base = '/media/michael/Seagate/engage/alison_data/golden_set/'\n",
    "annotation_pkl_dir = base + 'extracted/annotations/'\n",
    "spec_pkl_dir = base + 'extracted/specs/'\n",
    "log_dir = base + 'ml_runs/'"
   ]
  },
  {
   "cell_type": "code",
   "execution_count": 36,
   "metadata": {
    "collapsed": true
   },
   "outputs": [],
   "source": [
    "HWW = 15\n",
    "SPEC_HEIGHT = 330\n",
    "LEARN_LOG = False\n",
    "DO_AUGMENTATION = True\n",
    "DO_BATCH_NORM = True"
   ]
  },
  {
   "cell_type": "code",
   "execution_count": 37,
   "metadata": {
    "collapsed": true
   },
   "outputs": [],
   "source": [
    "# create a class for the spectrograms, from which we can get minbatches of data\n",
    "class SpecSampler(object):\n",
    "    \n",
    "    def _ensure_correct_shape_spec(self, spec):\n",
    "        if spec.ndim == 2:\n",
    "            return spec[None, ...]\n",
    "        else:\n",
    "            return spec\n",
    "    \n",
    "    def __init__(self, specs, labels, hww):       \n",
    "        self.specs = np.vstack(self._ensure_correct_shape_spec(spec) for spec in specs)\n",
    "        self.median = np.median(self.specs, 2)\n",
    "        self.labels = labels\n",
    "        self.hww = hww\n",
    "    \n",
    "    def _ensure_shape(self, X):\n",
    "        if X.shape[2] < self.hww * 2:\n",
    "            return np.pad(X, ((0, 0), (0, 0), (0, self.hww * 2 - X.shape[2])), 'constant')\n",
    "        else:\n",
    "            return X\n",
    "    \n",
    "    def sample(self, num_per_class, seed=None):\n",
    "        \n",
    "        tic = time.time()\n",
    "        num_samples = num_per_class * 2\n",
    "        channels = self.specs.shape[0]\n",
    "        height = self.specs.shape[1]\n",
    "        \n",
    "        if seed is not None:\n",
    "            np.random.seed(seed)\n",
    "\n",
    "        X = np.zeros((num_samples, channels, height, self.hww*2), np.float32)\n",
    "        y = np.zeros(num_samples) * np.nan\n",
    "        count = 0\n",
    "        tic = time.time()\n",
    "        \n",
    "        for cls in [0, 1]:\n",
    "            possible_locs = np.where(self.labels==cls)[0]\n",
    "\n",
    "            if len(possible_locs) >= num_per_class:\n",
    "                sampled_locs = np.random.choice(possible_locs, num_per_class, replace=False)\n",
    "\n",
    "                for loc in sampled_locs:\n",
    "                    X[count] = self._ensure_shape(\n",
    "                        self.specs[:, :, (loc-self.hww):(loc+self.hww)])\n",
    "                    y[count] = cls\n",
    "                    count += 1\n",
    "\n",
    "        # remove ones we couldn't get\n",
    "        to_remove = np.isnan(y)\n",
    "        return X[~to_remove], y[~to_remove].astype(np.int32)\n",
    "        \n",
    "        \n",
    "#ss = SpecSampler([np.log((0.001+ melspec))[None, :100, :]], {0: bio_zoomed}, 10)"
   ]
  },
  {
   "cell_type": "code",
   "execution_count": 38,
   "metadata": {
    "collapsed": false
   },
   "outputs": [],
   "source": [
    "# load data and make list of specsamplers\n",
    "samplers = []\n",
    "\n",
    "for fname in os.listdir(spec_pkl_dir):\n",
    "    \n",
    "    # load spectrogram and annotations\n",
    "    spec = pickle.load(open(spec_pkl_dir + fname))[:SPEC_HEIGHT, :]\n",
    "    annots, wav, sample_rate = pickle.load(\n",
    "        open(annotation_pkl_dir + fname))\n",
    "        \n",
    "    # reshape annotations\n",
    "    for classname in annots:\n",
    "        factor = float(spec.shape[1]) / annots[classname].shape[0]\n",
    "        annots[classname] = zoom(annots[classname], factor)\n",
    "        \n",
    "    # create sampler\n",
    "    if not LEARN_LOG:\n",
    "        spec = np.log(0.001 + spec)\n",
    "        spec = spec - np.median(spec, axis=1, keepdims=True)\n",
    "\n",
    "    spec_stack = [spec]#, np.random.rand(*logspec.shape)]\n",
    "    ss = SpecSampler(spec_stack, annots['biotic'], HWW)\n",
    "    ss.fname = fname\n",
    "    samplers.append(ss)"
   ]
  },
  {
   "cell_type": "code",
   "execution_count": 39,
   "metadata": {
    "collapsed": false
   },
   "outputs": [
    {
     "name": "stdout",
     "output_type": "stream",
     "text": [
      "(40, 1, 330, 30) 20 -23309.3\n"
     ]
    }
   ],
   "source": [
    "class MyBatch(nolearn.lasagne.BatchIterator):\n",
    "    def __iter__(self):\n",
    "        bs = self.batch_size\n",
    "        for sampler in self.X:\n",
    "            xb, yb = sampler.sample(bs)\n",
    "            \n",
    "            num = xb.shape[0]\n",
    "        \n",
    "            # augmentation\n",
    "            if DO_AUGMENTATION:\n",
    "                xb *= (1.0 + np.random.randn(num, 1, 1, 1) * 0.1)\n",
    "                xb += np.random.randn(num, 1, 1, 1) * 0.05\n",
    "\n",
    "            if LEARN_LOG:\n",
    "                # get medians\n",
    "                meds = np.tile(sampler.median, (num, 1, 1))\n",
    "                meds = np.tile(meds[:, :, :, None], (1, 1, 1, HWW*2))\n",
    "\n",
    "                yield {'input': xb.astype(np.float32),\n",
    "                      'input_med': meds.astype(np.float32)}, yb\n",
    "            else:\n",
    "                yield xb.astype(np.float32), yb\n",
    "\n",
    "            \n",
    "class MyBatchTest(nolearn.lasagne.BatchIterator):\n",
    "    def __iter__(self):\n",
    "        bs = self.batch_size\n",
    "        for sampler in self.X:\n",
    "            xb, yb = sampler.sample(bs, seed=10)\n",
    "\n",
    "            if LEARN_LOG:\n",
    "                meds = np.tile(sampler.median, (xb.shape[0], 1, 1))\n",
    "                meds = np.tile(meds[:, :, :, None], (1, 1, 1, HWW*2))\n",
    "                yield {'input': xb.astype(np.float32),\n",
    "                      'input_med': meds.astype(np.float32)}, yb\n",
    "            else:\n",
    "                yield xb.astype(np.float32), yb\n",
    "                \n",
    "\n",
    "mb = MyBatch(20)\n",
    "mb.X = samplers\n",
    "\n",
    "for count, (xx, yy) in enumerate(mb):\n",
    "    if LEARN_LOG:\n",
    "        print xx['input'].max(), xx['input_med'].shape, yy.sum()\n",
    "    else:\n",
    "        print xx.shape, yy.sum(), xx.sum()\n",
    "    break"
   ]
  },
  {
   "cell_type": "code",
   "execution_count": 40,
   "metadata": {
    "collapsed": false
   },
   "outputs": [],
   "source": [
    "import yaml             \n",
    "# splits \n",
    "splits = yaml.load(open(base + 'splits/folds.yaml'))\n",
    "train = splits[0] + splits[1]\n",
    "test = splits[2]\n",
    "                \n",
    "class MyTrainSplit(nolearn.lasagne.TrainSplit):\n",
    "    # custom data split\n",
    "    def __call__(self, data, Yb, net):\n",
    "        train_samplers = [xx for xx in samplers if xx.fname in train]\n",
    "        test_samplers = [xx for xx in samplers if xx.fname in test]\n",
    "        print len(train_samplers), len(test_samplers)\n",
    "        return train_samplers, test_samplers, None, None"
   ]
  },
  {
   "cell_type": "code",
   "execution_count": null,
   "metadata": {
    "collapsed": false
   },
   "outputs": [],
   "source": [
    "# from lasagne.nonlinearities import elu as vlr\n",
    "from lasagne.nonlinearities import softmax, very_leaky_rectify as vlr\n",
    "from lasagne.layers import batch_norm, ElemwiseSumLayer, ExpressionLayer, DimshuffleLayer\n",
    "from helpers import Log1Plus, ForgetSizeLayer\n",
    "import theano.tensor as T\n",
    "\n",
    "if not DO_BATCH_NORM:\n",
    "    batch_norm = lambda x: x\n",
    "net = {}\n",
    "\n",
    "# main input layer, then logged\n",
    "net['input'] = InputLayer((None, len(spec_stack), SPEC_HEIGHT, HWW*2), name='input')\n",
    "\n",
    "if LEARN_LOG:\n",
    "    off = lasagne.init.Constant(0.5)\n",
    "    mult = lasagne.init.Constant(1.0)\n",
    "\n",
    "    net['input_logged'] = Log1Plus(net['input'], off, mult)\n",
    "\n",
    "    # logging the median and multiplying by -1\n",
    "    net['input_med'] = InputLayer((None, len(spec_stack), SPEC_HEIGHT, HWW*2), name='input_med')\n",
    "    net['med_logged'] = Log1Plus(net['input_med'], off=net['input_logged'].off, mult=net['input_logged'].mult)\n",
    "    net['med_logged'] = ExpressionLayer(net['med_logged'], lambda X: -X)\n",
    "\n",
    "    # summing the logged input with the negative logged median\n",
    "    net['input'] = ElemwiseSumLayer((net['input_logged'], net['med_logged']))\n",
    "\n",
    "net['conv1_1'] = batch_norm(\n",
    "    ConvLayer(net['input'], 80, (spec.shape[0] - 5, 6), nonlinearity=vlr))\n",
    "net['pool1'] = PoolLayer(net['conv1_1'], pool_size=(2, 2), stride=(2, 2), mode='average_inc_pad')\n",
    "net['pool1'] = DropoutLayer(net['pool1'], p=0.5)\n",
    "net['conv1_2'] = batch_norm(ConvLayer(net['pool1'], 80, (1, 3), nonlinearity=vlr))\n",
    "# net['pool2'] = PoolLayer(net['conv1_2'], pool_size=(1, 2), stride=(1, 1))\n",
    "net['pool2'] = DropoutLayer(net['conv1_2'], p=0.5)\n",
    "\n",
    "net['fc6'] = batch_norm(DenseLayer(net['pool2'], num_units=512, nonlinearity=vlr))\n",
    "net['fc6'] = DropoutLayer(net['fc6'], p=0.5)\n",
    "net['fc7'] = batch_norm(DenseLayer(net['fc6'], num_units=512, nonlinearity=vlr))\n",
    "net['fc7'] = DropoutLayer(net['fc7'], p=0.5)\n",
    "net['fc8'] = DenseLayer(net['fc7'], num_units=2, nonlinearity=None)\n",
    "net['prob'] = NonlinearityLayer(net['fc8'], softmax)\n",
    "\n",
    "net = nolearn.lasagne.NeuralNet(\n",
    "    layers=net['prob'],\n",
    "    max_epochs=500,\n",
    "    update=lasagne.updates.adam,\n",
    "    update_learning_rate=0.0001,\n",
    "#     update_momentum=0.975,\n",
    "    verbose=1,\n",
    "    batch_iterator_train=MyBatch(128),\n",
    "    batch_iterator_test=MyBatchTest(128),\n",
    "    train_split=MyTrainSplit(None),\n",
    "    check_input=False\n",
    ")"
   ]
  },
  {
   "cell_type": "code",
   "execution_count": null,
   "metadata": {
    "collapsed": false
   },
   "outputs": [
    {
     "name": "stdout",
     "output_type": "stream",
     "text": [
      "26 14\n",
      "# Neural Network with 1669538 learnable parameters\n",
      "\n",
      "## Layer information\n",
      "\n",
      "  #  name    size\n",
      "---  ------  --------\n",
      "  0  input   1x330x30\n",
      "  1          80x6x25\n",
      "  2          80x6x25\n",
      "  3          80x6x25\n",
      "  4          80x3x12\n",
      "  5          80x3x12\n",
      "  6          80x3x10\n",
      "  7          80x3x10\n",
      "  8          80x3x10\n",
      "  9          80x3x10\n",
      " 10          512\n",
      " 11          512\n",
      " 12          512\n",
      " 13          512\n",
      " 14          512\n",
      " 15          512\n",
      " 16          512\n",
      " 17          512\n",
      " 18          2\n",
      " 19          2\n",
      "\n",
      "  epoch    train loss    valid loss    train/val    valid acc  dur\n",
      "-------  ------------  ------------  -----------  -----------  -----\n",
      "      1       \u001b[36m1.01290\u001b[0m       \u001b[32m0.99854\u001b[0m      1.01437      0.60352  3.89s\n",
      "      2       \u001b[36m0.93801\u001b[0m       \u001b[32m0.89206\u001b[0m      1.05151      0.60714  3.99s\n",
      "      3       \u001b[36m0.88457\u001b[0m       \u001b[32m0.75184\u001b[0m      1.17654      0.63839  3.91s\n",
      "      4       \u001b[36m0.83075\u001b[0m       0.91501      0.90791      0.61440  3.94s\n",
      "      5       0.83149       0.77924      1.06706      0.66518  3.98s\n",
      "      6       \u001b[36m0.79767\u001b[0m       0.82326      0.96891      0.66908  3.81s\n",
      "      7       \u001b[36m0.79484\u001b[0m       0.84734      0.93805      0.66741  3.64s\n",
      "      8       \u001b[36m0.76943\u001b[0m       0.86093      0.89372      0.67271  3.68s\n",
      "      9       0.77187       0.86212      0.89531      0.67746  3.71s\n",
      "     10       \u001b[36m0.74946\u001b[0m       0.88146      0.85025      0.67411  3.75s\n",
      "     11       \u001b[36m0.74088\u001b[0m       0.87523      0.84650      0.68164  3.78s\n",
      "     12       \u001b[36m0.72955\u001b[0m       0.86698      0.84149      0.68359  3.74s\n",
      "     13       \u001b[36m0.72067\u001b[0m       0.89677      0.80363      0.68443  3.74s\n",
      "     14       \u001b[36m0.71138\u001b[0m       0.91076      0.78109      0.68164  3.82s\n",
      "     15       \u001b[36m0.68825\u001b[0m       0.98514      0.69864      0.67829  3.76s\n",
      "     16       \u001b[36m0.68528\u001b[0m       0.93767      0.73083      0.68666  3.70s\n",
      "     17       0.70087       0.95416      0.73455      0.68666  3.75s\n",
      "     18       \u001b[36m0.68518\u001b[0m       0.97509      0.70269      0.68471  3.85s\n",
      "     19       \u001b[36m0.67300\u001b[0m       0.96456      0.69773      0.69224  3.94s\n",
      "     20       \u001b[36m0.64820\u001b[0m       0.98943      0.65512      0.68443  3.89s\n",
      "     21       0.65469       0.93695      0.69875      0.69615  3.71s\n",
      "     22       \u001b[36m0.62662\u001b[0m       0.94666      0.66193      0.69838  3.98s\n",
      "     23       \u001b[36m0.61114\u001b[0m       0.93769      0.65175      0.70257  4.26s\n",
      "     24       0.61910       0.92828      0.66693      0.70061  2.86s\n"
     ]
    }
   ],
   "source": [
    "net.fit(samplers, None)"
   ]
  },
  {
   "cell_type": "code",
   "execution_count": 86,
   "metadata": {
    "collapsed": false
   },
   "outputs": [
    {
     "name": "stdout",
     "output_type": "stream",
     "text": [
      "[ 0.96733618]\n",
      "[ 0.96733618]\n",
      "[ 1.03238153]\n",
      "[ 1.03238153]\n"
     ]
    }
   ],
   "source": [
    "print net.layers_['log1plus1'].off.get_value()\n",
    "print net.layers_['log1plus3'].off.get_value()\n",
    "print net.layers_['log1plus1'].mult.get_value()\n",
    "print net.layers_['log1plus3'].mult.get_value()"
   ]
  },
  {
   "cell_type": "code",
   "execution_count": 93,
   "metadata": {
    "collapsed": false
   },
   "outputs": [
    {
     "data": {
      "text/plain": [
       "<module 'matplotlib.pyplot' from '/home/michael/anaconda/lib/python2.7/site-packages/matplotlib/pyplot.pyc'>"
      ]
     },
     "execution_count": 93,
     "metadata": {},
     "output_type": "execute_result"
    },
    {
     "data": {
      "image/png": "[encoded data removed]",
      "text/plain": [
       "<matplotlib.figure.Figure at 0x7f3dcc3d61d0>"
      ]
     },
     "metadata": {},
     "output_type": "display_data"
    }
   ],
   "source": [
    "def plot_loss(net):\n",
    "    train_loss = [row['train_loss'] for row in net.train_history_]\n",
    "    valid_loss = [row['valid_loss'] for row in net.train_history_]\n",
    "    plt.plot(train_loss, label='train loss')\n",
    "    plt.plot(valid_loss, label='valid loss')\n",
    "    plt.xlabel('epoch')\n",
    "    plt.ylabel('loss')\n",
    "    plt.legend(loc='best')\n",
    "    return plt\n",
    "plot_loss(net)"
   ]
  },
  {
   "cell_type": "code",
   "execution_count": null,
   "metadata": {
    "collapsed": true
   },
   "outputs": [],
   "source": [
    "y = [0.197185359589, 0.518698018591, 0.581381482387, 0.664551736791, 0.699983182485]\n",
    "x = [100, 500, 1000, 2500, 5000]\n"
   ]
  }
 ],
 "metadata": {
  "kernelspec": {
   "display_name": "Python 2",
   "language": "python",
   "name": "python2"
  },
  "language_info": {
   "codemirror_mode": {
    "name": "ipython",
    "version": 2
   },
   "file_extension": ".py",
   "mimetype": "text/x-python",
   "name": "python",
   "nbconvert_exporter": "python",
   "pygments_lexer": "ipython2",
   "version": "2.7.11"
  }
 },
 "nbformat": 4,
 "nbformat_minor": 0
}
