{
 "cells": [
  {
   "cell_type": "code",
   "execution_count": 2,
   "metadata": {
    "collapsed": true
   },
   "outputs": [],
   "source": [
    "import os\n",
    "from collections import Counter\n",
    "import random\n",
    "import yaml\n",
    "\n",
    "base = '/media/michael/Seagate/engage/alison_data/golden_set/'\n",
    "spec_pkl_dir = base + 'extracted/specs/'"
   ]
  },
  {
   "cell_type": "code",
   "execution_count": 5,
   "metadata": {
    "collapsed": false
   },
   "outputs": [
    {
     "name": "stdout",
     "output_type": "stream",
     "text": [
      "40\n",
      "19\n"
     ]
    }
   ],
   "source": [
    "files = [xx for xx in os.listdir(spec_pkl_dir) if xx.endswith('.pkl')]\n",
    "file_sites = [xx.split('_')[0] for xx in files]\n",
    "print len(files)\n",
    "print len(set(file_sites))"
   ]
  },
  {
   "cell_type": "code",
   "execution_count": 6,
   "metadata": {
    "collapsed": false
   },
   "outputs": [
    {
     "name": "stdout",
     "output_type": "stream",
     "text": [
      "Counter({'E29RR-013378': 5, 'HA53AA-13548': 4, 'HA86RB-13527': 3, 'W112NN-13548': 3, 'TW76ER-13534': 3, 'CR05EF-13527': 2, 'DA5-011881': 2, 'BR28LB-11881': 2, 'CR8-13548': 2, 'BR67US-13534': 2, 'CM167NP-3527': 2, 'IG62XL-13534': 2, 'BR4-013378': 2, 'E105JP-13548': 1, 'SE3-13548': 1, 'SW154LA-3527': 1, 'BR20EG-13548': 1, 'WC2H8LG-3527': 1, 'SE23-13527': 1})\n"
     ]
    }
   ],
   "source": [
    "site_counts = Counter(file_sites)\n",
    "print site_counts"
   ]
  },
  {
   "cell_type": "code",
   "execution_count": 17,
   "metadata": {
    "collapsed": false
   },
   "outputs": [
    {
     "name": "stdout",
     "output_type": "stream",
     "text": [
      "Seed is  0\n",
      "14\n",
      "11\n",
      "15\n",
      "Seed is  1\n",
      "15\n",
      "13\n",
      "12\n",
      "Seed is  2\n",
      "15\n",
      "11\n",
      "14\n",
      "Seed is  3\n",
      "11\n",
      "14\n",
      "15\n",
      "Seed is  4\n",
      "13\n",
      "13\n",
      "14\n"
     ]
    }
   ],
   "source": [
    "num_folds = 3\n",
    "\n",
    "for seed in range(1000):\n",
    "    print \"Seed is \", seed\n",
    "    sites = sorted(list(set(file_sites)))\n",
    "    random.seed(seed)\n",
    "    random.shuffle(sites)\n",
    "\n",
    "    fold_size = len(sites) / num_folds\n",
    "    file_fold_size = len(files) / num_folds\n",
    "\n",
    "    # manually getting the 3 folds\n",
    "    folds = []\n",
    "    folds.append(sites[:fold_size])\n",
    "    folds.append(sites[fold_size:2*fold_size])\n",
    "    folds.append(sites[2*fold_size:])\n",
    "\n",
    "    wav_folds = []\n",
    "    \n",
    "    passed = True\n",
    "\n",
    "    for fold in folds:\n",
    "        wav_fold_list = [xx.split('-sceneRect.csv')[0] \n",
    "                         for xx in files \n",
    "                         if xx.split('_')[0] in fold]\n",
    "        wav_folds.append(wav_fold_list)\n",
    "\n",
    "        num_files = sum([site_counts[xx] for xx in fold])\n",
    "        print num_files\n",
    "        if num_files < 13:\n",
    "            passed = False\n",
    "    if passed: break"
   ]
  },
  {
   "cell_type": "code",
   "execution_count": 19,
   "metadata": {
    "collapsed": false
   },
   "outputs": [],
   "source": [
    "# saving the folds to disk\n",
    "savedir = base + 'splits/'\n",
    "for idx, (fold, wav_fold) in enumerate(zip(folds, wav_folds)):\n",
    "    savepath = savedir + 'fold_sites_%d.yaml' % idx\n",
    "    yaml.dump(fold, open(savepath, 'w'), default_flow_style=False)\n",
    "    \n",
    "    savepath = savedir + 'folds_%d.yaml' % idx\n",
    "    yaml.dump(wav_fold, open(savepath, 'w'), default_flow_style=False)"
   ]
  },
  {
   "cell_type": "code",
   "execution_count": 21,
   "metadata": {
    "collapsed": false
   },
   "outputs": [],
   "source": [
    "savepath = savedir + 'fold_sites.yaml'\n",
    "yaml.dump(folds, open(savepath, 'w'), default_flow_style=False)\n",
    "\n",
    "savepath = savedir + 'folds.yaml'\n",
    "yaml.dump(wav_folds, open(savepath, 'w'), default_flow_style=False)"
   ]
  }
 ],
 "metadata": {
  "kernelspec": {
   "display_name": "Python 2",
   "language": "python",
   "name": "python2"
  },
  "language_info": {
   "codemirror_mode": {
    "name": "ipython",
    "version": 2
   },
   "file_extension": ".py",
   "mimetype": "text/x-python",
   "name": "python",
   "nbconvert_exporter": "python",
   "pygments_lexer": "ipython2",
   "version": "2.7.11"
  }
 },
 "nbformat": 4,
 "nbformat_minor": 0
}
