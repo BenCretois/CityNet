{
 "cells": [
  {
   "cell_type": "code",
   "execution_count": 187,
   "metadata": {
    "collapsed": false
   },
   "outputs": [
    {
     "name": "stdout",
     "output_type": "stream",
     "text": [
      "The autoreload extension is already loaded. To reload it, use:\n",
      "  %reload_ext autoreload\n"
     ]
    }
   ],
   "source": [
    "# creating spectrograms from all the files, and saving split labelled versions to disk ready for machine learning\n",
    "%load_ext autoreload\n",
    "%autoreload 2\n",
    "%matplotlib inline\n",
    "import matplotlib.pyplot as plt\n",
    "\n",
    "import os\n",
    "import sys\n",
    "import cPickle as pickle\n",
    "import numpy as np\n",
    "import time\n",
    "import random \n",
    "\n",
    "from scipy.ndimage.interpolation import zoom\n",
    "\n",
    "#from data_helpers import load_annotations\n",
    "\n",
    "import nolearn\n",
    "import nolearn.lasagne\n",
    "import lasagne.layers\n",
    "\n",
    "from lasagne.layers import InputLayer, DimshuffleLayer\n",
    "from lasagne.layers import DenseLayer\n",
    "from lasagne.layers import NonlinearityLayer\n",
    "from lasagne.layers import DropoutLayer\n",
    "from lasagne.layers import Pool2DLayer as PoolLayer\n",
    "from lasagne.layers.dnn import Conv2DDNNLayer as ConvLayer\n",
    "from lasagne.nonlinearities import softmax, very_leaky_rectify as vlr\n",
    "import theano\n",
    "\n",
    "base = '/media/michael/Seagate/engage/alison_data/golden_set/'\n",
    "annotation_pkl_dir = base + 'extracted/annotations/'\n",
    "spec_pkl_dir = base + 'extracted/specs/'\n",
    "log_dir = base + 'ml_runs/'"
   ]
  },
  {
   "cell_type": "code",
   "execution_count": 188,
   "metadata": {
    "collapsed": true
   },
   "outputs": [],
   "source": [
    "HWW = 15\n",
    "SPEC_HEIGHT = 330"
   ]
  },
  {
   "cell_type": "code",
   "execution_count": 189,
   "metadata": {
    "collapsed": true
   },
   "outputs": [],
   "source": [
    "# create a class for the spectrograms, from which we can get minbatches of data\n",
    "class SpecSampler(object):\n",
    "    \n",
    "    def _ensure_correct_shape_spec(self, spec):\n",
    "        if spec.ndim == 2:\n",
    "            return spec[None, ...]\n",
    "        else:\n",
    "            return spec\n",
    "    \n",
    "    def __init__(self, specs, labels, hww):       \n",
    "        self.specs = np.dstack(self._ensure_correct_shape_spec(spec) for spec in specs)\n",
    "        self.labels = labels\n",
    "        self.hww = hww\n",
    "    \n",
    "    def _ensure_shape(self, X):\n",
    "        if X.shape[2] < self.hww * 2:\n",
    "            return np.pad(X, ((0, 0), (0, 0), (0, self.hww * 2 - X.shape[2])), 'constant')\n",
    "        else:\n",
    "            return X\n",
    "    \n",
    "    def sample(self, num_per_class, seed=None):\n",
    "        \n",
    "        tic = time.time()\n",
    "        num_samples = num_per_class * len(self.labels)\n",
    "        channels = self.specs.shape[0]\n",
    "        height = self.specs.shape[1]\n",
    "        \n",
    "        if seed is not None:\n",
    "            np.random.seed(seed)\n",
    "        \n",
    "        X = np.zeros((num_samples, channels, height, self.hww*2), np.float32)\n",
    "        y = np.zeros(num_samples) * np.nan\n",
    "        count = 0\n",
    "        tic = time.time()\n",
    "        \n",
    "        for cls in [0, 1]:\n",
    "            possible_locs = np.where(self.labels==cls)[0]\n",
    "\n",
    "            if len(possible_locs) >= num_per_class:\n",
    "                sampled_locs = np.random.choice(possible_locs, num_per_class, replace=False)\n",
    "\n",
    "                for loc in sampled_locs:\n",
    "                    X[count] = self._ensure_shape(self.specs[:, :, (loc-self.hww):(loc+self.hww)])\n",
    "                    y[count] = cls\n",
    "                    count += 1\n",
    "\n",
    "        # remove ones we couldn't get\n",
    "        to_remove = np.isnan(y)\n",
    "        return X[~to_remove], y[~to_remove]\n",
    "        \n",
    "        \n",
    "#ss = SpecSampler([np.log((0.001+ melspec))[None, :100, :]], {0: bio_zoomed}, 10)"
   ]
  },
  {
   "cell_type": "code",
   "execution_count": 194,
   "metadata": {
    "collapsed": false
   },
   "outputs": [],
   "source": [
    "# load data and make list of specsamplers\n",
    "samplers = []\n",
    "\n",
    "for fname in os.listdir(spec_pkl_dir):\n",
    "    \n",
    "    # load spectrogram and annotations\n",
    "    spec = pickle.load(open(spec_pkl_dir + fname))[:SPEC_HEIGHT, :]\n",
    "    annots, wav, sample_rate = pickle.load(\n",
    "        open(annotation_pkl_dir + fname))\n",
    "        \n",
    "    # reshape annotations\n",
    "    for classname in annots:\n",
    "        factor = float(spec.shape[1]) / annots[classname].shape[0]\n",
    "        annots[classname] = zoom(annots[classname], factor)\n",
    "        \n",
    "    # create sampler\n",
    "    logspec = np.log(0.001 + spec)\n",
    "    logspec_med = logspec - np.median(logspec, axis=1, keepdims=True)\n",
    "    ss = SpecSampler([logspec_med], annots['biotic'], HWW)\n",
    "    samplers.append(ss)"
   ]
  },
  {
   "cell_type": "code",
   "execution_count": 195,
   "metadata": {
    "collapsed": false
   },
   "outputs": [],
   "source": [
    "class MyBatch(nolearn.lasagne.BatchIterator):\n",
    "    def __iter__(self):\n",
    "        bs = self.batch_size\n",
    "        for sampler in self.X:\n",
    "            xb, yb = sampler.sample(bs)\n",
    "            yield xb.astype(np.float32), yb.astype(np.int32)\n",
    "\n",
    "class MyBatchTest(nolearn.lasagne.BatchIterator):\n",
    "    def __iter__(self):\n",
    "        bs = self.batch_size\n",
    "        for sampler in self.X:\n",
    "            xb, yb = sampler.sample(bs, seed=10)\n",
    "            yield xb.astype(np.float32), yb.astype(np.int32)\n",
    "\n",
    "class MyTrainSplit(nolearn.lasagne.TrainSplit):\n",
    "    # custom data split\n",
    "    def __call__(self, data, Yb, net):\n",
    "        return samplers[:50], samplers[50:], None, None\n"
   ]
  },
  {
   "cell_type": "code",
   "execution_count": null,
   "metadata": {
    "collapsed": false
   },
   "outputs": [],
   "source": [
    "net = {}\n",
    "\n",
    "net['input'] = InputLayer((None, 1, SPEC_HEIGHT, HWW*2))\n",
    "\n",
    "net['conv1_1'] = ConvLayer(net['input'], 80, (spec.shape[0] - 10, 6), nonlinearity=vlr)\n",
    "net['pool1'] = PoolLayer(net['conv1_1'], pool_size=(4, 3), stride=(1, 3))\n",
    "net['pool1'] = DropoutLayer(net['pool1'], p=0.5)\n",
    "net['conv1_2'] = ConvLayer(net['pool1'], 80, (1, 3), nonlinearity=vlr)\n",
    "net['pool2'] = PoolLayer(net['conv1_2'], pool_size=(1, 2), stride=(1, 1))\n",
    "\n",
    "net['fc6'] = DenseLayer(net['pool2'], num_units=256, nonlinearity=vlr)\n",
    "net['fc6'] = DropoutLayer(net['fc6'], p=0.5)\n",
    "net['fc7'] = DenseLayer(net['fc6'], num_units=256, nonlinearity=vlr)\n",
    "net['fc7'] = DropoutLayer(net['fc7'], p=0.5)\n",
    "net['fc8'] = DenseLayer(net['fc7'], num_units=2, nonlinearity=None)\n",
    "net['prob'] = NonlinearityLayer(net['fc8'], softmax)\n",
    "\n",
    "net = nolearn.lasagne.NeuralNet(\n",
    "    layers=net['prob'],\n",
    "    max_epochs=500,\n",
    "    update=lasagne.updates.nesterov_momentum,\n",
    "    update_learning_rate=0.0001,\n",
    "    update_momentum=0.975,\n",
    "    verbose=1,\n",
    "    batch_iterator_train=MyBatch(128),\n",
    "    batch_iterator_test=MyBatchTest(32),\n",
    "    train_split=MyTrainSplit(None),\n",
    "    check_input=False\n",
    ")"
   ]
  },
  {
   "cell_type": "code",
   "execution_count": null,
   "metadata": {
    "collapsed": false
   },
   "outputs": [
    {
     "name": "stdout",
     "output_type": "stream",
     "text": [
      "# Neural Network with 1058722 learnable parameters\n",
      "\n",
      "## Layer information\n",
      "\n",
      "  #    name  size\n",
      "---  ------  --------\n",
      "  0          1x330x30\n",
      "  1          80x11x25\n",
      "  2          80x8x8\n",
      "  3          80x8x8\n",
      "  4          80x8x6\n",
      "  5          80x8x5\n",
      "  6          256\n",
      "  7          256\n",
      "  8          256\n",
      "  9          256\n",
      " 10          2\n",
      " 11          2\n",
      "\n",
      "  epoch    train loss    valid loss    train/val    valid acc  dur\n",
      "-------  ------------  ------------  -----------  -----------  -----\n",
      "      1       \u001b[36m0.74385\u001b[0m       \u001b[32m0.68703\u001b[0m      1.08272      0.55423  5.06s\n",
      "      2       \u001b[36m0.70442\u001b[0m       \u001b[32m0.66902\u001b[0m      1.05291      0.69853  5.06s\n",
      "      3       \u001b[36m0.69549\u001b[0m       \u001b[32m0.65945\u001b[0m      1.05465      0.71048  5.35s\n",
      "      4       \u001b[36m0.67174\u001b[0m       \u001b[32m0.65156\u001b[0m      1.03098      0.72243  5.17s\n",
      "      5       \u001b[36m0.66395\u001b[0m       \u001b[32m0.64614\u001b[0m      1.02757      0.70956  4.87s\n",
      "      6       \u001b[36m0.65019\u001b[0m       \u001b[32m0.63669\u001b[0m      1.02121      0.71691  5.31s\n",
      "      7       \u001b[36m0.63978\u001b[0m       \u001b[32m0.63120\u001b[0m      1.01359      0.70864  5.37s\n",
      "      8       \u001b[36m0.63222\u001b[0m       \u001b[32m0.62592\u001b[0m      1.01006      0.71232  5.04s\n",
      "      9       \u001b[36m0.62435\u001b[0m       \u001b[32m0.62297\u001b[0m      1.00221      0.71140  5.20s\n",
      "     10       \u001b[36m0.62182\u001b[0m       \u001b[32m0.61966\u001b[0m      1.00350      0.71783  5.34s\n",
      "     11       \u001b[36m0.61622\u001b[0m       \u001b[32m0.61631\u001b[0m      0.99985      0.71783  5.21s\n",
      "     12       \u001b[36m0.61033\u001b[0m       \u001b[32m0.60941\u001b[0m      1.00150      0.72794  5.35s\n",
      "     13       \u001b[36m0.60288\u001b[0m       \u001b[32m0.60680\u001b[0m      0.99354      0.73162  5.15s\n",
      "     14       \u001b[36m0.60031\u001b[0m       \u001b[32m0.60500\u001b[0m      0.99225      0.73162  5.24s\n",
      "     15       \u001b[36m0.59668\u001b[0m       \u001b[32m0.59939\u001b[0m      0.99548      0.73897  5.12s\n",
      "     16       \u001b[36m0.58869\u001b[0m       \u001b[32m0.59375\u001b[0m      0.99148      0.74908  5.23s\n",
      "     17       \u001b[36m0.58490\u001b[0m       \u001b[32m0.59112\u001b[0m      0.98947      0.74265  5.24s\n",
      "     18       \u001b[36m0.58036\u001b[0m       \u001b[32m0.58161\u001b[0m      0.99786      0.75092  5.15s\n",
      "     19       \u001b[36m0.57672\u001b[0m       \u001b[32m0.57353\u001b[0m      1.00555      0.75919  5.16s\n",
      "     20       \u001b[36m0.56935\u001b[0m       \u001b[32m0.56759\u001b[0m      1.00311      0.76379  5.02s\n",
      "     21       \u001b[36m0.56185\u001b[0m       \u001b[32m0.56354\u001b[0m      0.99701      0.77298  5.38s\n",
      "     22       \u001b[36m0.55533\u001b[0m       \u001b[32m0.55827\u001b[0m      0.99473      0.77574  5.31s\n",
      "     23       \u001b[36m0.54325\u001b[0m       \u001b[32m0.55663\u001b[0m      0.97596      0.77206  5.40s\n",
      "     24       \u001b[36m0.54204\u001b[0m       \u001b[32m0.55209\u001b[0m      0.98181      0.76838  5.42s\n",
      "     25       \u001b[36m0.53502\u001b[0m       \u001b[32m0.55130\u001b[0m      0.97048      0.76471  5.31s\n",
      "     26       \u001b[36m0.52369\u001b[0m       \u001b[32m0.54821\u001b[0m      0.95528      0.76838  5.46s\n",
      "     27       \u001b[36m0.51946\u001b[0m       0.56087      0.92617      0.76746  5.38s\n",
      "     28       \u001b[36m0.51155\u001b[0m       \u001b[32m0.54535\u001b[0m      0.93802      0.77114  5.19s\n",
      "     29       \u001b[36m0.50031\u001b[0m       0.55643      0.89914      0.76746  5.36s\n",
      "     30       \u001b[36m0.49619\u001b[0m       0.54962      0.90279      0.77665  5.15s\n"
     ]
    }
   ],
   "source": [
    "net.fit(samplers, None)"
   ]
  },
  {
   "cell_type": "code",
   "execution_count": 169,
   "metadata": {
    "collapsed": false
   },
   "outputs": [
    {
     "data": {
      "text/plain": [
       "<module 'matplotlib.pyplot' from '/home/michael/anaconda/lib/python2.7/site-packages/matplotlib/pyplot.pyc'>"
      ]
     },
     "execution_count": 169,
     "metadata": {},
     "output_type": "execute_result"
    },
    {
     "data": {
      "image/png": "[encoded data removed]",
      "text/plain": [
       "<matplotlib.figure.Figure at 0x7fe5eb5ee350>"
      ]
     },
     "metadata": {},
     "output_type": "display_data"
    }
   ],
   "source": [
    "def plot_loss(net):\n",
    "    train_loss = [row['train_loss'] for row in net.train_history_]\n",
    "    valid_loss = [row['valid_loss'] for row in net.train_history_]\n",
    "    plt.plot(train_loss, label='train loss')\n",
    "    plt.plot(valid_loss, label='valid loss')\n",
    "    plt.xlabel('epoch')\n",
    "    plt.ylabel('loss')\n",
    "    plt.legend(loc='best')\n",
    "    return plt\n",
    "plot_loss(net)"
   ]
  }
 ],
 "metadata": {
  "kernelspec": {
   "display_name": "Python 2",
   "language": "python",
   "name": "python2"
  },
  "language_info": {
   "codemirror_mode": {
    "name": "ipython",
    "version": 2
   },
   "file_extension": ".py",
   "mimetype": "text/x-python",
   "name": "python",
   "nbconvert_exporter": "python",
   "pygments_lexer": "ipython2",
   "version": "2.7.11"
  }
 },
 "nbformat": 4,
 "nbformat_minor": 0
}
