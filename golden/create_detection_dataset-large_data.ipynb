{
 "cells": [
  {
   "cell_type": "markdown",
   "metadata": {
    "collapsed": true
   },
   "source": [
    "# Creating detection dataset\n",
    "\n",
    "A one-off notebook to create a labelling for each moment of the one minute dataset, saying if there is human noise, animal noise or both"
   ]
  },
  {
   "cell_type": "code",
   "execution_count": 1,
   "metadata": {
    "collapsed": false
   },
   "outputs": [
    {
     "name": "stderr",
     "output_type": "stream",
     "text": [
      "/home/michael/anaconda/lib/python2.7/site-packages/IPython/utils/traitlets.py:5: UserWarning: IPython.utils.traitlets has moved to a top-level traitlets package.\n",
      "  warn(\"IPython.utils.traitlets has moved to a top-level traitlets package.\")\n",
      "/home/michael/anaconda/lib/python2.7/site-packages/IPython/kernel/__init__.py:13: ShimWarning: The `IPython.kernel` package has been deprecated. You should import from ipykernel or jupyter_client instead.\n",
      "  \"You should import from ipykernel or jupyter_client instead.\", ShimWarning)\n"
     ]
    }
   ],
   "source": [
    "%load_ext autoreload\n",
    "%autoreload 2\n",
    "%matplotlib inline\n",
    "import matplotlib.pyplot as plt\n",
    "\n",
    "import os\n",
    "import sys\n",
    "import cPickle as pickle\n",
    "\n",
    "from data_helpers import load_annotations\n",
    "\n",
    "where_to_save = '/media/michael/Engage/data/audio/alison_data/large_dataset/annots/'\n",
    "base_path = '/media/michael/Engage/data/audio/alison_data/large_dataset/raw_annots/'"
   ]
  },
  {
   "cell_type": "code",
   "execution_count": 28,
   "metadata": {
    "collapsed": false
   },
   "outputs": [],
   "source": [
    "# splitting up the one-file annotations into separate annotations\n",
    "import pandas as pd\n",
    "df = pd.read_csv(base_path + '../other_annots/urban_sounds_labels.csv')\n",
    "\n",
    "for group_name, newdf in df.groupby('Filename'):\n",
    "    save_name = group_name.replace('.wav', '-sceneRect.csv')\n",
    "    \n",
    "    with open('/tmp/tmp_csv/' + save_name, 'w') as f:\n",
    "        df.to_csv(f, index=False)"
   ]
  },
  {
   "cell_type": "code",
   "execution_count": 34,
   "metadata": {
    "collapsed": false
   },
   "outputs": [],
   "source": [
    "# saving all annotations as pkl files\n",
    "base_path = '/media/michael/Engage/data/audio/alison_data/large_dataset/wavs/'\n",
    "\n",
    "for fname in os.listdir(base_path):\n",
    "    try:\n",
    "        savename = where_to_save + fname.replace('.wav', '.pkl')\n",
    "        if os.path.exists(savename):\n",
    "            continue\n",
    "\n",
    "        # load the annottion\n",
    "        print fname\n",
    "        annots, wav, sample_rate = load_annotations(\n",
    "            fname, labels_dir=base_path, wav_dir=base_path.replace('raw_annots', 'wavs'))\n",
    "\n",
    "        # save to disk\n",
    "        with open(savename, 'w') as f:\n",
    "            pickle.dump((annots, wav, sample_rate), f, -1)\n",
    "    except Exception as e:\n",
    "        print e"
   ]
  }
 ],
 "metadata": {
  "kernelspec": {
   "display_name": "Python 2",
   "language": "python",
   "name": "python2"
  },
  "language_info": {
   "codemirror_mode": {
    "name": "ipython",
    "version": 2
   },
   "file_extension": ".py",
   "mimetype": "text/x-python",
   "name": "python",
   "nbconvert_exporter": "python",
   "pygments_lexer": "ipython2",
   "version": "2.7.11"
  }
 },
 "nbformat": 4,
 "nbformat_minor": 0
}
