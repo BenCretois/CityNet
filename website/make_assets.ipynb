{
 "cells": [
  {
   "cell_type": "code",
   "execution_count": 2,
   "metadata": {
    "collapsed": true
   },
   "outputs": [],
   "source": [
    "%load_ext autoreload\n",
    "%autoreload 2\n",
    "%matplotlib inline\n",
    "import os\n",
    "import sys\n",
    "import numpy as np\n",
    "import matplotlib.pyplot as plt\n",
    "\n",
    "from scipy.misc import imread, imsave\n",
    "import cPickle as pickle\n",
    "import yaml\n",
    "import collections\n",
    "from tqdm import tqdm\n",
    "import time\n",
    "from scipy.ndimage.interpolation import zoom"
   ]
  },
  {
   "cell_type": "markdown",
   "metadata": {},
   "source": [
    "# Making the icons"
   ]
  },
  {
   "cell_type": "code",
   "execution_count": 3,
   "metadata": {
    "collapsed": true
   },
   "outputs": [],
   "source": [
    "import pandas as pd"
   ]
  },
  {
   "cell_type": "code",
   "execution_count": 4,
   "metadata": {
    "collapsed": false
   },
   "outputs": [],
   "source": [
    "savedir = './mapapp/assets/charts/'\n",
    "loadpath = '/home/michael/Dropbox/engage/FairbrassFirmanetal_/data/predictions/massive_dataset/per_site_summaries.csv'\n",
    "\n",
    "df = pd.read_csv(loadpath)"
   ]
  },
  {
   "cell_type": "code",
   "execution_count": 18,
   "metadata": {
    "collapsed": false,
    "scrolled": true
   },
   "outputs": [
    {
     "data": {
      "text/plain": [
       "<matplotlib.image.AxesImage at 0x7efca8d22d90>"
      ]
     },
     "execution_count": 18,
     "metadata": {},
     "output_type": "execute_result"
    },
    {
     "data": {
      "image/png": "[encoded data removed]",
      "text/plain": [
       "<matplotlib.figure.Figure at 0x7efca8dd5090>"
      ]
     },
     "metadata": {},
     "output_type": "display_data"
    }
   ],
   "source": [
    "bio_col = np.array([27, 158, 119, 255]) / 255.0\n",
    "anthro_col = np.array([217, 95, 2, 255]) / 255.0\n",
    "\n",
    "for idx, row in df.iterrows():\n",
    "#     print row\n",
    "\n",
    "    im = np.ones((64, 64, 4))\n",
    "    im[:, :, -1] = 0\n",
    "\n",
    "    h_anthro = int(row['anthrop'] * 60)\n",
    "    h_bio = int(row['biotic'] * 60)\n",
    "    \n",
    "    im[h_bio:, :32, :] = bio_col\n",
    "    im[h_anthro:, 32:, :] = anthro_col\n",
    "    \n",
    "    imsave(savedir + '%s.png' % row['Unnamed: 0'], im)\n",
    "\n",
    "plt.imshow(im)"
   ]
  },
  {
   "cell_type": "markdown",
   "metadata": {},
   "source": [
    "# Making csv file"
   ]
  },
  {
   "cell_type": "code",
   "execution_count": 10,
   "metadata": {
    "collapsed": false
   },
   "outputs": [],
   "source": [
    "final = []\n",
    "for idx, row in df.iterrows():\n",
    "#     print row['Unnamed: 0']\n",
    "    lat = 51.277 + np.random.rand() * 0.35\n",
    "    lon = -0.4593 + np.random.rand() * 0.8\n",
    "    final.append([row['Unnamed: 0'], lat, lon])\n",
    "    \n",
    "df = pd.DataFrame(final)\n",
    "df.to_csv('./mapapp/assets/sites_info.csv', header=False, index=False)"
   ]
  }
 ],
 "metadata": {
  "kernelspec": {
   "display_name": "Python 2",
   "language": "python",
   "name": "python2"
  },
  "language_info": {
   "codemirror_mode": {
    "name": "ipython",
    "version": 2
   },
   "file_extension": ".py",
   "mimetype": "text/x-python",
   "name": "python",
   "nbconvert_exporter": "python",
   "pygments_lexer": "ipython2",
   "version": "2.7.12"
  }
 },
 "nbformat": 4,
 "nbformat_minor": 0
}
