{
 "cells": [
  {
   "cell_type": "code",
   "execution_count": 1,
   "metadata": {
    "collapsed": true
   },
   "outputs": [],
   "source": [
    "%load_ext autoreload\n",
    "%autoreload 2\n",
    "%matplotlib inline\n",
    "import os\n",
    "import sys\n",
    "import numpy as np\n",
    "import matplotlib.pyplot as plt\n",
    "\n",
    "from scipy.misc import imread, imsave\n",
    "import cPickle as pickle\n",
    "import yaml\n",
    "import collections\n",
    "from tqdm import tqdm\n",
    "import time\n",
    "from scipy.ndimage.interpolation import zoom"
   ]
  },
  {
   "cell_type": "markdown",
   "metadata": {},
   "source": [
    "# Making the icons"
   ]
  },
  {
   "cell_type": "code",
   "execution_count": 2,
   "metadata": {
    "collapsed": true
   },
   "outputs": [],
   "source": [
    "import pandas as pd"
   ]
  },
  {
   "cell_type": "code",
   "execution_count": 3,
   "metadata": {
    "collapsed": true
   },
   "outputs": [],
   "source": [
    "def mine_to_ali(name):\n",
    "    mapper = {'CM167PN': 'CM167NP', 'SE1_2RT_7': 'SE12RT-1', 'SE1_2RT_10': 'SE12RT-2'}\n",
    "    \n",
    "    if name in mapper:\n",
    "        return mapper[name]\n",
    "    else:\n",
    "        return name.replace('_', '')"
   ]
  },
  {
   "cell_type": "code",
   "execution_count": 6,
   "metadata": {
    "collapsed": false
   },
   "outputs": [],
   "source": [
    "loadpath = '/home/michael/Dropbox/engage/FairbrassFirmanetal_/data/predictions/massive_dataset/per_site_summaries.csv'\n",
    "\n",
    "df_in = pd.read_csv(loadpath)"
   ]
  },
  {
   "cell_type": "code",
   "execution_count": 56,
   "metadata": {
    "collapsed": false,
    "scrolled": true
   },
   "outputs": [
    {
     "data": {
      "text/plain": [
       "<matplotlib.image.AxesImage at 0x7f6b93d8a550>"
      ]
     },
     "execution_count": 56,
     "metadata": {},
     "output_type": "execute_result"
    },
    {
     "data": {
      "image/png": "[encoded data removed]",
      "text/plain": [
       "<matplotlib.figure.Figure at 0x7f6b94328dd0>"
      ]
     },
     "metadata": {},
     "output_type": "display_data"
    }
   ],
   "source": [
    "savedir = './mapapp/assets/sites/charts/'\n",
    "\n",
    "bio_col = np.array([27, 158, 119, 255]) / 255.0\n",
    "anthro_col = np.array([217, 95, 2, 255]) / 255.0\n",
    "black = np.array([0, 0, 0, 1.0])\n",
    "\n",
    "for idx, row in df_in.iterrows():\n",
    "#     print row\n",
    "\n",
    "    if 0:\n",
    "        im = np.ones((64, 64, 4))\n",
    "        im[:, :, -1] = 0\n",
    "\n",
    "        h_anthro = 64 - int(row['anthrop'] * 60)\n",
    "        h_bio = 64 - int(row['biotic'] * 60)\n",
    "\n",
    "        im[h_bio:, :32, :] = bio_col\n",
    "        im[h_anthro:, 32:, :] = anthro_col\n",
    "\n",
    "    else:\n",
    "        w = 64\n",
    "        l= np.linspace(-1.0, 1.0, w)\n",
    "        x, y = np.meshgrid(l, l)\n",
    "        r = np.sqrt(x**2 + y**2)\n",
    "\n",
    "        outer_mask = r < 1.0\n",
    "        inner_mask = r > 0.5\n",
    "        both = np.logical_and(outer_mask, inner_mask)\n",
    "\n",
    "        angle = np.mod(np.arctan2(y, x) - np.pi/2, 2*np.pi)\n",
    "        anthro_cut = row['anthrop'] * np.pi\n",
    "        bio_cut = row['biotic'] * np.pi\n",
    "\n",
    "        bio_mask = angle < bio_cut\n",
    "        anthro_mask = (2 * np.pi - angle) < anthro_cut\n",
    "\n",
    "        bio_mask = np.logical_and(bio_mask, both)\n",
    "        anthro_mask = np.logical_and(anthro_mask, both)\n",
    "\n",
    "        im = np.ones((64, 64, 4))\n",
    "        im[:, :, -1] = 0\n",
    "        \n",
    "        mask = np.logical_and(both, x <  0)\n",
    "        im[mask, :] = black#bio_col\n",
    "        im[mask, -1] = 0.1\n",
    "        \n",
    "        mask = np.logical_and(both, x > 0)\n",
    "        im[mask, :] = black#anthro_col\n",
    "        im[mask, -1] = 0.1\n",
    "        \n",
    "\n",
    "        im[bio_mask, :] = bio_col\n",
    "        im[anthro_mask, :] = anthro_col\n",
    "\n",
    "    imsave(savedir + '%s.png' % mine_to_ali(row['Unnamed: 0']), im)\n",
    "#     break\n",
    "\n",
    "plt.imshow(im)"
   ]
  },
  {
   "cell_type": "code",
   "execution_count": 42,
   "metadata": {
    "collapsed": false
   },
   "outputs": [
    {
     "data": {
      "text/plain": [
       "<matplotlib.colorbar.Colorbar at 0x7f6b94848950>"
      ]
     },
     "execution_count": 42,
     "metadata": {},
     "output_type": "execute_result"
    },
    {
     "data": {
      "image/png": "[encoded data removed]",
      "text/plain": [
       "<matplotlib.figure.Figure at 0x7f6b96259750>"
      ]
     },
     "metadata": {},
     "output_type": "display_data"
    }
   ],
   "source": [
    "w = 64\n",
    "l= np.linspace(-1.0, 1.0, w)\n",
    "x, y = np.meshgrid(l, l)\n",
    "r = np.sqrt(x**2 + y**2)\n",
    "\n",
    "outer_mask = r < 1.0\n",
    "inner_mask = r > 0.5\n",
    "both = np.logical_and(outer_mask, inner_mask)\n",
    "\n",
    "angle = np.mod(np.arctan2(y, x) - np.pi/2, 2*np.pi)\n",
    "anthro_cut = row['anthrop'] * np.pi\n",
    "bio_cut = row['biotic'] * np.pi\n",
    "\n",
    "bio_mask = angle < bio_cut\n",
    "anthro_mask = (2 * np.pi - angle) < anthro_cut\n",
    "\n",
    "bio_mask = np.logical_and(bio_mask, both)\n",
    "anthro_mask = np.logical_and(anthro_mask, both)\n",
    "\n",
    "im = np.ones((64, 64, 4))\n",
    "im[:, :, -1] = 0\n",
    "\n",
    "im[bio_mask, :] = bio_col\n",
    "im[anthro_mask, :] = anthro_col\n",
    "\n",
    "\n",
    "plt.imshow(im)\n",
    "\n",
    "\n",
    "\n",
    "plt.colorbar()"
   ]
  },
  {
   "cell_type": "markdown",
   "metadata": {},
   "source": [
    "# Getting audio files"
   ]
  },
  {
   "cell_type": "code",
   "execution_count": 8,
   "metadata": {
    "collapsed": false
   },
   "outputs": [
    {
     "name": "stdout",
     "output_type": "stream",
     "text": [
      "['/media/michael/Elements1/', '/media/michael/Elements2/', '/media/michael/Elements/']\n",
      ". . . . . . . . . . . . . . . . . . . . . . . . . . . . . . . . . . . . . . . . . . . . . . . . . . . . . . . . . . . . . . .\n"
     ]
    }
   ],
   "source": [
    "sys.path.append('../prediction/apply_to_massive/')\n",
    "import utils\n",
    "import shutil\n",
    "\n",
    "search_locations = utils.get_search_locations()\n",
    "to_exclude = ['Card slot', 'copy', 'Sliced', '250515-010615', 'NOISE']\n",
    "\n",
    "site_to_audio_fname = {}\n",
    "\n",
    "for hd_idx, search_location in search_locations:\n",
    "\n",
    "    for root, dirnames, filenames in os.walk(search_location):\n",
    "        \n",
    "        if 'E29' in root:\n",
    "            sitename = 'E29RR'\n",
    "        else:\n",
    "            sitename = root.replace('/SM2+', '').split('/')[-1]\n",
    "            \n",
    "        if sitename in site_to_audio_fname or any(xx in sitename for xx in to_exclude):\n",
    "            continue\n",
    "        \n",
    "        sitename = mine_to_ali(sitename)\n",
    "\n",
    "        filtered_fnames = [fname for fname in filenames\n",
    "                          if 'BAT+' not in root and 'Random' not in root and fname.endswith('.wav')]\n",
    "        \n",
    "        if len(filtered_fnames):\n",
    "            site_to_audio_fname[sitename] = (root, filtered_fnames[0])\n",
    "            shutil.copy(root + '/'+ filtered_fnames[0], savedir)\n",
    "            \n",
    "            print \".\",\n",
    "            sys.stdout.flush()"
   ]
  },
  {
   "cell_type": "code",
   "execution_count": 13,
   "metadata": {
    "collapsed": false
   },
   "outputs": [],
   "source": [
    "from scipy.io import wavfile\n",
    "savedir = './mapapp/assets/sites/audio/'\n",
    "\n",
    "for xx, (root, fname) in site_to_audio_fname.items():\n",
    "    \n",
    "    rate, data = wavfile.read(root + '/' + fname)\n",
    "    \n",
    "    # only save 30 seconds\n",
    "    length = 30 * rate\n",
    "    \n",
    "    wavfile.write(savedir + fname, rate, data[:length])"
   ]
  },
  {
   "cell_type": "markdown",
   "metadata": {},
   "source": [
    "# Making csv file"
   ]
  },
  {
   "cell_type": "code",
   "execution_count": 61,
   "metadata": {
    "collapsed": false
   },
   "outputs": [],
   "source": [
    "# Loading coords\n",
    "site_coords = pd.read_csv('/media/michael/Engage/data/audio/alison_data/sites/allSitesDetailsCoordinates.csv')\n",
    "    \n",
    "final = []\n",
    "for idx, row in site_coords.iterrows():\n",
    "    lat = row['Lat']\n",
    "    lon = row['Long']\n",
    "    if lat == '51.30.16N':\n",
    "        lat = 51.504444\n",
    "    if lon == '0.4.50W':\n",
    "        lon = -0.080556\n",
    "    elif lon == '0.4.53W':\n",
    "        lon = -0.081389\n",
    "\n",
    "    lat = float(lat)\n",
    "    lon = float(lon)\n",
    "    audio_fname = site_to_audio_fname[row['SiteCode']][1]\n",
    "    final.append([row['SiteCode'], lat, lon, audio_fname, row['Site_Name']])\n",
    "    \n",
    "\n",
    "df = pd.DataFrame(final)\n",
    "df.to_csv('./mapapp/assets/sites/sites_info.csv', header=False, index=False)"
   ]
  },
  {
   "cell_type": "markdown",
   "metadata": {},
   "source": [
    "# Saving images"
   ]
  },
  {
   "cell_type": "code",
   "execution_count": 74,
   "metadata": {
    "collapsed": true
   },
   "outputs": [],
   "source": [
    "base_folder = '/media/michael/Engage/data/audio/alison_data/sites/sitePhotos/'\n",
    "out_size = 600\n",
    "savedir = './mapapp/assets/sites/ims/'"
   ]
  },
  {
   "cell_type": "code",
   "execution_count": 83,
   "metadata": {
    "collapsed": true
   },
   "outputs": [],
   "source": [
    "import cv2"
   ]
  },
  {
   "cell_type": "code",
   "execution_count": 97,
   "metadata": {
    "collapsed": false
   },
   "outputs": [],
   "source": [
    "from scipy.misc import imresize\n",
    "for fname in os.listdir(base_folder):\n",
    "    \n",
    "    im_sitename = fname.split('.')[0]\n",
    "    im = imread(base_folder + fname)\n",
    "    if im_sitename == 'RM143YB':\n",
    "        im = im.transpose(1, 0, 2)[::-1, :, :]\n",
    "    dst = None\n",
    "    im = cv2.resize(im, dst, fx=0.25, fy=0.25, interpolation=cv2.INTER_AREA)\n",
    "\n",
    "    imsave(savedir + im_sitename + '.jpg', im)\n",
    "    #cv2.imwrite(savedir + im_sitename + '_.jpg', im)"
   ]
  },
  {
   "cell_type": "code",
   "execution_count": 71,
   "metadata": {
    "collapsed": false
   },
   "outputs": [
    {
     "name": "stdout",
     "output_type": "stream",
     "text": [
      "['BR20EG', 'BR28LB', 'BR4', 'BR67US', 'CM167NP', 'CR0', 'CR01SG', 'CR05EF', 'CR8', 'DA5', 'E105JP', 'E10NR', 'E140EY', 'E29RR', 'E47EN', 'HA53AA', 'HA86RB', 'IG110FJ', 'IG62XL', 'KT186AP', 'N17', 'N29BX', 'N41ES', 'N88JD', 'NW1', 'NW10TA', 'NW23SH', 'NW32BZ', 'NW33RY', 'RM143YB', 'RM154HX', 'RM25EL', 'RM41LD', 'RM41PL', 'SE109EY', 'SE116DN', 'SE12RT-1', 'SE12RT-2', 'SE154EE', 'SE220SD', 'SE23', 'SE232NZ', 'SE3', 'SE41SA', 'SE6', 'SE64PL', 'SE84EA', 'SW112PN', 'SW154JY', 'SW154LA', 'SW1E6BN', 'SW1W0QP', 'SW66DU', 'TN147QB', 'TW76BE', 'TW76ER', 'W112NN', 'W1T4BQ', 'W42PH', 'W55EQ', 'W84LA', 'WC2H8LG', 'WC2N6RH']\n"
     ]
    }
   ],
   "source": [
    "print sorted(site_to_audio_fname.keys())"
   ]
  }
 ],
 "metadata": {
  "kernelspec": {
   "display_name": "Python 2",
   "language": "python",
   "name": "python2"
  },
  "language_info": {
   "codemirror_mode": {
    "name": "ipython",
    "version": 2
   },
   "file_extension": ".py",
   "mimetype": "text/x-python",
   "name": "python",
   "nbconvert_exporter": "python",
   "pygments_lexer": "ipython2",
   "version": "2.7.12"
  }
 },
 "nbformat": 4,
 "nbformat_minor": 0
}
