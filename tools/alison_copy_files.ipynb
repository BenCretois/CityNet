{
 "cells": [
  {
   "cell_type": "code",
   "execution_count": null,
   "metadata": {
    "collapsed": true
   },
   "outputs": [],
   "source": [
    "import shutil, os, random\n",
    "random.seed(10)\n",
    "\n",
    "src = '/media/michael/Elements2/Fieldwork_Data/2015/SE232NZ/SM2BAT+/'\n",
    "dst = '/home/michael/Dropbox/engage/FairbrassFirmanetal_/data/random_SE232NZ/'\n",
    "\n",
    "fnames = os.listdir(src)\n",
    "random.shuffle(fnames)\n",
    "fnames = fnames[:25]"
   ]
  },
  {
   "cell_type": "code",
   "execution_count": null,
   "metadata": {
    "collapsed": true
   },
   "outputs": [],
   "source": [
    "for fname in fnames:\n",
    "    shutil.copy(src + fname, dst)"
   ]
  }
 ],
 "metadata": {
  "kernelspec": {
   "display_name": "Python 2",
   "language": "python",
   "name": "python2"
  },
  "language_info": {
   "codemirror_mode": {
    "name": "ipython",
    "version": 2
   },
   "file_extension": ".py",
   "mimetype": "text/x-python",
   "name": "python",
   "nbconvert_exporter": "python",
   "pygments_lexer": "ipython2",
   "version": "2.7.12"
  }
 },
 "nbformat": 4,
 "nbformat_minor": 0
}
