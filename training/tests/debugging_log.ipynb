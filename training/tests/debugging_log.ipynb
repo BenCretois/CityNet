{
 "cells": [
  {
   "cell_type": "code",
   "execution_count": 1,
   "metadata": {
    "collapsed": true
   },
   "outputs": [],
   "source": [
    "%load_ext autoreload\n",
    "%autoreload 2\n",
    "%matplotlib inline\n",
    "import os\n",
    "import sys\n",
    "import numpy as np\n",
    "import matplotlib.pyplot as plt\n",
    "\n",
    "from scipy.misc import imread, imsave\n",
    "import cPickle as pickle\n",
    "import yaml\n",
    "import collections\n",
    "from tqdm import tqdm\n",
    "import time\n",
    "from scipy.ndimage.interpolation import zoom"
   ]
  },
  {
   "cell_type": "code",
   "execution_count": 110,
   "metadata": {
    "collapsed": false
   },
   "outputs": [],
   "source": [
    "height = 32\n",
    "hww = 3\n",
    "\n",
    "def np_way(spec, meds):\n",
    "    bs = spec.shape[0]  # avoid using self.batch_size as last batch may be smaller\n",
    "    X = np.zeros((bs, 4, height, 2*hww), np.float32)\n",
    "    \n",
    "\n",
    "    for count in range(10):\n",
    "        \n",
    "        #X[count, 0] = \n",
    "\n",
    "        X[count, 1] = spec[count, 0] - meds[count]\n",
    "        # X[count, 0] = (X[count, 0] - X[count, 0].mean()) / X[count, 0].std()\n",
    "        X[count, 0] = (X[count, 1] - X[count, 1].mean(1, keepdims=True)) / (X[count, 1].std(1, keepdims=True) + 0.000001)\n",
    "\n",
    "        X[count, 2] = (X[count, 1] - X[count, 1].mean()) / (X[count, 1].std()  + 0.0000001)\n",
    "        X[count, 3] = X[count, 1] / X[count, 1].max()\n",
    "\n",
    "    return X"
   ]
  },
  {
   "cell_type": "code",
   "execution_count": 111,
   "metadata": {
    "collapsed": false
   },
   "outputs": [
    {
     "name": "stdout",
     "output_type": "stream",
     "text": [
      "(10, 1, 32, 6) (10, 1, 32, 1)\n"
     ]
    }
   ],
   "source": [
    "import lasagne, lasagne.layers\n",
    "from lasagne.layers import InputLayer, ReshapeLayer\n",
    "import theano\n",
    "import theano.tensor as T\n",
    "\n",
    "class NormalisationLayer(lasagne.layers.MergeLayer):\n",
    "    def __init__(self, incomings, **kwargs):\n",
    "        super(NormalisationLayer, self).__init__(incomings, **kwargs)\n",
    "        # no parameters to define\n",
    "\n",
    "    def get_output_for(self, input, **kwargs):\n",
    "        \n",
    "        x, medians = input\n",
    "        # Subtracting logged median from each channel\n",
    "        \n",
    "        # hack to make broadcastanle\n",
    "        x = x - medians.repeat(6, 3)\n",
    "\n",
    "        flattened = x.flatten(3)  # BxCxHxW --> BxCxHW\n",
    "\n",
    "        # Rescaling each channel to be between 0 and 1\n",
    "        A = flattened / (flattened.max(2, keepdims=True) + 0.000001)\n",
    "        A = A.reshape(x.shape)\n",
    "\n",
    "        B = x# - medians\n",
    "\n",
    "        # Whitening each spectrogram\n",
    "        C = flattened - flattened.mean(2, keepdims=True)\n",
    "        C = C / (C.std(2, keepdims=True) + 0.0000001)\n",
    "        C = C.reshape(x.shape)\n",
    "\n",
    "        # Whitening each row of each spectrogram\n",
    "        D = x - x.mean(3, keepdims=True)\n",
    "        D = D / (D.std(3, keepdims=True) + 0.0000001)\n",
    "\n",
    "        return T.concatenate((D, B, C, A), axis=1)\n",
    "\n",
    "    def get_output_shape_for(self, input_shapes):\n",
    "        input_shape = input_shapes[0]\n",
    "        return (input_shape[0], input_shape[1], input_shape[2], input_shape[3])\n",
    "\n",
    "\n",
    "\n",
    "    \n",
    "def theano_way(spec, meds):\n",
    "    x_in = InputLayer((10, 1, height, 2*hww))\n",
    "    meds_in = InputLayer((10, 1, height, 1))\n",
    "\n",
    "    out = NormalisationLayer((x_in, meds_in))\n",
    "    \n",
    "    t_out = lasagne.layers.get_output(out)\n",
    "\n",
    "    fn = theano.function([x_in.input_var, meds_in.input_var], t_out)\n",
    "    return fn(spec.astype(np.float32), meds.astype(np.float32))\n",
    "\n",
    "\n",
    "print spec.shape, this_med.shape\n",
    "\n",
    "t_result = theano_way(spec, this_med)"
   ]
  },
  {
   "cell_type": "code",
   "execution_count": 112,
   "metadata": {
    "collapsed": false
   },
   "outputs": [
    {
     "name": "stdout",
     "output_type": "stream",
     "text": [
      "(10, 1, 32, 1)\n",
      "(10, 1, 32, 6)\n",
      "(10, 4, 32, 6) (10, 4, 32, 6)\n"
     ]
    }
   ],
   "source": [
    "\n",
    "np.random.seed(10)\n",
    "spec = np.random.rand(10, 1, height, 2*hww)\n",
    "this_med = spec[:, 0:1, :, 0:1]\n",
    "print this_med.shape\n",
    "print spec.shape\n",
    "\n",
    "np_result = np_way(spec, this_med)\n",
    "t_result = theano_way(spec, this_med)\n",
    "\n",
    "print np_result.shape, t_result.shape"
   ]
  },
  {
   "cell_type": "code",
   "execution_count": 113,
   "metadata": {
    "collapsed": false,
    "scrolled": false
   },
   "outputs": [
    {
     "data": {
      "image/png": "[encoded data removed]",
      "text/plain": [
       "<matplotlib.figure.Figure at 0x7f0660056b90>"
      ]
     },
     "metadata": {},
     "output_type": "display_data"
    },
    {
     "data": {
      "image/png": "[encoded data removed]",
      "text/plain": [
       "<matplotlib.figure.Figure at 0x7f06491afb50>"
      ]
     },
     "metadata": {},
     "output_type": "display_data"
    },
    {
     "data": {
      "image/png": "[encoded data removed]",
      "text/plain": [
       "<matplotlib.figure.Figure at 0x7f0648b73c50>"
      ]
     },
     "metadata": {},
     "output_type": "display_data"
    },
    {
     "data": {
      "image/png": "[encoded data removed]",
      "text/plain": [
       "<matplotlib.figure.Figure at 0x7f0660085210>"
      ]
     },
     "metadata": {},
     "output_type": "display_data"
    },
    {
     "data": {
      "image/png": "[encoded data removed]",
      "text/plain": [
       "<matplotlib.figure.Figure at 0x7f064bdbd050>"
      ]
     },
     "metadata": {},
     "output_type": "display_data"
    },
    {
     "data": {
      "image/png": "[encoded data removed]",
      "text/plain": [
       "<matplotlib.figure.Figure at 0x7f0660482f10>"
      ]
     },
     "metadata": {},
     "output_type": "display_data"
    },
    {
     "data": {
      "image/png": "[encoded data removed]",
      "text/plain": [
       "<matplotlib.figure.Figure at 0x7f06600ef050>"
      ]
     },
     "metadata": {},
     "output_type": "display_data"
    },
    {
     "data": {
      "image/png": "[encoded data removed]",
      "text/plain": [
       "<matplotlib.figure.Figure at 0x7f065b37e250>"
      ]
     },
     "metadata": {},
     "output_type": "display_data"
    },
    {
     "data": {
      "image/png": "[encoded data removed]",
      "text/plain": [
       "<matplotlib.figure.Figure at 0x7f0648a20950>"
      ]
     },
     "metadata": {},
     "output_type": "display_data"
    },
    {
     "data": {
      "image/png": "[encoded data removed]",
      "text/plain": [
       "<matplotlib.figure.Figure at 0x7f06600f9c50>"
      ]
     },
     "metadata": {},
     "output_type": "display_data"
    }
   ],
   "source": [
    "for idx in range(10):\n",
    "    A = np_result[idx, 0]\n",
    "    B = t_result[idx, 0]\n",
    "    im = np.hstack((A, B))\n",
    "    plt.figure()\n",
    "    plt.imshow(im, interpolation='nearest')"
   ]
  },
  {
   "cell_type": "code",
   "execution_count": null,
   "metadata": {
    "collapsed": true
   },
   "outputs": [],
   "source": []
  }
 ],
 "metadata": {
  "kernelspec": {
   "display_name": "Python 2",
   "language": "python",
   "name": "python2"
  },
  "language_info": {
   "codemirror_mode": {
    "name": "ipython",
    "version": 2
   },
   "file_extension": ".py",
   "mimetype": "text/x-python",
   "name": "python",
   "nbconvert_exporter": "python",
   "pygments_lexer": "ipython2",
   "version": "2.7.12"
  }
 },
 "nbformat": 4,
 "nbformat_minor": 0
}
