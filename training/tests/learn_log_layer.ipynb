{
 "cells": [
  {
   "cell_type": "code",
   "execution_count": 2,
   "metadata": {
    "collapsed": false
   },
   "outputs": [
    {
     "name": "stdout",
     "output_type": "stream",
     "text": [
      "The autoreload extension is already loaded. To reload it, use:\n",
      "  %reload_ext autoreload\n"
     ]
    }
   ],
   "source": [
    "%load_ext autoreload\n",
    "%autoreload 2\n",
    "%matplotlib inline\n",
    "import os\n",
    "import sys\n",
    "import numpy as np\n",
    "import matplotlib.pyplot as plt\n",
    "\n",
    "from scipy.misc import imread, imsave\n",
    "import cPickle as pickle\n",
    "import yaml\n",
    "import collections\n",
    "from tqdm import tqdm\n",
    "import time\n",
    "from scipy.ndimage.interpolation import zoom"
   ]
  },
  {
   "cell_type": "code",
   "execution_count": null,
   "metadata": {
    "collapsed": true
   },
   "outputs": [],
   "source": []
  },
  {
   "cell_type": "code",
   "execution_count": 20,
   "metadata": {
    "collapsed": false
   },
   "outputs": [],
   "source": [
    "import lasagne\n",
    "import lasagne.layers\n",
    "import theano\n",
    "import theano.tensor as T"
   ]
  },
  {
   "cell_type": "code",
   "execution_count": 4,
   "metadata": {
    "collapsed": false
   },
   "outputs": [
    {
     "data": {
      "image/png": "[encoded data removed]",
      "text/plain": [
       "<matplotlib.figure.Figure at 0x7f77379f3710>"
      ]
     },
     "metadata": {},
     "output_type": "display_data"
    }
   ],
   "source": [
    "def sigmoid(x):\n",
    "    return 1 / (1 + np.exp(-x))\n",
    "\n",
    "sps = np.random.randn(10000) * 1\n",
    "sps = 100*sigmoid(sps)\n",
    "plt.hist(sps, 20);"
   ]
  },
  {
   "cell_type": "code",
   "execution_count": 210,
   "metadata": {
    "collapsed": true
   },
   "outputs": [],
   "source": [
    "class NormalisationLayer(lasagne.layers.MergeLayer):\n",
    "    def __init__(self, incomings, **kwargs):\n",
    "        super(NormalisationLayer, self).__init__(incomings, **kwargs)\n",
    "        # no parameters to define\n",
    "\n",
    "    def get_output_for(self, input, **kwargs):\n",
    "        \n",
    "        x, medians = input\n",
    "        flattened = x.flatten(3)  # BxCxHxW --> BxCxHW\n",
    "        \n",
    "        # Rescaling each channel to be between 0 and 1\n",
    "        A = flattened - flattened.min(2, keepdims=True)\n",
    "        A = A / (A.max(2, keepdims=True) + 0.000001)\n",
    "        A = A.reshape(x.shape)\n",
    "        \n",
    "        # Subtracting logged median from each channel\n",
    "        B = x - medians\n",
    "        \n",
    "        # Whitening each spectrogram\n",
    "        C = flattened - flattened.mean(2, keepdims=True)\n",
    "        C = C / (C.std(2, keepdims=True) + 0.0000001)\n",
    "        C = C.reshape(x.shape)\n",
    "\n",
    "        # Whitening each row of each spectrogram\n",
    "        D = x - x.mean(3, keepdims=True)\n",
    "        D = D / (D.std(3, keepdims=True) + 0.0000001)\n",
    "        \n",
    "        return T.concatenate((A, B, C, D), axis=1)\n",
    "        \n",
    "    def get_output_shape_for(self, input_shapes):\n",
    "        input_shape = input_shapes[0]\n",
    "        return (input_shape[0], 4 * input_shape[1], input_shape[2], input_shape[3])"
   ]
  },
  {
   "cell_type": "markdown",
   "metadata": {},
   "source": [
    "## Testing normalisaing layer"
   ]
  },
  {
   "cell_type": "code",
   "execution_count": 211,
   "metadata": {
    "collapsed": false
   },
   "outputs": [
    {
     "name": "stdout",
     "output_type": "stream",
     "text": [
      "(None, 4, 2, 2) (None, 1, 2, 1)\n"
     ]
    }
   ],
   "source": [
    "from lasagne.layers import InputLayer, DimshuffleLayer\n",
    "\n",
    "net = InputLayer((None, 1, 2, 2))\n",
    "med_net = InputLayer((None, 1, 2))\n",
    "med_broadcastable = DimshuffleLayer(med_net, (0, 1, 2, 'x'))\n",
    "out = NormalisationLayer((net, med_broadcastable))\n",
    "print out.output_shape, med_broadcastable.output_shape\n",
    "out_var = lasagne.layers.get_output(out)"
   ]
  },
  {
   "cell_type": "code",
   "execution_count": 212,
   "metadata": {
    "collapsed": false
   },
   "outputs": [],
   "source": [
    "fn = theano.function([net.input_var, med_net.input_var], out_var, on_unused_input='ignore')"
   ]
  },
  {
   "cell_type": "code",
   "execution_count": 213,
   "metadata": {
    "collapsed": false
   },
   "outputs": [
    {
     "name": "stdout",
     "output_type": "stream",
     "text": [
      "[[[ 0.  1.  2.]]]\n",
      "[[[[ 0.77132064  0.02075195]\n",
      "   [ 0.63364822  0.74880385]\n",
      "   [ 0.49850702  0.22479665]]]]\n",
      "\n",
      "[[[[ 0.99999863  0.        ]\n",
      "   [ 0.81657475  0.96999902]\n",
      "   [ 0.63652325  0.27185309]]\n",
      "\n",
      "  [[ 0.77132064  0.02075195]\n",
      "   [-0.36635178 -0.25119615]\n",
      "   [-1.50149298 -1.77520335]]\n",
      "\n",
      "  [[ 1.04474103 -1.67470372]\n",
      "   [ 0.54592919  0.96315873]\n",
      "   [ 0.05628845 -0.93541324]]\n",
      "\n",
      "  [[ 0.9999997  -0.9999997 ]\n",
      "   [-0.99999774  0.99999881]\n",
      "   [ 0.99999917 -0.99999917]]]]\n"
     ]
    }
   ],
   "source": [
    "np.random.seed(10)\n",
    "x = np.random.rand(*(1, 1, 3, 2))\n",
    "meds = np.zeros((1, 1, 3)) + np.array((0, 1, 2))\n",
    "print meds\n",
    "\n",
    "x = x.astype(np.float32)\n",
    "meds = meds.astype(np.float32)\n",
    "\n",
    "print x\n",
    "print\n",
    "normed = fn(x, meds)\n",
    "print normed"
   ]
  },
  {
   "cell_type": "markdown",
   "metadata": {},
   "source": [
    "## Testing logging layer"
   ]
  },
  {
   "cell_type": "code",
   "execution_count": 259,
   "metadata": {
    "collapsed": false
   },
   "outputs": [],
   "source": [
    "class LearnLogLayer(lasagne.layers.Layer):\n",
    "    \"\"\"Learn the parameters of a logarithm log(Ax + B), repeated multiple times...\n",
    "    \n",
    "    Assumes input is of shape None x 1 x H x W\"\"\"\n",
    "    \n",
    "    def __init__(self, incoming, num_repeats, A=lasagne.init.Normal(), \n",
    "                 B=lasagne.init.Normal(), **kwargs):\n",
    "        super(LearnLogLayer, self).__init__(incoming, **kwargs)\n",
    "        self.num_repeats = num_repeats\n",
    "        self.A = self.add_param(A, (1, num_repeats, 1, 1), name='A')\n",
    "        self.B = self.add_param(B, (1, num_repeats, 1, 1), name='B')\n",
    "\n",
    "    def get_output_for(self, input, **kwargs):\n",
    "        # Using sigmoids to contrain A and B. Could use exp if want \n",
    "        # unbounded upper limit. Also, this might be undercontrained\n",
    "        # right now.\n",
    "        _A = T.nnet.sigmoid(self.A) * 100 + 0.000001\n",
    "        _B = T.nnet.sigmoid(self.B) * 100 + 0.000001\n",
    "        \n",
    "        # big hack to make input broadcastable...\n",
    "        input = input[:, 0, :, :][:, None, :, :]\n",
    "\n",
    "        return T.log(_A * input + _B)\n",
    "\n",
    "    def get_output_shape_for(self, input_shape):\n",
    "        return (input_shape[0], self.num_repeats, input_shape[2], input_shape[3])"
   ]
  },
  {
   "cell_type": "code",
   "execution_count": 260,
   "metadata": {
    "collapsed": false
   },
   "outputs": [
    {
     "name": "stdout",
     "output_type": "stream",
     "text": [
      "(None, 10, 2, 2)\n"
     ]
    }
   ],
   "source": [
    "from lasagne.layers import InputLayer, DimshuffleLayer\n",
    "\n",
    "# tensortype = T.TensorType('float32', (False, True, False, False))\n",
    "\n",
    "# inp = tensortype((None, 1, 2, 2))\n",
    "net = InputLayer((None, 1, 2, 2))#, input_var=inp)\n",
    "out = LearnLogLayer(net, 10)\n",
    "print out.output_shape\n",
    "out_var = lasagne.layers.get_output(out)"
   ]
  },
  {
   "cell_type": "code",
   "execution_count": 261,
   "metadata": {
    "collapsed": true
   },
   "outputs": [],
   "source": [
    "fn = theano.function([net.input_var], out_var, on_unused_input='ignore')"
   ]
  },
  {
   "cell_type": "code",
   "execution_count": 266,
   "metadata": {
    "collapsed": false
   },
   "outputs": [
    {
     "name": "stdout",
     "output_type": "stream",
     "text": [
      "[[[[ 0.77132064  0.02075195]\n",
      "   [ 0.63364822  0.74880385]\n",
      "   [ 0.49850702  0.22479665]]]]\n",
      "[[[[ 4.49184752  3.9381187 ]\n",
      "   [ 4.41064692  4.47901011]\n",
      "   [ 4.32396269  4.12135458]]\n",
      "\n",
      "  [[ 4.48544645  3.93436074]\n",
      "   [ 4.40454817  4.47265482]\n",
      "   [ 4.31821489  4.11655664]]\n",
      "\n",
      "  [[ 4.48629379  3.93368816]\n",
      "   [ 4.40522146  4.47347546]\n",
      "   [ 4.31868601  4.11648178]]\n",
      "\n",
      "  [[ 4.4833827   3.93187284]\n",
      "   [ 4.40243578  4.47058392]\n",
      "   [ 4.31604624  4.1142354 ]]\n",
      "\n",
      "  [[ 4.4863615   3.93348455]\n",
      "   [ 4.40525818  4.4735384 ]\n",
      "   [ 4.31868696  4.11638498]]\n",
      "\n",
      "  [[ 4.48089027  3.93639469]\n",
      "   [ 4.40074968  4.46821451]\n",
      "   [ 4.31529474  4.11600494]]\n",
      "\n",
      "  [[ 4.48403311  3.93618846]\n",
      "   [ 4.40350676  4.47129822]\n",
      "   [ 4.3176055   4.11711121]]\n",
      "\n",
      "  [[ 4.48545647  3.93684459]\n",
      "   [ 4.4048419   4.47270823]\n",
      "   [ 4.31883812  4.11806822]]\n",
      "\n",
      "  [[ 4.4841876   3.93145776]\n",
      "   [ 4.40310144  4.47136784]\n",
      "   [ 4.31654978  4.11430025]]\n",
      "\n",
      "  [[ 4.4822154   3.92919135]\n",
      "   [ 4.40109491  4.46938992]\n",
      "   [ 4.31450415  4.11214924]]]]\n"
     ]
    }
   ],
   "source": [
    "print x\n",
    "print fn(x)"
   ]
  },
  {
   "cell_type": "code",
   "execution_count": null,
   "metadata": {
    "collapsed": true
   },
   "outputs": [],
   "source": []
  }
 ],
 "metadata": {
  "kernelspec": {
   "display_name": "Python 2",
   "language": "python",
   "name": "python2"
  },
  "language_info": {
   "codemirror_mode": {
    "name": "ipython",
    "version": 2
   },
   "file_extension": ".py",
   "mimetype": "text/x-python",
   "name": "python",
   "nbconvert_exporter": "python",
   "pygments_lexer": "ipython2",
   "version": "2.7.12"
  }
 },
 "nbformat": 4,
 "nbformat_minor": 0
}
