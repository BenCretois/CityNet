{
 "cells": [
  {
   "cell_type": "code",
   "execution_count": null,
   "metadata": {
    "collapsed": true
   },
   "outputs": [],
   "source": [
    "%load_ext autoreload\n",
    "%autoreload 2\n",
    "%matplotlib inline\n",
    "import os\n",
    "import sys\n",
    "import numpy as np\n",
    "import matplotlib.pyplot as plt\n",
    "\n",
    "from scipy.misc import imread, imsave\n",
    "import cPickle as pickle\n",
    "import yaml\n",
    "import collections\n",
    "from tqdm import tqdm\n",
    "import time\n",
    "from scipy.ndimage.interpolation import zoom"
   ]
  },
  {
   "cell_type": "markdown",
   "metadata": {},
   "source": [
    "# Find chronological ordering of the HDDs"
   ]
  },
  {
   "cell_type": "code",
   "execution_count": null,
   "metadata": {
    "collapsed": false
   },
   "outputs": [],
   "source": [
    "unordered_hdds = ['/media/michael/Elements/', '/media/michael/Elements1/', '/media/michael/Elements2/']\n",
    "ordered_hdds = [None, None, None]\n",
    "\n",
    "for hdd in unordered_hdds:\n",
    "    if os.path.exists(hdd + 'Fieldwork_Data/2013/') and os.path.exists(hdd + 'Fieldwork_Data/2014/'):\n",
    "        ordered_hdds[0] = hdd\n",
    "    elif os.path.exists(hdd + 'Fieldwork_Data/2014/') and os.path.exists(hdd + 'Fieldwork_Data/2015/'):\n",
    "        ordered_hdds[1] = hdd\n",
    "    elif os.path.exists(hdd + 'Fieldwork_Data/2015') and not os.path.exists(hdd + 'Fieldwork_Data/2014'):\n",
    "        ordered_hdds[2] = hdd\n",
    "    \n",
    "print ordered_hdds"
   ]
  },
  {
   "cell_type": "markdown",
   "metadata": {},
   "source": [
    "# Define all search locations"
   ]
  },
  {
   "cell_type": "code",
   "execution_count": null,
   "metadata": {
    "collapsed": true
   },
   "outputs": [],
   "source": [
    "search_locations = [\n",
    "    (0, ordered_hdds[0] + 'Fieldwork_Data/2013/'),\n",
    "    (0, ordered_hdds[0] + 'Fieldwork_Data/2014/'),\n",
    "    (1, ordered_hdds[1] + 'Fieldwork_Data/2014/'),\n",
    "    (1, ordered_hdds[1] + 'Fieldwork_Data/2015/'),\n",
    "    (2, ordered_hdds[2] + 'Fieldwork_Data/2015/')\n",
    "]"
   ]
  },
  {
   "cell_type": "code",
   "execution_count": null,
   "metadata": {
    "collapsed": true
   },
   "outputs": [],
   "source": [
    "base_savedir = '/media/michael/SeagateData/alison_data/spectrograms/'"
   ]
  },
  {
   "cell_type": "code",
   "execution_count": null,
   "metadata": {
    "collapsed": false
   },
   "outputs": [],
   "source": [
    "import classifier\n",
    "model = classifier.Classifier()"
   ]
  },
  {
   "cell_type": "code",
   "execution_count": null,
   "metadata": {
    "collapsed": false,
    "scrolled": false
   },
   "outputs": [],
   "source": [
    "def compute_spec(loadpath, savepath):\n",
    "    model.load_wav(loadpath, loadmethod='wavfile')\n",
    "    model.compute_spec()\n",
    "    np.save(savepath, model.spec.astype(np.float16))\n",
    "    \n",
    "\n",
    "def batch_process_files(loaddir, fnames, savedir):\n",
    "\n",
    "    # Inner loop\n",
    "    for fname in fnames:\n",
    "        loadpath = loaddir + fname\n",
    "        savepath = savedir + '/' + fname.replace('.wav', '.npy')\n",
    "        compute_spec(loadpath, savepath)\n",
    "\n",
    "\n",
    "# Loop over a load of hdds\n",
    "all_fnames = []\n",
    "for hd_idx, search_location in search_locations:\n",
    "\n",
    "    for root, dirnames, filenames in os.walk(search_location):\n",
    "\n",
    "        filtered_fnames = [fname for fname in filenames\n",
    "                          if 'BAT+' not in root and 'Random' not in root and fname.endswith('.wav')]\n",
    "\n",
    "        if len(filtered_fnames):\n",
    "            sds\n",
    "            all_fnames.extend(filtered_fnames)\n",
    "\n",
    "            savedir = base_savedir + ('/%d/' % hd_idx) + root.split('Fieldwork_Data')[1]\n",
    "\n",
    "            if not os.path.exists(savedir):\n",
    "                os.makedirs(savedir)\n",
    "\n",
    "            tic = time.time()\n",
    "            batch_process_files(root + '/', filtered_fnames[:6], savedir)\n",
    "            print time.time() - tic\n",
    "            sds\n",
    "\n",
    "\n",
    "print len(all_fnames)\n"
   ]
  },
  {
   "cell_type": "code",
   "execution_count": null,
   "metadata": {
    "collapsed": true
   },
   "outputs": [],
   "source": [
    "savedir = base_savedir + ('/%d/' % hd_idx) + root.split('Fieldwork_Data')[1]\n",
    "\n",
    "if not os.path.exists(savedir):\n",
    "    os.makedirs(savedir)\n",
    "\n",
    "tic = time.time()\n",
    "batch_process_files(root + '/', filtered_fnames[:6], savedir)\n",
    "print time.time() - tic"
   ]
  },
  {
   "cell_type": "code",
   "execution_count": null,
   "metadata": {
    "collapsed": true
   },
   "outputs": [],
   "source": [
    "sds"
   ]
  },
  {
   "cell_type": "code",
   "execution_count": null,
   "metadata": {
    "collapsed": false
   },
   "outputs": [],
   "source": [
    "\n",
    "\n",
    "def proc_file(paths):\n",
    "    print paths\n",
    "#     loadpath, savepath = paths\n",
    "# #     compute_spec(loadpath, savepath)\n",
    "#     model.load_wav(loadpath, loadmethod='wavfile')\n",
    "#     model.compute_spec()\n",
    "#     np.save(savepath, model.spec.astype(np.float16))\n",
    "\n",
    "\n",
    "from multiprocessing import Pool\n",
    "\n",
    "def batch_process_files(loaddir, fnames, savedir):\n",
    "    \n",
    "    # Inner loop\n",
    "    paths = []\n",
    "    for fname in filtered_fnames:\n",
    "        loadpath = loaddir + fname\n",
    "        savepath = savedir + fname.replace('.wav', '.npy')\n",
    "        paths.append([loadpath, savepath])\n",
    "        \n",
    "    p = Pool(5)\n",
    "    p.apply_async(proc_file, paths)\n",
    "\n",
    "    \n",
    "tic = time.time()\n",
    "batch_process_files(root + '/', filtered_fnames[:6], savedir)\n",
    "print time.time() - tic"
   ]
  }
 ],
 "metadata": {
  "kernelspec": {
   "display_name": "Python 2",
   "language": "python",
   "name": "python2"
  },
  "language_info": {
   "codemirror_mode": {
    "name": "ipython",
    "version": 2
   },
   "file_extension": ".py",
   "mimetype": "text/x-python",
   "name": "python",
   "nbconvert_exporter": "python",
   "pygments_lexer": "ipython2",
   "version": "2.7.12"
  }
 },
 "nbformat": 4,
 "nbformat_minor": 0
}
