{
 "cells": [
  {
   "cell_type": "code",
   "execution_count": 8,
   "metadata": {
    "collapsed": false
   },
   "outputs": [],
   "source": [
    "import subprocess as sp\n",
    "\n",
    "run_types = {}\n",
    "run_types['biotic'] = [\n",
    "    'ensemble_train/0',\n",
    "    'ensemble_train/1',\n",
    "    'ensemble_train/2',\n",
    "    'ensemble_train/3',\n",
    "    'ensemble_train/4',\n",
    "    ]\n",
    "\n",
    "run_types['anthrop'] = [\n",
    "    'ensemble_train_anthrop/0',\n",
    "    'ensemble_train_anthrop/1',\n",
    "    'ensemble_train_anthrop/2',\n",
    "    'ensemble_train_anthrop/3',\n",
    "    'ensemble_train_anthrop/4',\n",
    "    ]\n",
    "\n",
    "for classname in run_types.keys():\n",
    "    for run_type in run_types[classname]:\n",
    "        print \"--- \", classname, run_type, \"---\"\n",
    "        sp.call(['python', '../../evaluation/04_analyse_results.py', \n",
    "                 run_type, classname])"
   ]
  },
  {
   "cell_type": "code",
   "execution_count": 9,
   "metadata": {
    "collapsed": true
   },
   "outputs": [],
   "source": [
    "base = '/media/michael/Engage/data/audio/alison_data/golden_set/predictions/'"
   ]
  },
  {
   "cell_type": "code",
   "execution_count": 22,
   "metadata": {
    "collapsed": false
   },
   "outputs": [
    {
     "name": "stdout",
     "output_type": "stream",
     "text": [
      "['avg_precision', 'f1', 'unbalanced_accuracy', 'balanced_accuracy', 'recall', 'recall_at_095_prec', 'precision']\n",
      "['avg_precision', 'f1', 'unbalanced_accuracy', 'balanced_accuracy', 'recall', 'recall_at_095_prec', 'precision']\n",
      "['avg_precision', 'f1', 'unbalanced_accuracy', 'balanced_accuracy', 'recall', 'recall_at_095_prec', 'precision']\n",
      "['avg_precision', 'f1', 'unbalanced_accuracy', 'balanced_accuracy', 'recall', 'recall_at_095_prec', 'precision']\n",
      "['avg_precision', 'f1', 'unbalanced_accuracy', 'balanced_accuracy', 'recall', 'recall_at_095_prec', 'precision']\n",
      "['avg_precision', 'f1', 'unbalanced_accuracy', 'balanced_accuracy', 'recall', 'recall_at_095_prec', 'precision']\n",
      "['avg_precision', 'f1', 'unbalanced_accuracy', 'balanced_accuracy', 'recall', 'recall_at_095_prec', 'precision']\n",
      "['avg_precision', 'f1', 'unbalanced_accuracy', 'balanced_accuracy', 'recall', 'recall_at_095_prec', 'precision']\n",
      "['avg_precision', 'f1', 'unbalanced_accuracy', 'balanced_accuracy', 'recall', 'recall_at_095_prec', 'precision']\n",
      "['avg_precision', 'f1', 'unbalanced_accuracy', 'balanced_accuracy', 'recall', 'recall_at_095_prec', 'precision']\n"
     ]
    }
   ],
   "source": [
    "import yaml\n",
    "import numpy as np\n",
    "import collections\n",
    "\n",
    "accs_rec = collections.defaultdict(list)\n",
    "for classname in ['biotic', 'anthrop']:\n",
    "\n",
    "    for run_type in run_types[classname]:\n",
    "        scores = yaml.load(open(base + run_type + '/' + classname + '/analysis/scores.yaml'))\n",
    "        print scores.keys()\n",
    "        tup = (scores['recall_at_095_prec'], scores['balanced_accuracy'], scores['avg_precision'], scores['f1'])\n",
    "        accs_rec[classname].append(tup)"
   ]
  },
  {
   "cell_type": "code",
   "execution_count": 23,
   "metadata": {
    "collapsed": false
   },
   "outputs": [
    {
     "name": "stdout",
     "output_type": "stream",
     "text": [
      "The autoreload extension is already loaded. To reload it, use:\n",
      "  %reload_ext autoreload\n"
     ]
    },
    {
     "data": {
      "text/plain": [
       "[<matplotlib.lines.Line2D at 0x7fca239b1250>,\n",
       " <matplotlib.lines.Line2D at 0x7fca239b1150>,\n",
       " <matplotlib.lines.Line2D at 0x7fca239b1410>,\n",
       " <matplotlib.lines.Line2D at 0x7fca239b1e50>]"
      ]
     },
     "execution_count": 23,
     "metadata": {},
     "output_type": "execute_result"
    },
    {
     "data": {
      "image/png": "[encoded data removed]",
      "text/plain": [
       "<matplotlib.figure.Figure at 0x7fca239ecf10>"
      ]
     },
     "metadata": {},
     "output_type": "display_data"
    },
    {
     "data": {
      "image/png": "[encoded data removed]",
      "text/plain": [
       "<matplotlib.figure.Figure at 0x7fca239ec2d0>"
      ]
     },
     "metadata": {},
     "output_type": "display_data"
    }
   ],
   "source": [
    "%load_ext autoreload\n",
    "%autoreload 2\n",
    "%matplotlib inline\n",
    "import matplotlib.pyplot as plt\n",
    "\n",
    "plt.plot(accs_rec['biotic'])\n",
    "plt.figure()\n",
    "plt.plot(accs_rec['anthrop'])"
   ]
  },
  {
   "cell_type": "markdown",
   "metadata": {},
   "source": [
    "biotic: 0\n",
    "anthrop: 3"
   ]
  }
 ],
 "metadata": {
  "kernelspec": {
   "display_name": "Python 2",
   "language": "python",
   "name": "python2"
  },
  "language_info": {
   "codemirror_mode": {
    "name": "ipython",
    "version": 2
   },
   "file_extension": ".py",
   "mimetype": "text/x-python",
   "name": "python",
   "nbconvert_exporter": "python",
   "pygments_lexer": "ipython2",
   "version": "2.7.12"
  }
 },
 "nbformat": 4,
 "nbformat_minor": 0
}
