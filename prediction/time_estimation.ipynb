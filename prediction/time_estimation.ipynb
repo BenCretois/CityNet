{
 "cells": [
  {
   "cell_type": "code",
   "execution_count": 56,
   "metadata": {
    "collapsed": false
   },
   "outputs": [
    {
     "name": "stdout",
     "output_type": "stream",
     "text": [
      "The autoreload extension is already loaded. To reload it, use:\n",
      "  %reload_ext autoreload\n"
     ]
    }
   ],
   "source": [
    "%load_ext autoreload\n",
    "%autoreload 2\n",
    "%matplotlib inline\n",
    "import os\n",
    "import sys\n",
    "import numpy as np\n",
    "from glob import glob"
   ]
  },
  {
   "cell_type": "code",
   "execution_count": 68,
   "metadata": {
    "collapsed": false,
    "scrolled": false
   },
   "outputs": [
    {
     "name": "stdout",
     "output_type": "stream",
     "text": [
      "32223\n"
     ]
    }
   ],
   "source": [
    "places = ['/media/michael/Elements/Fieldwork_Data/',\n",
    "         '/media/michael/Elements1/Fieldwork_Data/',\n",
    "          '/media/michael/Elements2/Fieldwork_Data/']\n",
    "\n",
    "wavs = 0\n",
    "all_fnames = []\n",
    "\n",
    "for place in places:\n",
    "    assert(os.path.exists(place))\n",
    "    for root, dirnames, filenames in os.walk(place):\n",
    "        if 'BAT+' in root or 'Random' in root:\n",
    "            continue\n",
    "            \n",
    "        if '/2013/' not in root and '/2014/' not in root and '/2015/' not in root:\n",
    "            continue\n",
    "\n",
    "        filtered_fnames = [fname for fname in filenames\n",
    "                          if 'BAT+' not in root and 'Random' not in root and fname.endswith('.wav')]\n",
    "        wavs += len(filtered_fnames)\n",
    "        all_fnames.extend(filtered_fnames)\n",
    "print wavs\n",
    "#     print len(fnames)"
   ]
  },
  {
   "cell_type": "code",
   "execution_count": 69,
   "metadata": {
    "collapsed": false
   },
   "outputs": [
    {
     "name": "stdout",
     "output_type": "stream",
     "text": [
      "8.61517708333\n"
     ]
    }
   ],
   "source": [
    "s_per_file = (7.7 * 3)\n",
    "cores = 1\n",
    "\n",
    "total_s = s_per_file * wavs\n",
    "total_days = (total_s / (3600 * 24))\n",
    "total_days /= cores\n",
    "\n",
    "print total_days"
   ]
  },
  {
   "cell_type": "code",
   "execution_count": 59,
   "metadata": {
    "collapsed": false
   },
   "outputs": [
    {
     "data": {
      "text/plain": [
       "43383"
      ]
     },
     "execution_count": 59,
     "metadata": {},
     "output_type": "execute_result"
    }
   ],
   "source": [
    "len(set(all_fnames))"
   ]
  },
  {
   "cell_type": "code",
   "execution_count": 60,
   "metadata": {
    "collapsed": false
   },
   "outputs": [
    {
     "name": "stdout",
     "output_type": "stream",
     "text": [
      "105.5698368\n"
     ]
    }
   ],
   "source": [
    "# spec space estimate\n",
    "one_file_bytes = 32 * 37468 * 2\n",
    "all_bytes = one_file_bytes * wavs\n",
    "all_gb = all_bytes / 1e9\n",
    "print all_gb"
   ]
  },
  {
   "cell_type": "code",
   "execution_count": 61,
   "metadata": {
    "collapsed": false
   },
   "outputs": [
    {
     "data": {
      "text/plain": [
       "1.0700520833333333"
      ]
     },
     "execution_count": 61,
     "metadata": {},
     "output_type": "execute_result"
    }
   ],
   "source": [
    "((wavs * 2.1) / 3600) / 24"
   ]
  },
  {
   "cell_type": "code",
   "execution_count": 62,
   "metadata": {
    "collapsed": false
   },
   "outputs": [
    {
     "data": {
      "text/plain": [
       "1.0201163194444443"
      ]
     },
     "execution_count": 62,
     "metadata": {},
     "output_type": "execute_result"
    }
   ],
   "source": [
    "(wavs * (0.002 + 2)) / (3600 * 24)"
   ]
  },
  {
   "cell_type": "code",
   "execution_count": 63,
   "metadata": {
    "collapsed": false
   },
   "outputs": [
    {
     "data": {
      "text/plain": [
       "105.5733588"
      ]
     },
     "execution_count": 63,
     "metadata": {},
     "output_type": "execute_result"
    }
   ],
   "source": [
    "(2398032 * wavs) / 1e9"
   ]
  },
  {
   "cell_type": "code",
   "execution_count": null,
   "metadata": {
    "collapsed": true
   },
   "outputs": [],
   "source": []
  }
 ],
 "metadata": {
  "kernelspec": {
   "display_name": "Python 2",
   "language": "python",
   "name": "python2"
  },
  "language_info": {
   "codemirror_mode": {
    "name": "ipython",
    "version": 2
   },
   "file_extension": ".py",
   "mimetype": "text/x-python",
   "name": "python",
   "nbconvert_exporter": "python",
   "pygments_lexer": "ipython2",
   "version": "2.7.12"
  }
 },
 "nbformat": 4,
 "nbformat_minor": 0
}
