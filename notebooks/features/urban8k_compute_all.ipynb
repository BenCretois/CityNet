{
 "cells": [
  {
   "cell_type": "code",
   "execution_count": 1,
   "metadata": {
    "collapsed": false
   },
   "outputs": [],
   "source": [
    "from scipy.io import wavfile\n",
    "import numpy as np\n",
    "import pandas as pd\n",
    "from oma_spec import gen_mag_spectrogram_mod\n",
    "from scipy.ndimage.interpolation import zoom\n",
    "import cPickle as pickle\n",
    "\n",
    "base = '/media/michael/Seagate/engage/urban8k/'\n",
    "metadata = pd.read_csv(base + '/UrbanSound8K/metadata/UrbanSound8K.csv')"
   ]
  },
  {
   "cell_type": "code",
   "execution_count": 2,
   "metadata": {
    "collapsed": false
   },
   "outputs": [
    {
     "name": "stderr",
     "output_type": "stream",
     "text": [
      "/home/michael/anaconda/lib/python2.7/site-packages/ipykernel/__main__.py:18: VisibleDeprecationWarning: using a non-integer number instead of an integer will result in an error in the future\n",
      "/home/michael/anaconda/lib/python2.7/site-packages/numpy/lib/shape_base.py:873: VisibleDeprecationWarning: using a non-integer number instead of an integer will result in an error in the future\n",
      "  return c.reshape(shape_out)\n",
      "/home/michael/anaconda/lib/python2.7/site-packages/scipy/io/wavfile.py:42: WavFileWarning: Unknown wave file format\n",
      "  warnings.warn(\"Unknown wave file format\", WavFileWarning)\n"
     ]
    }
   ],
   "source": [
    "required_height = 224\n",
    "\n",
    "for fold in range(1, 11):\n",
    "    X = []\n",
    "    fold_meta = metadata[metadata['fold'] == fold]\n",
    "\n",
    "    for row in fold_meta.iterrows():    \n",
    "        loadpath = base + 'UrbanSound8K/audio/fold%d/%s' % (\n",
    "            row[1]['fold'], row[1]['slice_file_name'])\n",
    "\n",
    "        # reading wav and force mono\n",
    "        sr, wav = wavfile.read(loadpath)\n",
    "        if wav.ndim == 2: wav = wav[:, 0]\n",
    "\n",
    "        # force to be 4 seconds long\n",
    "        repeats = np.ceil(4.0/(wav.shape[0]/float(sr)))\n",
    "        required_units = sr * 4.0\n",
    "        wav = np.tile(wav, repeats)[:required_units]\n",
    "\n",
    "        # generating spectrogram and doing a low-pass filter\n",
    "        spec = gen_mag_spectrogram_mod(wav, sr, 0.04)\n",
    "\n",
    "        # padding or cropping to required shape\n",
    "        if spec.shape[0] < required_height:\n",
    "            pad = np.zeros((required_height - spec.shape[0], spec.shape[1]))\n",
    "            spec = np.vstack((spec, pad))\n",
    "        elif spec.shape[0] > required_height:\n",
    "            spec = spec[:required_height]\n",
    "\n",
    "        # resizing\n",
    "        factor = (224.0/spec.shape[0], 224.0/spec.shape[1])\n",
    "        spec = zoom(spec, factor, order=1)\n",
    "        X.append(spec)\n",
    "\n",
    "    # saving\n",
    "    savepath = base + 'specs/fold%d.pkl' % fold\n",
    "    tosave = {'X': X, 'classID': fold_meta['classID'], 'class': fold_meta['class']}\n",
    "    pickle.dump(tosave, open(savepath, 'w'), -1)"
   ]
  },
  {
   "cell_type": "code",
   "execution_count": 10,
   "metadata": {
    "collapsed": false
   },
   "outputs": [
    {
     "name": "stdout",
     "output_type": "stream",
     "text": [
      "[  4.08480759e-02  -5.83154627e-02   1.82654872e-02  -1.94148262e-01\n",
      "   1.59455968e-01  -5.44458109e-02  -1.00938341e-01  -1.23143515e-01\n",
      "  -3.17000883e-02  -1.43235687e-01  -2.48194638e-02   1.01153552e-01\n",
      "  -3.16286939e-02  -1.80417604e-01   6.76418870e-02   1.37170912e-01\n",
      "   4.97393339e-02   5.00280013e-02  -2.12403204e-01  -4.56284217e-02\n",
      "  -2.26952756e-01  -2.78554353e-02  -2.90242499e-02   3.54965059e-02\n",
      "  -1.46158195e-01  -3.47729866e-02  -3.61761178e-02  -1.08996364e-01\n",
      "  -1.84600443e-03  -6.92052211e-02   1.15057534e-01  -3.81966693e-02\n",
      "  -1.55295388e-02  -1.54077618e-01   5.23570148e-02   1.19465478e-01\n",
      "   9.65533122e-02  -2.52628670e-02  -7.51170516e-03   2.05267146e-01\n",
      "  -1.45400734e-02  -3.72065385e-03   7.81131346e-02  -7.10841390e-03\n",
      "   1.27566893e-01  -4.59285718e-02  -1.20344231e-01   1.09866852e-01\n",
      "  -7.86655874e-02  -1.09372089e-01  -1.75785580e-01  -6.23361217e-02\n",
      "   2.56738065e-02  -1.30097509e-01   1.00350506e-01   3.50878103e-01\n",
      "  -8.00187200e-03  -5.02681816e-02   1.72209462e-01  -1.00957987e-01\n",
      "   1.14394198e-01  -9.60642336e-02  -1.04497306e-01  -5.22012110e-02\n",
      "  -1.38364513e-01  -2.37160805e-02   5.39841724e-02   2.01277416e-02\n",
      "  -8.48104260e-02  -6.69324484e-03  -1.29669181e-01   1.14771982e-01\n",
      "   1.01426908e-01  -2.37270353e-02  -9.11055757e-02   6.94036471e-02\n",
      "  -1.98147694e-01   7.60738468e-02  -5.66648262e-02  -9.29504892e-02\n",
      "   6.65552210e-02  -2.64963564e-02   6.10281062e-02  -3.49479377e-02\n",
      "   7.38036831e-02  -8.26068104e-02  -1.64185927e-01  -4.83172109e-03\n",
      "   7.70352660e-02   4.15318187e-02   6.01840637e-02   3.59502247e-02\n",
      "   6.03622614e-02   3.68842628e-03   3.04274825e-02   5.82351083e-02\n",
      "   6.03569984e-02  -3.88220520e-05  -2.27252052e-01   2.73870144e-02]\n"
     ]
    }
   ],
   "source": []
  },
  {
   "cell_type": "code",
   "execution_count": null,
   "metadata": {
    "collapsed": true
   },
   "outputs": [],
   "source": []
  },
  {
   "cell_type": "code",
   "execution_count": null,
   "metadata": {
    "collapsed": true
   },
   "outputs": [],
   "source": []
  },
  {
   "cell_type": "code",
   "execution_count": null,
   "metadata": {
    "collapsed": true
   },
   "outputs": [],
   "source": []
  }
 ],
 "metadata": {
  "kernelspec": {
   "display_name": "Python 2",
   "language": "python",
   "name": "python2"
  },
  "language_info": {
   "codemirror_mode": {
    "name": "ipython",
    "version": 2
   },
   "file_extension": ".py",
   "mimetype": "text/x-python",
   "name": "python",
   "nbconvert_exporter": "python",
   "pygments_lexer": "ipython2",
   "version": "2.7.11"
  }
 },
 "nbformat": 4,
 "nbformat_minor": 0
}
