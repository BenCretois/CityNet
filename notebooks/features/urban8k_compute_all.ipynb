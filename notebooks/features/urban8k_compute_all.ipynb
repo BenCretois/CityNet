{
 "cells": [
  {
   "cell_type": "code",
   "execution_count": 1,
   "metadata": {
    "collapsed": false
   },
   "outputs": [
    {
     "name": "stderr",
     "output_type": "stream",
     "text": [
      "/home/michael/anaconda/lib/python2.7/site-packages/matplotlib/__init__.py:872: UserWarning: axes.color_cycle is deprecated and replaced with axes.prop_cycle; please use the latter.\n",
      "  warnings.warn(self.msg_depr % (key, alt_key))\n"
     ]
    }
   ],
   "source": [
    "from scipy.io import wavfile\n",
    "import numpy as np\n",
    "import pandas as pd\n",
    "from oma_spec import gen_mag_spectrogram_mod\n",
    "from scipy.ndimage.interpolation import zoom\n",
    "import cPickle as pickle\n",
    "import os\n",
    "import librosa\n",
    "base = '/media/michael/Seagate/engage/urban8k/'\n",
    "metadata = pd.read_csv(base + '/UrbanSound8K/metadata/UrbanSound8K.csv')\n",
    "\n",
    "# os.makedirs(base + 'specs_librosa')"
   ]
  },
  {
   "cell_type": "code",
   "execution_count": 3,
   "metadata": {
    "collapsed": true
   },
   "outputs": [],
   "source": [
    "import pandas as pd\n",
    "\n",
    "def _extract_segments(args):\n",
    "    clip, filename, fold, category, category_name, augmented, frames = args\n",
    "\n",
    "    # Due to an off-by-one bug which has not been caught earlier,\n",
    "    # actually both variants (long and short) use the same\n",
    "    # overlap setting (half of window size) - whereas different settings\n",
    "    # were mentioned in the paper.\n",
    "    #\n",
    "    # The code below has been already cleaned up to reflect those changes.\n",
    "    #\n",
    "    # Apart from that, for reproducibility purposes it is required that\n",
    "    # librosa v0.3.1 is used, as further versions drastically change\n",
    "    # the delta computations.\n",
    "    \n",
    "    FRAMES_PER_SEGMENT = frames - 1  # 41 frames ~= 950 ms segment length @ 22050 Hz\n",
    "    WINDOW_SIZE = 512 * FRAMES_PER_SEGMENT   # 23 ms per frame @ 22050 Hz\n",
    "    STEP_SIZE = 512 * FRAMES_PER_SEGMENT // 2\n",
    "    BANDS = 60\n",
    "    \n",
    "    s = 0\n",
    "    segments = []\n",
    "\n",
    "    normalization_factor = 1 / np.max(np.abs(clip)) \n",
    "    clip = clip * normalization_factor\n",
    "\n",
    "    while len(clip[s * STEP_SIZE:s * STEP_SIZE + WINDOW_SIZE]) == WINDOW_SIZE:\n",
    "        signal = clip[s * STEP_SIZE:s * STEP_SIZE + WINDOW_SIZE]\n",
    "\n",
    "        melspec = librosa.feature.melspectrogram(signal, sr=22050, n_fft=1024, hop_length=512, n_mels=BANDS)\n",
    "        logspec = librosa.logamplitude(melspec)\n",
    "        logspec = logspec.T.flatten()[:, np.newaxis].T\n",
    "        logspec = pd.DataFrame(data=logspec, dtype='float32', index=[0], columns=list('logspec_b{}_f{}'.format(i % BANDS, i / BANDS) for i in range(np.shape(logspec)[1])))\n",
    "\n",
    "        if np.mean(logspec.as_matrix()) > -70.0:   # drop silent frames\n",
    "            segment_meta = pd.DataFrame({'filename': filename, 'fold': fold, 'category': category, 'category_name': category_name,\n",
    "                                        's_begin': s * STEP_SIZE, 's_end': s * STEP_SIZE + WINDOW_SIZE, 'augmented': augmented}, index=[0])\n",
    "            segments.append(pd.concat((segment_meta, logspec), axis=1))\n",
    "        s = s + 1\n",
    "\n",
    "    print len(segments)\n",
    "    print segments[0].shape\n",
    "    print segments[1].shape\n",
    "    segments = pd.concat(segments, ignore_index=True)\n",
    "    return segments"
   ]
  },
  {
   "cell_type": "code",
   "execution_count": 9,
   "metadata": {
    "collapsed": false
   },
   "outputs": [
    {
     "ename": "NameError",
     "evalue": "name 'sds' is not defined",
     "output_type": "error",
     "traceback": [
      "\u001b[1;31m---------------------------------------------------------------------------\u001b[0m",
      "\u001b[1;31mNameError\u001b[0m                                 Traceback (most recent call last)",
      "\u001b[1;32m<ipython-input-9-61c0808c5517>\u001b[0m in \u001b[0;36m<module>\u001b[1;34m()\u001b[0m\n\u001b[0;32m     25\u001b[0m \u001b[1;33m\u001b[0m\u001b[0m\n\u001b[0;32m     26\u001b[0m         \u001b[0mX\u001b[0m\u001b[1;33m.\u001b[0m\u001b[0mappend\u001b[0m\u001b[1;33m(\u001b[0m\u001b[0ms\u001b[0m\u001b[1;33m)\u001b[0m\u001b[1;33m\u001b[0m\u001b[0m\n\u001b[1;32m---> 27\u001b[1;33m         \u001b[0msds\u001b[0m\u001b[1;33m\u001b[0m\u001b[0m\n\u001b[0m\u001b[0;32m     28\u001b[0m \u001b[1;31m#         # padding or cropping to required shape\u001b[0m\u001b[1;33m\u001b[0m\u001b[1;33m\u001b[0m\u001b[0m\n\u001b[0;32m     29\u001b[0m \u001b[1;31m#         if spec.shape[0] < required_height:\u001b[0m\u001b[1;33m\u001b[0m\u001b[1;33m\u001b[0m\u001b[0m\n",
      "\u001b[1;31mNameError\u001b[0m: name 'sds' is not defined"
     ]
    }
   ],
   "source": [
    "required_height = 224\n",
    "SAMPLERATE = 22050\n",
    "N_FFT = 2048\n",
    "HOP_LENGTH = 1024 # 512\n",
    "N_MELS = 32 # 128\n",
    "n_samples = SAMPLERATE * 4 # each clip is padded to 4 seconds (the maximal length)\n",
    "\n",
    "for fold in range(1, 11):\n",
    "    X = []\n",
    "    fold_meta = metadata[metadata['fold'] == fold]\n",
    "\n",
    "    for row in fold_meta.iterrows():    \n",
    "        loadpath = base + 'UrbanSound8K/audio/fold%d/%s' % (\n",
    "            row[1]['fold'], row[1]['slice_file_name'])\n",
    "\n",
    "        # reading wav and force mono\n",
    "        y, sr = librosa.core.load(loadpath, sr=SAMPLERATE, mono=True)\n",
    "        y = y[:n_samples] # truncate to max length of 4 seconds if necessary\n",
    "        \n",
    "        y_padded = np.zeros((n_samples,), dtype='float32')\n",
    "        offset = (n_samples - y.shape[0]) // 2\n",
    "        y_padded[offset:offset + y.shape[0]] = y\n",
    "        \n",
    "        s = librosa.feature.melspectrogram(y_padded, sr=SAMPLERATE, n_fft=N_FFT, hop_length=HOP_LENGTH, n_mels=N_MELS)\n",
    "\n",
    "        X.append(s)\n",
    "        sds\n",
    "#         # padding or cropping to required shape\n",
    "#         if spec.shape[0] < required_height:\n",
    "#             pad = np.zeros((required_height - spec.shape[0], spec.shape[1]))\n",
    "#             spec = np.vstack((spec, pad))\n",
    "#         elif spec.shape[0] > required_height:\n",
    "#             spec = spec[:required_height]\n",
    "\n",
    "#         # resizing\n",
    "#         factor = (224.0/spec.shape[0], 224.0/spec.shape[1])\n",
    "#         spec = zoom(spec, factor, order=1)\n",
    "#         X.append(spec)\n",
    "\n",
    "    # saving\n",
    "    savepath = base + 'specs_librosa/fold%d.pkl' % fold\n",
    "    tosave = {'X': X, 'classID': fold_meta['classID'], 'class': fold_meta['class']}\n",
    "    pickle.dump(tosave, open(savepath, 'w'), -1)"
   ]
  },
  {
   "cell_type": "code",
   "execution_count": 13,
   "metadata": {
    "collapsed": false
   },
   "outputs": [
    {
     "data": {
      "image/png": "[encoded data removed]",
      "text/plain": [
       "<matplotlib.figure.Figure at 0x7f84af07b9d0>"
      ]
     },
     "metadata": {},
     "output_type": "display_data"
    }
   ],
   "source": [
    "%matplotlib inline \n",
    "import matplotlib.pyplot as plt\n",
    "plt.imshow(np.log(1+s))\n",
    "plt.gca().invert_yaxis()"
   ]
  },
  {
   "cell_type": "code",
   "execution_count": null,
   "metadata": {
    "collapsed": true
   },
   "outputs": [],
   "source": []
  },
  {
   "cell_type": "code",
   "execution_count": null,
   "metadata": {
    "collapsed": true
   },
   "outputs": [],
   "source": []
  },
  {
   "cell_type": "code",
   "execution_count": null,
   "metadata": {
    "collapsed": true
   },
   "outputs": [],
   "source": []
  }
 ],
 "metadata": {
  "kernelspec": {
   "display_name": "Python 2",
   "language": "python",
   "name": "python2"
  },
  "language_info": {
   "codemirror_mode": {
    "name": "ipython",
    "version": 2
   },
   "file_extension": ".py",
   "mimetype": "text/x-python",
   "name": "python",
   "nbconvert_exporter": "python",
   "pygments_lexer": "ipython2",
   "version": "2.7.11"
  }
 },
 "nbformat": 4,
 "nbformat_minor": 0
}
