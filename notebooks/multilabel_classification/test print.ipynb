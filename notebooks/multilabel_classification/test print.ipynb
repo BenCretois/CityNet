{
 "cells": [
  {
   "cell_type": "code",
   "execution_count": 31,
   "metadata": {
    "collapsed": false
   },
   "outputs": [
    {
     "name": "stdout",
     "output_type": "stream",
     "text": [
      "Epoch 3 of 20 took 0.000s\n",
      "  training loss:\t\t0.060000\n",
      "  validation loss:\t\t0.063333\n",
      "  validation accuracy:\t\t0.33 %\n",
      "  normalised accuracy:\t\t80.00 %\n"
     ]
    }
   ],
   "source": [
    "epoch = 2\n",
    "num_epochs = 20\n",
    "import time\n",
    "start_time = time.time()\n",
    "train_err = 1.2\n",
    "train_batches = 20\n",
    "val_err = 1.9\n",
    "val_acc = 0.1\n",
    "val_batches = 30\n",
    "norm_acc = 0.8\n",
    "\n",
    "\n",
    "\n",
    "# Then we print the results for this epoch:\n",
    "print(\"Epoch {} of {} took {:.3f}s\".format(\n",
    "    epoch + 1, num_epochs, time.time() - start_time))\n",
    "print(\"  training loss:\\t\\t{:.6f}\".format(train_err / train_batches))\n",
    "print(\"  validation loss:\\t\\t{:.6f}\".format(val_err / val_batches))\n",
    "print(\"  validation accuracy:\\t\\t{:.2f} %\".format(\n",
    "    val_acc / val_batches * 100))\n",
    "print(\"  normalised accuracy:\\t\\t{:.2f} %\".format(norm_acc * 100))\n"
   ]
  },
  {
   "cell_type": "code",
   "execution_count": 33,
   "metadata": {
    "collapsed": false
   },
   "outputs": [
    {
     "name": "stdout",
     "output_type": "stream",
     "text": [
      "     epoch   train loss   valid loss   train/val    valid acc     dur\n",
      "   -------  -----------  -----------  -----------  -----------  -------\n",
      "     2        100.0000     0.0633       1578.9474    0.0033     18.5193       \n"
     ]
    }
   ],
   "source": [
    "train_loss = train_err / train_batches\n",
    "val_loss = val_err / val_batches\n",
    "\n",
    "print \"\"\"     epoch   train loss   valid loss   train/val    valid acc     dur\n",
    "   -------  -----------  -----------  -----------  -----------  -------\"\"\"\n",
    "print \"     \" + str(epoch).ljust(8),\n",
    "print (\"%0.04f\" % (train_loss)).ljust(12),\n",
    "print (\"%0.04f\" % (val_loss)).ljust(12),\n",
    "print (\"%0.04f\" % (train_loss / val_loss)).ljust(12),\n",
    "print (\"%0.04f\" % (val_acc / val_batches)).ljust(10),\n",
    "print (\"%0.04f\" % (time.time() - start_time)).ljust(14),\n",
    "\n",
    "#       1       0.47646       0.28758      1.65676      0.91646  254.28s\n",
    "#       2       0.27887       0.26290      1.06076      0.92394  253.56s\n",
    "#       3       \""
   ]
  }
 ],
 "metadata": {
  "kernelspec": {
   "display_name": "Python 2",
   "language": "python",
   "name": "python2"
  },
  "language_info": {
   "codemirror_mode": {
    "name": "ipython",
    "version": 2
   },
   "file_extension": ".py",
   "mimetype": "text/x-python",
   "name": "python",
   "nbconvert_exporter": "python",
   "pygments_lexer": "ipython2",
   "version": "2.7.10"
  }
 },
 "nbformat": 4,
 "nbformat_minor": 0
}
