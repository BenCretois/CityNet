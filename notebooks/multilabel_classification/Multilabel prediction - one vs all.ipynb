{
 "cells": [
  {
   "cell_type": "code",
   "execution_count": 2,
   "metadata": {
    "collapsed": false
   },
   "outputs": [
    {
     "name": "stderr",
     "output_type": "stream",
     "text": [
      "Using gpu device 0: GeForce GTX 770\n"
     ]
    }
   ],
   "source": [
    "%matplotlib inline\n",
    "%load_ext autoreload\n",
    "%autoreload 2\n",
    "import matplotlib.pyplot as plt\n",
    "import csv\n",
    "import os\n",
    "import sys\n",
    "import numpy as np\n",
    "import collections\n",
    "import time\n",
    "import scipy\n",
    "import helpers \n",
    "import cPickle as pickle\n",
    "\n",
    "# CNN bits\n",
    "import theano\n",
    "import theano.tensor as T\n",
    "import lasagne\n",
    "\n",
    "import helpers\n",
    "from scipy.misc import imresize\n",
    "from scipy.ndimage.interpolation import zoom\n",
    "from sklearn import metrics\n",
    "from sklearn.metrics import roc_curve, auc\n",
    "import scipy.io.wavfile\n",
    "\n",
    "# for evaluation\n",
    "sys.path.append(os.path.expanduser('~/projects/engaged_hackathon/'))\n",
    "from engaged.features import evaluation, features\n"
   ]
  },
  {
   "cell_type": "code",
   "execution_count": 3,
   "metadata": {
    "collapsed": true
   },
   "outputs": [],
   "source": [
    "# Aim is to do prediction on all the testing files...\n"
   ]
  },
  {
   "cell_type": "code",
   "execution_count": 4,
   "metadata": {
    "collapsed": false
   },
   "outputs": [],
   "source": [
    "datapath = '/home/michael/projects/engaged_hackathon_data/multilabel_classification/'\n",
    "\n",
    "split = scipy.io.loadmat(datapath + 'split_files.mat')\n",
    "split['test'] = [xx.strip() for xx in split['test']]"
   ]
  },
  {
   "cell_type": "code",
   "execution_count": 5,
   "metadata": {
    "collapsed": false
   },
   "outputs": [
    {
     "name": "stdout",
     "output_type": "stream",
     "text": [
      "['split_arrays', 'slices', 'labels', '__header__', '__globals__', '__version__', 'class_names']\n",
      "['split_arrays', 'slices', 'labels', '__header__', '__globals__', '__version__', 'class_names']\n"
     ]
    }
   ],
   "source": [
    "X_train, y_train, X_val, y_val, X_test, y_test, classes = \\\n",
    "    helpers.load_multilabel_dataset(\n",
    "        datapath + 'all_train.mat', datapath + 'all_test.mat', max_samples=10000)\n",
    "classes = [cls.strip() for cls in classes]"
   ]
  },
  {
   "cell_type": "code",
   "execution_count": 6,
   "metadata": {
    "collapsed": false
   },
   "outputs": [],
   "source": [
    "# load in all the test files and convert to spectrograms...\n",
    "# let's now for each \n",
    "\n",
    "all_annotations, annotations_by_file = helpers.load_annotations()\n",
    "\n",
    "wav_sr = 24000\n",
    "spec_path = '/home/michael/projects/engaged_hackathon_data/detection/spectrograms/'\n",
    "wav_base_path = '/home/michael/projects/engaged_hackathon_data/raw_data/one_minute_files'\n",
    "slices_per_file = 1000\n",
    "hww = 9\n",
    "spec_size = 128\n",
    "test_specs = []"
   ]
  },
  {
   "cell_type": "code",
   "execution_count": 7,
   "metadata": {
    "collapsed": false
   },
   "outputs": [],
   "source": [
    "file_length_seconds = 1440008.0 / 24000.0\n",
    "\n",
    "def test_spec_generator():\n",
    "\n",
    "    yield_count = 0\n",
    "    for count, (fname, annotations) in enumerate(annotations_by_file.iteritems()):\n",
    "        \n",
    "        if fname not in split['test']:\n",
    "            continue\n",
    "\n",
    "        # load in the spectrogram\n",
    "        D = scipy.io.loadmat(spec_path + fname[:-4] + '_spec_' + str(spec_size) + '.mat')\n",
    "        spec = D['spectrogram']\n",
    "        spec_sr = D['sample_rate']\n",
    "        D['fname'] = fname\n",
    "        \n",
    "        labels = collections.defaultdict(lambda : np.zeros(D['wav_shape']))\n",
    "\n",
    "        for ann in annotations:\n",
    "            start = int(ann['LabelStartTime_Seconds'] * float(wav_sr))\n",
    "            end = int(ann['LabelEndTime_Seconds'] * float(wav_sr))\n",
    "            labels[ann['Label']][start:end] = 1\n",
    "\n",
    "        # now rescale the locations to the length of the spectrogram...\n",
    "        # (the spec_sr*60 -1 is a bit of a hack...)\n",
    "        D['labels'] = labels\n",
    "\n",
    "        # rescaling the spectrogram to be the same shape as the \n",
    "        D['spec_labels'] = collections.defaultdict(lambda: np.zeros(spec_sr*60 - 1))\n",
    "        for classname, label in labels.iteritems():\n",
    "            D['spec_labels'][classname] = \\\n",
    "                imresize(label[:, None], size=(spec.shape[1], 1)).ravel() > 0.5\n",
    "\n",
    "        # add to a structure...\n",
    "        yield_count += 1\n",
    "        yield D"
   ]
  },
  {
   "cell_type": "code",
   "execution_count": 9,
   "metadata": {
    "collapsed": false,
    "scrolled": true
   },
   "outputs": [
    {
     "name": "stdout",
     "output_type": "stream",
     "text": [
      " Working on  airplane\n",
      ". . . . . . . . . . . . . . . . . . . . . . . . . . . . . . . . . . . . . . . . . . . . . . . . . . . . . . . . . . . . . . . . . . . . . . . . . . . . . . . . . . . . . . . . . . . . . . . . . . . . . . . . . . . . . Working on  anthropogenic unknown\n",
      "Cannot find model for anthropogenic unknown, so skipping\n",
      "Working on  applause\n",
      "Cannot find model for applause, so skipping\n",
      "Working on  bat\n",
      "Cannot find model for bat, so skipping\n",
      "Working on  beep\n",
      "Cannot find model for beep, so skipping\n",
      "Working on  bells\n",
      "Cannot find model for bells, so skipping\n",
      "Working on  bird\n",
      ". . . . . . . . . . . . . . . . . . . . . . . . . . . . . . . . . . . . . . . . . . . . . . . . . . . . . . . . . . . . . . . . . . . . . . . . . . . . . . . . . . . . . . . . . . . . . . . . . . . . . . . . . . . . . Working on  braking\n",
      ". . . . . . . . . . . . . . . . . . . . . . . . . . . . . . . . . . . . . . . . . . . . . . . . . . . . . . . . . . . . . . . . . . . . . . . . . . . . . . . . . . . . . . . . . . . . . . . . . . . . . . . . . . . . . Working on  bus emitting\n",
      "Cannot find model for bus emitting, so skipping\n",
      "Working on  coughing\n",
      "Cannot find model for coughing, so skipping\n",
      "Working on  dog bark\n",
      "Cannot find model for dog bark, so skipping\n",
      "Working on  electrical\n",
      "Cannot find model for electrical, so skipping\n",
      "Working on  footsteps\n",
      "Cannot find model for footsteps, so skipping\n",
      "Working on  fox\n",
      "Cannot find model for fox, so skipping\n",
      "Working on  grey squirrel\n",
      "Cannot find model for grey squirrel, so skipping\n",
      "Working on  horn\n",
      "Cannot find model for horn, so skipping\n",
      "Working on  invertebrate\n",
      "Cannot find model for invertebrate, so skipping\n",
      "Working on  metal\n",
      "Cannot find model for metal, so skipping\n",
      "Working on  mix traffic\n",
      ". . . . . . . . . . . . . . . . . . . . . . . . . . . . . . . . . . . . . . . . . . . . . . . . . . . . . . . . . . . . . . . . . . . . . . . . . . . . . . . . . . . . . . . . . . . . . . . . . . . . . . . . . . . . . Working on  mower\n",
      "Cannot find model for mower, so skipping\n",
      "Working on  music\n",
      "Cannot find model for music, so skipping\n",
      "Working on  rain\n",
      ". . . . . . . . . . . . . . . . . . . . . . . . . . . . . . . . . . . . . . . . . . . . . . . . . . . . . . . . . . . . . . . . . . . . . . . . . . . . . . . . . . . . . . . . . . . . . . . . . . . . . . . . . . . . . Working on  siren\n",
      "Cannot find model for siren, so skipping\n",
      "Working on  startthecar\n",
      "Cannot find model for startthecar, so skipping\n",
      "Working on  unknown sound\n",
      "Cannot find model for unknown sound, so skipping\n",
      "Working on  voices\n",
      ". . . . . . . . . . . . . . . . . . . . . . . . . . . . . . . . . . . . . . . . . . . . . . . . . . . . . . . . . . . . . . . . . . . . . . . . . . . . . . . . . . . . . . . . . . . . . . . . . . . . . . . . . . . . . Working on  whistle\n",
      "Cannot find model for whistle, so skipping\n",
      "Working on  wing beats\n",
      "Cannot find model for wing beats, so skipping\n"
     ]
    }
   ],
   "source": [
    "wav_results_savedir = '/home/michael/projects/engaged_hackathon_data/multilabel_classification/results/wav/'\n",
    "\n",
    "# one item in results per test file\n",
    "results = collections.defaultdict(list)\n",
    "\n",
    "from sklearn.metrics import accuracy_score\n",
    "\n",
    "for class_idx, class_name in enumerate(classes):\n",
    "    \n",
    "    print \"Working on \", class_name\n",
    "    \n",
    "    wav_results = {'fp':[], 'fn':[], 'tp':[], 'tn':[]}\n",
    "    \n",
    "    modelpath = './models/' + class_name + '.pkl'\n",
    "    if not os.path.exists(modelpath):\n",
    "        print \"Cannot find model for %s, so skipping\" % class_name\n",
    "        continue\n",
    "        \n",
    "    model, predict_fn = pickle.load(open(modelpath))\n",
    "\n",
    "    # now run on each of the test-time spectrograms...\n",
    "    for test_file in test_spec_generator():\n",
    "\n",
    "        # at each location, need to extract a slice...\n",
    "        spec = test_file['spectrogram']\n",
    "        patches = features.extract_1d_patches(spec, range(spec.shape[1]), hww)\n",
    "        \n",
    "        S = patches.shape\n",
    "        patches = patches.reshape((S[0], 1, S[1], S[2])).astype(np.float32)\n",
    "        pred_y = predict_fn(patches)[:, 1]\n",
    "        gt = test_file['spec_labels'][class_name]\n",
    "                \n",
    "        # loading the audio and rescaling\n",
    "        sr, wav = scipy.io.wavfile.read(wav_base_path + '/25_Random/' + test_file['fname'])\n",
    "        factor = wav.shape[0] / float(pred_y.shape[0])\n",
    "        pred_y_rescaled = zoom(pred_y, factor)\n",
    "\n",
    "        # keep track of the tp fp fn tn wav snippets for saving...\n",
    "        gt_original = test_file['labels'][class_name]\n",
    "        wav_results['tp'].append(wav[np.logical_and(gt_original==1, pred_y_rescaled>0.5)])\n",
    "        wav_results['tn'].append(wav[np.logical_and(gt_original==0, pred_y_rescaled<0.5)])\n",
    "        wav_results['fp'].append(wav[np.logical_and(gt_original==0, pred_y_rescaled>0.5)])\n",
    "        wav_results['fn'].append(wav[np.logical_and(gt_original==1, pred_y_rescaled<0.5)])       \n",
    "    \n",
    "        # keep all of the testing data except the spectrogram, for memory...\n",
    "        banned = ['spectrogram', 'labels', 'spec_labels']\n",
    "        this_result = {key:val \n",
    "                       for key, val in test_file.iteritems()\n",
    "                       if key not in banned}\n",
    "        \n",
    "        this_result['accuracy'] = accuracy_score(gt, pred_y>0.5)\n",
    "        this_result['normalised_accuracy'] = evaluation.normalised_accuracy(gt, pred_y>0.5)\n",
    "        this_result['length'] = evaluation.eval_seconds(gt, pred_y, 60.0)\n",
    "        this_result['gt'] = gt\n",
    "        this_result['pred'] = pred_y\n",
    "                \n",
    "        results[class_name].append(this_result)\n",
    "        \n",
    "        print '.',\n",
    "    \n",
    "    # ensure a directory exists in which to save these wav results...\n",
    "    if not os.path.exists(wav_results_savedir + class_name):\n",
    "        os.makedirs(wav_results_savedir + class_name)\n",
    "        \n",
    "    # save the wav files for this class name\n",
    "    for result_type in ['tp', 'fp', 'tn', 'fn']:\n",
    "        wav_savepath = wav_results_savedir + class_name + '/' + result_type + '.wav'\n",
    "        this_wav = np.hstack(wav_results[result_type])\n",
    "        if this_wav.size > 0:\n",
    "            scipy.io.wavfile.write(wav_savepath, rate=sr, data=this_wav)\n",
    "        elif os.path.exists(wav_savepath):  # must delete any existing files!\n",
    "            os.remove(wav_savepath)"
   ]
  },
  {
   "cell_type": "code",
   "execution_count": 19,
   "metadata": {
    "collapsed": false
   },
   "outputs": [
    {
     "name": "stdout",
     "output_type": "stream",
     "text": [
      "braking         0.7498\n",
      "rain            0.6438\n",
      "voices          0.6736\n",
      "mix traffic     0.6560\n",
      "airplane        0.6158\n",
      "bird            0.7644\n"
     ]
    },
    {
     "data": {
      "image/png": "[encoded data removed]",
      "text/plain": [
       "<matplotlib.figure.Figure at 0x7f7031113490>"
      ]
     },
     "metadata": {},
     "output_type": "display_data"
    }
   ],
   "source": [
    "for this_class in results:\n",
    "\n",
    "    mean_airplane = np.mean([result['normalised_accuracy'] for result in results[this_class]])\n",
    "#     print mean_airplane\n",
    "\n",
    "    # now plotting confusion matrix or something...\n",
    "    all_gt = np.hstack([result['gt'] for result in results[this_class]])\n",
    "    all_pred = np.hstack([result['pred'] for result in results[this_class]])\n",
    "    cm = metrics.confusion_matrix(all_gt, all_pred > 0.5)\n",
    "\n",
    "#     print \"gt\", cm\n",
    "#     print \"      pred\"\n",
    "\n",
    "    print this_class.ljust(15),\n",
    "    print \"%0.4f\" % evaluation.normalised_accuracy(all_gt, all_pred > 0.5)\n",
    "    evaluation.plot_roc_curve(all_gt, all_pred, this_class)\n",
    "# for result in results['airplane']:\n",
    "#     print evaluation.normalised_accuracy(result['gt'], result['pred'] > 0.5)"
   ]
  },
  {
   "cell_type": "code",
   "execution_count": null,
   "metadata": {
    "collapsed": false
   },
   "outputs": [],
   "source": [
    "plt.figure(figsize=(15, 2))\n"
   ]
  },
  {
   "cell_type": "code",
   "execution_count": null,
   "metadata": {
    "collapsed": false
   },
   "outputs": [],
   "source": [
    "plt.figure(figsize=(20, 20))\n",
    "pltnum = 0\n",
    "for count, xx in enumerate(results['airplane']):\n",
    "    if xx['gt'].sum() > 0:\n",
    "        plt.subplot(20, 1, pltnum)\n",
    "        plt.plot(xx['gt'])\n",
    "        plt.plot(xx['pred'])\n",
    "        plt.ylim(0, 1.1)\n",
    "        plt.axis('off')\n",
    "        pltnum += 1"
   ]
  },
  {
   "cell_type": "code",
   "execution_count": null,
   "metadata": {
    "collapsed": false
   },
   "outputs": [],
   "source": [
    "print all_gt.mean()"
   ]
  },
  {
   "cell_type": "code",
   "execution_count": null,
   "metadata": {
    "collapsed": true
   },
   "outputs": [],
   "source": []
  }
 ],
 "metadata": {
  "kernelspec": {
   "display_name": "Python 2",
   "language": "python",
   "name": "python2"
  },
  "language_info": {
   "codemirror_mode": {
    "name": "ipython",
    "version": 2
   },
   "file_extension": ".py",
   "mimetype": "text/x-python",
   "name": "python",
   "nbconvert_exporter": "python",
   "pygments_lexer": "ipython2",
   "version": "2.7.10"
  }
 },
 "nbformat": 4,
 "nbformat_minor": 0
}
