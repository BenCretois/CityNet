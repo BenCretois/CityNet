{
 "cells": [
  {
   "cell_type": "code",
   "execution_count": 1,
   "metadata": {
    "collapsed": false
   },
   "outputs": [
    {
     "name": "stderr",
     "output_type": "stream",
     "text": [
      "Using gpu device 0: GeForce GTX 770\n"
     ]
    }
   ],
   "source": [
    "%matplotlib inline\n",
    "%load_ext autoreload\n",
    "%autoreload 2\n",
    "import matplotlib.pyplot as plt\n",
    "import csv\n",
    "import os\n",
    "import sys\n",
    "import numpy as np\n",
    "import collections\n",
    "import time\n",
    "import scipy\n",
    "import helpers \n",
    "\n",
    "# CNN bits\n",
    "import theano\n",
    "import theano.tensor as T\n",
    "import lasagne\n",
    "\n",
    "# for evaluation\n",
    "sys.path.append(os.path.expanduser('~/projects/engaged_hackathon/'))\n",
    "from engaged.features import evaluation\n",
    "from sklearn import metrics\n",
    "from sklearn.metrics import roc_curve, auc"
   ]
  },
  {
   "cell_type": "code",
   "execution_count": 9,
   "metadata": {
    "collapsed": false
   },
   "outputs": [
    {
     "name": "stdout",
     "output_type": "stream",
     "text": [
      "\n"
     ]
    }
   ],
   "source": [
    "def iterate_minibatches(inputs, targets, batchsize, shuffle=False):\n",
    "    assert len(inputs) == len(targets)\n",
    "    \n",
    "    if shuffle:\n",
    "        indices = np.arange(len(inputs))\n",
    "        np.random.shuffle(indices)\n",
    "        \n",
    "    for start_idx in range(0, len(inputs) - batchsize + 1, batchsize):\n",
    "        if shuffle:\n",
    "            excerpt = indices[start_idx:start_idx + batchsize]\n",
    "        else:\n",
    "            excerpt = slice(start_idx, start_idx + batchsize)\n",
    "        yield inputs[excerpt], targets[excerpt]\n",
    "        \n",
    "\n",
    "def iterate_balanced_minibatches(inputs, targets, batchsize):\n",
    "    assert len(inputs) == len(targets)\n",
    "\n",
    "    indices_pos = np.where(targets==1)[0]\n",
    "    indices_neg = np.where(targets==0)[0]\n",
    "\n",
    "    np.random.shuffle(indices_pos)\n",
    "    np.random.shuffle(indices_neg)\n",
    "\n",
    "    for start_idx in range(0, len(indices_neg) - batchsize + 1, batchsize):\n",
    "        # in each batch, new negative data is provided, positive data is reused\n",
    "        \n",
    "        # get indices for each of the excerpts, wrapping back to the beginning...\n",
    "        excerpt_pos = np.take(\n",
    "            indices_pos, np.arange(start_idx, start_idx + batchsize), mode='wrap')\n",
    "        excerpt_neg = np.take(\n",
    "            indices_neg, np.arange(start_idx, start_idx + batchsize), mode='wrap')\n",
    "        \n",
    "        # reform the full balanced inputs and output\n",
    "        full_idxs = np.hstack((excerpt_pos, excerpt_neg))\n",
    "        yield inputs[full_idxs], targets[full_idxs]"
   ]
  },
  {
   "cell_type": "code",
   "execution_count": 10,
   "metadata": {
    "collapsed": false
   },
   "outputs": [
    {
     "name": "stdout",
     "output_type": "stream",
     "text": [
      "Loading data...\n",
      "['split_arrays', 'slices', 'labels', '__header__', '__globals__', '__version__', 'class_names']\n",
      "['split_arrays', 'slices', 'labels', '__header__', '__globals__', '__version__', 'class_names']\n",
      "(10000, 1, 128, 19)\n",
      "(10000, 1, 128, 19)\n",
      "(10000, 1, 128, 19)\n"
     ]
    }
   ],
   "source": [
    "import scipy.io\n",
    "from sklearn.cross_validation import train_test_split\n",
    "\n",
    "datapath = '/home/michael/projects/engaged_hackathon_data/multilabel_classification/'\n",
    "\n",
    "# Load the dataset\n",
    "print(\"Loading data...\")\n",
    "X_train, y_train, X_val, y_val, X_test, y_test, classes = \\\n",
    "    helpers.load_multilabel_dataset(\n",
    "        datapath + 'all_train.mat', datapath + 'all_test.mat', max_samples=10000)\n",
    "y_train = y_train.astype(np.int32)\n",
    "y_test = y_test.astype(np.int32)\n",
    "y_val = y_val.astype(np.int32)\n",
    "print X_train.shape\n",
    "print X_test.shape\n",
    "print X_val.shape"
   ]
  },
  {
   "cell_type": "code",
   "execution_count": 46,
   "metadata": {
    "collapsed": false
   },
   "outputs": [
    {
     "name": "stdout",
     "output_type": "stream",
     "text": [
      "\n"
     ]
    }
   ],
   "source": [
    "def build_cnn(input_var=None):\n",
    "    # As a third model, we'll create a CNN of two convolution + pooling stages\n",
    "    # and a fully-connected hidden layer in front of the output layer.\n",
    "\n",
    "    # Input layer, as usual:\n",
    "    im_width, im_height = X_train.shape[2], X_train.shape[3]\n",
    "    network = lasagne.layers.InputLayer(shape=(None, 1, im_width, im_height),\n",
    "                                        input_var=input_var)\n",
    "    # This time we do not apply input dropout, as it tends to work less well\n",
    "    # for convolutional layers.\n",
    "    network = lasagne.layers.dropout(network, p=0.2)\n",
    "    \n",
    "    # Convolutional layer with 32 kernels of size 5x5. Strided and padded\n",
    "    # convolutions are supported as well; see the docstring.\n",
    "    network = lasagne.layers.Conv2DLayer(\n",
    "            network, num_filters=50, filter_size=(3, 3),\n",
    "#             stride=(2, 2),\n",
    "            nonlinearity=lasagne.nonlinearities.very_leaky_rectify,\n",
    "            W=lasagne.init.GlorotUniform())\n",
    "\n",
    "    # Max-pooling layer of factor 2 in both dimensions:\n",
    "    network = lasagne.layers.MaxPool2DLayer(network, pool_size=(2, 1), stride=(2, 1))\n",
    "\n",
    "    # Another convolution with 32 5x5 kernels, and another 2x2 pooling:\n",
    "    network = lasagne.layers.Conv2DLayer(\n",
    "            network, num_filters=50, filter_size=(3,3),\n",
    "#             stride=(2, 2),\n",
    "            nonlinearity=lasagne.nonlinearities.very_leaky_rectify,\n",
    "            W=lasagne.init.GlorotUniform())\n",
    "    \n",
    "    network = lasagne.layers.MaxPool2DLayer(network, pool_size=(2, 1), stride=(2, 1))\n",
    "  \n",
    "    # A fully-connected layer of 256 units with 50% dropout on its inputs:\n",
    "    network = lasagne.layers.DenseLayer(\n",
    "            lasagne.layers.dropout(network, p=.5),\n",
    "            num_units=1000,\n",
    "            nonlinearity=lasagne.nonlinearities.very_leaky_rectify)\n",
    "\n",
    "    # A fully-connected layer of 256 units with 50% dropout on its inputs:\n",
    "    network = lasagne.layers.DenseLayer(\n",
    "            lasagne.layers.dropout(network, p=.5),\n",
    "            num_units=1000,\n",
    "            nonlinearity=lasagne.nonlinearities.very_leaky_rectify)\n",
    "    \n",
    "    # And, finally, the 10-unit output layer with 50% dropout on its inputs:\n",
    "    network = lasagne.layers.DenseLayer(\n",
    "            lasagne.layers.dropout(network, p=.5),\n",
    "            num_units=2,\n",
    "            nonlinearity=lasagne.nonlinearities.softmax)\n",
    "\n",
    "    return network"
   ]
  },
  {
   "cell_type": "code",
   "execution_count": 47,
   "metadata": {
    "collapsed": false
   },
   "outputs": [],
   "source": [
    "def prepare_network():\n",
    "    # Prepare Theano variables for inputs and targets\n",
    "    input_var = T.tensor4('inputs')\n",
    "    target_var = T.ivector('targets')\n",
    "\n",
    "\n",
    "    # Create neural network model (depending on first command line parameter)\n",
    "    print(\"Building model and compiling functions...\")\n",
    "    network = build_cnn(input_var)\n",
    "\n",
    "    # Create a loss expression for training, i.e., a scalar objective we want\n",
    "    # to minimize (for our multi-class problem, it is the cross-entropy loss):\n",
    "    prediction = lasagne.layers.get_output(network)\n",
    "    loss = lasagne.objectives.categorical_crossentropy(prediction, target_var)\n",
    "    loss = loss.mean()\n",
    "    reg_l2 = lasagne.regularization.regularize_network_params(network, lasagne.regularization.l2)\n",
    "    loss = loss + 0.001 * reg_l2\n",
    "\n",
    "    # We could add some weight decay as well here, see lasagne.regularization.\n",
    "\n",
    "    # Create update expressions for training, i.e., how to modify the\n",
    "    # parameters at each training step. Here, we'll use Stochastic Gradient\n",
    "    # Descent (SGD) with Nesterov momentum, but Lasagne offers plenty more.\n",
    "    params = lasagne.layers.get_all_params(network, trainable=True)\n",
    "    updates = lasagne.updates.nesterov_momentum(\n",
    "            loss, params, learning_rate=0.0249, momentum=0.91)\n",
    "\n",
    "    # Create a loss expression for validation/testing. The crucial difference\n",
    "    # here is that we do a deterministic forward pass through the network,\n",
    "    # disabling dropout layers.\n",
    "    test_prediction = lasagne.layers.get_output(network, deterministic=True)\n",
    "    test_loss = lasagne.objectives.categorical_crossentropy(test_prediction, target_var)\n",
    "    test_loss = test_loss.mean()\n",
    "\n",
    "    # As a bonus, also create an expression for the classification accuracy:\n",
    "    test_acc = T.mean(T.eq(T.argmax(test_prediction, axis=1), target_var),\n",
    "                      dtype=theano.config.floatX)\n",
    "\n",
    "    # Compile a function performing a training step on a mini-batch (by giving\n",
    "    # the updates dictionary) and returning the corresponding training loss:\n",
    "    train_fn = theano.function([input_var, target_var], loss, updates=updates)\n",
    "\n",
    "    # Compile a second function computing the validation loss and accuracy:\n",
    "    print \"WARNING - hack, removed test_acc from this...\"\n",
    "    val_fn = theano.function([input_var, target_var], [test_loss, test_loss])\n",
    "\n",
    "    test_prediction = lasagne.layers.get_output(network, deterministic=True)\n",
    "    predict_fn = theano.function([input_var], test_prediction)\n",
    "    \n",
    "    return network, train_fn, predict_fn, val_fn"
   ]
  },
  {
   "cell_type": "code",
   "execution_count": 48,
   "metadata": {
    "collapsed": false
   },
   "outputs": [
    {
     "name": "stdout",
     "output_type": "stream",
     "text": [
      "(10000, 1, 128, 19) (10000, 28)\n",
      "(10000, 1, 128, 19) (10000, 28)\n",
      "(10000, 1, 128, 19) (10000, 28)\n"
     ]
    }
   ],
   "source": [
    "print X_train.shape, y_train.shape\n",
    "print X_test.shape, y_test.shape\n",
    "print X_val.shape, y_val.shape"
   ]
  },
  {
   "cell_type": "code",
   "execution_count": 1,
   "metadata": {
    "collapsed": false
   },
   "outputs": [
    {
     "ename": "NameError",
     "evalue": "name 'sys' is not defined",
     "output_type": "error",
     "traceback": [
      "\u001b[1;31m---------------------------------------------------------------------------\u001b[0m",
      "\u001b[1;31mNameError\u001b[0m                                 Traceback (most recent call last)",
      "\u001b[1;32m<ipython-input-1-6e25ac6674ef>\u001b[0m in \u001b[0;36m<module>\u001b[1;34m()\u001b[0m\n\u001b[0;32m      1\u001b[0m \u001b[1;32mimport\u001b[0m \u001b[0mcPickle\u001b[0m \u001b[1;32mas\u001b[0m \u001b[0mpickle\u001b[0m\u001b[1;33m\u001b[0m\u001b[0m\n\u001b[1;32m----> 2\u001b[1;33m \u001b[0msys\u001b[0m\u001b[1;33m.\u001b[0m\u001b[0mpath\u001b[0m\u001b[1;33m.\u001b[0m\u001b[0mappend\u001b[0m\u001b[1;33m(\u001b[0m\u001b[1;34m'/home/michael/projects/engaged_hackathon/notebooks/detection'\u001b[0m\u001b[1;33m)\u001b[0m\u001b[1;33m\u001b[0m\u001b[0m\n\u001b[0m\u001b[0;32m      3\u001b[0m \u001b[1;33m\u001b[0m\u001b[0m\n\u001b[0;32m      4\u001b[0m \u001b[0mnum_epochs\u001b[0m \u001b[1;33m=\u001b[0m \u001b[1;36m50\u001b[0m\u001b[1;33m\u001b[0m\u001b[0m\n\u001b[0;32m      5\u001b[0m \u001b[1;33m\u001b[0m\u001b[0m\n",
      "\u001b[1;31mNameError\u001b[0m: name 'sys' is not defined"
     ]
    }
   ],
   "source": [
    "import cPickle as pickle\n",
    "sys.path.append('/home/michael/projects/engaged_hackathon/notebooks/detection')\n",
    "\n",
    "num_epochs = 50\n",
    "\n",
    "minibatch_size = 120  # optimise\n",
    "\n",
    "# Finally, launch the training loop.\n",
    "y_train = np.squeeze(y_train).astype(np.int32)\n",
    "y_val = np.squeeze(y_val).astype(np.int32)\n",
    "y_test = np.squeeze(y_test).astype(np.int32)\n",
    "\n",
    "for class_idx, class_name in enumerate(classes):\n",
    "\n",
    "    this_y_train = y_train[:, class_idx]\n",
    "    this_y_test = y_test[:, class_idx]\n",
    "    this_y_val = y_val[:, class_idx]\n",
    "    \n",
    "    if this_y_train.mean() < 0.01 or this_y_val.mean() < 0.01 or this_y_test.mean() < 0.01:\n",
    "        print \"Not enough of class \", class_name\n",
    "        continue\n",
    "    \n",
    "    network, train_fn, predict_fn, val_fn = prepare_network()\n",
    "    \n",
    "    print(\"Starting training...\" + class_name)\n",
    "    print \"There will be %d minibatches per batch\" % (y_train.shape[0] / minibatch_size)\n",
    "\n",
    "    print \"\"\"     epoch   train loss   valid loss   train/val    valid acc     dur\n",
    "       -------  -----------  -----------  -----------  -----------  -------\"\"\",\n",
    "\n",
    "    best_validation_accuracy = 0.0\n",
    "    best_model = None\n",
    "    \n",
    "    # We iterate over epochs:\n",
    "    for epoch in range(num_epochs):\n",
    "        # In each epoch, we do a full pass over the training data:\n",
    "        train_err = 0\n",
    "        train_batches = 0\n",
    "        start_time = time.time()\n",
    "        for count, batch in enumerate(\n",
    "                iterate_balanced_minibatches(X_train, this_y_train, minibatch_size)):\n",
    "            if count % 100 == 0:\n",
    "                print '.',\n",
    "            inputs, targets = batch\n",
    "            train_err += train_fn(inputs, targets)\n",
    "            train_batches += 1\n",
    "\n",
    "        # And a full pass over the validation data:\n",
    "        val_err = 0\n",
    "        val_acc = 0\n",
    "        val_batches = 0\n",
    "\n",
    "        for batch in iterate_balanced_minibatches(\n",
    "                    X_val, this_y_val, int(minibatch_size)):\n",
    "\n",
    "            inputs, targets = batch\n",
    "            err, acc = val_fn(inputs, targets)\n",
    "            val_err += err\n",
    "            val_acc += acc\n",
    "            val_batches += 1\n",
    "\n",
    "        train_loss = train_err / train_batches\n",
    "        val_loss = val_err / val_batches\n",
    "        mean_val_accuracy = val_acc / val_batches\n",
    "        print \"\\n\",\n",
    "        print \"     \" + str(epoch).ljust(8),\n",
    "        print (\"%0.06f\" % (train_loss)).ljust(12),\n",
    "        print (\"%0.06f\" % (val_loss)).ljust(12),\n",
    "        print (\"%0.06f\" % (train_loss / val_loss)).ljust(12),\n",
    "        print (\"%0.06f\" % (mean_val_accuracy)).ljust(10),\n",
    "        print (\"%0.04f\" % (time.time() - start_time)).ljust(10),\n",
    "        sys.stdout.flush()\n",
    "        \n",
    "        if mean_val_accuracy > best_validation_accuracy:\n",
    "            best_model = (network, predict_fn)\n",
    "            best_validation_accuracy = mean_val_accuracy\n",
    "\n",
    "    # After training, we compute and print the test error:\n",
    "#     test_prediction = lasagne.layers.get_output(best_model, deterministic=True)\n",
    "    predict_fn = best_model[1]\n",
    "    \n",
    "    y_preds, y_gts = [], []\n",
    "    for batch in iterate_minibatches(X_test, this_y_test, 500, shuffle=False):\n",
    "        inputs, targets = batch\n",
    "        y_preds.append( predict_fn(inputs)[:, 1])\n",
    "        y_gts.append(targets)\n",
    "\n",
    "    norm_acc = evaluation.normalised_accuracy(\n",
    "        np.hstack(y_gts), np.hstack(y_preds))\n",
    "\n",
    "    print(\"Final acc: %f\\n\\n\") % norm_acc\n",
    "\n",
    "    # save the network\n",
    "    with open('./models/' + class_name.strip() + '.pkl', 'w') as f:\n",
    "        pickle.dump(best_model, f, -1)\n",
    "        \n",
    "    \n",
    "    # Optionally, you could now dump the network weights to a file like this:\n",
    "    # np.savez('model.npz', lasagne.layers.get_all_param_values(network))"
   ]
  },
  {
   "cell_type": "code",
   "execution_count": null,
   "metadata": {
    "collapsed": false
   },
   "outputs": [],
   "source": [
    "# now let's find per-class test accuracy\n",
    "y_preds, y_gts = [], []\n",
    "\n",
    "for batch in iterate_minibatches(X_train, y_train, int(minibatch_size)):\n",
    "\n",
    "    inputs, targets = batch\n",
    "    err, acc = val_fn(inputs, targets)\n",
    "    y_preds.append( predict_fn(inputs))\n",
    "    y_gts.append(targets)"
   ]
  },
  {
   "cell_type": "code",
   "execution_count": null,
   "metadata": {
    "collapsed": false
   },
   "outputs": [],
   "source": [
    "y_pred = np.vstack(y_preds)\n",
    "y_gt = np.vstack(y_gts)"
   ]
  },
  {
   "cell_type": "code",
   "execution_count": null,
   "metadata": {
    "collapsed": false
   },
   "outputs": [],
   "source": [
    "import collections\n",
    "from sklearn import metrics\n",
    "\n",
    "results = collections.OrderedDict()\n",
    "\n",
    "for class_name, pred_row, gt_row in zip(classes, y_pred.T, y_gt.T):\n",
    "    print gt_row.sum(), (pred_row>0.5).sum()\n",
    "    results[class_name] = metrics.accuracy_score(gt_row, pred_row > 0.5)\n",
    "    print class_name.ljust(20), results[class_name]\n"
   ]
  },
  {
   "cell_type": "code",
   "execution_count": null,
   "metadata": {
    "collapsed": false
   },
   "outputs": [],
   "source": [
    "plt.plot(y_pred.sum(axis=0), y_gt.sum(axis=0), '.')\n",
    "plt.xlabel('Y prediction')\n",
    "plt.ylabel('Y gt')\n",
    "plt.axis('equal')"
   ]
  },
  {
   "cell_type": "code",
   "execution_count": null,
   "metadata": {
    "collapsed": false
   },
   "outputs": [],
   "source": [
    "plt.figure(figsize=(15, 15))\n",
    "plt.subplot(121)\n",
    "plt.imshow(y_pred[:100, :], interpolation='nearest')\n",
    "plt.clim(0, 1)\n",
    "# plt.colorbar()\n",
    "plt.subplot(122)\n",
    "plt.imshow(y_gt[:100, :], interpolation='nearest')"
   ]
  },
  {
   "cell_type": "code",
   "execution_count": null,
   "metadata": {
    "collapsed": false
   },
   "outputs": [],
   "source": [
    "print np.mean((y_pred-y_gt)**2)"
   ]
  },
  {
   "cell_type": "code",
   "execution_count": null,
   "metadata": {
    "collapsed": true
   },
   "outputs": [],
   "source": []
  },
  {
   "cell_type": "code",
   "execution_count": null,
   "metadata": {
    "collapsed": true
   },
   "outputs": [],
   "source": []
  },
  {
   "cell_type": "code",
   "execution_count": null,
   "metadata": {
    "collapsed": true
   },
   "outputs": [],
   "source": []
  },
  {
   "cell_type": "code",
   "execution_count": null,
   "metadata": {
    "collapsed": true
   },
   "outputs": [],
   "source": []
  }
 ],
 "metadata": {
  "kernelspec": {
   "display_name": "Python 2",
   "language": "python",
   "name": "python2"
  },
  "language_info": {
   "codemirror_mode": {
    "name": "ipython",
    "version": 2
   },
   "file_extension": ".py",
   "mimetype": "text/x-python",
   "name": "python",
   "nbconvert_exporter": "python",
   "pygments_lexer": "ipython2",
   "version": "2.7.10"
  }
 },
 "nbformat": 4,
 "nbformat_minor": 0
}
