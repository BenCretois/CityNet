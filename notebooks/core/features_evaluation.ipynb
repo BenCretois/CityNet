{
 "cells": [
  {
   "cell_type": "code",
   "execution_count": 6,
   "metadata": {
    "collapsed": false
   },
   "outputs": [
    {
     "name": "stdout",
     "output_type": "stream",
     "text": [
      "The autoreload extension is already loaded. To reload it, use:\n",
      "  %reload_ext autoreload\n"
     ]
    }
   ],
   "source": [
    "%load_ext autoreload\n",
    "%autoreload 2\n",
    "%matplotlib inline\n",
    "\n",
    "import numpy as np\n",
    "import matplotlib.pyplot as plt\n",
    "import csv\n",
    "import collections\n",
    "\n",
    "import scipy.io.wavfile\n",
    "from sklearn.cross_validation import train_test_split\n",
    "from sklearn.ensemble import RandomForestClassifier\n",
    "\n",
    "import sys, os\n",
    "sys.path.append('/Users/Michael/projects/engage/engaged_hackathon/')\n",
    "from engaged.features import features as engaged_features\n",
    "from engaged.features import frequency\n",
    "\n",
    "from features import mfcc"
   ]
  },
  {
   "cell_type": "code",
   "execution_count": 2,
   "metadata": {
    "collapsed": true
   },
   "outputs": [],
   "source": [
    "base_path = '/Users/Michael/projects/engage/engaged_hackathon_data/cropped_audio/'\n",
    "\n",
    "spectrogram_parameters = {\n",
    "    'nfft': 1024,\n",
    "    'window_width': 0.03,\n",
    "    'overlap': 0.01\n",
    "    }\n",
    "\n",
    "# we won't bother training OR testing on classes with fewer data than this number:\n",
    "minimum_class_count = 10"
   ]
  },
  {
   "cell_type": "markdown",
   "metadata": {},
   "source": [
    "## Counting the number of each class in the dataset\n",
    "Here we loop through the dataset once to get the count of each class. See also the `dataset_overview` notebook for a proper analysis of class frequency in the dataset."
   ]
  },
  {
   "cell_type": "code",
   "execution_count": 4,
   "metadata": {
    "collapsed": false
   },
   "outputs": [],
   "source": [
    "filelist = csv.reader(open(base_path + 'below12kHz_cropped_label.txt'))\n",
    "\n",
    "# loop over each wav file\n",
    "Y = []\n",
    "for f in filelist:\n",
    "    wavpath, start_time, wav_class, _ = f\n",
    "    Y.append(wav_class.lower().strip())\n",
    "\n",
    "# Make use of the collections counter class\n",
    "class_counts = collections.Counter(Y)"
   ]
  },
  {
   "cell_type": "markdown",
   "metadata": {},
   "source": [
    "## Loading data and computing different types of features\n",
    "For each wav file in the dataset, compute a few different types of features. Instead of loading all the data into memory first, each wav file is loaded one at a time. This reduces the memory load at the expense of repeating I/O operations if the notebook is run multiple times."
   ]
  },
  {
   "cell_type": "code",
   "execution_count": 5,
   "metadata": {
    "collapsed": false,
    "scrolled": true
   },
   "outputs": [
    {
     "name": "stdout",
     "output_type": "stream",
     "text": [
      "0 100 200 300 400 500 600 700 800 900 1000 1100 1200 1300 1400 1500 1600 1700 1800 Skipping  music\n",
      "1900 2000 2100 2200 Skipping  horn\n",
      "2300 Skipping  invertebrate\n",
      "Skipping  invertebrate\n",
      "Skipping  invertebrate\n",
      "Skipping  invertebrate\n",
      "Skipping  music\n",
      "2400 2500 2600 Skipping  applause\n",
      "2700 2800 Skipping  invertebrate\n",
      "2900 3000 3100 3200 3300 3400 3500 3600 3700 3800 3900 4000 4100 4200 4300 4400 4500 Skipping  invertebrate\n",
      "Skipping  invertebrate\n",
      "4600 4700 4800 4900 5000 5100 5200 5300 5400 Skipping  siren\n",
      "Skipping  siren\n",
      "Skipping  siren\n",
      "5500 Skipping  siren\n",
      "Skipping  siren\n",
      "Skipping  siren\n",
      "5600 5700 5800 5900 6000 6100 6200 6300 6400 6500 6600 6700 6800 6900 7000 7100 7200 Skipping  startthecar\n",
      "7300 7400 7500 7600 7700 7800 7900 8000 8100 8200 8300 Skipping  music\n",
      "8400 8500 Skipping  coughing\n",
      "Skipping  coughing\n",
      "Skipping  coughing\n",
      "Skipping  coughing\n",
      "Skipping  coughing\n",
      "8600 Skipping  bells\n",
      "Skipping  coughing\n",
      "Skipping  coughing\n",
      "8700 Skipping  siren\n"
     ]
    },
    {
     "name": "stderr",
     "output_type": "stream",
     "text": [
      "/Users/Michael/anaconda/lib/python2.7/site-packages/scipy/ndimage/interpolation.py:549: UserWarning: From scipy 0.13.0, the output shape of zoom() is calculated with round() instead of int() - for these inputs the size of the returned array has changed.\n",
      "  \"the returned array has changed.\", UserWarning)\n"
     ]
    }
   ],
   "source": [
    "# list of class labels\n",
    "Y = []  \n",
    "\n",
    "# Features. We maintain a separate list for each feature\n",
    "X_mfcc = []\n",
    "X_resized_spectrogram = []\n",
    "X_max_bins = []\n",
    "\n",
    "filelist = csv.reader(open(base_path + 'below12kHz_cropped_label.txt'))\n",
    "\n",
    "# loop over each wav file\n",
    "for count, f in enumerate(filelist):\n",
    "    \n",
    "    wavpath, start_time, wav_class, _ = f\n",
    "    \n",
    "    # don't bother with this example if there aren't enough of them in the dataset\n",
    "    if class_counts[wav_class.lower().strip()] < minimum_class_count:\n",
    "        print \"Skipping \", wav_class.lower().strip()\n",
    "        continue\n",
    "    \n",
    "    # add to the list of classes\n",
    "    Y.append(wav_class.lower().strip())\n",
    "    \n",
    "    # load in sound file and convert to spectogram  \n",
    "    sr, wav = scipy.io.wavfile.read(base_path + wavpath)  \n",
    "    spec = frequency.spectrogram(wav, sr, **spectrogram_parameters)\n",
    "    \n",
    "    # ---------------------------------------------\n",
    "    # FEATURE COMPUTATION\n",
    "    \n",
    "    # Small spectrogram: Simply make the spectrogram small, each pixel is a feature bin\n",
    "    X_resized_spectrogram.append(engaged_features.small_spectrogram(spec))\n",
    "    \n",
    "    # Max bins: Find the maximum frequency at each time step\n",
    "    X_max_bins.append(engaged_features.max_bins(spec))\n",
    "    \n",
    "    # MFCC features\n",
    "    mfcc_feats = mfcc(wav, sr, ceplifter=0, preemph=0, numcep=13)\n",
    "    accumulated_features = np.hstack([mfcc_feats.mean(0), mfcc_feats.var(0), mfcc_feats.max(0)])\n",
    "    X_mfcc.append(accumulated_features)\n",
    "    \n",
    "    # ---------------------------------------------\n",
    "   \n",
    "    # Keep us updated on progress\n",
    "    if count % 100 == 0:\n",
    "        print count, \n",
    "        \n",
    "    # Uncomment this to do a 'small' run with only a few examples\n",
    "#     if count >= 500:\n",
    "#         break"
   ]
  },
  {
   "cell_type": "markdown",
   "metadata": {},
   "source": [
    "## Combining features into Numpy arrays"
   ]
  },
  {
   "cell_type": "code",
   "execution_count": 7,
   "metadata": {
    "collapsed": false
   },
   "outputs": [
    {
     "name": "stdout",
     "output_type": "stream",
     "text": [
      "Feature matrix \"resized_spectrogram\" has shape (8737, 100)\n",
      "Feature matrix \"max_bins\" has shape (8737, 20)\n",
      "Feature matrix \"mfcc\" has shape (8737, 39)\n"
     ]
    }
   ],
   "source": [
    "# combine the lists of features into numpy arrays of features\n",
    "X = {}\n",
    "X['mfcc'] = np.vstack(X_mfcc)\n",
    "X['resized_spectrogram'] = np.vstack(X_resized_spectrogram)\n",
    "X['max_bins'] = np.vstack(X_max_bins)\n",
    "\n",
    "for name, x in X.iteritems():\n",
    "    print \"Feature matrix \\\"%s\\\" has shape (%d, %d)\" % (name, x.shape[0], x.shape[1])"
   ]
  },
  {
   "cell_type": "markdown",
   "metadata": {},
   "source": [
    "## Training and testing the models for each feature type\n",
    "The aim is to see how good each set of features is for classification.\n",
    "We run a different experiment for each set of features. We also run an experiment which combines all the features together.\n",
    "To remove dependancy on the train-test split used, we repeat this for 50 different train test splits.\n",
    "\n",
    "To account for imbalance in the training set, we use the `class_weight` functionality of `sklearn.ensemble.RandomForestClassifier`. This was introduced in sklearn 0.16.\n",
    "\n",
    "\n",
    "**TODO - we should really split by file not just by instance**"
   ]
  },
  {
   "cell_type": "code",
   "execution_count": 8,
   "metadata": {
    "collapsed": false
   },
   "outputs": [
    {
     "name": "stdout",
     "output_type": "stream",
     "text": [
      "Seed 0 Seed 1 Seed 2 Seed 3 Seed 4 Seed 5 Seed 6 Seed 7 Seed 8 Seed 9 Seed 10 Seed 11 Seed 12 Seed 13 Seed 14 Seed 15 Seed 16 Seed 17 Seed 18 Seed 19 Seed 20 Seed 21 Seed 22 Seed 23 Seed 24 Seed 25 Seed 26 Seed 27 Seed 28 Seed 29 Seed 30 Seed 31 Seed 32 Seed 33 Seed 34 Seed 35 Seed 36 Seed 37 Seed 38 Seed 39 Seed 40 Seed 41 Seed 42 Seed 43 Seed 44 Seed 45 Seed 46 Seed 47 Seed 48 Seed 49\n"
     ]
    }
   ],
   "source": [
    "# setting up a dictionary of experiments to run\n",
    "# keys are names of this experiment\n",
    "# values are a list of all the features to test on for this experiment\n",
    "experiments = {\n",
    "    'mfcc': ['mfcc'],\n",
    "    'resized_spectrogram': ['resized_spectrogram'],\n",
    "    'max_bins': ['max_bins'],\n",
    "    'all': ['mfcc', 'resized_spectrogram', 'max_bins']\n",
    "    }\n",
    "\n",
    "# set up a dictionary to store the results.\n",
    "# Using DefaultDict: https://docs.python.org/2/library/collections.html#defaultdict-examples\n",
    "results = collections.defaultdict(list)\n",
    "\n",
    "# we will repeat the experiment for multiple train/test splits, and ultimately average over them\n",
    "for random_seed in range(50):\n",
    "    \n",
    "    print \"Seed\", random_seed,\n",
    "    \n",
    "    # TODO - we should really split by file not just by instance\n",
    "    train_idxs, test_idxs = train_test_split(range(len(Y)))\n",
    "    \n",
    "    Y_train = [Y[idx] for idx in train_idxs]\n",
    "    Y_test = [Y[idx] for idx in test_idxs]\n",
    "    \n",
    "    # Set a baseline where all the test set is classified as bird\n",
    "    all_bird = {'Y_pred': ['bird'] * len(Y_test), 'Y_test': Y_test}\n",
    "    results['classify_all_as_bird'].append(all_bird)\n",
    "            \n",
    "    # loop over each experiment\n",
    "    for experiment_name, feature_list in experiments.iteritems():\n",
    "\n",
    "        # concatenating all the feature vectors for this experiment together\n",
    "        X_np = np.hstack([X[feat_name] for feat_name in feature_list])\n",
    "        \n",
    "        X_train = X_np[train_idxs]\n",
    "        X_test = X_np[test_idxs]\n",
    "\n",
    "        # training a classifier on these features and then testing on test set\n",
    "        rf = RandomForestClassifier(n_estimators=100, max_depth=20, class_weight='auto')\n",
    "        rf.fit(X_train, Y_train)\n",
    "        Y_pred = rf.predict(X_test)\n",
    "                \n",
    "        # adding this result to the results dictionary\n",
    "        this_result = {'Y_test': Y_test, 'Y_pred': list(Y_pred)}\n",
    "        results[experiment_name].append(this_result)"
   ]
  },
  {
   "cell_type": "markdown",
   "metadata": {},
   "source": [
    "## Evaluating accuracy of approaches\n",
    "There are "
   ]
  },
  {
   "cell_type": "code",
   "execution_count": 31,
   "metadata": {
    "collapsed": false
   },
   "outputs": [
    {
     "name": "stdout",
     "output_type": "stream",
     "text": [
      "mfcc                     0.736\t 0.414\n",
      "all                      0.668\t 0.206\n",
      "max_bins                 0.582\t 0.077\n",
      "resized_spectrogram      0.556\t 0.070\n",
      "classify_all_as_bird     0.549\t 0.051\n"
     ]
    },
    {
     "data": {
      "image/png": "[encoded data removed]",
      "text/plain": [
       "<matplotlib.figure.Figure at 0x111f5a050>"
      ]
     },
     "metadata": {},
     "output_type": "display_data"
    }
   ],
   "source": [
    "import sklearn.metrics\n",
    "\n",
    "def unweighted_accuracy(Y_pred, Y_ground_truth):\n",
    "    \"\"\"\n",
    "    This is simply the fraction of the test data which have been correctly labelled\n",
    "    \"\"\"\n",
    "    return sklearn.metrics.accuracy_score(Y_pred, Y_ground_truth)\n",
    "\n",
    "def class_weighted_accuracy(Y_pred, Y_ground_truth):\n",
    "    \"\"\"\n",
    "    This is the average fraction of each class in the ground truth examples which were correctly labelled.\n",
    "    This helps to remove bias caused by large imbalance in class labels in the testing set\n",
    "    \"\"\"\n",
    "#     all_labels_in_ground_truth = list(set(Y_ground_truth))\n",
    "    correct_label_count = defaultdict(int)\n",
    "    total_label_count = defaultdict(int)\n",
    "    \n",
    "    for y_pred, y_ground_truth in zip(Y_pred, Y_ground_truth):\n",
    "        \n",
    "        total_label_count[y_ground_truth] += 1\n",
    "        \n",
    "#         print y_pred, y_ground_truth\n",
    "        if y_pred == y_ground_truth:\n",
    "            correct_label_count[y_ground_truth] += 1\n",
    "        \n",
    "#     print correct_label_count\n",
    "    these_accs = []\n",
    "    for class_name, total_count in total_label_count.iteritems():\n",
    "        correct_count = correct_label_count[class_name]\n",
    "        these_accs.append(float(correct_count) / float(total_count))\n",
    "#         print class_name, correct_count, total_count\n",
    "    \n",
    "    return np.array(these_accs).mean()\n",
    "\n",
    "accuracies = []\n",
    "\n",
    "# Find the accuracy of each feature type\n",
    "for experiment_name, result_list in results.iteritems():\n",
    "    \n",
    "    # get a list of all the accuracy results for each train/test split\n",
    "    unweighted_acc = [unweighted_accuracy( result['Y_pred'], result['Y_test']) \n",
    "           for result in result_list]\n",
    "\n",
    "    weighted_acc = [class_weighted_accuracy( result['Y_pred'], result['Y_test']) \n",
    "           for result in result_list]\n",
    "\n",
    "    accuracies.append((experiment_name, unweighted_acc, weighted_acc))\n",
    "    \n",
    "# sorting the list of accuracies by median accuracy\n",
    "accuracies = sorted(accuracies, key=lambda x: np.median(np.array(x[1])))\n",
    "\n",
    "# printing this sorted list\n",
    "for experiment_name, acc1, acc2 in accuracies[::-1]:\n",
    "    print experiment_name.ljust(25) + '%0.3f\\t %0.3f' % (np.array(acc1).mean(), np.array(acc2).mean())\n",
    "\n",
    "plt.boxplot([acc[1] for acc in accuracies], 0, 'b+', 0);\n",
    "plt.xlim(0, 1.1)\n",
    "plt.xlabel('IoU')\n",
    "plt.gca().set_yticklabels([acc[0] for acc in accuracies]);"
   ]
  },
  {
   "cell_type": "markdown",
   "metadata": {},
   "source": [
    "## Confusion matrix\n",
    "Only plotting for one run of the results.\n",
    "\n",
    "- Experiment type: `all`, i.e. with all the features used\n",
    "- Zeroth train/test split\n",
    "\n",
    "i.e. `results['all'][0]['Y_pred']`"
   ]
  },
  {
   "cell_type": "code",
   "execution_count": null,
   "metadata": {
    "collapsed": false
   },
   "outputs": [],
   "source": [
    "from sklearn.metrics import confusion_matrix\n",
    "\n",
    "unique_labels = list(set(Y))\n",
    "\n",
    "cm = confusion_matrix(list(results['all'][0]['Y_pred']), results['all'][0]['Y_test'], labels=unique_labels)\n",
    "cm_normalized = cm.astype('float') / cm.sum(axis=1)[:, np.newaxis]\n",
    "\n",
    "def plot_confusion_matrix(cm, title='Confusion matrix', cmap=plt.cm.Blues):\n",
    "    plt.imshow(cm, interpolation='nearest', cmap=cmap)\n",
    "    plt.title(title)\n",
    "#     plt.colorbar()\n",
    "    tick_marks = np.arange(len(unique_labels))\n",
    "    plt.xticks(tick_marks, unique_labels, rotation=45)\n",
    "    plt.yticks(tick_marks, unique_labels)\n",
    "    plt.tight_layout()\n",
    "    plt.ylabel('True label')\n",
    "    plt.xlabel('Predicted label')\n",
    "\n",
    "plt.figure(figsize=(10, 10))\n",
    "plot_confusion_matrix(cm);\n",
    "print unique_labels"
   ]
  },
  {
   "cell_type": "markdown",
   "metadata": {},
   "source": [
    "## Feature importances from the random forest"
   ]
  },
  {
   "cell_type": "code",
   "execution_count": null,
   "metadata": {
    "collapsed": false
   },
   "outputs": [],
   "source": [
    "# plotting feature importances for each \n",
    "plt.figure(figsize=(10, 3))\n",
    "plt.plot(rf.feature_importances_, '.')"
   ]
  }
 ],
 "metadata": {
  "kernelspec": {
   "display_name": "Python 2",
   "language": "python",
   "name": "python2"
  },
  "language_info": {
   "codemirror_mode": {
    "name": "ipython",
    "version": 2
   },
   "file_extension": ".py",
   "mimetype": "text/x-python",
   "name": "python",
   "nbconvert_exporter": "python",
   "pygments_lexer": "ipython2",
   "version": "2.7.10"
  }
 },
 "nbformat": 4,
 "nbformat_minor": 0
}
