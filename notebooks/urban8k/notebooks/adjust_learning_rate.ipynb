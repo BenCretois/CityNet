{
 "cells": [
  {
   "cell_type": "code",
   "execution_count": 1,
   "metadata": {
    "collapsed": true
   },
   "outputs": [],
   "source": [
    "%matplotlib inline\n",
    "import matplotlib.pyplot as plt\n",
    "import numpy as np"
   ]
  },
  {
   "cell_type": "code",
   "execution_count": 3,
   "metadata": {
    "collapsed": false
   },
   "outputs": [
    {
     "name": "stderr",
     "output_type": "stream",
     "text": [
      "Using gpu device 0: GeForce GTX 770 (CNMeM is disabled)\n"
     ]
    }
   ],
   "source": [
    "import theano\n",
    "\n",
    "def float32(k):\n",
    "    return np.cast['float32'](k)\n",
    "\n",
    "\n",
    "class AdjustVariable(object):\n",
    "    def __init__(self, name, start=0.03, stop=0.001):\n",
    "        self.name = name\n",
    "        self.start, self.stop = start, stop\n",
    "        self.ls = None\n",
    "\n",
    "    def __call__(self, nn, epoch):\n",
    "        if self.ls is None:\n",
    "            self.ls = np.linspace(self.start, self.stop, nn.max_epochs)\n",
    "\n",
    "#         epoch = train_history[-1]['epoch']\n",
    "        new_value = float32(self.ls[epoch - 1])\n",
    "        getattr(nn, self.name).set_value(new_value)"
   ]
  },
  {
   "cell_type": "code",
   "execution_count": 4,
   "metadata": {
    "collapsed": false
   },
   "outputs": [],
   "source": [
    "t = AdjustVariable('learning_rate')"
   ]
  },
  {
   "cell_type": "code",
   "execution_count": 5,
   "metadata": {
    "collapsed": false
   },
   "outputs": [
    {
     "ename": "AttributeError",
     "evalue": "'float' object has no attribute 'set_value'",
     "output_type": "error",
     "traceback": [
      "\u001b[1;31m---------------------------------------------------------------------------\u001b[0m",
      "\u001b[1;31mAttributeError\u001b[0m                            Traceback (most recent call last)",
      "\u001b[1;32m<ipython-input-5-ae2c47fe5cab>\u001b[0m in \u001b[0;36m<module>\u001b[1;34m()\u001b[0m\n\u001b[0;32m      5\u001b[0m \u001b[1;33m\u001b[0m\u001b[0m\n\u001b[0;32m      6\u001b[0m \u001b[0mnn\u001b[0m \u001b[1;33m=\u001b[0m \u001b[0mfake_nn\u001b[0m\u001b[1;33m(\u001b[0m\u001b[1;33m)\u001b[0m\u001b[1;33m\u001b[0m\u001b[0m\n\u001b[1;32m----> 7\u001b[1;33m \u001b[1;32mprint\u001b[0m \u001b[0mt\u001b[0m\u001b[1;33m(\u001b[0m\u001b[0mnn\u001b[0m\u001b[1;33m,\u001b[0m \u001b[1;36m10\u001b[0m\u001b[1;33m)\u001b[0m\u001b[1;33m\u001b[0m\u001b[0m\n\u001b[0m",
      "\u001b[1;32m<ipython-input-3-51d3232de5cd>\u001b[0m in \u001b[0;36m__call__\u001b[1;34m(self, nn, epoch)\u001b[0m\n\u001b[0;32m     17\u001b[0m \u001b[1;31m#         epoch = train_history[-1]['epoch']\u001b[0m\u001b[1;33m\u001b[0m\u001b[1;33m\u001b[0m\u001b[0m\n\u001b[0;32m     18\u001b[0m         \u001b[0mnew_value\u001b[0m \u001b[1;33m=\u001b[0m \u001b[0mfloat32\u001b[0m\u001b[1;33m(\u001b[0m\u001b[0mself\u001b[0m\u001b[1;33m.\u001b[0m\u001b[0mls\u001b[0m\u001b[1;33m[\u001b[0m\u001b[0mepoch\u001b[0m \u001b[1;33m-\u001b[0m \u001b[1;36m1\u001b[0m\u001b[1;33m]\u001b[0m\u001b[1;33m)\u001b[0m\u001b[1;33m\u001b[0m\u001b[0m\n\u001b[1;32m---> 19\u001b[1;33m         \u001b[0mgetattr\u001b[0m\u001b[1;33m(\u001b[0m\u001b[0mnn\u001b[0m\u001b[1;33m,\u001b[0m \u001b[0mself\u001b[0m\u001b[1;33m.\u001b[0m\u001b[0mname\u001b[0m\u001b[1;33m)\u001b[0m\u001b[1;33m.\u001b[0m\u001b[0mset_value\u001b[0m\u001b[1;33m(\u001b[0m\u001b[0mnew_value\u001b[0m\u001b[1;33m)\u001b[0m\u001b[1;33m\u001b[0m\u001b[0m\n\u001b[0m",
      "\u001b[1;31mAttributeError\u001b[0m: 'float' object has no attribute 'set_value'"
     ]
    }
   ],
   "source": [
    "class fake_nn(object):\n",
    "    def __init__(self):\n",
    "        self.max_epochs = 100\n",
    "        self.learning_rate = 0.0004\n",
    "\n",
    "nn = fake_nn()\n",
    "print t(nn, 10)"
   ]
  },
  {
   "cell_type": "code",
   "execution_count": 18,
   "metadata": {
    "collapsed": false
   },
   "outputs": [
    {
     "data": {
      "text/plain": [
       "(0, 0.000375)"
      ]
     },
     "execution_count": 18,
     "metadata": {},
     "output_type": "execute_result"
    },
    {
     "data": {
      "image/png": "[encoded data removed]",
      "text/plain": [
       "<matplotlib.figure.Figure at 0x7fe3c40f8b90>"
      ]
     },
     "metadata": {},
     "output_type": "display_data"
    }
   ],
   "source": [
    "init_learning_rate = 0.00025\n",
    "iters_at_init_lr = 50\n",
    "tend_towards_lr = 0.0001\n",
    "falloff = 0.02\n",
    "max_epochs = 500\n",
    "\n",
    "l_rates = []\n",
    "for epoch in range(max_epochs):\n",
    "    if epoch < iters_at_init_lr:\n",
    "        lr = init_learning_rate\n",
    "    else:\n",
    "        lr = (init_learning_rate - tend_towards_lr) * \\\n",
    "            np.exp(-falloff *(epoch - iters_at_init_lr)) + tend_towards_lr\n",
    "    l_rates.append(lr)\n",
    "    \n",
    "plt.plot(l_rates)\n",
    "plt.ylim(0, init_learning_rate*1.5)"
   ]
  },
  {
   "cell_type": "code",
   "execution_count": 10,
   "metadata": {
    "collapsed": false
   },
   "outputs": [
    {
     "data": {
      "text/plain": [
       "[<matplotlib.lines.Line2D at 0x7f2497ec8590>]"
      ]
     },
     "execution_count": 10,
     "metadata": {},
     "output_type": "execute_result"
    },
    {
     "data": {
      "image/png": "[encoded data removed]",
      "text/plain": [
       "<matplotlib.figure.Figure at 0x7f2498098250>"
      ]
     },
     "metadata": {},
     "output_type": "display_data"
    }
   ],
   "source": [
    "class LearningRate(object):\n",
    "\n",
    "    def __init__(self, init, final, iters_at_init, falloff):\n",
    "        assert final < init\n",
    "        assert falloff > 0.0\n",
    "        self.init = init\n",
    "        self.iters_at_init = iters_at_init\n",
    "        self.final = final\n",
    "        self.falloff = falloff\n",
    "        self.current = init\n",
    "\n",
    "    def get_lr(self, epoch):\n",
    "        if epoch < self.iters_at_init:\n",
    "            return self.init\n",
    "        else:\n",
    "            diminuation = np.exp(-self.falloff *(epoch - self.iters_at_init))\n",
    "            return (self.init - self.final) * diminuation + self.final\n",
    "\n",
    "\n",
    "lr = LearningRate(0.00025, 0.0001, 50, 0.1)\n",
    "lrs = [lr.get_lr(ii) for ii in range(500)]\n",
    "\n",
    "plt.plot(lrs)"
   ]
  },
  {
   "cell_type": "code",
   "execution_count": 13,
   "metadata": {
    "collapsed": false
   },
   "outputs": [],
   "source": [
    "from hyperopt import hp\n",
    "space = (\n",
    "    hp.uniform( 'initial_learning_rate',  0.01,  0.1),\n",
    "    hp.uniform( 'final_learning_rate_fraction', 0.01, 0.1),\n",
    "    hp.quniform( 'epochs_of_initial', 25, 125, 5),\n",
    "    hp.uniform( 'falloff', 0.01, 0.2),\n",
    "    hp.uniform( 'input_dropout', 0.0, 0.5),\n",
    "    hp.choice( 'filter_sizes', [3, 4, 5]),\n",
    "    hp.quniform( 'num_filters', 32, 128, 1),\n",
    "    hp.choice( 'num_filter_layers', [1, 2, 3]),\n",
    "    hp.choice( 'pool_size_x', [2, 3, 4, 5, 6]),\n",
    "    hp.choice( 'pool_size_y', [2, 3, 4, 5, 6]),\n",
    "    hp.uniform( 'dense_dropout', 0.2, 0.8),\n",
    "    hp.choice( 'num_dense_layers', [2, 3, 4]),\n",
    "    hp.quniform( 'num_dense_units', 500, 1000, 1),\n",
    "    hp.choice( 'inital_filter_layer', [False, True]),\n",
    "    hp.choice( 'augment_flip', [False, True]),\n",
    "    hp.choice( 'augment_roll', [False, True]),\n",
    "    hp.choice( 'augment_vol_ramp', [False, True])\n",
    ")\n"
   ]
  },
  {
   "cell_type": "code",
   "execution_count": 24,
   "metadata": {
    "collapsed": false
   },
   "outputs": [
    {
     "name": "stdout",
     "output_type": "stream",
     "text": [
      "True\n",
      "True\n",
      "True\n",
      "True\n",
      "True\n",
      "True\n",
      "True\n",
      "True\n",
      "True\n",
      "True\n",
      "True\n",
      "True\n",
      "True\n",
      "True\n",
      "True\n",
      "True\n",
      "True\n"
     ]
    }
   ],
   "source": [
    "for s in space:\n",
    "    print s."
   ]
  }
 ],
 "metadata": {
  "kernelspec": {
   "display_name": "Python 2",
   "language": "python",
   "name": "python2"
  },
  "language_info": {
   "codemirror_mode": {
    "name": "ipython",
    "version": 2
   },
   "file_extension": ".py",
   "mimetype": "text/x-python",
   "name": "python",
   "nbconvert_exporter": "python",
   "pygments_lexer": "ipython2",
   "version": "2.7.10"
  }
 },
 "nbformat": 4,
 "nbformat_minor": 0
}
