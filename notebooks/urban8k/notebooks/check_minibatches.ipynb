{
 "cells": [
  {
   "cell_type": "code",
   "execution_count": 14,
   "metadata": {
    "collapsed": true
   },
   "outputs": [],
   "source": [
    "import numpy as np\n",
    "slices = True\n",
    "augment_data = False\n",
    "\n",
    "def extract_slice(x):\n",
    "    return x\n",
    "\n",
    "def form_correct_shape_array(x):\n",
    "    return np.hstack(x)\n",
    "\n",
    "def iterate_balanced_minibatches_multiclass(inputs, targets, full_batchsize, shuffle=True):\n",
    "\n",
    "    assert len(inputs) == len(targets)\n",
    "\n",
    "    all_targets = np.unique(targets)\n",
    "\n",
    "    idxs = {this_targ: np.where(targets==this_targ)[0]\n",
    "            for this_targ in all_targets}\n",
    "\n",
    "    if shuffle:\n",
    "        for key in idxs.keys():\n",
    "            np.random.shuffle(idxs[key])\n",
    "\n",
    "    per_class_batchsize = full_batchsize / len(all_targets)\n",
    "\n",
    "    # find the largest class - this will define the epoch size\n",
    "    examples_in_epoch = max([len(x) for _, x in idxs.iteritems()])\n",
    "\n",
    "    # in each batch, new data from largest class is provided\n",
    "    # data from other class is reused once it runs out\n",
    "    for start_idx in range(0, examples_in_epoch - per_class_batchsize + 1, per_class_batchsize):\n",
    "\n",
    "        # get indices for each of the excerpts, wrapping back to the beginning...\n",
    "        excerpts = []\n",
    "        for target, this_target_idxs in idxs.iteritems():\n",
    "            excerpts.append(np.take(\n",
    "                this_target_idxs, np.arange(start_idx, start_idx + per_class_batchsize), mode='wrap'))\n",
    "\n",
    "        # reform the full balanced inputs and output\n",
    "        full_idxs = np.hstack(excerpts)\n",
    "\n",
    "        if slices:\n",
    "            # take a single random slice from each of the training examples\n",
    "            these_spectrograms = [inputs[xx] for xx in full_idxs]\n",
    "            Xs = [extract_slice(x) for x in these_spectrograms]\n",
    "            if augment_data:\n",
    "                Xs = map(augment_slice, Xs)\n",
    "            yield form_correct_shape_array(Xs), targets[full_idxs]\n",
    "        else:\n",
    "            if augment_data:\n",
    "                Xs = map(augment_slice, inputs[full_idxs])\n",
    "            else:\n",
    "                Xs = inputs[full_idxs]\n",
    "            yield Xs, targets[full_idxs]\n"
   ]
  },
  {
   "cell_type": "code",
   "execution_count": 15,
   "metadata": {
    "collapsed": false
   },
   "outputs": [
    {
     "name": "stdout",
     "output_type": "stream",
     "text": [
      "(100,) (100,)\n"
     ]
    }
   ],
   "source": [
    "inputs = np.arange(100)\n",
    "targets = np.linspace(0, 10, 100).astype(np.int32)\n",
    "\n",
    "print inputs.shape, targets.shape\n",
    "\n",
    "x_iter = []\n",
    "y_iter = []\n",
    "for x, y in iterate_balanced_minibatches_multiclass(inputs, targets, 30):\n",
    "    x_iter.append(x)\n",
    "    y_iter.append(y)"
   ]
  },
  {
   "cell_type": "code",
   "execution_count": 19,
   "metadata": {
    "collapsed": false
   },
   "outputs": [
    {
     "name": "stdout",
     "output_type": "stream",
     "text": [
      "[ 9  5 17 14 28 29 37 39 40 46 57 52 61 65 71 77 82 80 92 96 99 99  7  6 10\n",
      " 11 25 21 31 38 47 42 59 55 62 63 78 74 86 81 95 90 99 99  4  2 18 13 27 23\n",
      " 30 36 44 41 53 50 64 66 76 73 89 83 98 93 99 99  3  8 12 15 24 20 35 32 45\n",
      " 48 51 56 68 69 72 75 85 87 97 91 99 99  0  1 16 19 22 26 33 34 43 49 54 58\n",
      " 60 67 79 70 88 84 94 92 99 99] [ 0  0  1  1  2  2  3  3  4  4  5  5  6  6  7  7  8  8  9  9 10 10  0  0  1\n",
      "  1  2  2  3  3  4  4  5  5  6  6  7  7  8  8  9  9 10 10  0  0  1  1  2  2\n",
      "  3  3  4  4  5  5  6  6  7  7  8  8  9  9 10 10  0  0  1  1  2  2  3  3  4\n",
      "  4  5  5  6  6  7  7  8  8  9  9 10 10  0  0  1  1  2  2  3  3  4  4  5  5\n",
      "  6  6  7  7  8  8  9  9 10 10]\n",
      "(100,) (100,)\n",
      "(11,) [10 10 10 10 10 10 10 10 10 10 10]\n"
     ]
    }
   ],
   "source": [
    "XX = np.hstack(x_iter)\n",
    "YY = np.hstack(y_iter)\n",
    "print XX, YY\n",
    "\n",
    "print np.unique(XX).shape, inputs.shape\n",
    "print np.unique(YY).shape, np.bincount(YY)"
   ]
  }
 ],
 "metadata": {
  "kernelspec": {
   "display_name": "Python 2",
   "language": "python",
   "name": "python2"
  },
  "language_info": {
   "codemirror_mode": {
    "name": "ipython",
    "version": 2
   },
   "file_extension": ".py",
   "mimetype": "text/x-python",
   "name": "python",
   "nbconvert_exporter": "python",
   "pygments_lexer": "ipython2",
   "version": "2.7.10"
  }
 },
 "nbformat": 4,
 "nbformat_minor": 0
}
