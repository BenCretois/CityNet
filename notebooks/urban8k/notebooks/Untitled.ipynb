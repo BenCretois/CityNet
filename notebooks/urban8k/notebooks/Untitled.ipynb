{
 "cells": [
  {
   "cell_type": "code",
   "execution_count": 1,
   "metadata": {
    "collapsed": true
   },
   "outputs": [],
   "source": [
    "\n",
    "from skimage.measure import marching_cubes"
   ]
  },
  {
   "cell_type": "code",
   "execution_count": 7,
   "metadata": {
    "collapsed": false
   },
   "outputs": [
    {
     "name": "stdout",
     "output_type": "stream",
     "text": [
      "(array([[ 1.,  0.,  0.],\n",
      "       [ 1.,  1.,  0.],\n",
      "       [ 1.,  1.,  1.],\n",
      "       [ 1.,  0.,  1.],\n",
      "       [ 1.,  1.,  2.],\n",
      "       [ 1.,  0.,  2.],\n",
      "       [ 1.,  2.,  0.],\n",
      "       [ 1.,  2.,  1.],\n",
      "       [ 1.,  2.,  2.]]), array([[0, 1, 2],\n",
      "       [0, 2, 3],\n",
      "       [3, 2, 4],\n",
      "       [3, 4, 5],\n",
      "       [1, 6, 7],\n",
      "       [1, 7, 2],\n",
      "       [2, 7, 8],\n",
      "       [2, 8, 4]]))\n"
     ]
    }
   ],
   "source": [
    "import numpy as np\n",
    "V = np.zeros((3, 3, 3))\n",
    "V[0] = 1\n",
    "V[1] = 0\n",
    "V[2] = np.nan\n",
    "print marching_cubes(V, 0)"
   ]
  }
 ],
 "metadata": {
  "kernelspec": {
   "display_name": "Python 2",
   "language": "python",
   "name": "python2"
  },
  "language_info": {
   "codemirror_mode": {
    "name": "ipython",
    "version": 2
   },
   "file_extension": ".py",
   "mimetype": "text/x-python",
   "name": "python",
   "nbconvert_exporter": "python",
   "pygments_lexer": "ipython2",
   "version": "2.7.10"
  }
 },
 "nbformat": 4,
 "nbformat_minor": 0
}
