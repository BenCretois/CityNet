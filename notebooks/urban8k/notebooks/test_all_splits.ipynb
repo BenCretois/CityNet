{
 "cells": [
  {
   "cell_type": "code",
   "execution_count": 1,
   "metadata": {
    "collapsed": false
   },
   "outputs": [
    {
     "name": "stderr",
     "output_type": "stream",
     "text": [
      "Using gpu device 0: GeForce GTX 770 (CNMeM is disabled)\n"
     ]
    }
   ],
   "source": [
    "%matplotlib inline\n",
    "%load_ext autoreload\n",
    "%autoreload 2\n",
    "import matplotlib.pyplot as plt\n",
    "import csv\n",
    "import os\n",
    "import sys\n",
    "import numpy as np\n",
    "import collections\n",
    "import scipy.io\n",
    "import time\n",
    "import cPickle as pickle\n",
    "\n",
    "# CNN bits\n",
    "import theano\n",
    "import theano.tensor as T\n",
    "import lasagne\n",
    "from lasagne import layers\n",
    "\n",
    "# for evaluation\n",
    "sys.path.append(os.path.expanduser('~/projects/engaged_hackathon/'))\n",
    "sys.path.append('../')\n",
    "from engaged.features import evaluation, cnn_utils\n",
    "import urban8k_helpers as helpers\n",
    "\n",
    "from sklearn import metrics\n",
    "from sklearn.metrics import roc_curve, auc\n",
    "\n",
    "\n",
    "# https://groups.google.com/forum/#!topic/lasagne-users/t_rMTLAtpZo\n",
    "theano.config.profile = True\n",
    "os.environ['CUDA_LAUNCH_BLOCKING'] = '1'\n",
    "\n",
    "from sklearn import metrics"
   ]
  },
  {
   "cell_type": "code",
   "execution_count": 2,
   "metadata": {
    "collapsed": false,
    "scrolled": true
   },
   "outputs": [
    {
     "name": "stdout",
     "output_type": "stream",
     "text": [
      "Loading data\n",
      "There are 10 classes \n",
      "[0 1 2 3 4 5 6 7 8 9]\n",
      "train_X 6971 train_y 6971 val_y 888 val_X 888 test_y 873 test_X 873 validation set is of size  (873, 1, 128, 128) (873,)\n",
      "Loading data\n",
      "There are 10 classes \n",
      "[0 1 2 3 4 5 6 7 8 9]\n",
      "train_X 6919 train_y 6919 val_y 925 val_X 925 test_y 888 test_X 888 validation set is of size  (888, 1, 128, 128) (888,)\n",
      "Loading data\n",
      "There are 10 classes \n",
      "[0 1 2 3 4 5 6 7 8 9]\n",
      "train_X 6817 train_y 6817 val_y 990 val_X 990 test_y 925 test_X 925 validation set is of size  (925, 1, 128, 128) (925,)\n",
      "Loading data\n",
      "There are 10 classes \n",
      "[0 1 2 3 4 5 6 7 8 9]\n",
      "train_X 6806 train_y 6806 val_y 936 val_X 936 test_y 990 test_X 990 validation set is of size  (990, 1, 128, 128) (990,)\n",
      "Loading data\n",
      "There are 10 classes \n",
      "[0 1 2 3 4 5 6 7 8 9]\n",
      "train_X 6973 train_y 6973 val_y 823 val_X 823 test_y 936 test_X 936 validation set is of size  (936, 1, 128, 128) (936,)\n",
      "Loading data\n",
      "There are 10 classes \n",
      "[0 1 2 3 4 5 6 7 8 9]\n",
      "train_X 7071 train_y 7071 val_y 838 val_X 838 test_y 823 test_X 823 validation set is of size  (823, 1, 128, 128) (823,)\n",
      "Loading data\n",
      "There are 10 classes \n",
      "[0 1 2 3 4 5 6 7 8 9]\n",
      "train_X 7088 train_y 7088 val_y 806 val_X 806 test_y 838 test_X 838 validation set is of size  (838, 1, 128, 128) (838,)\n",
      "Loading data\n",
      "There are 10 classes \n",
      "[0 1 2 3 4 5 6 7 8 9]\n",
      "train_X 7110 train_y 7110 val_y 816 val_X 816 test_y 806 test_X 806 validation set is of size  (806, 1, 128, 128) (806,)\n",
      "Loading data\n",
      "There are 10 classes \n",
      "[0 1 2 3 4 5 6 7 8 9]\n",
      "train_X 7079 train_y 7079 val_y 837 val_X 837 test_y 816 test_X 816 validation set is of size  (816, 1, 128, 128) (816,)\n",
      "Loading data\n",
      "There are 10 classes \n",
      "[0 1 2 3 4 5 6 7 8 9]\n",
      "train_X 7022 train_y 7022 val_y 873 val_X 873 test_y 837 test_X 837 validation set is of size  (837, 1, 128, 128) (837,)\n",
      "Loading data\n",
      "There are 10 classes \n",
      "[0 1 2 3 4 5 6 7 8 9]\n",
      "train_X 6971 train_y 6971 val_y 888 val_X 888 test_y 873 test_X 873 validation set is of size  (873, 1, 128, 128) (873,)\n",
      "Loading data\n",
      "There are 10 classes \n",
      "[0 1 2 3 4 5 6 7 8 9]\n",
      "train_X 6919 train_y 6919 val_y 925 val_X 925 test_y 888 test_X 888 validation set is of size  (888, 1, 128, 128) (888,)\n",
      "Loading data\n",
      "There are 10 classes \n",
      "[0 1 2 3 4 5 6 7 8 9]\n",
      "train_X 6817 train_y 6817 val_y 990 val_X 990 test_y 925 test_X 925 validation set is of size  (925, 1, 128, 128) (925,)\n",
      "Loading data\n",
      "There are 10 classes \n",
      "[0 1 2 3 4 5 6 7 8 9]\n",
      "train_X 6806 train_y 6806 val_y 936 val_X 936 test_y 990 test_X 990 validation set is of size  (990, 1, 128, 128) (990,)\n",
      "Loading data\n",
      "There are 10 classes \n",
      "[0 1 2 3 4 5 6 7 8 9]\n",
      "train_X 6973 train_y 6973 val_y 823 val_X 823 test_y 936 test_X 936 validation set is of size  (936, 1, 128, 128) (936,)\n",
      "Loading data\n",
      "There are 10 classes \n",
      "[0 1 2 3 4 5 6 7 8 9]\n",
      "train_X 7071 train_y 7071 val_y 838 val_X 838 test_y 823 test_X 823 validation set is of size  (823, 1, 128, 128) (823,)\n",
      "Loading data\n",
      "There are 10 classes \n",
      "[0 1 2 3 4 5 6 7 8 9]\n",
      "train_X 7088 train_y 7088 val_y 806 val_X 806 test_y 838 test_X 838 validation set is of size  (838, 1, 128, 128) (838,)\n",
      "Loading data\n",
      "There are 10 classes \n",
      "[0 1 2 3 4 5 6 7 8 9]\n",
      "train_X 7110 train_y 7110 val_y 816 val_X 816 test_y 806 test_X 806 validation set is of size  (806, 1, 128, 128) (806,)\n",
      "Loading data\n",
      "There are 10 classes \n",
      "[0 1 2 3 4 5 6 7 8 9]\n",
      "train_X 7079 train_y 7079 val_y 837 val_X 837 test_y 816 test_X 816 validation set is of size  (816, 1, 128, 128) (816,)\n",
      "Loading data\n",
      "There are 10 classes \n",
      "[0 1 2 3 4 5 6 7 8 9]\n",
      "train_X 7022 train_y 7022 val_y 873 val_X 873 test_y 837 test_X 837 validation set is of size  (837, 1, 128, 128) (837,)\n"
     ]
    }
   ],
   "source": [
    "base_path = '/media/michael/Seagate/urban8k/'\n",
    "\n",
    "minibatch_size = 40\n",
    "do_median_normalise = True\n",
    "slice_width = 128\n",
    "all_accuracies = collections.defaultdict(list)\n",
    "all_auc = collections.defaultdict(list)\n",
    "\n",
    "for runname in ['train_data', 'train_and_val_data']:\n",
    "    \n",
    "    for split in range(1, 11):\n",
    "\n",
    "        all_preds = []\n",
    "        all_gt = []\n",
    "\n",
    "        # loading data\n",
    "        loadpath = base_path + 'splits_128/split' + str(split) + '.pkl'\n",
    "        dataset, num_classes = helpers.load_data(loadpath)\n",
    "\n",
    "        test_X, test_y = helpers.form_slices_validation_set(\n",
    "            dataset, slice_width, do_median_normalise, key='test_')\n",
    "\n",
    "        # loading model\n",
    "        foldername = 'split_%d_' + runname\n",
    "        modelloadpath = ('../results/full_split_run_0003/' + \\\n",
    "                         foldername + '/final_model.pkl') % split\n",
    "        if not os.path.exists(modelloadpath):\n",
    "            print \"Not found \", modelloadpath\n",
    "            continue\n",
    "        network, predict_fn, results = pickle.load(open(modelloadpath))\n",
    "\n",
    "        # doing prediction\n",
    "        for inputs, targets in helpers.iterate_minibatches(\n",
    "                test_X, test_y, int(minibatch_size), slice_width):\n",
    "            preds = predict_fn(inputs)\n",
    "            all_preds.append(preds)\n",
    "            all_gt.append(targets)\n",
    "\n",
    "        all_preds = np.vstack(all_preds)\n",
    "        all_gt = np.hstack(all_gt)\n",
    "\n",
    "        # recording the final metrics\n",
    "        acc = metrics.accuracy_score(np.argmax(all_preds, axis=1), all_gt)\n",
    "        all_accuracies[runname].append(acc)\n",
    "\n",
    "        auc = cnn_utils.multiclass_auc(all_gt, all_preds)\n",
    "        all_auc[runname].append(auc)"
   ]
  },
  {
   "cell_type": "code",
   "execution_count": 3,
   "metadata": {
    "collapsed": false
   },
   "outputs": [
    {
     "data": {
      "text/plain": [
       "<matplotlib.text.Text at 0x7f8587185bd0>"
      ]
     },
     "execution_count": 3,
     "metadata": {},
     "output_type": "execute_result"
    },
    {
     "data": {
      "image/png": "[encoded data removed]",
      "text/plain": [
       "<matplotlib.figure.Figure at 0x7f85900a2090>"
      ]
     },
     "metadata": {},
     "output_type": "display_data"
    },
    {
     "data": {
      "image/png": "[encoded data removed]",
      "text/plain": [
       "<matplotlib.figure.Figure at 0x7f85900a2050>"
      ]
     },
     "metadata": {},
     "output_type": "display_data"
    }
   ],
   "source": [
    "plt.boxplot(all_accuracies.values(), 0, 'r+', 0)\n",
    "plt.xlabel('Accuracy')\n",
    "plt.ylabel(all_accuracies.keys())\n",
    "\n",
    "plt.figure()\n",
    "plt.boxplot(all_auc.values(), 0, 'r+', 0)\n",
    "plt.xlabel('AUC')\n",
    "plt.ylabel(all_auc.keys())"
   ]
  },
  {
   "cell_type": "code",
   "execution_count": 5,
   "metadata": {
    "collapsed": true
   },
   "outputs": [],
   "source": [
    "# print the timings...\n"
   ]
  },
  {
   "cell_type": "code",
   "execution_count": 4,
   "metadata": {
    "collapsed": false
   },
   "outputs": [
    {
     "name": "stdout",
     "output_type": "stream",
     "text": [
      "0\n"
     ]
    },
    {
     "data": {
      "text/plain": [
       "[<matplotlib.lines.Line2D at 0x7f8588b3d990>]"
      ]
     },
     "execution_count": 4,
     "metadata": {},
     "output_type": "execute_result"
    },
    {
     "data": {
      "image/png": "[encoded data removed]",
      "text/plain": [
       "<matplotlib.figure.Figure at 0x7f85e8493b50>"
      ]
     },
     "metadata": {},
     "output_type": "display_data"
    }
   ],
   "source": [
    "accs = all_accuracies['train_data']\n",
    "print np.argmin(np.abs(accs - np.median(accs)))\n",
    "plt.plot(accs)"
   ]
  },
  {
   "cell_type": "code",
   "execution_count": null,
   "metadata": {
    "collapsed": false
   },
   "outputs": [],
   "source": [
    "\n"
   ]
  },
  {
   "cell_type": "code",
   "execution_count": 31,
   "metadata": {
    "collapsed": false
   },
   "outputs": [
    {
     "name": "stdout",
     "output_type": "stream",
     "text": [
      "['air_conditioner', 'car_horn', 'children_playing', 'dog_bark', 'drilling', 'engine_idling', 'gun_shot', 'jackhammer', 'siren', 'street_music']\n"
     ]
    }
   ],
   "source": [
    "import pandas as pd\n",
    "base_path = '/media/michael/Seagate/urban8k/'\n",
    "meta_path = base_path + 'UrbanSound8K/metadata/UrbanSound8K.csv'\n",
    "\n",
    "unique_labels = [''] * 10\n",
    "\n",
    "# data = \n",
    "data = pd.read_csv(meta_path)\n",
    "for row in data.iterrows():\n",
    "    unique_labels[row[1]['classID']] = row[1]['class']\n",
    "# print data\n",
    "print unique_labels "
   ]
  },
  {
   "cell_type": "code",
   "execution_count": 32,
   "metadata": {
    "collapsed": false
   },
   "outputs": [
    {
     "ename": "ValueError",
     "evalue": "axis(=1) out of bounds",
     "output_type": "error",
     "traceback": [
      "\u001b[1;31m---------------------------------------------------------------------------\u001b[0m",
      "\u001b[1;31mValueError\u001b[0m                                Traceback (most recent call last)",
      "\u001b[1;32m<ipython-input-32-426fd1a3a49e>\u001b[0m in \u001b[0;36m<module>\u001b[1;34m()\u001b[0m\n\u001b[1;32m----> 1\u001b[1;33m \u001b[0mcm\u001b[0m \u001b[1;33m=\u001b[0m \u001b[0mmetrics\u001b[0m\u001b[1;33m.\u001b[0m\u001b[0mconfusion_matrix\u001b[0m\u001b[1;33m(\u001b[0m\u001b[0mnp\u001b[0m\u001b[1;33m.\u001b[0m\u001b[0margmax\u001b[0m\u001b[1;33m(\u001b[0m\u001b[0mall_preds\u001b[0m\u001b[1;33m,\u001b[0m \u001b[0maxis\u001b[0m\u001b[1;33m=\u001b[0m\u001b[1;36m1\u001b[0m\u001b[1;33m)\u001b[0m\u001b[1;33m,\u001b[0m \u001b[0mall_gt\u001b[0m\u001b[1;33m)\u001b[0m\u001b[1;33m\u001b[0m\u001b[0m\n\u001b[0m\u001b[0;32m      2\u001b[0m \u001b[1;33m\u001b[0m\u001b[0m\n\u001b[0;32m      3\u001b[0m \u001b[1;32mdef\u001b[0m \u001b[0mplot_confusion_matrix\u001b[0m\u001b[1;33m(\u001b[0m\u001b[0mcm\u001b[0m\u001b[1;33m,\u001b[0m \u001b[0mtitle\u001b[0m\u001b[1;33m=\u001b[0m\u001b[1;34m'Confusion matrix'\u001b[0m\u001b[1;33m,\u001b[0m \u001b[0mcmap\u001b[0m\u001b[1;33m=\u001b[0m\u001b[0mplt\u001b[0m\u001b[1;33m.\u001b[0m\u001b[0mcm\u001b[0m\u001b[1;33m.\u001b[0m\u001b[0mBlues\u001b[0m\u001b[1;33m)\u001b[0m\u001b[1;33m:\u001b[0m\u001b[1;33m\u001b[0m\u001b[0m\n\u001b[0;32m      4\u001b[0m     \u001b[0mplt\u001b[0m\u001b[1;33m.\u001b[0m\u001b[0mimshow\u001b[0m\u001b[1;33m(\u001b[0m\u001b[0mcm\u001b[0m\u001b[1;33m,\u001b[0m \u001b[0minterpolation\u001b[0m\u001b[1;33m=\u001b[0m\u001b[1;34m'nearest'\u001b[0m\u001b[1;33m,\u001b[0m \u001b[0mcmap\u001b[0m\u001b[1;33m=\u001b[0m\u001b[0mcmap\u001b[0m\u001b[1;33m)\u001b[0m\u001b[1;33m\u001b[0m\u001b[0m\n\u001b[0;32m      5\u001b[0m     \u001b[0mplt\u001b[0m\u001b[1;33m.\u001b[0m\u001b[0mtitle\u001b[0m\u001b[1;33m(\u001b[0m\u001b[0mtitle\u001b[0m\u001b[1;33m)\u001b[0m\u001b[1;33m\u001b[0m\u001b[0m\n",
      "\u001b[1;32m/home/michael/anaconda/lib/python2.7/site-packages/numpy/core/fromnumeric.pyc\u001b[0m in \u001b[0;36margmax\u001b[1;34m(a, axis)\u001b[0m\n\u001b[0;32m    940\u001b[0m         \u001b[0margmax\u001b[0m \u001b[1;33m=\u001b[0m \u001b[0ma\u001b[0m\u001b[1;33m.\u001b[0m\u001b[0margmax\u001b[0m\u001b[1;33m\u001b[0m\u001b[0m\n\u001b[0;32m    941\u001b[0m     \u001b[1;32mexcept\u001b[0m \u001b[0mAttributeError\u001b[0m\u001b[1;33m:\u001b[0m\u001b[1;33m\u001b[0m\u001b[0m\n\u001b[1;32m--> 942\u001b[1;33m         \u001b[1;32mreturn\u001b[0m \u001b[0m_wrapit\u001b[0m\u001b[1;33m(\u001b[0m\u001b[0ma\u001b[0m\u001b[1;33m,\u001b[0m \u001b[1;34m'argmax'\u001b[0m\u001b[1;33m,\u001b[0m \u001b[0maxis\u001b[0m\u001b[1;33m)\u001b[0m\u001b[1;33m\u001b[0m\u001b[0m\n\u001b[0m\u001b[0;32m    943\u001b[0m     \u001b[1;32mreturn\u001b[0m \u001b[0margmax\u001b[0m\u001b[1;33m(\u001b[0m\u001b[0maxis\u001b[0m\u001b[1;33m)\u001b[0m\u001b[1;33m\u001b[0m\u001b[0m\n\u001b[0;32m    944\u001b[0m \u001b[1;33m\u001b[0m\u001b[0m\n",
      "\u001b[1;32m/home/michael/anaconda/lib/python2.7/site-packages/numpy/core/fromnumeric.pyc\u001b[0m in \u001b[0;36m_wrapit\u001b[1;34m(obj, method, *args, **kwds)\u001b[0m\n\u001b[0;32m     43\u001b[0m     \u001b[1;32mexcept\u001b[0m \u001b[0mAttributeError\u001b[0m\u001b[1;33m:\u001b[0m\u001b[1;33m\u001b[0m\u001b[0m\n\u001b[0;32m     44\u001b[0m         \u001b[0mwrap\u001b[0m \u001b[1;33m=\u001b[0m \u001b[0mNone\u001b[0m\u001b[1;33m\u001b[0m\u001b[0m\n\u001b[1;32m---> 45\u001b[1;33m     \u001b[0mresult\u001b[0m \u001b[1;33m=\u001b[0m \u001b[0mgetattr\u001b[0m\u001b[1;33m(\u001b[0m\u001b[0masarray\u001b[0m\u001b[1;33m(\u001b[0m\u001b[0mobj\u001b[0m\u001b[1;33m)\u001b[0m\u001b[1;33m,\u001b[0m \u001b[0mmethod\u001b[0m\u001b[1;33m)\u001b[0m\u001b[1;33m(\u001b[0m\u001b[1;33m*\u001b[0m\u001b[0margs\u001b[0m\u001b[1;33m,\u001b[0m \u001b[1;33m**\u001b[0m\u001b[0mkwds\u001b[0m\u001b[1;33m)\u001b[0m\u001b[1;33m\u001b[0m\u001b[0m\n\u001b[0m\u001b[0;32m     46\u001b[0m     \u001b[1;32mif\u001b[0m \u001b[0mwrap\u001b[0m\u001b[1;33m:\u001b[0m\u001b[1;33m\u001b[0m\u001b[0m\n\u001b[0;32m     47\u001b[0m         \u001b[1;32mif\u001b[0m \u001b[1;32mnot\u001b[0m \u001b[0misinstance\u001b[0m\u001b[1;33m(\u001b[0m\u001b[0mresult\u001b[0m\u001b[1;33m,\u001b[0m \u001b[0mmu\u001b[0m\u001b[1;33m.\u001b[0m\u001b[0mndarray\u001b[0m\u001b[1;33m)\u001b[0m\u001b[1;33m:\u001b[0m\u001b[1;33m\u001b[0m\u001b[0m\n",
      "\u001b[1;31mValueError\u001b[0m: axis(=1) out of bounds"
     ]
    }
   ],
   "source": [
    "cm = metrics.confusion_matrix(np.argmax(all_preds, axis=1), all_gt)\n",
    "\n",
    "def plot_confusion_matrix(cm, title='Confusion matrix', cmap=plt.cm.Blues):\n",
    "    plt.imshow(cm, interpolation='nearest', cmap=cmap)\n",
    "    plt.title(title)\n",
    "    plt.colorbar(fraction=0.046, pad=0.04)\n",
    "    tick_marks = np.arange(len(unique_labels))\n",
    "    plt.xticks(tick_marks, unique_labels, rotation=75)\n",
    "\n",
    "    plt.yticks(tick_marks, unique_labels)\n",
    "    plt.tight_layout()\n",
    "    plt.ylabel('True label')\n",
    "    plt.xlabel('Predicted label')\n",
    "\n",
    "font = {'family' : 'normal',\n",
    "    'weight' : 'bold',\n",
    "    'size'   : 12}\n",
    "\n",
    "plt.rc('font', **font)\n",
    "plt.figure(figsize=(9, 9))\n",
    "plot_confusion_matrix(cm)"
   ]
  }
 ],
 "metadata": {
  "kernelspec": {
   "display_name": "Python 2",
   "language": "python",
   "name": "python2"
  },
  "language_info": {
   "codemirror_mode": {
    "name": "ipython",
    "version": 2
   },
   "file_extension": ".py",
   "mimetype": "text/x-python",
   "name": "python",
   "nbconvert_exporter": "python",
   "pygments_lexer": "ipython2",
   "version": "2.7.10"
  }
 },
 "nbformat": 4,
 "nbformat_minor": 0
}
