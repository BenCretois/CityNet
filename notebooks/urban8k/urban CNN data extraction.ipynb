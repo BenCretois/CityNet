{
 "cells": [
  {
   "cell_type": "code",
   "execution_count": 15,
   "metadata": {
    "collapsed": true
   },
   "outputs": [],
   "source": [
    "# doing the classification on the urban "
   ]
  },
  {
   "cell_type": "code",
   "execution_count": 16,
   "metadata": {
    "collapsed": false
   },
   "outputs": [
    {
     "name": "stdout",
     "output_type": "stream",
     "text": [
      "The autoreload extension is already loaded. To reload it, use:\n",
      "  %reload_ext autoreload\n"
     ]
    }
   ],
   "source": [
    "%load_ext autoreload\n",
    "%autoreload 2\n",
    "%matplotlib inline\n",
    "import matplotlib.pyplot as plt\n",
    "import csv\n",
    "import os\n",
    "import numpy as np\n",
    "import collections\n",
    "\n",
    "import scipy.io.wavfile\n",
    "import collections\n",
    "import wavio\n",
    "\n",
    "import sys, os\n",
    "sys.path.append(os.path.expanduser('~/projects/engaged_hackathon/'))\n",
    "from engaged.features import frequency\n",
    "import IPython"
   ]
  },
  {
   "cell_type": "code",
   "execution_count": 17,
   "metadata": {
    "collapsed": false
   },
   "outputs": [],
   "source": [
    "base_path = '/home/michael/projects/engaged_hackathon_data/urban_8k/'\n",
    "meta_path = base_path + 'UrbanSound8K/metadata/UrbanSound8K.csv'\n",
    "wav_path = base_path + 'UrbanSound8K/audio/'\n",
    "\n",
    "spectrogram_parameters = {\n",
    "    'nfft': 512,\n",
    "    'window_width': 0.03,\n",
    "    'overlap': 0.02\n",
    "    }"
   ]
  },
  {
   "cell_type": "code",
   "execution_count": 18,
   "metadata": {
    "collapsed": false
   },
   "outputs": [],
   "source": [
    "import pandas as pd\n",
    "data = pd.read_csv(meta_path)"
   ]
  },
  {
   "cell_type": "code",
   "execution_count": 19,
   "metadata": {
    "collapsed": false
   },
   "outputs": [],
   "source": [
    "# # Fixing of files which scipy.io.wavfile chokes on.\n",
    "# # This is done using ffmpeg from command line\n",
    "\n",
    "# # This has I hope been coded in such a way that:\n",
    "# # 1) The original filenames can be used, as given by the csv file\n",
    "# # 2) The original data is preserved (as '*_original.wav' files)\n",
    "# # 3) Running this multiple times will not cause unexpected effects\n",
    "\n",
    "# import subprocess as sp\n",
    "# import shutil\n",
    "\n",
    "# for idx in data.index:\n",
    "\n",
    "#     folder = 'fold' + str(data['fold'][idx]) + '/'\n",
    "#     loadpath = wav_path + folder + data['slice_file_name'][idx]\n",
    "    \n",
    "#     try:\n",
    "#         sample_rate, wav = scipy.io.wavfile.read(loadpath)\n",
    "#     except:\n",
    "        \n",
    "#         # todo - this should really not be in this except bit...\n",
    "#         old_file = loadpath\n",
    "#         new_file = loadpath.replace('.wav', '_original.wav')\n",
    "\n",
    "#         shutil.move(old_file, new_file)\n",
    "#         command = ['ffmpeg', '-i', new_file, old_file]\n",
    "#         sp.call(command)\n",
    "\n",
    "#     if idx % 100 == 0:\n",
    "#         print idx,"
   ]
  },
  {
   "cell_type": "code",
   "execution_count": 20,
   "metadata": {
    "collapsed": false
   },
   "outputs": [
    {
     "name": "stdout",
     "output_type": "stream",
     "text": [
      "0 100 200 300 400 500 600 700 800 900 1000 1100 1200 1300 1400 1500 1600 1700 1800 1900 2000 2100 2200 2300 2400 2500 2600 2700 2800 2900 3000 3100 3200 3300 3400 3500 3600 3700 3800 3900 4000 4100 4200 4300 4400 4500 4600 4700 4800 4900 5000 5100 5200 5300 5400 5500 5600 5700 5800 5900 6000 6100 6200 6300 6400 6500 6600 6700 6800 6900 7000 7100 7200 7300 7400 7500 7600 7700 7800 7900 8000 8100 8200 8300 8400 8500 8600 8700\n"
     ]
    }
   ],
   "source": [
    "# load in all the data\n",
    "all_spec = []\n",
    "all_fold_idxs = []\n",
    "\n",
    "for idx in data.index:\n",
    "    # load the audio and convert to spec\n",
    "    folder = 'fold' + str(data['fold'][idx]) + '/'\n",
    "    loadpath = wav_path + folder + data['slice_file_name'][idx]\n",
    "    sample_rate, wav = scipy.io.wavfile.read(loadpath)\n",
    "\n",
    "    # just take one channel of stereo files\n",
    "    if len(wav.shape) == 2:  wav = wav[:, 0]\n",
    "    \n",
    "    spec = frequency.spectrogram(wav.ravel(), sample_rate, **spectrogram_parameters)[0]\n",
    "    spec -= np.median(spec, axis=1)[:, None]\n",
    "    spec[spec<0] = 0\n",
    "    spec = spec.astype(np.float32)\n",
    "    spec[np.isnan(spec)] = 0\n",
    "    spec[np.isneginf(spec)] = -10\n",
    "    spec[np.isposinf(spec)] = 10\n",
    "    \n",
    "    # crop height\n",
    "    ss = spec.shape[0]\n",
    "    new_height = (2.0/3.0) * float(ss)\n",
    "    spec = spec[:new_height, :]\n",
    "    \n",
    "    # resize\n",
    "    zoom(spec, )\n",
    "         \n",
    "    # add to the list\n",
    "    all_spec.append(spec.astype(np.float32))\n",
    "    all_fold_idxs.append(data['fold'][idx])\n",
    "    \n",
    "    if idx % 100 == 0:\n",
    "        print idx,\n"
   ]
  },
  {
   "cell_type": "code",
   "execution_count": 21,
   "metadata": {
    "collapsed": false
   },
   "outputs": [
    {
     "data": {
      "text/plain": [
       "<function numpy.lib.ufunclike.isposinf>"
      ]
     },
     "execution_count": 21,
     "metadata": {},
     "output_type": "execute_result"
    }
   ],
   "source": [
    "np.isinf(-np.inf)\n",
    "np.isposinf"
   ]
  },
  {
   "cell_type": "code",
   "execution_count": 22,
   "metadata": {
    "collapsed": false
   },
   "outputs": [],
   "source": [
    "# pad specs which are too short. \n",
    "# Modifying list in-place, which is not pretty but it works...\n",
    "for idx in range(len(all_spec)):\n",
    "    \n",
    "    spec = all_spec[idx]\n",
    "    \n",
    "    # padding the spectrogram to be the same length...\n",
    "    desired_length = int(4.0 / spectrogram_parameters['overlap'] - 1)\n",
    "    \n",
    "    if spec.shape[1] < desired_length:\n",
    "        # wrap the spectrogram\n",
    "        num_tiles = np.ceil(float(desired_length) / spec.shape[1])\n",
    "        tiled = np.tile(spec, (1, num_tiles))\n",
    "        new_spec = tiled[:, :desired_length]\n",
    "        all_spec[idx] = new_spec\n",
    "    \n",
    "    elif spec.shape[1] > desired_length:\n",
    "        all_spec[idx] = spec[:, :desired_length]"
   ]
  },
  {
   "cell_type": "code",
   "execution_count": 23,
   "metadata": {
    "collapsed": false
   },
   "outputs": [
    {
     "name": "stdout",
     "output_type": "stream",
     "text": [
      "(8732, 129, 199)\n",
      "(8732, 1, 129, 199)\n"
     ]
    }
   ],
   "source": [
    "# combining all data into one array\n",
    "all_spec_np = np.dstack(all_spec).transpose((2, 0, 1))\n",
    "print all_spec_np.shape\n",
    "S = all_spec_np.shape\n",
    "all_spec_np = all_spec_np.astype(np.float32).reshape(S[0], 1, S[1], S[2])\n",
    "print all_spec_np.shape"
   ]
  },
  {
   "cell_type": "code",
   "execution_count": 24,
   "metadata": {
    "collapsed": false
   },
   "outputs": [
    {
     "name": "stdout",
     "output_type": "stream",
     "text": [
      "(8732,)\n",
      "[3 2 2 ..., 1 1 1]\n"
     ]
    }
   ],
   "source": [
    "Y = np.array([data['classID'][idx] for idx in data.index])\n",
    "print Y.shape\n",
    "print Y"
   ]
  },
  {
   "cell_type": "code",
   "execution_count": 25,
   "metadata": {
    "collapsed": true
   },
   "outputs": [],
   "source": [
    "del spec"
   ]
  },
  {
   "cell_type": "code",
   "execution_count": 27,
   "metadata": {
    "collapsed": false
   },
   "outputs": [
    {
     "name": "stdout",
     "output_type": "stream",
     "text": [
      "Test fold:  1\n",
      "Validation folds:  2\n",
      "Train folds:  [ 3  4  5  6  7  8  9 10]\n",
      "\n",
      "(8732, 1, 129, 199)\n",
      "(8732,)\n",
      "Test fold:  2\n",
      "Validation folds:  3\n",
      "Train folds:  [ 1  4  5  6  7  8  9 10]\n",
      "\n",
      "(8732, 1, 129, 199)\n",
      "(8732,)\n",
      "Test fold:  3\n",
      "Validation folds:  4\n",
      "Train folds:  [ 1  2  5  6  7  8  9 10]\n",
      "\n",
      "(8732, 1, 129, 199)\n",
      "(8732,)\n",
      "Test fold:  4\n",
      "Validation folds:  5\n",
      "Train folds:  [ 1  2  3  6  7  8  9 10]\n",
      "\n",
      "(8732, 1, 129, 199)\n",
      "(8732,)\n",
      "Test fold:  5\n",
      "Validation folds:  6\n",
      "Train folds:  [ 1  2  3  4  7  8  9 10]\n",
      "\n",
      "(8732, 1, 129, 199)\n",
      "(8732,)\n",
      "Test fold:  6\n",
      "Validation folds:  7\n",
      "Train folds:  [ 1  2  3  4  5  8  9 10]\n",
      "\n",
      "(8732, 1, 129, 199)\n",
      "(8732,)\n",
      "Test fold:  7\n",
      "Validation folds:  8\n",
      "Train folds:  [ 1  2  3  4  5  6  9 10]\n",
      "\n",
      "(8732, 1, 129, 199)\n",
      "(8732,)\n",
      "Test fold:  8\n",
      "Validation folds:  9\n",
      "Train folds:  [ 1  2  3  4  5  6  7 10]\n",
      "\n",
      "(8732, 1, 129, 199)\n",
      "(8732,)\n",
      "Test fold:  9\n",
      "Validation folds:  10\n",
      "Train folds:  [1 2 3 4 5 6 7 8]\n",
      "\n",
      "(8732, 1, 129, 199)\n",
      "(8732,)\n",
      "Test fold:  10\n",
      "Validation folds:  1\n",
      "Train folds:  [2 3 4 5 6 7 8 9]\n",
      "\n",
      "(8732, 1, 129, 199)\n",
      "(8732,)\n"
     ]
    }
   ],
   "source": [
    "def ismember(a, b):\n",
    "    bind = {}\n",
    "    for i, elt in enumerate(b):\n",
    "        if elt not in bind:\n",
    "            bind[elt] = i\n",
    "    return np.array([1 if itm in bind else 0 for itm in a ]).astype(bool)\n",
    "\n",
    "\n",
    "all_folds = np.array([1, 2, 3, 4, 5, 6, 7, 8, 9, 10])\n",
    "\n",
    "for test_fold in all_folds:\n",
    "    \n",
    "    val_fold = (test_fold) % 10 + 1\n",
    "    \n",
    "    train_folds = np.setdiff1d(all_folds, [test_fold, val_fold])\n",
    "    \n",
    "    print \"Test fold: \", test_fold\n",
    "    print \"Validation folds: \", val_fold\n",
    "    print \"Train folds: \", train_folds\n",
    "    print \"\"\n",
    "    \n",
    "    # sanity checks\n",
    "    assert not np.intersect1d(train_folds, test_fold)\n",
    "    assert not np.intersect1d(train_folds, val_fold)\n",
    "    assert val_fold != test_fold\n",
    "\n",
    "    # extract indices corresponding to each split\n",
    "    train_idxs = ismember(all_fold_idxs, train_folds)\n",
    "    test_idxs = all_fold_idxs == test_fold\n",
    "    val_idxs = all_fold_idxs == val_fold\n",
    "\n",
    "    # sanity check\n",
    "    assert np.any(np.logical_and.reduce((\n",
    "        train_idxs, test_idxs, val_idxs))) == 0\n",
    "\n",
    "    # for each split, combine data...\n",
    "    split = {}\n",
    "    print all_spec_np.shape\n",
    "    print train_idxs.shape\n",
    "    split['train_X'] = all_spec_np[train_idxs]\n",
    "    split['test_X'] = all_spec_np[test_idxs]\n",
    "    split['val_X'] = all_spec_np[val_idxs]\n",
    "    split['train_y'] = Y[train_idxs]\n",
    "    split['test_y'] = Y[test_idxs]\n",
    "    split['val_y'] = Y[val_idxs]\n",
    "    \n",
    "    split_savepath = base_path + 'splits_stowell_norm/split' + str(test_fold) + '.mat'\n",
    "    scipy.io.savemat(split_savepath, split)\n",
    "    "
   ]
  },
  {
   "cell_type": "code",
   "execution_count": null,
   "metadata": {
    "collapsed": false
   },
   "outputs": [],
   "source": [
    "for key, val in split.iteritems():\n",
    "    print val.shape"
   ]
  },
  {
   "cell_type": "code",
   "execution_count": null,
   "metadata": {
    "collapsed": false
   },
   "outputs": [],
   "source": [
    "# now let's do lasagne!\n",
    "# Or maybe save the train/test folds to disk?\n"
   ]
  }
 ],
 "metadata": {
  "kernelspec": {
   "display_name": "Python 2",
   "language": "python",
   "name": "python2"
  },
  "language_info": {
   "codemirror_mode": {
    "name": "ipython",
    "version": 2
   },
   "file_extension": ".py",
   "mimetype": "text/x-python",
   "name": "python",
   "nbconvert_exporter": "python",
   "pygments_lexer": "ipython2",
   "version": "2.7.10"
  }
 },
 "nbformat": 4,
 "nbformat_minor": 0
}
