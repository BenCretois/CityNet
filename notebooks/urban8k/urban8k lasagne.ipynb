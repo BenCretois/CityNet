{
 "cells": [
  {
   "cell_type": "code",
   "execution_count": 1,
   "metadata": {
    "collapsed": false
   },
   "outputs": [
    {
     "name": "stderr",
     "output_type": "stream",
     "text": [
      "Using gpu device 0: GeForce GTX 770 (CNMeM is disabled)\n"
     ]
    }
   ],
   "source": [
    "%matplotlib inline\n",
    "%load_ext autoreload\n",
    "%autoreload 2\n",
    "import matplotlib.pyplot as plt\n",
    "import csv\n",
    "import os\n",
    "import sys\n",
    "import numpy as np\n",
    "import collections\n",
    "import scipy.io\n",
    "import time\n",
    "\n",
    "# CNN bits\n",
    "import theano\n",
    "import theano.tensor as T\n",
    "import lasagne\n",
    "from lasagne import layers\n",
    "\n",
    "# for evaluation\n",
    "sys.path.append(os.path.expanduser('~/projects/engaged_hackathon/'))\n",
    "from engaged.features import evaluation\n",
    "from sklearn import metrics\n",
    "from sklearn.metrics import roc_curve, auc\n",
    "\n",
    "# https://groups.google.com/forum/#!topic/lasagne-users/t_rMTLAtpZo\n",
    "theano.config.profile = True\n",
    "os.environ['CUDA_LAUNCH_BLOCKING'] = '1'"
   ]
  },
  {
   "cell_type": "code",
   "execution_count": 2,
   "metadata": {
    "collapsed": false
   },
   "outputs": [
    {
     "name": "stdout",
     "output_type": "stream",
     "text": [
      "There are 10 classes \n",
      "[0 1 2 3 4 5 6 7 8 9]\n"
     ]
    }
   ],
   "source": [
    "# load in the data\n",
    "base_path = '/home/michael/projects/engaged_hackathon_data/urban_8k/'\n",
    "split = 1\n",
    "loadpath = base_path + 'splits/split' + str(split) + '.mat'\n",
    "data = scipy.io.loadmat(loadpath)\n",
    "\n",
    "num_classes = np.unique(data['train_y']).shape[0]\n",
    "print \"There are %d classes \" % num_classes\n",
    "print np.unique(data['train_y'])\n",
    "data['train_y'] = data['train_y'].ravel().astype(np.int32)\n",
    "data['test_y'] = data['test_y'].ravel().astype(np.int32)\n",
    "data['val_y'] = data['val_y'].ravel().astype(np.int32)\n",
    "\n",
    "if False:\n",
    "    for data_type in ['train_', 'test_', 'val_']:\n",
    "        num = data[data_type + 'X'].shape[0]\n",
    "        to_use = np.random.choice(num, 100, replace=False)\n",
    "        data[data_type + 'X'] = data[data_type + 'X'][to_use, :]\n",
    "        data[data_type + 'y'] = data[data_type + 'y'][to_use]"
   ]
  },
  {
   "cell_type": "code",
   "execution_count": 3,
   "metadata": {
    "collapsed": false
   },
   "outputs": [
    {
     "name": "stdout",
     "output_type": "stream",
     "text": [
      "val_X 10.0679 -13.7959 (888, 1, 129, 199)\n",
      "train_X 11.2741 -38.1379 (6971, 1, 129, 199)\n",
      "train_y 9 0 (6971,)\n",
      "val_y 9 0 (888,)\n",
      "test_y 9 0 (873,)\n",
      "test_X 10.0782 -16.7255 (873, 1, 129, 199)\n"
     ]
    }
   ],
   "source": [
    "for key, val in data.iteritems():\n",
    "    if not key.startswith('__'):\n",
    "        print key, val.max(), val.min(), val.shape"
   ]
  },
  {
   "cell_type": "code",
   "execution_count": 4,
   "metadata": {
    "collapsed": false
   },
   "outputs": [],
   "source": [
    "def build_cnn(input_var=None):\n",
    "    # As a third model, we'll create a CNN of two convolution + pooling stages\n",
    "    # and a fully-connected hidden layer in front of the output layer.\n",
    "\n",
    "    # Input layer, as usual:\n",
    "    _, _, im_width, im_height = data['train_X'].shape\n",
    "    print im_width, im_height\n",
    "    network = layers.InputLayer(shape=(None, 1, im_width, im_height),\n",
    "                                        input_var=input_var)\n",
    "    # This time we do not apply input dropout, as it tends to work less well\n",
    "    # for convolutional layers.\n",
    "    network = layers.dropout(network, p=0.18)\n",
    "    \n",
    "    # Convolutional layer with 32 kernels of size 5x5. Strided and padded\n",
    "    # convolutions are supported as well; see the docstring.\n",
    "    network = layers.Conv2DLayer(\n",
    "            network, num_filters=40, filter_size=(3, 3),\n",
    "#             stride=(2, 2),\n",
    "            nonlinearity=lasagne.nonlinearities.very_leaky_rectify,\n",
    "            W=lasagne.init.GlorotUniform())\n",
    "    # Expert note: Lasagne provides alternative convolutional layers that\n",
    "    # override Theano's choice of which implementation to use; for details\n",
    "    # please see http://lasagne.readthedocs.org/en/latest/user/tutorial.html.\n",
    "\n",
    "    # Max-pooling layer of factor 2 in both dimensions:\n",
    "#     network = lasagne.layers.MaxPool2DLayer(network, pool_size=(2, 2))\n",
    "    network = layers.MaxPool2DLayer(network, pool_size=(4, 4))\n",
    "#     , stride=(2, 2))\n",
    "\n",
    "    # Another convolution with 32 5x5 kernels, and another 2x2 pooling:\n",
    "    network = layers.Conv2DLayer(\n",
    "            network, num_filters=40, filter_size=(3,3),\n",
    "#             stride=(2, 2),\n",
    "            nonlinearity=lasagne.nonlinearities.very_leaky_rectify,\n",
    "            W=lasagne.init.GlorotUniform())\n",
    "    \n",
    "    network = layers.MaxPool2DLayer(network, pool_size=(4, 4))\n",
    "#     , stride=(2, 2))\n",
    "  \n",
    "\n",
    "    # A fully-connected layer of 256 units with 50% dropout on its inputs:\n",
    "    network = layers.DenseLayer(\n",
    "            layers.dropout(network, p=.5),\n",
    "            num_units=1000,\n",
    "            nonlinearity=lasagne.nonlinearities.very_leaky_rectify)\n",
    "\n",
    "    # A fully-connected layer of 256 units with 50% dropout on its inputs:\n",
    "    network = layers.DenseLayer(\n",
    "            layers.dropout(network, p=.5),\n",
    "            num_units=1000,\n",
    "            nonlinearity=lasagne.nonlinearities.very_leaky_rectify)\n",
    "    \n",
    "    # And, finally, the 10-unit output layer with 50% dropout on its inputs:\n",
    "    network = layers.DenseLayer(\n",
    "            layers.dropout(network, p=.5),\n",
    "            num_units=num_classes,\n",
    "            nonlinearity=lasagne.nonlinearities.softmax)\n",
    "\n",
    "    return network\n"
   ]
  },
  {
   "cell_type": "code",
   "execution_count": 5,
   "metadata": {
    "collapsed": false
   },
   "outputs": [],
   "source": [
    "# Prepare Theano variables for inputs and targets\n",
    "def prepare_network():\n",
    "    \n",
    "    input_var = T.tensor4('inputs')\n",
    "    target_var = T.ivector('targets')\n",
    "\n",
    "    # Create neural network model (depending on first command line parameter)\n",
    "    print(\"Building model and compiling functions...\")\n",
    "    network = build_cnn(input_var)\n",
    "\n",
    "    # Create a loss expression for training, i.e., a scalar objective we want\n",
    "    # to minimize (for our multi-class problem, it is the cross-entropy loss):\n",
    "    prediction = lasagne.layers.get_output(network)\n",
    "    loss = lasagne.objectives.categorical_crossentropy(prediction, target_var)\n",
    "    loss = loss.mean()\n",
    "    reg_l2 = lasagne.regularization.regularize_network_params(network, lasagne.regularization.l2)\n",
    "    loss = loss + 0.0001 * reg_l2\n",
    "\n",
    "    # We could add some weight decay as well here, see lasagne.regularization.\n",
    "\n",
    "    # Create update expressions for training, i.e., how to modify the\n",
    "    # parameters at each training step. Here, we'll use Stochastic Gradient\n",
    "    # Descent (SGD) with Nesterov momentum, but Lasagne offers plenty more.\n",
    "    params = lasagne.layers.get_all_params(network, trainable=True)\n",
    "    updates = lasagne.updates.nesterov_momentum(\n",
    "            loss, params, learning_rate=0.0249, momentum=0.9)\n",
    "\n",
    "    # Create a loss expression for validation/testing. The crucial difference\n",
    "    # here is that we do a deterministic forward pass through the network,\n",
    "    # disabling dropout layers.\n",
    "    test_prediction = lasagne.layers.get_output(network, deterministic=True)\n",
    "    test_loss = lasagne.objectives.categorical_crossentropy(test_prediction,\n",
    "                                                            target_var)\n",
    "    test_loss = test_loss.mean()\n",
    "\n",
    "    # As a bonus, also create an expression for the classification accuracy:\n",
    "    test_acc = T.mean(T.eq(T.argmax(test_prediction, axis=1), target_var),\n",
    "                      dtype=theano.config.floatX)\n",
    "\n",
    "    # Compile a function performing a training step on a mini-batch (by giving\n",
    "    # the updates dictionary) and returning the corresponding training loss:\n",
    "    train_fn = theano.function([input_var, target_var], loss, updates=updates)\n",
    "\n",
    "    # Compile a second function computing the validation loss and accuracy:\n",
    "    val_fn = theano.function([input_var, target_var], [test_loss, test_acc])\n",
    "\n",
    "    test_prediction = lasagne.layers.get_output(network, deterministic=True)\n",
    "#     predict_fn = theano.function([input_var], T.argmax(test_prediction, axis=1))\n",
    "    predict_fn = theano.function([input_var], test_prediction)\n",
    "    \n",
    "    return network, train_fn, predict_fn, val_fn"
   ]
  },
  {
   "cell_type": "code",
   "execution_count": 6,
   "metadata": {
    "collapsed": true
   },
   "outputs": [],
   "source": [
    "def iterate_balanced_minibatches_multiclass(inputs, targets, batchsize):\n",
    "    assert len(inputs) == len(targets)\n",
    "\n",
    "    all_targets = np.unique(targets)\n",
    "    \n",
    "    idxs = {this_targ: np.where(targets==this_targ)[0]\n",
    "            for this_targ in all_targets}\n",
    "    for key in idxs.keys():\n",
    "        np.random.shuffle(idxs[key])\n",
    "\n",
    "    # find the largest class - this will define the epoch size\n",
    "    examples_in_epoch = max([len(x) for _, x in idxs.iteritems()])\n",
    "    \n",
    "    # in each batch, new data from largest class is provided\n",
    "    # data from other class is reused once it runs out\n",
    "    for start_idx in range(0, examples_in_epoch - batchsize + 1, batchsize):\n",
    "                \n",
    "        # get indices for each of the excerpts, wrapping back to the beginning...\n",
    "        excerpts = []\n",
    "        for target, this_target_idxs in idxs.iteritems():\n",
    "            excerpts.append(np.take(\n",
    "                this_target_idxs, np.arange(start_idx, start_idx + batchsize), mode='wrap'))\n",
    "                \n",
    "        # reform the full balanced inputs and output\n",
    "        full_idxs = np.hstack(excerpts)\n",
    "        \n",
    "        # for now, sanity check...\n",
    "        yield inputs[full_idxs], targets[full_idxs]"
   ]
  },
  {
   "cell_type": "code",
   "execution_count": null,
   "metadata": {
    "collapsed": false
   },
   "outputs": [
    {
     "name": "stdout",
     "output_type": "stream",
     "text": [
      "Building model and compiling functions...\n",
      "129 199\n",
      "Starting training...\n",
      "There will be 116 minibatches per epoch\n",
      "     epoch   train loss   valid loss   train/val    valid acc     dur\n",
      "   -------  -----------  -----------  -----------  -----------  -------"
     ]
    }
   ],
   "source": [
    "from copy import deepcopy\n",
    "num_epochs = 25\n",
    "\n",
    "# NOTE that the *actual* minibatch size will be num_classes*minibatch_size\n",
    "minibatch_size = 6 # optimise\n",
    "\n",
    "network, train_fn, predict_fn, val_fn = prepare_network()\n",
    "\n",
    "print \"Starting training...\"\n",
    "print \"There will be %d minibatches per epoch\" % (data['train_y'].shape[0] / (minibatch_size*num_classes))\n",
    "\n",
    "print \"\"\"     epoch   train loss   valid loss   train/val    valid acc     dur\n",
    "   -------  -----------  -----------  -----------  -----------  -------\"\"\",\n",
    "sys.stdout.flush()\n",
    "\n",
    "best_validation_accuracy = 0.0\n",
    "best_model = None\n",
    "\n",
    "for epoch in range(num_epochs):\n",
    "    \n",
    "    # In each epoch, we do a full pass over the training data:\n",
    "    train_loss = train_batches = 0\n",
    "    start_time = time.time()\n",
    "    \n",
    "    print \"Minibatch: \",\n",
    "    for count, batch in enumerate(\n",
    "            iterate_balanced_minibatches_multiclass(\n",
    "            data['train_X'], data['train_y'], int(minibatch_size))):\n",
    "        if count % 100 == 0:\n",
    "            print '.',\n",
    "        inputs, targets = batch\n",
    "        train_loss += train_fn(inputs, targets)\n",
    "        train_batches += 1\n",
    "        sys.stdout.flush()\n",
    "        \n",
    "    train_loss = train_loss / train_batches\n",
    "    print \" total = \", train_batches,\n",
    "        \n",
    "    # And a full pass over the validation data:\n",
    "    val_err = val_acc = val_batches = 0\n",
    "    y_preds = []\n",
    "    y_gts = []\n",
    "    \n",
    "    for batch in iterate_balanced_minibatches_multiclass(\n",
    "                data['val_X'], data['val_y'], int(minibatch_size)):\n",
    "\n",
    "        inputs, targets = batch\n",
    "\n",
    "        err, acc = val_fn(inputs, targets)\n",
    "        val_err += err\n",
    "        val_acc += acc\n",
    "        val_batches += 1\n",
    "\n",
    "        y_preds.append(predict_fn(inputs))\n",
    "        y_gts.append(targets)\n",
    "        \n",
    "\n",
    "    class_predictions = np.argmax(np.vstack(y_preds), axis=1)\n",
    "    mean_val_accuracy = metrics.accuracy_score(np.hstack(y_gts), class_predictions)\n",
    "        \n",
    "    val_loss = val_err / val_batches\n",
    "#     mean_val_accuracy = val_acc / val_batches\n",
    "        \n",
    "    # Then we print the results for this epoch:\n",
    "    print \"\\n\",\n",
    "    print \"     \" + str(epoch).ljust(8),\n",
    "    print (\"%0.06f\" % (train_loss)).ljust(12),\n",
    "    print (\"%0.06f\" % (0.0)).ljust(12),\n",
    "    print (\"%0.06f\" % (train_loss / val_loss)).ljust(12),\n",
    "    print (\"%0.06f\" % (mean_val_accuracy)).ljust(10),\n",
    "    print (\"%0.04f\" % (time.time() - start_time)).ljust(10),\n",
    "    sys.stdout.flush()\n",
    "    \n",
    "    if mean_val_accuracy > best_validation_accuracy:\n",
    "        best_model = (network, predict_fn)\n",
    "        best_validation_accuracy = mean_val_accuracy"
   ]
  },
  {
   "cell_type": "code",
   "execution_count": null,
   "metadata": {
    "collapsed": false
   },
   "outputs": [],
   "source": [
    "from sklearn import metrics\n",
    "cm = metrics.confusion_matrix(class_predictions, np.hstack(y_gts))\n",
    "\n",
    "# plt.imshow(cm, interpolation='nearest')\n",
    "\n",
    "print np.bincount(class_predictions)\n",
    "print np.vstack(y_preds).sum(1)"
   ]
  },
  {
   "cell_type": "code",
   "execution_count": null,
   "metadata": {
    "collapsed": false
   },
   "outputs": [],
   "source": [
    "y_gt= np.hstack(y_gts)\n",
    "y_pred= np.hstack(y_preds)\n",
    "print np.unique(y_gt)\n",
    "print np.unique(y_preds)\n",
    "print metrics.accuracy_score(y_gt, y_pred)\n"
   ]
  },
  {
   "cell_type": "code",
   "execution_count": null,
   "metadata": {
    "collapsed": false
   },
   "outputs": [],
   "source": [
    "# After training, we compute and print the test error:\n",
    "test_err = 0\n",
    "test_acc = 0\n",
    "test_batches = 0\n",
    "for batch in iterate_minibatches(data['test_X'], data['test_y'], int(minibatch_size), shuffle=False):\n",
    "    inputs, targets = batch\n",
    "    err, acc = val_fn(inputs, targets)\n",
    "    test_err += err\n",
    "    test_acc += acc\n",
    "    test_batches += 1\n",
    "    \n",
    "print(\"Final results:\")\n",
    "print(\"  test loss:\\t\\t\\t{:.6f}\".format(test_err / test_batches))\n",
    "print(\"  test accuracy:\\t\\t{:.2f} %\".format(\n",
    "    test_acc / test_batches * 100))\n",
    "\n",
    "# Optionally, you could now dump the network weights to a file like this:\n",
    "# np.savez('model.npz', lasagne.layers.get_all_param_values(network))"
   ]
  },
  {
   "cell_type": "code",
   "execution_count": null,
   "metadata": {
    "collapsed": true
   },
   "outputs": [],
   "source": []
  }
 ],
 "metadata": {
  "kernelspec": {
   "display_name": "Python 2",
   "language": "python",
   "name": "python2"
  },
  "language_info": {
   "codemirror_mode": {
    "name": "ipython",
    "version": 2
   },
   "file_extension": ".py",
   "mimetype": "text/x-python",
   "name": "python",
   "nbconvert_exporter": "python",
   "pygments_lexer": "ipython2",
   "version": "2.7.10"
  }
 },
 "nbformat": 4,
 "nbformat_minor": 0
}
