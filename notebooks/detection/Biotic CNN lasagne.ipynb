{
 "cells": [
  {
   "cell_type": "code",
   "execution_count": 1,
   "metadata": {
    "collapsed": false
   },
   "outputs": [
    {
     "name": "stderr",
     "output_type": "stream",
     "text": [
      "Using gpu device 0: GeForce GTX 770\n"
     ]
    }
   ],
   "source": [
    "%matplotlib inline\n",
    "%load_ext autoreload\n",
    "%autoreload 2\n",
    "import matplotlib.pyplot as plt\n",
    "import csv\n",
    "import os\n",
    "import sys\n",
    "import numpy as np\n",
    "import collections\n",
    "import scipy.io\n",
    "import time\n",
    "\n",
    "# CNN bits\n",
    "import theano\n",
    "import theano.tensor as T\n",
    "import lasagne\n",
    "\n",
    "# for evaluation\n",
    "sys.path.append(os.path.expanduser('~/projects/engaged_hackathon/'))\n",
    "from engaged.features import evaluation\n",
    "from sklearn import metrics\n",
    "from sklearn.metrics import roc_curve, auc"
   ]
  },
  {
   "cell_type": "code",
   "execution_count": 2,
   "metadata": {
    "collapsed": true
   },
   "outputs": [],
   "source": [
    "def iterate_minibatches(inputs, targets, batchsize, shuffle=False):\n",
    "    assert len(inputs) == len(targets)\n",
    "    if shuffle:\n",
    "        indices = np.arange(len(inputs))\n",
    "        np.random.shuffle(indices)\n",
    "    for start_idx in range(0, len(inputs) - batchsize + 1, batchsize):\n",
    "        if shuffle:\n",
    "            excerpt = indices[start_idx:start_idx + batchsize]\n",
    "        else:\n",
    "            excerpt = slice(start_idx, start_idx + batchsize)\n",
    "        yield inputs[excerpt], targets[excerpt]\n",
    "\n"
   ]
  },
  {
   "cell_type": "code",
   "execution_count": 3,
   "metadata": {
    "collapsed": false
   },
   "outputs": [],
   "source": [
    "def iterate_balanced_minibatches(inputs, targets, batchsize):\n",
    "    assert len(inputs) == len(targets)\n",
    "\n",
    "    indices_pos = np.where(targets==1)[0]\n",
    "    indices_neg = np.where(targets==0)[0]\n",
    "\n",
    "    np.random.shuffle(indices_pos)\n",
    "    np.random.shuffle(indices_neg)\n",
    "\n",
    "    for start_idx in range(0, len(indices_neg) - batchsize + 1, batchsize):\n",
    "        # in each batch, new negative data is provided, positive data is reused\n",
    "        \n",
    "        # get indices for each of the excerpts, wrapping back to the beginning...\n",
    "        excerpt_pos = np.take(\n",
    "            indices_pos, np.arange(start_idx, start_idx + batchsize), mode='wrap')\n",
    "        excerpt_neg = np.take(\n",
    "            indices_neg, np.arange(start_idx, start_idx + batchsize), mode='wrap')\n",
    "        \n",
    "        # reform the full balanced inputs and output\n",
    "        full_idxs = np.hstack((excerpt_pos, excerpt_neg))\n",
    "        yield inputs[full_idxs], targets[full_idxs]\n",
    "\n"
   ]
  },
  {
   "cell_type": "code",
   "execution_count": 4,
   "metadata": {
    "collapsed": false
   },
   "outputs": [
    {
     "name": "stdout",
     "output_type": "stream",
     "text": [
      "Loading data...\n"
     ]
    }
   ],
   "source": [
    "from sklearn.cross_validation import train_test_split\n",
    "import scipy\n",
    "datapath = '/home/michael/projects/engaged_hackathon_data/detection/train_test_patches/'\n",
    "\n",
    "# Load the dataset\n",
    "import lasagne_helpers\n",
    "print(\"Loading data...\")\n",
    "X_train, y_train, X_val, y_val, X_test, y_test = lasagne_helpers.load_dataset(datapath+'unbalanced_256.mat')\n",
    "y_train = y_train.astype(np.int32)\n",
    "y_test = y_test.astype(np.int32)\n",
    "y_val = y_val.astype(np.int32)"
   ]
  },
  {
   "cell_type": "code",
   "execution_count": 6,
   "metadata": {
    "collapsed": false
   },
   "outputs": [],
   "source": [
    "def build_custom_mlp(\n",
    "        input_var=None, \n",
    "        drop_input=.2,    \n",
    "        conv_depth = 2,\n",
    "        num_filters1=32,\n",
    "        filter_size1 = 3,\n",
    "        num_filters2=32,\n",
    "        filter_size2 = 5,\n",
    "        pool_size = 2,  # same pool size for each max pool\n",
    "#         drop_conv = 0.01,\n",
    "        dense_depth=2,\n",
    "        dense_width=800, \n",
    "        drop_dense_hidden=.5):\n",
    "\n",
    "    # Input layer and dropout (with shortcut `dropout` for `DropoutLayer`):\n",
    "    im_width, im_height = X_train.shape[2], X_train.shape[3]\n",
    "    network = lasagne.layers.InputLayer(shape=(None, 1, im_width, im_height),\n",
    "                                        input_var=input_var)\n",
    "    if drop_input:\n",
    "        network = lasagne.layers.dropout(network, p=drop_input)\n",
    "        \n",
    "    # Conv layers (fixing to two sets of layers, each with 2*conv \n",
    "    # and a max pool)\n",
    "    for _ in range(conv_depth):\n",
    "        network = lasagne.layers.Conv2DLayer(\n",
    "            network, num_filters=num_filters1, \n",
    "            filter_size=(3, 3),\n",
    "            nonlinearity=lasagne.nonlinearities.rectify,\n",
    "            W=lasagne.init.GlorotUniform())\n",
    "        \n",
    "        network = lasagne.layers.Conv2DLayer(\n",
    "            network, num_filters=num_filters2, \n",
    "            filter_size=(3, 3),\n",
    "            nonlinearity=lasagne.nonlinearities.rectify,\n",
    "            W=lasagne.init.GlorotUniform())\n",
    "        \n",
    "        network = lasagne.layers.MaxPool2DLayer(\n",
    "            network, pool_size=(pool_size, pool_size))\n",
    "        \n",
    "#         if drop_conv:\n",
    "#             network = lasagne.layers.dropout(network, p=drop_conv)\n",
    "    \n",
    "    # Dense layers and dropout\n",
    "    nonlin = lasagne.nonlinearities.rectify\n",
    "    \n",
    "    for _ in range(dense_depth):\n",
    "        network = lasagne.layers.DenseLayer(\n",
    "                network, dense_width, nonlinearity=nonlin)\n",
    "        if drop_hidden:\n",
    "            network = lasagne.layers.dropout(network, p=drop_dense_hidden)\n",
    "    \n",
    "    # And, finally, the 10-unit output layer with 50% dropout on its inputs:\n",
    "    network = lasagne.layers.DenseLayer(\n",
    "            lasagne.layers.dropout(network, p=.5),\n",
    "            num_units=2,\n",
    "            nonlinearity=lasagne.nonlinearities.softmax)\n",
    "\n",
    "    return network"
   ]
  },
  {
   "cell_type": "code",
   "execution_count": 7,
   "metadata": {
    "collapsed": false
   },
   "outputs": [],
   "source": [
    "def build_cnn(input_var=None):\n",
    "    # As a third model, we'll create a CNN of two convolution + pooling stages\n",
    "    # and a fully-connected hidden layer in front of the output layer.\n",
    "\n",
    "    # Input layer, as usual:\n",
    "    im_width, im_height = X_train.shape[2], X_train.shape[3]\n",
    "    network = lasagne.layers.InputLayer(shape=(None, 1, im_width, im_height),\n",
    "                                        input_var=input_var)\n",
    "    # This time we do not apply input dropout, as it tends to work less well\n",
    "    # for convolutional layers.\n",
    "    network = lasagne.layers.dropout(network, p=0.18)\n",
    "    \n",
    "    # Convolutional layer with 32 kernels of size 5x5. Strided and padded\n",
    "    # convolutions are supported as well; see the docstring.\n",
    "    network = lasagne.layers.Conv2DLayer(\n",
    "            network, num_filters=50, filter_size=(3, 3),\n",
    "#             stride=(2, 2),\n",
    "            nonlinearity=lasagne.nonlinearities.leaky_rectify,\n",
    "            W=lasagne.init.GlorotUniform())\n",
    "    # Expert note: Lasagne provides alternative convolutional layers that\n",
    "    # override Theano's choice of which implementation to use; for details\n",
    "    # please see http://lasagne.readthedocs.org/en/latest/user/tutorial.html.\n",
    "\n",
    "    # Max-pooling layer of factor 2 in both dimensions:\n",
    "#     network = lasagne.layers.MaxPool2DLayer(network, pool_size=(2, 2))\n",
    "    network = lasagne.layers.MaxPool2DLayer(network, pool_size=(2, 1), stride=(2, 1))\n",
    "\n",
    "    # Another convolution with 32 5x5 kernels, and another 2x2 pooling:\n",
    "    network = lasagne.layers.Conv2DLayer(\n",
    "            network, num_filters=50, filter_size=(3,3),\n",
    "#             stride=(2, 2),\n",
    "            nonlinearity=lasagne.nonlinearities.leaky_rectify,\n",
    "            W=lasagne.init.GlorotUniform())\n",
    "    \n",
    "    network = lasagne.layers.MaxPool2DLayer(network, pool_size=(2, 1), stride=(2, 1))\n",
    "  \n",
    "\n",
    "    # A fully-connected layer of 256 units with 50% dropout on its inputs:\n",
    "    network = lasagne.layers.DenseLayer(\n",
    "            lasagne.layers.dropout(network, p=.5),\n",
    "            num_units=800,\n",
    "            nonlinearity=lasagne.nonlinearities.leaky_rectify)\n",
    "\n",
    "    # A fully-connected layer of 256 units with 50% dropout on its inputs:\n",
    "    network = lasagne.layers.DenseLayer(\n",
    "            lasagne.layers.dropout(network, p=.5),\n",
    "            num_units=800,\n",
    "            nonlinearity=lasagne.nonlinearities.leaky_rectify)\n",
    "\n",
    "    \n",
    "    # And, finally, the 10-unit output layer with 50% dropout on its inputs:\n",
    "    network = lasagne.layers.DenseLayer(\n",
    "            lasagne.layers.dropout(network, p=.5),\n",
    "            num_units=2,\n",
    "            nonlinearity=lasagne.nonlinearities.softmax)\n",
    "\n",
    "    return network\n"
   ]
  },
  {
   "cell_type": "code",
   "execution_count": 8,
   "metadata": {
    "collapsed": false
   },
   "outputs": [
    {
     "name": "stdout",
     "output_type": "stream",
     "text": [
      "Building model and compiling functions...\n"
     ]
    }
   ],
   "source": [
    "# Prepare Theano variables for inputs and targets\n",
    "input_var = T.tensor4('inputs')\n",
    "target_var = T.ivector('targets')\n",
    "num_epochs = 20\n",
    "\n",
    "minibatch_size = 128  # optimise\n",
    "\n",
    "# Create neural network model (depending on first command line parameter)\n",
    "print(\"Building model and compiling functions...\")\n",
    "network = build_cnn(input_var)\n",
    "\n",
    "# Create a loss expression for training, i.e., a scalar objective we want\n",
    "# to minimize (for our multi-class problem, it is the cross-entropy loss):\n",
    "prediction = lasagne.layers.get_output(network)\n",
    "loss = lasagne.objectives.categorical_crossentropy(prediction, target_var)\n",
    "loss = loss.mean()\n",
    "reg_l2 = lasagne.regularization.regularize_network_params(network, lasagne.regularization.l2)\n",
    "loss = loss + 0.0001 * reg_l2\n",
    "\n",
    "# We could add some weight decay as well here, see lasagne.regularization.\n",
    "\n",
    "# Create update expressions for training, i.e., how to modify the\n",
    "# parameters at each training step. Here, we'll use Stochastic Gradient\n",
    "# Descent (SGD) with Nesterov momentum, but Lasagne offers plenty more.\n",
    "params = lasagne.layers.get_all_params(network, trainable=True)\n",
    "updates = lasagne.updates.nesterov_momentum(\n",
    "        loss, params, learning_rate=0.0249, momentum=0.91)\n",
    "\n",
    "# Create a loss expression for validation/testing. The crucial difference\n",
    "# here is that we do a deterministic forward pass through the network,\n",
    "# disabling dropout layers.\n",
    "test_prediction = lasagne.layers.get_output(network, deterministic=True)\n",
    "test_loss = lasagne.objectives.categorical_crossentropy(test_prediction,\n",
    "                                                        target_var)\n",
    "test_loss = test_loss.mean()\n",
    "\n",
    "# As a bonus, also create an expression for the classification accuracy:\n",
    "test_acc = T.mean(T.eq(T.argmax(test_prediction, axis=1), target_var),\n",
    "                  dtype=theano.config.floatX)\n",
    "\n",
    "# Compile a function performing a training step on a mini-batch (by giving\n",
    "# the updates dictionary) and returning the corresponding training loss:\n",
    "train_fn = theano.function([input_var, target_var], loss, updates=updates)\n",
    "\n",
    "# Compile a second function computing the validation loss and accuracy:\n",
    "val_fn = theano.function([input_var, target_var], [test_loss, test_acc])\n",
    "\n",
    "test_prediction = lasagne.layers.get_output(network, deterministic=True)\n",
    "predict_fn = theano.function([input_var], T.argmax(test_prediction, axis=1))"
   ]
  },
  {
   "cell_type": "code",
   "execution_count": 9,
   "metadata": {
    "collapsed": false
   },
   "outputs": [
    {
     "name": "stdout",
     "output_type": "stream",
     "text": [
      "Starting training...\n",
      "Batch:  0 100 200 300 400 Epoch 1 of 20 took 409.174s\n",
      "  training loss:\t\t0.695105\n",
      "  validation loss:\t\t0.392978\n",
      "  validation accuracy:\t\t82.67 %\n",
      "  normalised accuracy:\t\t82.67 %\n",
      "Batch:  0 100 200 300 400 Epoch 2 of 20 took 410.467s\n",
      "  training loss:\t\t0.564919\n",
      "  validation loss:\t\t0.385544\n",
      "  validation accuracy:\t\t84.21 %\n",
      "  normalised accuracy:\t\t84.21 %\n",
      "Batch:  0 100 200 300 400 Epoch 3 of 20 took 409.305s\n",
      "  training loss:\t\t0.457840\n",
      "  validation loss:\t\t0.469496\n",
      "  validation accuracy:\t\t84.66 %\n",
      "  normalised accuracy:\t\t84.66 %\n",
      "Batch:  0 100 200 300 400 Epoch 4 of 20 took 406.736s\n",
      "  training loss:\t\t0.381637\n",
      "  validation loss:\t\t0.555654\n",
      "  validation accuracy:\t\t84.12 %\n",
      "  normalised accuracy:\t\t84.12 %\n",
      "Batch:  0 100 200 300 400 Epoch 5 of 20 took 408.652s\n",
      "  training loss:\t\t0.341859\n",
      "  validation loss:\t\t0.616310\n",
      "  validation accuracy:\t\t84.10 %\n",
      "  normalised accuracy:\t\t84.10 %\n",
      "Batch:  0 100 200 300 400 Epoch 6 of 20 took 409.448s\n",
      "  training loss:\t\t0.319695\n",
      "  validation loss:\t\t0.662202\n",
      "  validation accuracy:\t\t84.69 %\n",
      "  normalised accuracy:\t\t84.69 %\n",
      "Batch:  0 100 200 300 400 Epoch 7 of 20 took 409.258s\n",
      "  training loss:\t\t0.302321\n",
      "  validation loss:\t\t0.680728\n",
      "  validation accuracy:\t\t84.59 %\n",
      "  normalised accuracy:\t\t84.59 %\n",
      "Batch:  0 100 200 300 400 Epoch 8 of 20 took 408.986s\n",
      "  training loss:\t\t0.291367\n",
      "  validation loss:\t\t0.922291\n",
      "  validation accuracy:\t\t81.98 %\n",
      "  normalised accuracy:\t\t81.98 %\n",
      "Batch:  0 100 200 300 400 Epoch 9 of 20 took 410.508s\n",
      "  training loss:\t\t0.283042\n",
      "  validation loss:\t\t0.809413\n",
      "  validation accuracy:\t\t83.47 %\n",
      "  normalised accuracy:\t\t83.47 %\n",
      "Batch:  0 100 200 300 400 Epoch 10 of 20 took 405.572s\n",
      "  training loss:\t\t0.270928\n",
      "  validation loss:\t\t0.975235\n",
      "  validation accuracy:\t\t82.00 %\n",
      "  normalised accuracy:\t\t82.00 %\n",
      "Batch:  0 100 200 300 400 Epoch 11 of 20 took 404.816s\n",
      "  training loss:\t\t0.263396\n",
      "  validation loss:\t\t0.970563\n",
      "  validation accuracy:\t\t82.73 %\n",
      "  normalised accuracy:\t\t82.73 %\n",
      "Batch:  0 100 200 300 400 Epoch 12 of 20 took 404.765s\n",
      "  training loss:\t\t0.259015\n",
      "  validation loss:\t\t1.007513\n",
      "  validation accuracy:\t\t82.36 %\n",
      "  normalised accuracy:\t\t82.36 %\n",
      "Batch:  0 100 200 300 400 Epoch 13 of 20 took 404.935s\n",
      "  training loss:\t\t0.253114\n",
      "  validation loss:\t\t0.977866\n",
      "  validation accuracy:\t\t82.44 %\n",
      "  normalised accuracy:\t\t82.44 %\n",
      "Batch:  0 100 200 300 400 Epoch 14 of 20 took 404.966s\n",
      "  training loss:\t\t0.247364\n",
      "  validation loss:\t\t0.958881\n",
      "  validation accuracy:\t\t81.90 %\n",
      "  normalised accuracy:\t\t81.90 %\n",
      "Batch:  0 100 200 300 400 Epoch 15 of 20 took 404.905s\n",
      "  training loss:\t\t0.238678\n",
      "  validation loss:\t\t1.110991\n",
      "  validation accuracy:\t\t81.31 %\n",
      "  normalised accuracy:\t\t81.31 %\n",
      "Batch:  0 100 200 300 400 Epoch 16 of 20 took 404.741s\n",
      "  training loss:\t\t0.233008\n",
      "  validation loss:\t\t1.077510\n",
      "  validation accuracy:\t\t81.78 %\n",
      "  normalised accuracy:\t\t81.78 %\n",
      "Batch:  0 100 200 300 400 Epoch 17 of 20 took 404.891s\n",
      "  training loss:\t\t0.227029\n",
      "  validation loss:\t\t1.128256\n",
      "  validation accuracy:\t\t81.34 %\n",
      "  normalised accuracy:\t\t81.34 %\n",
      "Batch:  0 100 200 300 400 Epoch 18 of 20 took 405.330s\n",
      "  training loss:\t\t0.221998\n",
      "  validation loss:\t\t1.212158\n",
      "  validation accuracy:\t\t80.28 %\n",
      "  normalised accuracy:\t\t80.28 %\n",
      "Batch:  0 100 200 300 400 Epoch 19 of 20 took 408.631s\n",
      "  training loss:\t\t0.217728\n",
      "  validation loss:\t\t1.153025\n",
      "  validation accuracy:\t\t81.49 %\n",
      "  normalised accuracy:\t\t81.49 %\n",
      "Batch:  0 100 200 300 400 Epoch 20 of 20 took 407.557s\n",
      "  training loss:\t\t0.210601\n",
      "  validation loss:\t\t1.231969\n",
      "  validation accuracy:\t\t80.34 %\n",
      "  normalised accuracy:\t\t80.34 %\n"
     ]
    },
    {
     "ename": "TypeError",
     "evalue": "('Bad input argument to theano function with name \"<ipython-input-8-42f3a2995a09>:46\"  at index 0(0-based)', 'Wrong number of dimensions: expected 4, got 3 with shape (500, 256, 19).')",
     "output_type": "error",
     "traceback": [
      "\u001b[1;31m---------------------------------------------------------------------------\u001b[0m",
      "\u001b[1;31mTypeError\u001b[0m                                 Traceback (most recent call last)",
      "\u001b[1;32m<ipython-input-9-06e41b98982a>\u001b[0m in \u001b[0;36m<module>\u001b[1;34m()\u001b[0m\n\u001b[0;32m     51\u001b[0m \u001b[1;32mfor\u001b[0m \u001b[0mbatch\u001b[0m \u001b[1;32min\u001b[0m \u001b[0miterate_minibatches\u001b[0m\u001b[1;33m(\u001b[0m\u001b[0mX_test\u001b[0m\u001b[1;33m,\u001b[0m \u001b[0my_test\u001b[0m\u001b[1;33m,\u001b[0m \u001b[1;36m500\u001b[0m\u001b[1;33m,\u001b[0m \u001b[0mshuffle\u001b[0m\u001b[1;33m=\u001b[0m\u001b[0mFalse\u001b[0m\u001b[1;33m)\u001b[0m\u001b[1;33m:\u001b[0m\u001b[1;33m\u001b[0m\u001b[0m\n\u001b[0;32m     52\u001b[0m     \u001b[0minputs\u001b[0m\u001b[1;33m,\u001b[0m \u001b[0mtargets\u001b[0m \u001b[1;33m=\u001b[0m \u001b[0mbatch\u001b[0m\u001b[1;33m\u001b[0m\u001b[0m\n\u001b[1;32m---> 53\u001b[1;33m     \u001b[0merr\u001b[0m\u001b[1;33m,\u001b[0m \u001b[0macc\u001b[0m \u001b[1;33m=\u001b[0m \u001b[0mval_fn\u001b[0m\u001b[1;33m(\u001b[0m\u001b[0minputs\u001b[0m\u001b[1;33m,\u001b[0m \u001b[0mtargets\u001b[0m\u001b[1;33m)\u001b[0m\u001b[1;33m\u001b[0m\u001b[0m\n\u001b[0m\u001b[0;32m     54\u001b[0m     \u001b[0mtest_err\u001b[0m \u001b[1;33m+=\u001b[0m \u001b[0merr\u001b[0m\u001b[1;33m\u001b[0m\u001b[0m\n\u001b[0;32m     55\u001b[0m     \u001b[0mtest_acc\u001b[0m \u001b[1;33m+=\u001b[0m \u001b[0macc\u001b[0m\u001b[1;33m\u001b[0m\u001b[0m\n",
      "\u001b[1;32m/home/michael/anaconda/lib/python2.7/site-packages/theano/compile/function_module.pyc\u001b[0m in \u001b[0;36m__call__\u001b[1;34m(self, *args, **kwargs)\u001b[0m\n\u001b[0;32m    532\u001b[0m                         s.storage[0] = s.type.filter(\n\u001b[0;32m    533\u001b[0m                             \u001b[0marg\u001b[0m\u001b[1;33m,\u001b[0m \u001b[0mstrict\u001b[0m\u001b[1;33m=\u001b[0m\u001b[0ms\u001b[0m\u001b[1;33m.\u001b[0m\u001b[0mstrict\u001b[0m\u001b[1;33m,\u001b[0m\u001b[1;33m\u001b[0m\u001b[0m\n\u001b[1;32m--> 534\u001b[1;33m                             allow_downcast=s.allow_downcast)\n\u001b[0m\u001b[0;32m    535\u001b[0m \u001b[1;33m\u001b[0m\u001b[0m\n\u001b[0;32m    536\u001b[0m                     \u001b[1;32mexcept\u001b[0m \u001b[0mException\u001b[0m \u001b[1;32mas\u001b[0m \u001b[0me\u001b[0m\u001b[1;33m:\u001b[0m\u001b[1;33m\u001b[0m\u001b[0m\n",
      "\u001b[1;32m/home/michael/anaconda/lib/python2.7/site-packages/theano/tensor/type.pyc\u001b[0m in \u001b[0;36mfilter\u001b[1;34m(self, data, strict, allow_downcast)\u001b[0m\n\u001b[0;32m    166\u001b[0m             raise TypeError(\"Wrong number of dimensions: expected %s,\"\n\u001b[0;32m    167\u001b[0m                             \" got %s with shape %s.\" % (self.ndim, data.ndim,\n\u001b[1;32m--> 168\u001b[1;33m                                                         data.shape))\n\u001b[0m\u001b[0;32m    169\u001b[0m         \u001b[1;32mif\u001b[0m \u001b[1;32mnot\u001b[0m \u001b[0mdata\u001b[0m\u001b[1;33m.\u001b[0m\u001b[0mflags\u001b[0m\u001b[1;33m.\u001b[0m\u001b[0maligned\u001b[0m\u001b[1;33m:\u001b[0m\u001b[1;33m\u001b[0m\u001b[0m\n\u001b[0;32m    170\u001b[0m             \u001b[1;32mtry\u001b[0m\u001b[1;33m:\u001b[0m\u001b[1;33m\u001b[0m\u001b[0m\n",
      "\u001b[1;31mTypeError\u001b[0m: ('Bad input argument to theano function with name \"<ipython-input-8-42f3a2995a09>:46\"  at index 0(0-based)', 'Wrong number of dimensions: expected 4, got 3 with shape (500, 256, 19).')"
     ]
    }
   ],
   "source": [
    "# Finally, launch the training loop.\n",
    "print(\"Starting training...\")\n",
    "# We iterate over epochs:\n",
    "for epoch in range(num_epochs):\n",
    "    # In each epoch, we do a full pass over the training data:\n",
    "    train_err = 0\n",
    "    train_batches = 0\n",
    "    start_time = time.time()\n",
    "    print \"Batch: \",\n",
    "    for count, batch in enumerate(iterate_balanced_minibatches(X_train, y_train, minibatch_size)):\n",
    "        if count % 100 == 0:\n",
    "            print count,\n",
    "        inputs, targets = batch\n",
    "        train_err += train_fn(inputs, targets)\n",
    "        train_batches += 1\n",
    "\n",
    "    # And a full pass over the validation data:\n",
    "    val_err = 0\n",
    "    val_acc = 0\n",
    "    val_batches = 0\n",
    "    y_preds, y_gts = [], []\n",
    "    for batch in lasagne_helpers.iterate_balanced_minibatches(\n",
    "                X_val, y_val, int(minibatch_size)):\n",
    "\n",
    "        inputs, targets = batch\n",
    "        err, acc = val_fn(inputs, targets)\n",
    "        val_err += err\n",
    "        val_acc += acc\n",
    "        val_batches += 1\n",
    "\n",
    "        y_preds.append( predict_fn(inputs))\n",
    "        y_gts.append(targets)\n",
    "\n",
    "    norm_acc = evaluation.normalised_accuracy(\n",
    "        np.hstack(y_gts), np.hstack(y_preds))\n",
    "\n",
    "    # Then we print the results for this epoch:\n",
    "    print(\"Epoch {} of {} took {:.3f}s\".format(\n",
    "        epoch + 1, num_epochs, time.time() - start_time))\n",
    "    print(\"  training loss:\\t\\t{:.6f}\".format(train_err / train_batches))\n",
    "    print(\"  validation loss:\\t\\t{:.6f}\".format(val_err / val_batches))\n",
    "    print(\"  validation accuracy:\\t\\t{:.2f} %\".format(\n",
    "        val_acc / val_batches * 100))\n",
    "    print(\"  normalised accuracy:\\t\\t{:.2f} %\".format(norm_acc * 100))\n",
    "    sys.stdout.flush()\n",
    "\n",
    "# After training, we compute and print the test error:\n",
    "test_err = 0\n",
    "test_acc = 0\n",
    "test_batches = 0\n",
    "for batch in iterate_minibatches(X_test, y_test, 500, shuffle=False):\n",
    "    inputs, targets = batch\n",
    "    err, acc = val_fn(inputs, targets)\n",
    "    test_err += err\n",
    "    test_acc += acc\n",
    "    test_batches += 1\n",
    "print(\"Final results:\")\n",
    "print(\"  test loss:\\t\\t\\t{:.6f}\".format(test_err / test_batches))\n",
    "print(\"  test accuracy:\\t\\t{:.2f} %\".format(\n",
    "    test_acc / test_batches * 100))\n",
    "\n",
    "# Optionally, you could now dump the network weights to a file like this:\n",
    "# np.savez('model.npz', lasagne.layers.get_all_param_values(network))"
   ]
  },
  {
   "cell_type": "markdown",
   "metadata": {},
   "source": [
    "## Testing on the balanced test set"
   ]
  },
  {
   "cell_type": "code",
   "execution_count": null,
   "metadata": {
    "collapsed": false
   },
   "outputs": [],
   "source": [
    "# do prediction one bit at a time...\n",
    "test_prediction = lasagne.layers.get_output(network, deterministic=True)\n",
    "predict_fn = theano.function([input_var], T.argmax(test_prediction, axis=1))\n",
    "\n",
    "X_test = X_test.reshape((X_test.shape[0], 1, X_test.shape[1], X_test.shape[2]))\n",
    "y_preds = []\n",
    "for batch in iterate_minibatches(X_test, y_test, 500, shuffle=False):\n",
    "    inputs, targets = batch\n",
    "    y_preds.append( predict_fn(inputs))\n",
    "    \n",
    "y_pred = np.hstack(y_preds)\n",
    "accs = 0\n",
    "print y_test.shape, y_pred.shape"
   ]
  },
  {
   "cell_type": "code",
   "execution_count": null,
   "metadata": {
    "collapsed": false
   },
   "outputs": [],
   "source": [
    "\n",
    "for thresh in np.linspace(0, 1, 11):\n",
    "    accs= 0\n",
    "    for target in [0, 1]:\n",
    "        idxs = y_test == target\n",
    "        accs += metrics.accuracy_score(y_test[idxs], y_pred[idxs]>thresh)\n",
    "    accs /= 2\n",
    "    print thresh, accs\n",
    "print y_pred"
   ]
  },
  {
   "cell_type": "code",
   "execution_count": null,
   "metadata": {
    "collapsed": false
   },
   "outputs": [],
   "source": [
    "predict_fn(inputs).dtype"
   ]
  },
  {
   "cell_type": "code",
   "execution_count": null,
   "metadata": {
    "collapsed": false
   },
   "outputs": [],
   "source": [
    "print y_test.mean()\n",
    "print y_pred.mean()"
   ]
  },
  {
   "cell_type": "code",
   "execution_count": null,
   "metadata": {
    "collapsed": false
   },
   "outputs": [],
   "source": [
    "# saving the model\n",
    "import cPickle as pickle\n",
    "with open('/home/michael/projects/engaged_hackathon_data/detection/models/cnn_balanced_new_params_256.pkl', 'w') as f:\n",
    "    pickle.dump(network, f)"
   ]
  },
  {
   "cell_type": "code",
   "execution_count": null,
   "metadata": {
    "collapsed": true
   },
   "outputs": [],
   "source": []
  }
 ],
 "metadata": {
  "kernelspec": {
   "display_name": "Python 2",
   "language": "python",
   "name": "python2"
  },
  "language_info": {
   "codemirror_mode": {
    "name": "ipython",
    "version": 2
   },
   "file_extension": ".py",
   "mimetype": "text/x-python",
   "name": "python",
   "nbconvert_exporter": "python",
   "pygments_lexer": "ipython2",
   "version": "2.7.10"
  }
 },
 "nbformat": 4,
 "nbformat_minor": 0
}
