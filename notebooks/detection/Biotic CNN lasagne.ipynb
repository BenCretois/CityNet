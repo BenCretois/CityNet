{
 "cells": [
  {
   "cell_type": "code",
   "execution_count": 1,
   "metadata": {
    "collapsed": false
   },
   "outputs": [
    {
     "name": "stderr",
     "output_type": "stream",
     "text": [
      "Using gpu device 0: GeForce GTX 770\n"
     ]
    }
   ],
   "source": [
    "%matplotlib inline\n",
    "%load_ext autoreload\n",
    "%autoreload 2\n",
    "import matplotlib.pyplot as plt\n",
    "import csv\n",
    "import os\n",
    "import sys\n",
    "import numpy as np\n",
    "import collections\n",
    "import scipy.io\n",
    "import time\n",
    "\n",
    "# CNN bits\n",
    "import theano\n",
    "import theano.tensor as T\n",
    "import lasagne\n",
    "\n",
    "# for evaluation\n",
    "sys.path.append(os.path.expanduser('~/projects/engaged_hackathon/'))\n",
    "from engaged.features import evaluation\n",
    "from sklearn import metrics\n",
    "from sklearn.metrics import roc_curve, auc"
   ]
  },
  {
   "cell_type": "code",
   "execution_count": 2,
   "metadata": {
    "collapsed": true
   },
   "outputs": [],
   "source": [
    "def iterate_minibatches(inputs, targets, batchsize, shuffle=False):\n",
    "    assert len(inputs) == len(targets)\n",
    "    if shuffle:\n",
    "        indices = np.arange(len(inputs))\n",
    "        np.random.shuffle(indices)\n",
    "    for start_idx in range(0, len(inputs) - batchsize + 1, batchsize):\n",
    "        if shuffle:\n",
    "            excerpt = indices[start_idx:start_idx + batchsize]\n",
    "        else:\n",
    "            excerpt = slice(start_idx, start_idx + batchsize)\n",
    "        yield inputs[excerpt], targets[excerpt]\n",
    "\n"
   ]
  },
  {
   "cell_type": "code",
   "execution_count": 3,
   "metadata": {
    "collapsed": false
   },
   "outputs": [],
   "source": [
    "def iterate_balanced_minibatches(inputs, targets, batchsize):\n",
    "    assert len(inputs) == len(targets)\n",
    "\n",
    "    indices_pos = np.where(targets==1)[0]\n",
    "    indices_neg = np.where(targets==0)[0]\n",
    "\n",
    "    np.random.shuffle(indices_pos)\n",
    "    np.random.shuffle(indices_neg)\n",
    "\n",
    "    for start_idx in range(0, len(indices_neg) - batchsize + 1, batchsize):\n",
    "        # in each batch, new negative data is provided, positive data is reused\n",
    "        \n",
    "        # get indices for each of the excerpts, wrapping back to the beginning...\n",
    "        excerpt_pos = np.take(\n",
    "            indices_pos, np.arange(start_idx, start_idx + batchsize), mode='wrap')\n",
    "        excerpt_neg = np.take(\n",
    "            indices_neg, np.arange(start_idx, start_idx + batchsize), mode='wrap')\n",
    "        \n",
    "        # reform the full balanced inputs and output\n",
    "        full_idxs = np.hstack((excerpt_pos, excerpt_neg))\n",
    "        yield inputs[full_idxs], targets[full_idxs]\n",
    "\n"
   ]
  },
  {
   "cell_type": "code",
   "execution_count": 11,
   "metadata": {
    "collapsed": false
   },
   "outputs": [
    {
     "name": "stdout",
     "output_type": "stream",
     "text": [
      " Loading data...\n"
     ]
    }
   ],
   "source": [
    "from sklearn.cross_validation import train_test_split\n",
    "import scipy\n",
    "datapath = '/home/michael/projects/engaged_hackathon_data/detection/train_test_patches/'\n",
    "\n",
    "# def load_dataset(loadpath):\n",
    "#     data_big = scipy.io.loadmat(loadpath)\n",
    "#     X_train_val = data_big['X_train']\n",
    "#     y_train_val = data_big['y_train'].ravel()\n",
    "#     X_test = data_big['X_test']\n",
    "#     y_test = data_big['y_test'].ravel()\n",
    "    \n",
    "#     train_idxs, val_idxs = train_test_split(\n",
    "#         np.arange(X_train_val.shape[0]), test_size=0.3)\n",
    "        \n",
    "#     X_train = X_train_val[train_idxs]\n",
    "#     y_train = y_train_val[train_idxs]\n",
    "#     X_val = X_train_val[val_idxs]\n",
    "#     y_val = y_train_val[val_idxs]\n",
    "    \n",
    "#     return X_train, y_train, X_val, y_val, X_test, y_test\n",
    "\n",
    "# Load the dataset\n",
    "import lasagne_helpers\n",
    "print(\"Loading data...\")\n",
    "X_train, y_train, X_val, y_val, X_test, y_test = lasagne_helpers.load_dataset(datapath+'unbalanced_256.mat')\n",
    "y_train = y_train.astype(np.int32)\n",
    "y_test = y_test.astype(np.int32)\n",
    "y_val = y_val.astype(np.int32)"
   ]
  },
  {
   "cell_type": "code",
   "execution_count": 12,
   "metadata": {
    "collapsed": false
   },
   "outputs": [
    {
     "name": "stdout",
     "output_type": "stream",
     "text": [
      "(70000, 1, 256, 19)\n"
     ]
    }
   ],
   "source": [
    "print X_train.shape"
   ]
  },
  {
   "cell_type": "code",
   "execution_count": 22,
   "metadata": {
    "collapsed": false
   },
   "outputs": [
    {
     "name": "stdout",
     "output_type": "stream",
     "text": [
      "\n"
     ]
    }
   ],
   "source": [
    "def build_custom_mlp(\n",
    "        input_var=None, \n",
    "        drop_input=.2,    \n",
    "        conv_depth = 2,\n",
    "        num_filters1=32,\n",
    "        filter_size1 = 3,\n",
    "        num_filters2=32,\n",
    "        filter_size2 = 5,\n",
    "        pool_size = 2,  # same pool size for each max pool\n",
    "#         drop_conv = 0.01,\n",
    "        dense_depth=2,\n",
    "        dense_width=800, \n",
    "        drop_dense_hidden=.5):\n",
    "\n",
    "    # Input layer and dropout (with shortcut `dropout` for `DropoutLayer`):\n",
    "    im_width, im_height = X_train.shape[2], X_train.shape[3]\n",
    "    network = lasagne.layers.InputLayer(shape=(None, 1, im_width, im_height),\n",
    "                                        input_var=input_var)\n",
    "    if drop_input:\n",
    "        network = lasagne.layers.dropout(network, p=drop_input)\n",
    "        \n",
    "    # Conv layers (fixing to two sets of layers, each with 2*conv \n",
    "    # and a max pool)\n",
    "    for _ in range(conv_depth):\n",
    "        network = lasagne.layers.Conv2DLayer(\n",
    "            network, num_filters=num_filters1, \n",
    "            filter_size=(3, 3),\n",
    "            nonlinearity=lasagne.nonlinearities.rectify,\n",
    "            W=lasagne.init.GlorotUniform())\n",
    "        \n",
    "        network = lasagne.layers.Conv2DLayer(\n",
    "            network, num_filters=num_filters2, \n",
    "            filter_size=(3, 3),\n",
    "            nonlinearity=lasagne.nonlinearities.rectify,\n",
    "            W=lasagne.init.GlorotUniform())\n",
    "        \n",
    "        network = lasagne.layers.MaxPool2DLayer(\n",
    "            network, pool_size=(pool_size, pool_size))\n",
    "        \n",
    "#         if drop_conv:\n",
    "#             network = lasagne.layers.dropout(network, p=drop_conv)\n",
    "    \n",
    "    # Dense layers and dropout\n",
    "    nonlin = lasagne.nonlinearities.rectify\n",
    "    \n",
    "    for _ in range(dense_depth):\n",
    "        network = lasagne.layers.DenseLayer(\n",
    "                network, dense_width, nonlinearity=nonlin)\n",
    "        if drop_hidden:\n",
    "            network = lasagne.layers.dropout(network, p=drop_dense_hidden)\n",
    "            \n",
    "    # Output layer:\n",
    "    softmax = lasagne.nonlinearities.softmax\n",
    "    return network"
   ]
  },
  {
   "cell_type": "code",
   "execution_count": 23,
   "metadata": {
    "collapsed": false
   },
   "outputs": [],
   "source": [
    "def build_cnn(input_var=None):\n",
    "    # As a third model, we'll create a CNN of two convolution + pooling stages\n",
    "    # and a fully-connected hidden layer in front of the output layer.\n",
    "\n",
    "    # Input layer, as usual:\n",
    "    im_width, im_height = X_train.shape[2], X_train.shape[3]\n",
    "    network = lasagne.layers.InputLayer(shape=(None, 1, im_width, im_height),\n",
    "                                        input_var=input_var)\n",
    "    # This time we do not apply input dropout, as it tends to work less well\n",
    "    # for convolutional layers.\n",
    "    network = lasagne.layers.dropout(network, p=0.18)\n",
    "    \n",
    "    # Convolutional layer with 32 kernels of size 5x5. Strided and padded\n",
    "    # convolutions are supported as well; see the docstring.\n",
    "    network = lasagne.layers.Conv2DLayer(\n",
    "            network, num_filters=64, filter_size=(3, 3),\n",
    "#             stride=(2, 2),\n",
    "            nonlinearity=lasagne.nonlinearities.leaky_rectify,\n",
    "            W=lasagne.init.GlorotUniform())\n",
    "    # Expert note: Lasagne provides alternative convolutional layers that\n",
    "    # override Theano's choice of which implementation to use; for details\n",
    "    # please see http://lasagne.readthedocs.org/en/latest/user/tutorial.html.\n",
    "\n",
    "    # Max-pooling layer of factor 2 in both dimensions:\n",
    "    network = lasagne.layers.MaxPool2DLayer(network, pool_size=(2, 2))\n",
    "\n",
    "    # Another convolution with 32 5x5 kernels, and another 2x2 pooling:\n",
    "    network = lasagne.layers.Conv2DLayer(\n",
    "            network, num_filters=64, filter_size=(3,3),\n",
    "#             stride=(2, 2),\n",
    "            nonlinearity=lasagne.nonlinearities.leaky_rectify,\n",
    "            W=lasagne.init.GlorotUniform())\n",
    "    \n",
    "    network = lasagne.layers.MaxPool2DLayer(network, pool_size=(2, 2))\n",
    "  \n",
    "\n",
    "    # A fully-connected layer of 256 units with 50% dropout on its inputs:\n",
    "    network = lasagne.layers.DenseLayer(\n",
    "            lasagne.layers.dropout(network, p=.3),\n",
    "            num_units=800,\n",
    "            nonlinearity=lasagne.nonlinearities.leaky_rectify)\n",
    "\n",
    "    # A fully-connected layer of 256 units with 50% dropout on its inputs:\n",
    "    network = lasagne.layers.DenseLayer(\n",
    "            lasagne.layers.dropout(network, p=.3),\n",
    "            num_units=800,\n",
    "            nonlinearity=lasagne.nonlinearities.leaky_rectify)\n",
    "\n",
    "    \n",
    "    # And, finally, the 10-unit output layer with 50% dropout on its inputs:\n",
    "    network = lasagne.layers.DenseLayer(\n",
    "            lasagne.layers.dropout(network, p=.3),\n",
    "            num_units=2,\n",
    "            nonlinearity=lasagne.nonlinearities.softmax)\n",
    "\n",
    "    return network\n"
   ]
  },
  {
   "cell_type": "code",
   "execution_count": 24,
   "metadata": {
    "collapsed": false
   },
   "outputs": [
    {
     "name": "stdout",
     "output_type": "stream",
     "text": [
      "Building model and compiling functions...\n"
     ]
    }
   ],
   "source": [
    "# Prepare Theano variables for inputs and targets\n",
    "input_var = T.tensor4('inputs')\n",
    "target_var = T.ivector('targets')\n",
    "num_epochs = 20\n",
    "\n",
    "minibatch_size = 150  # optimise\n",
    "\n",
    "# Create neural network model (depending on first command line parameter)\n",
    "print(\"Building model and compiling functions...\")\n",
    "network = build_cnn(input_var)\n",
    "\n",
    "# Create a loss expression for training, i.e., a scalar objective we want\n",
    "# to minimize (for our multi-class problem, it is the cross-entropy loss):\n",
    "prediction = lasagne.layers.get_output(network)\n",
    "loss = lasagne.objectives.categorical_crossentropy(prediction, target_var)\n",
    "loss = loss.mean()\n",
    "# We could add some weight decay as well here, see lasagne.regularization.\n",
    "\n",
    "# Create update expressions for training, i.e., how to modify the\n",
    "# parameters at each training step. Here, we'll use Stochastic Gradient\n",
    "# Descent (SGD) with Nesterov momentum, but Lasagne offers plenty more.\n",
    "params = lasagne.layers.get_all_params(network, trainable=True)\n",
    "updates = lasagne.updates.nesterov_momentum(\n",
    "        loss, params, learning_rate=0.0249, momentum=0.91)\n",
    "\n",
    "# Create a loss expression for validation/testing. The crucial difference\n",
    "# here is that we do a deterministic forward pass through the network,\n",
    "# disabling dropout layers.\n",
    "test_prediction = lasagne.layers.get_output(network, deterministic=True)\n",
    "test_loss = lasagne.objectives.categorical_crossentropy(test_prediction,\n",
    "                                                        target_var)\n",
    "test_loss = test_loss.mean()\n",
    "# As a bonus, also create an expression for the classification accuracy:\n",
    "test_acc = T.mean(T.eq(T.argmax(test_prediction, axis=1), target_var),\n",
    "                  dtype=theano.config.floatX)\n",
    "\n",
    "# Compile a function performing a training step on a mini-batch (by giving\n",
    "# the updates dictionary) and returning the corresponding training loss:\n",
    "train_fn = theano.function([input_var, target_var], loss, updates=updates)\n",
    "\n",
    "# Compile a second function computing the validation loss and accuracy:\n",
    "val_fn = theano.function([input_var, target_var], [test_loss, test_acc])\n",
    "\n",
    "test_prediction = lasagne.layers.get_output(network, deterministic=True)\n",
    "predict_fn = theano.function([input_var], T.argmax(test_prediction, axis=1))"
   ]
  },
  {
   "cell_type": "code",
   "execution_count": null,
   "metadata": {
    "collapsed": false
   },
   "outputs": [],
   "source": [
    "# Finally, launch the training loop.\n",
    "print(\"Starting training...\")\n",
    "# We iterate over epochs:\n",
    "for epoch in range(num_epochs):\n",
    "    # In each epoch, we do a full pass over the training data:\n",
    "    train_err = 0\n",
    "    train_batches = 0\n",
    "    start_time = time.time()\n",
    "    print \"Batch: \",\n",
    "    for count, batch in enumerate(iterate_balanced_minibatches(X_train, y_train, minibatch_size)):\n",
    "        if count % 100 == 0:\n",
    "            print count,\n",
    "        inputs, targets = batch\n",
    "        train_err += train_fn(inputs, targets)\n",
    "        train_batches += 1\n",
    "\n",
    "    # And a full pass over the validation data:\n",
    "    val_err = 0\n",
    "    val_acc = 0\n",
    "    val_batches = 0\n",
    "    y_preds, y_gts = [], []\n",
    "    for batch in lasagne_helpers.iterate_balanced_minibatches(\n",
    "                X_val, y_val, int(minibatch_size)):\n",
    "\n",
    "        inputs, targets = batch\n",
    "        err, acc = val_fn(inputs, targets)\n",
    "        val_err += err\n",
    "        val_acc += acc\n",
    "        val_batches += 1\n",
    "\n",
    "        y_preds.append( predict_fn(inputs))\n",
    "        y_gts.append(targets)\n",
    "\n",
    "        norm_acc = lasagne_helpers.normalised_accuracy(\n",
    "            np.hstack(y_gts), np.hstack(y_preds))\n",
    "\n",
    "    # Then we print the results for this epoch:\n",
    "    print(\"Epoch {} of {} took {:.3f}s\".format(\n",
    "        epoch + 1, num_epochs, time.time() - start_time))\n",
    "    print(\"  training loss:\\t\\t{:.6f}\".format(train_err / train_batches))\n",
    "    print(\"  validation loss:\\t\\t{:.6f}\".format(val_err / val_batches))\n",
    "    print(\"  validation accuracy:\\t\\t{:.2f} %\".format(\n",
    "        val_acc / val_batches * 100))\n",
    "    print(\"  normalised accuracy:\\t\\t{:.2f} %\".format(norm_acc * 100))\n",
    "    sys.stdout.flush()\n",
    "\n",
    "# After training, we compute and print the test error:\n",
    "test_err = 0\n",
    "test_acc = 0\n",
    "test_batches = 0\n",
    "for batch in iterate_minibatches(X_test, y_test, 500, shuffle=False):\n",
    "    inputs, targets = batch\n",
    "    err, acc = val_fn(inputs, targets)\n",
    "    test_err += err\n",
    "    test_acc += acc\n",
    "    test_batches += 1\n",
    "print(\"Final results:\")\n",
    "print(\"  test loss:\\t\\t\\t{:.6f}\".format(test_err / test_batches))\n",
    "print(\"  test accuracy:\\t\\t{:.2f} %\".format(\n",
    "    test_acc / test_batches * 100))\n",
    "\n",
    "# Optionally, you could now dump the network weights to a file like this:\n",
    "# np.savez('model.npz', lasagne.layers.get_all_param_values(network))"
   ]
  },
  {
   "cell_type": "markdown",
   "metadata": {},
   "source": [
    "## Testing on the balanced test set"
   ]
  },
  {
   "cell_type": "code",
   "execution_count": null,
   "metadata": {
    "collapsed": false
   },
   "outputs": [],
   "source": [
    "# do prediction one bit at a time...\n",
    "test_prediction = lasagne.layers.get_output(network, deterministic=True)\n",
    "predict_fn = theano.function([input_var], T.argmax(test_prediction, axis=1))\n",
    "\n",
    "y_preds = []\n",
    "for batch in iterate_minibatches(X_test, y_test, 500, shuffle=False):\n",
    "    inputs, targets = batch\n",
    "    y_preds.append( predict_fn(inputs))\n",
    "    \n",
    "y_pred = np.hstack(y_preds)\n",
    "accs = 0\n",
    "print y_test.shape, y_pred.shape"
   ]
  },
  {
   "cell_type": "code",
   "execution_count": null,
   "metadata": {
    "collapsed": false
   },
   "outputs": [],
   "source": [
    "\n",
    "for thresh in np.linspace(0, 1, 11):\n",
    "    accs= 0\n",
    "    for target in [0, 1]:\n",
    "        idxs = y_test == target\n",
    "        accs += metrics.accuracy_score(y_test[idxs], y_pred[idxs]>thresh)\n",
    "    accs /= 2\n",
    "    print thresh, accs"
   ]
  },
  {
   "cell_type": "code",
   "execution_count": null,
   "metadata": {
    "collapsed": false
   },
   "outputs": [],
   "source": [
    "predict_fn(inputs).dtype"
   ]
  },
  {
   "cell_type": "code",
   "execution_count": null,
   "metadata": {
    "collapsed": false
   },
   "outputs": [],
   "source": [
    "print y_test.mean()\n",
    "print y_pred.mean()"
   ]
  },
  {
   "cell_type": "code",
   "execution_count": null,
   "metadata": {
    "collapsed": false
   },
   "outputs": [],
   "source": [
    "# saving the model\n",
    "import cPickle as pickle\n",
    "with open('/home/michael/projects/engaged_hackathon_data/detection/models/cnn_balanced_new_params_256.pkl', 'w') as f:\n",
    "    pickle.dump(network, f)"
   ]
  },
  {
   "cell_type": "code",
   "execution_count": null,
   "metadata": {
    "collapsed": true
   },
   "outputs": [],
   "source": []
  }
 ],
 "metadata": {
  "kernelspec": {
   "display_name": "Python 2",
   "language": "python",
   "name": "python2"
  },
  "language_info": {
   "codemirror_mode": {
    "name": "ipython",
    "version": 2
   },
   "file_extension": ".py",
   "mimetype": "text/x-python",
   "name": "python",
   "nbconvert_exporter": "python",
   "pygments_lexer": "ipython2",
   "version": "2.7.10"
  }
 },
 "nbformat": 4,
 "nbformat_minor": 0
}
