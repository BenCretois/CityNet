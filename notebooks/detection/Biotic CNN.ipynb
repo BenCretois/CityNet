{
 "cells": [
  {
   "cell_type": "code",
   "execution_count": 1,
   "metadata": {
    "collapsed": true
   },
   "outputs": [],
   "source": [
    "%matplotlib inline\n",
    "import matplotlib.pyplot as plt\n",
    "import csv\n",
    "import os\n",
    "import numpy as np\n",
    "import collections\n",
    "\n",
    "import scipy.io.wavfile\n",
    "from scipy.io import loadmat\n",
    "from sklearn.cross_validation import train_test_split\n",
    "from sklearn.ensemble import RandomForestClassifier\n",
    "from sklearn.cross_validation import train_test_split\n",
    "import collections\n",
    "from scipy.ndimage.interpolation import zoom\n",
    "\n",
    "import sys, os\n",
    "sys.path.append(os.path.expanduser('~/projects/engaged_hackathon/'))\n",
    "from engaged.features import frequency\n",
    "\n",
    "\n",
    "# THEANO: Bengio's Autodiff tensor stuff\n",
    "import theano\n",
    "from theano.tensor.nnet import sigmoid\n",
    "from theano import tensor as T\n",
    "# LASAGNE: Next abstraction down for NNs\n",
    "import lasagne\n",
    "from lasagne import layers\n",
    "from lasagne.updates import nesterov_momentum, norm_constraint\n",
    "from lasagne.init import GlorotNormal\n",
    "from lasagne.objectives import binary_crossentropy\n",
    "from lasagne.regularization import l2\n",
    "# NOLEARN: Next abstraction again - to be compatible with Sci-kit learn\n",
    "import nolearn\n",
    "from nolearn.lasagne import NeuralNet\n",
    "from nolearn.lasagne import BatchIterator\n",
    "# HYPEROPT: randomly search the hyperparameter space for the best ones\n",
    "from hyperopt import hp, fmin, tpe\n",
    "\n",
    "import pandas as pd\n",
    "import numpy as np\n",
    "import math\n",
    "import hyperopt\n",
    "\n",
    "from time import time\n",
    "from glob import glob\n",
    "from math import log\n",
    "\n",
    "from sklearn import metrics\n",
    "from sklearn.metrics import roc_curve, auc\n",
    "\n",
    "\n",
    "from time import time"
   ]
  },
  {
   "cell_type": "code",
   "execution_count": 2,
   "metadata": {
    "collapsed": false
   },
   "outputs": [
    {
     "name": "stdout",
     "output_type": "stream",
     "text": [
      "362\n"
     ]
    }
   ],
   "source": [
    "# getting a list of all the files\n",
    "base_path = '/home/michael/projects/engaged_hackathon_data/raw_data/one_minute_files'\n",
    "files = os.listdir(base_path + '/detection_challenge')\n",
    "files = [xx.split('.')[0] for xx in files if 'sampled' not in xx]\n",
    "\n",
    "spectrogram_parameters = {\n",
    "    'nfft': 1024,\n",
    "    'window_width': 0.03,\n",
    "    'overlap': 0.01,\n",
    "    }\n",
    "\n",
    "print len(files)"
   ]
  },
  {
   "cell_type": "code",
   "execution_count": 3,
   "metadata": {
    "collapsed": false
   },
   "outputs": [
    {
     "name": "stdout",
     "output_type": "stream",
     "text": [
      "362\n",
      "0 5 10 15 20 25 30 35 40 45 50 55 60 65 70 75 80 85 90 95 100 105 110 115 120 125 130 135 140 145 150 155 160 165 170 175 180 185 190 195 200 205 210 215 220 225 230 235 240 245 250 255 260 265 270 275 280 285 290 295 300 305 310 315 320 325 330 335 340 345 350 355 360\n"
     ]
    }
   ],
   "source": [
    "def choose_locations(idxs, maximum, balance=False):\n",
    "    \"\"\"\n",
    "    Given a binary array, the function returns a list of positive and negative locations sampled\n",
    "    at random from the list.\n",
    "    Returns 'maximum' locations unless there there are fewer than maximum locations in\n",
    "    idxs, in which case all are returned\n",
    "    If balance is true then the classes are balanced to the smaller class size to\n",
    "    ensure an equal number of each\n",
    "    \"\"\"\n",
    "    false_idxs = np.where(idxs==0)[0]\n",
    "    true_idxs = np.where(idxs==1)[0]\n",
    "    \n",
    "    if false_idxs.shape[0] > maximum and maximum is not None:\n",
    "        false_idxs = np.random.choice(false_idxs, maximum, replace=False)\n",
    "        \n",
    "    if true_idxs.shape[0] > maximum and maximum is not None:\n",
    "        true_idxs = np.random.choice(true_idxs, maximum, replace=False)\n",
    "        \n",
    "    if false_idxs.shape[0] != true_idxs.shape[0] and balance:\n",
    "        raise Exception(\"Not implemented!\")\n",
    "        \n",
    "    return true_idxs, false_idxs\n",
    "    \n",
    "\n",
    "def extract_1d_patches(array, locations, hww):\n",
    "    \"\"\"\n",
    "    Extract vertical patches from the array, at the locations given.\n",
    "    Each slice has a half window width hww\n",
    "    \n",
    "    Returns an array of shape:\n",
    "    (len(locations), array.shape[0], hww*2+1)\n",
    "    \"\"\"\n",
    "    # pad the array to account for overspill\n",
    "    offset_idxs_np = np.array(locations) + hww\n",
    "    extra1 = np.tile(array[:, 0], (hww, 1)).T\n",
    "    extra2 = np.tile(array[:, -1], (hww, 1)).T\n",
    "    a_temp = np.hstack((extra1, array, extra2))\n",
    "    \n",
    "    # set up the array of index locations to extract from\n",
    "    idxs = [offset_idxs_np]\n",
    "    for offset in range(1, hww+1):\n",
    "        idxs.insert(0, offset_idxs_np-offset)\n",
    "        idxs.append(offset_idxs_np+offset)\n",
    "    new_idx = np.vstack(idxs).T.ravel()\n",
    "    \n",
    "    # extract the patches and do the appropriate reshapgin\n",
    "    new_shape = (array.shape[0], offset_idxs_np.shape[0], hww*2 + 1)\n",
    "    to_return = a_temp[:, new_idx].reshape(new_shape).transpose((1, 0, 2))\n",
    "    return to_return\n",
    "\n",
    "\n",
    "max_from_each_file = 500\n",
    "spec_path = '/home/michael/projects/engaged_hackathon_data/detection/spectrograms/'\n",
    "\n",
    "\n",
    "def process_file(inputs):\n",
    "    \n",
    "    count, fname = inputs\n",
    "    \n",
    "    # load in wav and convert to spectrogram\n",
    "    spec = scipy.io.loadmat(spec_path + fname + '_smallspec.mat')['spectrogram']\n",
    "        \n",
    "    # load in ground truth\n",
    "    gt = loadmat(base_path + '/detection_challenge/' + fname + '.mat')\n",
    "    \n",
    "    # convert the labels to the sampling rate of the spectrogram\n",
    "    zoom_factor = float(spec.shape[1]) / float(gt['biotic'][0].shape[0])\n",
    "    gt_biotic = zoom(gt['biotic'][0], zoom_factor).astype(bool)\n",
    "    gt_anthrop = zoom(gt['anthropogenic'][0], zoom_factor).astype(bool)\n",
    "    \n",
    "    # choosing where to extract from..\n",
    "    tic = time()    \n",
    "    true_idxs, false_idxs = choose_locations(gt_biotic, max_from_each_file)\n",
    "    idxs = np.hstack([true_idxs, false_idxs])\n",
    "    labels = np.hstack(\n",
    "        [np.ones(true_idxs.shape), np.zeros(false_idxs.shape)])\n",
    "    \n",
    "    # let's group the X here and create a suitable Y vector...\n",
    "    patches = extract_1d_patches(spec, idxs, hww=9)\n",
    "\n",
    "    if count % 5 == 0:\n",
    "        print count,\n",
    "    \n",
    "    return patches, labels\n",
    "\n",
    "print len(files)\n",
    "XY = map(process_file, enumerate(files))\n"
   ]
  },
  {
   "cell_type": "code",
   "execution_count": 36,
   "metadata": {
    "collapsed": false
   },
   "outputs": [
    {
     "name": "stdout",
     "output_type": "stream",
     "text": [
      "X_test (2936, 1, 75, 19) float32\n",
      "0.0 3.46287 220.502746083\n",
      "X_train (6012, 1, 75, 19) float32\n",
      "0.0 6.14807 239.957771956\n",
      "y_train (6012,) int32\n",
      "0 1 0.5\n",
      "y_test (2936,) int32\n",
      "0 1 0.5\n"
     ]
    },
    {
     "data": {
      "image/png": "[encoded data removed]",
      "text/plain": [
       "<matplotlib.figure.Figure at 0x7ff656fc1a10>"
      ]
     },
     "metadata": {},
     "output_type": "display_data"
    }
   ],
   "source": [
    "# Do train/test split and combine training data\n",
    "from sklearn.cross_validation import train_test_split\n",
    "\n",
    "train_files, test_files = train_test_split(\n",
    "    range(len(files)), random_state=0, train_size=0.1, test_size=0.05)\n",
    "\n",
    "tX, tY = zip(*XY)\n",
    "\n",
    "data = {}\n",
    "data['X_train'] = np.vstack([tX[idx] for idx in train_files])\n",
    "data['y_train'] = np.hstack([tY[idx] for idx in train_files]).astype(np.int32)\n",
    "data['X_test'] = np.vstack([tX[idx] for idx in test_files])\n",
    "data['y_test'] = np.hstack([tY[idx] for idx in test_files]).astype(np.int32)\n",
    "\n",
    "for key in ['X_train', 'X_test']:\n",
    "    tshape = data[key].shape\n",
    "    data[key] = data[key].reshape((tshape[0], -1, tshape[1], tshape[2]))\n",
    "    data[key] = data[key].astype(np.float32)\n",
    "\n",
    "def balance_classes(X, Y):\n",
    "    positives = np.where(Y == 0)[0]\n",
    "    negatives = np.where(Y == 1)[0]\n",
    "    max_examples = min(len(positives), len(negatives))\n",
    "    \n",
    "    if len(positives) > max_examples:\n",
    "        positives = np.random.choice(positives, max_examples, replace=False)\n",
    "    if len(negatives) > max_examples:\n",
    "        negatives = np.random.choice(negatives, max_examples, replace=False)\n",
    "        \n",
    "    X = np.vstack((X[negatives, :], X[positives, :]))\n",
    "    new_Y = np.hstack((Y[negatives], Y[positives])) \n",
    "    \n",
    "    shuffle_idxs = np.random.permutation(X.shape[0])\n",
    "    \n",
    "    return X[shuffle_idxs, :], new_Y[shuffle_idxs]\n",
    "    \n",
    "# balance the classes...\n",
    "for key in ['train', 'test']:\n",
    "    data['X_' + key], data['y_' + key] = balance_classes(data['X_' + key], data['y_' + key])\n",
    "    \n",
    "for key, val in data.iteritems():\n",
    "    print key, val.shape, val.dtype\n",
    "    print val.min(), val.max(), val.sum()/float(val.shape[0])\n",
    "\n",
    "for idx in range(10):\n",
    "    plt.subplot(3, 4, idx+1)\n",
    "    plt.imshow(data['X_train'][idx, 0, :, :])\n"
   ]
  },
  {
   "cell_type": "code",
   "execution_count": 37,
   "metadata": {
    "collapsed": false
   },
   "outputs": [],
   "source": [
    "# Now setting up the CNN\n"
   ]
  },
  {
   "cell_type": "code",
   "execution_count": 38,
   "metadata": {
    "collapsed": false
   },
   "outputs": [],
   "source": [
    "params = (100, log(0.01), log(0.99), 10, 10, 200, 0.5, 50, 5, 5)\n",
    "\n",
    "hidden_units, learning_rate, momentum, filter1, filter2, batch_size, drop_out, epochs, conv_1, conv_2 = params\n",
    "\n",
    "# Can also have choice of update (norm_constraint), of non-linearities, of filter sizes, of padding, strides...\n",
    "\n",
    "\n",
    "def float32(k):\n",
    "    \"\"\"\n",
    "    used for adjust_variables to ensure Theano tensor type compatibility:\n",
    "    \"\"\"\n",
    "    return np.cast['float32'](k)\n",
    "\n",
    "\n",
    "hidden_units = np.cast['int32'](hidden_units) #150\n",
    "learning_rate = float32(learning_rate) #0.1\n",
    "momentum = float32(momentum) #0.9\n",
    "#patience = np.cast['int32'](patience) #100\n",
    "filter1 = np.cast['int32'](filter1) #10\n",
    "filter2 = np.cast['int32'](filter2) #20\n",
    "batch_size = np.cast['int32'](batch_size) #128\n",
    "drop_out = float32(drop_out) #0.5\n",
    "epochs = np.cast['int32'](epochs) #25\n",
    "conv_1 = np.cast['int32'](conv_1) #3\n",
    "conv_2 = np.cast['int32'](conv_2) #3\n",
    "#conv_3 = np.cast['int32'](conv_3) #3\n",
    "#conv_4 = np.cast['int32'](conv_4) #3\n",
    "\n",
    "np.random.seed(4)\n",
    "\n",
    "# data = load_data2()\n",
    "# todo - train test split proper!\n",
    "\n",
    "\n",
    "class EarlyStopping(object):\n",
    "    # from kfkd.py\n",
    "    def __init__(self, patience=100):\n",
    "        self.patience = patience\n",
    "        self.best_valid = np.inf\n",
    "        self.best_valid_epoch = 0\n",
    "        self.best_weights = None\n",
    "\n",
    "    def __call__(self, nn, train_history):\n",
    "        current_valid = train_history[-1]['valid_loss']\n",
    "        current_epoch = train_history[-1]['epoch']\n",
    "        if current_valid < self.best_valid:\n",
    "            self.best_valid = current_valid\n",
    "            self.best_valid_epoch = current_epoch\n",
    "            self.best_weights = nn.get_all_params_values()\n",
    "        elif self.best_valid_epoch + self.patience < current_epoch:\n",
    "            print(\"Early stopping.\")\n",
    "            print(\"Best valid loss was {:.6f} at epoch {}.\".format(\n",
    "                self.best_valid, self.best_valid_epoch))\n",
    "            nn.load_params_from(self.best_weights)\n",
    "            raise StopIteration()\n",
    "\n",
    "            \n",
    "class AdjustVariable(object):\n",
    "    # https://github.com/dnouri/kfkd-tutorial/blob/master/kfkd.py\n",
    "    \"\"\"\n",
    "    Annealing function for learning rate / momentum\n",
    "    \"\"\"\n",
    "    def __init__(self, name, start=0.03, stop=0.001):\n",
    "        self.name = name\n",
    "        self.start, self.stop = start, stop\n",
    "        self.ls = None\n",
    "\n",
    "    def __call__(self, nn, train_history):\n",
    "        if self.ls is None:\n",
    "            self.ls = np.linspace(self.start, self.stop, nn.max_epochs)\n",
    "\n",
    "        epoch = train_history[-1]['epoch']\n",
    "        new_value = float32(self.ls[epoch - 1])\n",
    "        getattr(nn, self.name).set_value(new_value)\n"
   ]
  },
  {
   "cell_type": "code",
   "execution_count": 9,
   "metadata": {
    "collapsed": false
   },
   "outputs": [],
   "source": [
    "# let's load in the mnist dataset and train on that...\n",
    "def load_mnist(path):\n",
    "    X = []\n",
    "    y = []\n",
    "    with open(path, 'rb') as f:\n",
    "        next(f)  # skip header\n",
    "        for line in f:\n",
    "            yi, xi = line.split(',', 1)\n",
    "            y.append(yi)\n",
    "            X.append(xi.split(','))\n",
    "\n",
    "    # Theano works with fp32 precision\n",
    "    X = np.array(X).astype(np.float32)\n",
    "    y = np.array(y).astype(np.int32)\n",
    "\n",
    "    # apply some very simple normalization to the data\n",
    "    X -= X.mean()\n",
    "    X /= X.std()\n",
    "\n",
    "    # For convolutional layers, the default shape of data is bc01,\n",
    "    # i.e. batch size x color channels x image dimension 1 x image dimension 2.\n",
    "    # Therefore, we reshape the X data to -1, 1, 28, 28.\n",
    "    X = X.reshape(\n",
    "        -1,  # number of samples, -1 makes it so that this number is determined automatically\n",
    "        1,   # 1 color channel, since images are only black and white\n",
    "        28,  # first image dimension (vertical)\n",
    "        28,  # second image dimension (horizontal)\n",
    "    )\n",
    "\n",
    "    return X, y\n",
    "\n",
    "# here you should enter the path to your MNIST data\n",
    "path = '/home/michael/learning/cnn/data/mnist/train.csv'\n",
    "Xmnist, ymnist = load_mnist(path)"
   ]
  },
  {
   "cell_type": "code",
   "execution_count": 10,
   "metadata": {
    "collapsed": false
   },
   "outputs": [],
   "source": [
    "ymnist2 = ymnist==0"
   ]
  },
  {
   "cell_type": "code",
   "execution_count": 79,
   "metadata": {
    "collapsed": false
   },
   "outputs": [
    {
     "name": "stdout",
     "output_type": "stream",
     "text": [
      "(6012, 1, 75, 19)\n",
      "# Neural Network with 618658 learnable parameters\n",
      "\n",
      "## Layer information\n",
      "\n",
      "  #  name        size\n",
      "---  ----------  --------\n",
      "  0  input0      1x75x19\n",
      "  1  conv2d1     96x71x15\n",
      "  2  conv2d2     96x69x13\n",
      "  3  maxpool2d3  96x35x7\n",
      "  4  conv2d4     128x33x5\n",
      "  5  conv2d5     128x31x3\n",
      "  6  conv2d6     128x29x1\n",
      "  7  maxpool2d7  128x15x1\n",
      "  8  dense8      64\n",
      "  9  dropout9    64\n",
      " 10  dense10     64\n",
      " 11  dense11     2\n",
      "\n",
      "  epoch    train loss    valid loss    train/val    valid acc  dur\n",
      "-------  ------------  ------------  -----------  -----------  ------\n",
      "      1       \u001b[36m2.06757\u001b[0m       \u001b[32m1.78973\u001b[0m      1.15524      0.69900  12.30s\n",
      "      2       \u001b[36m1.65097\u001b[0m       \u001b[32m1.43265\u001b[0m      1.15239      0.77127  12.26s\n",
      "      3       \u001b[36m1.35301\u001b[0m       \u001b[32m1.16846\u001b[0m      1.15795      0.81576  12.24s\n",
      "      4       \u001b[36m1.16764\u001b[0m       \u001b[32m1.02808\u001b[0m      1.13575      0.82617  12.23s\n",
      "      5       \u001b[36m1.03907\u001b[0m       \u001b[32m0.92688\u001b[0m      1.12103      0.84136  12.23s\n",
      "      6       \u001b[36m0.94159\u001b[0m       \u001b[32m0.86076\u001b[0m      1.09390      0.84635  12.22s\n",
      "      7       \u001b[36m0.88827\u001b[0m       \u001b[32m0.79985\u001b[0m      1.11054      0.84831  12.23s\n",
      "      8       \u001b[36m0.82785\u001b[0m       \u001b[32m0.75727\u001b[0m      1.09321      0.84484  12.22s\n",
      "      9       \u001b[36m0.77805\u001b[0m       \u001b[32m0.70275\u001b[0m      1.10714      0.86610  12.22s\n",
      "     10       \u001b[36m0.73489\u001b[0m       \u001b[32m0.66836\u001b[0m      1.09954      0.87370  12.30s\n"
     ]
    },
    {
     "data": {
      "text/plain": [
       "NeuralNet(X_tensor_type=None,\n",
       "     batch_iterator_test=<nolearn.lasagne.base.BatchIterator object at 0x7ff685484ad0>,\n",
       "     batch_iterator_train=<nolearn.lasagne.base.BatchIterator object at 0x7ff685484a50>,\n",
       "     custom_score=None,\n",
       "     layers=[(<class 'lasagne.layers.input.InputLayer'>, {'shape': (None, 1, 75, 19)}), (<class 'lasagne.layers.conv.Conv2DLayer'>, {'filter_size': 5, 'num_filters': 96}), (<class 'lasagne.layers.conv.Conv2DLayer'>, {'filter_size': 3, 'num_filters': 96}), (<class 'lasagne.layers.pool.MaxPool2DLayer'>, {'....layers.dense.DenseLayer'>, {'num_units': 2, 'nonlinearity': <function softmax at 0x7ff685926c08>})],\n",
       "     loss=None, max_epochs=10, more_params={},\n",
       "     objective=<function regularization_objective at 0x7ff67d9869b0>,\n",
       "     objective_lambda2=0.0025,\n",
       "     objective_loss_function=<function categorical_crossentropy at 0x7ff6854d0aa0>,\n",
       "     on_epoch_finished=[<nolearn.lasagne.handlers.PrintLog instance at 0x7ff653dcc170>],\n",
       "     on_training_finished=[],\n",
       "     on_training_started=[<nolearn.lasagne.handlers.PrintLayerInfo instance at 0x7ff653dccef0>],\n",
       "     regression=False,\n",
       "     train_split=<nolearn.lasagne.base.TrainSplit object at 0x7ff67d2b21d0>,\n",
       "     update=<function adam at 0x7ff6854e36e0>, update_learning_rate=0.0002,\n",
       "     use_label_encoder=False, verbose=1,\n",
       "     y_tensor_type=TensorType(int32, vector))"
      ]
     },
     "execution_count": 79,
     "metadata": {},
     "output_type": "execute_result"
    }
   ],
   "source": [
    "# net = NeuralNet(\n",
    "#     layers=[\n",
    "#         ('input', layers.InputLayer),\n",
    "#         ('conv1', layers.Conv2DLayer),\n",
    "#         ('pool1', layers.MaxPool2DLayer),\n",
    "#         ('dropout1', layers.DropoutLayer),\n",
    "#         ('conv2', layers.Conv2DLayer),\n",
    "#         ('pool2', layers.MaxPool2DLayer),\n",
    "#         ('dropout2', layers.DropoutLayer),\n",
    "#         ('hidden3', layers.DenseLayer),\n",
    "#         ('dropout3', layers.DropoutLayer),\n",
    "#         ('hidden4', layers.DenseLayer),\n",
    "#         ('output', layers.DenseLayer),\n",
    "#     ],\n",
    "\n",
    "# #     input_shape = (None, 1, 75, 19),\n",
    "#     input_shape = (None, 1, 28, 28),\n",
    "#     conv1_num_filters=filter1, conv1_filter_size=(conv_1, conv_1), pool1_pool_size=(2, 2),#20\n",
    "#     conv1_W = GlorotNormal(gain=\"relu\"),\n",
    "#     dropout1_p=0.1,  # !\n",
    "#     conv2_num_filters=filter2, conv2_filter_size=(conv_2, conv_2), pool2_pool_size=(2, 2),#50\n",
    "#     conv2_W = GlorotNormal(gain=\"relu\"),\n",
    "#     dropout2_p=0.2,  # !\n",
    "#     hidden3_num_units=hidden_units,\n",
    "#     hidden3_W = GlorotNormal(gain=\"relu\"),\n",
    "#     dropout3_p=drop_out,  # !\n",
    "#     hidden4_num_units=hidden_units,\n",
    "#     hidden4_W = GlorotNormal(gain=\"relu\"),\n",
    "#     output_num_units=1,\n",
    "#     output_nonlinearity=sigmoid,\n",
    "\n",
    "#     # optimization method:\n",
    "#     update=nesterov_momentum,\n",
    "#     update_learning_rate=theano.shared(float32(learning_rate)),\n",
    "#     update_momentum=theano.shared(float32(momentum)),\n",
    "\n",
    "#     regression=True,\n",
    "#     y_tensor_type=T.imatrix,\n",
    "#     objective_loss_function=binary_crossentropy,\n",
    "\n",
    "#     on_epoch_finished=[\n",
    "#         AdjustVariable('update_learning_rate', start=learning_rate, stop=learning_rate / 100),\n",
    "#         AdjustVariable('update_momentum', start=momentum, stop=0.999),\n",
    "#         EarlyStopping(5),\n",
    "#     ],\n",
    "\n",
    "#     batch_iterator_train=BatchIterator(batch_size),  # 128 is default\n",
    "\n",
    "#     max_epochs=epochs,\n",
    "#     verbose=2,\n",
    "\n",
    "#     # Training test-set split\n",
    "#     eval_size=0.2\n",
    "# )\n",
    "from lasagne.nonlinearities import softmax\n",
    "from lasagne.updates import adam\n",
    "from nolearn.lasagne import NeuralNet\n",
    "from nolearn.lasagne import TrainSplit\n",
    "from nolearn.lasagne import objective\n",
    "from lasagne.layers import get_all_params\n",
    "\n",
    "train_X = data['X_train']\n",
    "train_y = data['y_train']\n",
    "print train_X.shape\n",
    "\n",
    "# Xmnist\n",
    "layers0 = [\n",
    "    # layer dealing with the input data\n",
    "    (layers.InputLayer, {'shape': (None, train_X.shape[1], train_X.shape[2], train_X.shape[3])}),\n",
    "\n",
    "    # first stage of our convolutional layers\n",
    "    (layers.Conv2DLayer, {'num_filters': 96, 'filter_size': 5}),\n",
    "#     (layers.Conv2DLayer, {'num_filters': 96, 'filter_size': 3}),\n",
    "#     (layers.Conv2DLayer, {'num_filters': 96, 'filter_size': 3}),\n",
    "#     (layers.Conv2DLayer, {'num_filters': 96, 'filter_size': 3}),\n",
    "    (layers.Conv2DLayer, {'num_filters': 96, 'filter_size': 3}),\n",
    "    (layers.MaxPool2DLayer, {'pool_size': 2}),\n",
    "\n",
    "    # second stage of our convolutional layers\n",
    "    (layers.Conv2DLayer, {'num_filters': 128, 'filter_size': 3}),\n",
    "    (layers.Conv2DLayer, {'num_filters': 128, 'filter_size': 3}),\n",
    "    (layers.Conv2DLayer, {'num_filters': 128, 'filter_size': 3}),\n",
    "    (layers.MaxPool2DLayer, {'pool_size': 2}),\n",
    "\n",
    "    # two dense layers with dropout\n",
    "    (layers.DenseLayer, {'num_units': 64}),\n",
    "    (layers.DropoutLayer, {}),\n",
    "    (layers.DenseLayer, {'num_units': 64}),\n",
    "\n",
    "    # the output layer\n",
    "    (layers.DenseLayer, {'num_units': 2 , 'nonlinearity': softmax}),\n",
    "]\n",
    "\n",
    "def regularization_objective(layers, lambda1=0., lambda2=0., *args, **kwargs):\n",
    "    # default loss\n",
    "    losses = objective(layers, *args, **kwargs)\n",
    "    # get the layers' weights, but only those that should be regularized\n",
    "    # (i.e. not the biases)\n",
    "    weights = get_all_params(layers[-1], regularizable=True)\n",
    "    # sum of absolute weights for L1\n",
    "    sum_abs_weights = sum([abs(w).sum() for w in weights])\n",
    "    # sum of squared weights for L2\n",
    "    sum_squared_weights = sum([(w ** 2).sum() for w in weights])\n",
    "    # add weights to regular loss\n",
    "    losses += lambda1 * sum_abs_weights + lambda2 * sum_squared_weights\n",
    "    return losses\n",
    "\n",
    "\n",
    "net0 = NeuralNet(\n",
    "    layers=layers0,\n",
    "    max_epochs=10,\n",
    "\n",
    "    update=adam,\n",
    "    update_learning_rate=0.0002,\n",
    "\n",
    "    objective=regularization_objective,\n",
    "    objective_lambda2=0.0025,\n",
    "    regression=False,\n",
    "    train_split=TrainSplit(eval_size=0.25),\n",
    "    verbose=1,\n",
    ")\n",
    "\n",
    "# Train the network\n",
    "\n",
    "net0.fit(train_X, train_y)\n",
    "#          .astype(np.float32))\n",
    "# net0.fit(Xmnist[:4154, :, :, :], data['y_train'])"
   ]
  },
  {
   "cell_type": "code",
   "execution_count": 80,
   "metadata": {
    "collapsed": false
   },
   "outputs": [
    {
     "name": "stdout",
     "output_type": "stream",
     "text": [
      "(6012,)\n"
     ]
    }
   ],
   "source": [
    "print train_y.shape"
   ]
  },
  {
   "cell_type": "code",
   "execution_count": 85,
   "metadata": {
    "collapsed": false
   },
   "outputs": [],
   "source": [
    "#threshold = threshold\n",
    "yt, pred_yt = data['y_test'], net0.predict_proba(data['X_test'])\n",
    "# pred_yt = np.array(pred_yt>=0.5, dtype=np.int32)\n",
    "pred_yt = pred_yt[:, 1]\n",
    "test_accuracy = metrics.accuracy_score(yt, pred_yt>0.5)"
   ]
  },
  {
   "cell_type": "code",
   "execution_count": null,
   "metadata": {
    "collapsed": true
   },
   "outputs": [],
   "source": []
  },
  {
   "cell_type": "code",
   "execution_count": 86,
   "metadata": {
    "collapsed": false
   },
   "outputs": [
    {
     "name": "stdout",
     "output_type": "stream",
     "text": [
      "0.79053133515\n",
      "(2936, 1, 75, 19)\n",
      "[ 0.37593088  0.17630576  0.89904243 ...,  0.20627359  0.08858673\n",
      "  0.97458649]\n"
     ]
    }
   ],
   "source": [
    "print test_accuracy\n",
    "print data['X_test'].shape\n",
    "print pred_yt"
   ]
  },
  {
   "cell_type": "code",
   "execution_count": 87,
   "metadata": {
    "collapsed": false
   },
   "outputs": [
    {
     "name": "stdout",
     "output_type": "stream",
     "text": [
      "0.5\n",
      "(2936,)\n",
      "1539.52\n",
      "0.5\n"
     ]
    }
   ],
   "source": [
    "print 1.0 - yt.mean()\n",
    "print yt.shape\n",
    "print pred_yt.sum()\n",
    "print train_y.mean()"
   ]
  },
  {
   "cell_type": "code",
   "execution_count": 88,
   "metadata": {
    "collapsed": false
   },
   "outputs": [
    {
     "name": "stdout",
     "output_type": "stream",
     "text": [
      "(42000, 1, 28, 28)\n",
      "(6012,)\n",
      "float32 int32 bool\n",
      "2.81644 -0.42463\n"
     ]
    }
   ],
   "source": [
    "print Xmnist.shape\n",
    "print data['y_train'].shape\n",
    "print Xmnist.dtype, ymnist.dtype, ymnist2.dtype\n",
    "print Xmnist.max(), Xmnist.min()"
   ]
  },
  {
   "cell_type": "code",
   "execution_count": 89,
   "metadata": {
    "collapsed": false
   },
   "outputs": [
    {
     "name": "stdout",
     "output_type": "stream",
     "text": [
      "0.82892673121\n",
      "[ 0.37593088  0.17630576  0.89904243 ...,  0.20627359  0.08858673\n",
      "  0.97458649]\n"
     ]
    },
    {
     "data": {
      "image/png": "[encoded data removed]",
      "text/plain": [
       "<matplotlib.figure.Figure at 0x7ff6510a0650>"
      ]
     },
     "metadata": {},
     "output_type": "display_data"
    }
   ],
   "source": [
    "from sklearn.metrics import roc_curve, auc\n",
    "\n",
    "# Potting an ROC curve for each feature set\n",
    "aucs = []\n",
    "\n",
    "plt.figure(figsize=(10, 10))\n",
    "\n",
    "# plotting this line\n",
    "fpr, tpr, _ = roc_curve(yt, pred_yt.ravel())\n",
    "roc_auc = auc(fpr, tpr)\n",
    "plt.plot(fpr, tpr , label='(area = %0.2f)' % (roc_auc))\n",
    "print roc_auc\n",
    "\n",
    "print pred_yt"
   ]
  },
  {
   "cell_type": "code",
   "execution_count": null,
   "metadata": {
    "collapsed": true
   },
   "outputs": [],
   "source": []
  }
 ],
 "metadata": {
  "kernelspec": {
   "display_name": "Python 2",
   "language": "python",
   "name": "python2"
  },
  "language_info": {
   "codemirror_mode": {
    "name": "ipython",
    "version": 2
   },
   "file_extension": ".py",
   "mimetype": "text/x-python",
   "name": "python",
   "nbconvert_exporter": "python",
   "pygments_lexer": "ipython2",
   "version": "2.7.10"
  }
 },
 "nbformat": 4,
 "nbformat_minor": 0
}
