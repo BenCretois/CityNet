{
 "cells": [
  {
   "cell_type": "markdown",
   "metadata": {},
   "source": [
    "# CNN on biotic/non-biotic test set"
   ]
  },
  {
   "cell_type": "code",
   "execution_count": 5,
   "metadata": {
    "collapsed": false
   },
   "outputs": [],
   "source": [
    "%matplotlib inline\n",
    "import matplotlib.pyplot as plt\n",
    "import csv\n",
    "import os\n",
    "import numpy as np\n",
    "import collections\n",
    "import scipy.io\n",
    "\n",
    "from lasagne import layers\n",
    "from lasagne.nonlinearities import softmax\n",
    "from lasagne.updates import adam\n",
    "from nolearn.lasagne import NeuralNet\n",
    "from nolearn.lasagne import TrainSplit\n",
    "from nolearn.lasagne import objective\n",
    "from lasagne.layers import get_all_params\n",
    "\n",
    "# import hyperopt\n",
    "# from hyperopt import hp, fmin, tpe\n",
    "\n",
    "from time import time\n",
    "\n",
    "from sklearn import metrics\n",
    "from sklearn.metrics import roc_curve, auc"
   ]
  },
  {
   "cell_type": "markdown",
   "metadata": {},
   "source": [
    "## Loading in the training/test data\n",
    "\n",
    "This split was done in 'Biotic slice extraction'"
   ]
  },
  {
   "cell_type": "code",
   "execution_count": 6,
   "metadata": {
    "collapsed": false
   },
   "outputs": [
    {
     "name": "stdout",
     "output_type": "stream",
     "text": [
      "Training data\n",
      "y (4000,)\n",
      "X (4000, 1, 75, 19)\n",
      "Testing data\n",
      "y (18286,)\n",
      "X (18286, 1, 75, 19)\n"
     ]
    }
   ],
   "source": [
    "datapath = '/home/michael/projects/engaged_hackathon_data/detection/train_test_patches/'\n",
    "data_small = scipy.io.loadmat(datapath + 'small.mat')\n",
    "data_big = scipy.io.loadmat(datapath + 'full.mat')\n",
    "\n",
    "datasetsize = 'small'\n",
    "\n",
    "train, test = {}, {}\n",
    "train['X'] = data_small['X_train']\n",
    "train['y'] = data_small['y_train'].ravel()\n",
    "test['X'] = data_big['X_test']\n",
    "test['y'] = data_big['y_test'].ravel()\n",
    "\n",
    "print \"Training data\"\n",
    "for key, val in train.iteritems():\n",
    "    print key, val.shape\n",
    "    \n",
    "print \"Testing data\"\n",
    "for key, val in test.iteritems():\n",
    "    print key, val.shape"
   ]
  },
  {
   "cell_type": "markdown",
   "metadata": {},
   "source": [
    "## Setting up and training the CNN, using NoLearn (& Lasagne)"
   ]
  },
  {
   "cell_type": "code",
   "execution_count": 8,
   "metadata": {
    "collapsed": false
   },
   "outputs": [
    {
     "name": "stdout",
     "output_type": "stream",
     "text": [
      "# Neural Network with 618658 learnable parameters\n",
      "\n",
      "## Layer information\n",
      "\n",
      "  #  name        size\n",
      "---  ----------  --------\n",
      "  0  input0      1x75x19\n",
      "  1  conv2d1     96x71x15\n",
      "  2  conv2d2     96x69x13\n",
      "  3  maxpool2d3  96x35x7\n",
      "  4  conv2d4     128x33x5\n",
      "  5  conv2d5     128x31x3\n",
      "  6  conv2d6     128x29x1\n",
      "  7  maxpool2d7  128x15x1\n",
      "  8  dense8      64\n",
      "  9  dropout9    64\n",
      " 10  dense10     64\n",
      " 11  dense11     2\n",
      "\n",
      "  epoch    train loss    valid loss    train/val    valid acc  dur\n",
      "-------  ------------  ------------  -----------  -----------  -----\n",
      "      1       \u001b[36m2.16068\u001b[0m       \u001b[32m1.97788\u001b[0m      1.09242      0.56097  7.91s\n",
      "      2       \u001b[36m1.83856\u001b[0m       \u001b[32m1.65893\u001b[0m      1.10828      0.71752  7.89s\n",
      "      3       \u001b[36m1.55533\u001b[0m       \u001b[32m1.46600\u001b[0m      1.06094      0.74386  7.89s\n",
      "      4       \u001b[36m1.37510\u001b[0m       \u001b[32m1.31240\u001b[0m      1.04777      0.78933  7.88s\n",
      "      5       \u001b[36m1.25511\u001b[0m       \u001b[32m1.18218\u001b[0m      1.06169      0.80789  7.88s\n",
      "      6       \u001b[36m1.15042\u001b[0m       \u001b[32m1.09612\u001b[0m      1.04954      0.80160  7.88s\n",
      "      7       \u001b[36m1.06139\u001b[0m       \u001b[32m1.05683\u001b[0m      1.00432      0.79757  7.88s\n",
      "      8       \u001b[36m1.00186\u001b[0m       \u001b[32m1.00363\u001b[0m      0.99824      0.80407  7.87s\n",
      "      9       \u001b[36m0.95576\u001b[0m       \u001b[32m0.94124\u001b[0m      1.01543      0.80474  7.87s\n",
      "     10       \u001b[36m0.90827\u001b[0m       \u001b[32m0.91115\u001b[0m      0.99683      0.80126  7.89s\n"
     ]
    }
   ],
   "source": [
    "# Xmnist\n",
    "layers0 = [\n",
    "    # layer dealing with the input data\n",
    "    (layers.InputLayer, {'shape': (None, train['X'].shape[1], train['X'].shape[2], train['X'].shape[3])}),\n",
    "\n",
    "    # first stage of our convolutional layers\n",
    "    (layers.Conv2DLayer, {'num_filters': 96, 'filter_size': 5}),\n",
    "#     (layers.Conv2DLayer, {'num_filters': 96, 'filter_size': 3}),\n",
    "#     (layers.Conv2DLayer, {'num_filters': 96, 'filter_size': 3}),\n",
    "#     (layers.Conv2DLayer, {'num_filters': 96, 'filter_size': 3}),\n",
    "    (layers.Conv2DLayer, {'num_filters': 96, 'filter_size': 3}),\n",
    "    (layers.MaxPool2DLayer, {'pool_size': 2}),\n",
    "\n",
    "    # second stage of our convolutional layers\n",
    "    (layers.Conv2DLayer, {'num_filters': 128, 'filter_size': 3}),\n",
    "    (layers.Conv2DLayer, {'num_filters': 128, 'filter_size': 3}),\n",
    "    (layers.Conv2DLayer, {'num_filters': 128, 'filter_size': 3}),\n",
    "    (layers.MaxPool2DLayer, {'pool_size': 2}),\n",
    "\n",
    "    # two dense layers with dropout\n",
    "    (layers.DenseLayer, {'num_units': 64}),\n",
    "    (layers.DropoutLayer, {}),\n",
    "    (layers.DenseLayer, {'num_units': 64}),\n",
    "\n",
    "    # the output layer\n",
    "    (layers.DenseLayer, {'num_units': 2 , 'nonlinearity': softmax}),\n",
    "]\n",
    "\n",
    "def regularization_objective(layers, lambda1=0., lambda2=0., *args, **kwargs):\n",
    "    # default loss\n",
    "    losses = objective(layers, *args, **kwargs)\n",
    "    # get the layers' weights, but only those that should be regularized\n",
    "    # (i.e. not the biases)\n",
    "    weights = get_all_params(layers[-1], regularizable=True)\n",
    "    # sum of absolute weights for L1\n",
    "    sum_abs_weights = sum([abs(w).sum() for w in weights])\n",
    "    # sum of squared weights for L2\n",
    "    sum_squared_weights = sum([(w ** 2).sum() for w in weights])\n",
    "    # add weights to regular loss\n",
    "    losses += lambda1 * sum_abs_weights + lambda2 * sum_squared_weights\n",
    "    return losses\n",
    "\n",
    "\n",
    "net0 = NeuralNet(\n",
    "    layers=layers0,\n",
    "    max_epochs=10,\n",
    "\n",
    "    update=adam,\n",
    "    update_learning_rate=0.0002,\n",
    "\n",
    "    objective=regularization_objective,\n",
    "    objective_lambda2=0.0025,\n",
    "    regression=False,\n",
    "    train_split=TrainSplit(eval_size=0.25),\n",
    "    verbose=1,\n",
    ")\n",
    "\n",
    "# Train the network\n",
    "net0.fit(train['X'], train['y']);"
   ]
  },
  {
   "cell_type": "markdown",
   "metadata": {},
   "source": [
    "## Classification accuracy on the test set"
   ]
  },
  {
   "cell_type": "code",
   "execution_count": 9,
   "metadata": {
    "collapsed": false
   },
   "outputs": [
    {
     "name": "stdout",
     "output_type": "stream",
     "text": [
      "Test accuracy is 0.827354\n"
     ]
    }
   ],
   "source": [
    "#threshold = threshold\n",
    "pred_y = net0.predict_proba(test['X'])[:, 1]\n",
    "\n",
    "test_accuracy = metrics.accuracy_score(test['y'], pred_y>0.5)\n",
    "\n",
    "print \"Test accuracy is %f\" % test_accuracy"
   ]
  },
  {
   "cell_type": "markdown",
   "metadata": {},
   "source": [
    "## ROC Curve"
   ]
  },
  {
   "cell_type": "code",
   "execution_count": 10,
   "metadata": {
    "collapsed": false
   },
   "outputs": [
    {
     "data": {
      "text/plain": [
       "<matplotlib.legend.Legend at 0x7fd908995090>"
      ]
     },
     "execution_count": 10,
     "metadata": {},
     "output_type": "execute_result"
    },
    {
     "data": {
      "image/png": "[encoded data removed]",
      "text/plain": [
       "<matplotlib.figure.Figure at 0x7fd9225485d0>"
      ]
     },
     "metadata": {},
     "output_type": "display_data"
    }
   ],
   "source": [
    "from sklearn.metrics import roc_curve, auc\n",
    "\n",
    "# plotting this line\n",
    "plt.figure(figsize=(6, 6))\n",
    "fpr, tpr, _ = roc_curve(test['y'], pred_y.ravel())\n",
    "\n",
    "roc_auc = auc(fpr, tpr)\n",
    "plt.plot(fpr, tpr , label='(area = %0.2f)' % (roc_auc))\n",
    "plt.legend(loc='best')"
   ]
  },
  {
   "cell_type": "code",
   "execution_count": 11,
   "metadata": {
    "collapsed": true
   },
   "outputs": [],
   "source": [
    "# Save the model to disk...\n",
    "import cPickle as pickle\n",
    "\n",
    "savedir = '/home/michael/projects/engaged_hackathon_data/detection/models/'\n",
    "with open(savedir + 'cnn_' + datasetsize + '.pkl', 'w') as f:\n",
    "    pickle.dump(net0, f, -1)\n"
   ]
  }
 ],
 "metadata": {
  "kernelspec": {
   "display_name": "Python 2",
   "language": "python",
   "name": "python2"
  },
  "language_info": {
   "codemirror_mode": {
    "name": "ipython",
    "version": 2
   },
   "file_extension": ".py",
   "mimetype": "text/x-python",
   "name": "python",
   "nbconvert_exporter": "python",
   "pygments_lexer": "ipython2",
   "version": "2.7.10"
  }
 },
 "nbformat": 4,
 "nbformat_minor": 0
}
