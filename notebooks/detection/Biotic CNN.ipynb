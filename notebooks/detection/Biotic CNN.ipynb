{
 "cells": [
  {
   "cell_type": "markdown",
   "metadata": {},
   "source": [
    "# Training a CNN on biotic/non-biotic test set\n",
    "\n",
    "Just doing biotic/non biotic, using the pre-defined training set.\n",
    "We can choose if we use the full or small training set.\n",
    "\n",
    "TODO:\n",
    "- Load the model back in and do hard negative mining on the training set\n",
    "- We should be doing hyperopt here\n",
    "- Compare directly to a forest"
   ]
  },
  {
   "cell_type": "code",
   "execution_count": 12,
   "metadata": {
    "collapsed": false
   },
   "outputs": [],
   "source": [
    "%matplotlib inline\n",
    "import matplotlib.pyplot as plt\n",
    "import csv\n",
    "import os\n",
    "import numpy as np\n",
    "import collections\n",
    "import scipy.io\n",
    "\n",
    "from lasagne import layers\n",
    "from lasagne.nonlinearities import softmax\n",
    "from lasagne.updates import adam\n",
    "from nolearn.lasagne import NeuralNet\n",
    "from nolearn.lasagne import TrainSplit\n",
    "from nolearn.lasagne import objective\n",
    "from lasagne.layers import get_all_params\n",
    "\n",
    "# import hyperopt\n",
    "# from hyperopt import hp, fmin, tpe\n",
    "\n",
    "from time import time\n",
    "\n",
    "from sklearn import metrics\n",
    "from sklearn.metrics import roc_curve, auc"
   ]
  },
  {
   "cell_type": "markdown",
   "metadata": {},
   "source": [
    "## Loading in the training/test data\n",
    "\n",
    "This split was done in 'Biotic slice extraction'"
   ]
  },
  {
   "cell_type": "code",
   "execution_count": 13,
   "metadata": {
    "collapsed": false
   },
   "outputs": [
    {
     "name": "stdout",
     "output_type": "stream",
     "text": [
      "Training data\n",
      "y (50836,)\n",
      "X (50836, 1, 75, 19)\n",
      "Testing data\n",
      "y (18286,)\n",
      "X (18286, 1, 75, 19)\n"
     ]
    }
   ],
   "source": [
    "datapath = '/home/michael/projects/engaged_hackathon_data/detection/train_test_patches/'\n",
    "data_small = scipy.io.loadmat(datapath + 'small.mat')\n",
    "data_big = scipy.io.loadmat(datapath + 'full.mat')\n",
    "\n",
    "datasetsize = 'full'\n",
    "\n",
    "train, test = {}, {}\n",
    "train['X'] = data_big['X_train']\n",
    "train['y'] = data_big['y_train'].ravel()\n",
    "test['X'] = data_big['X_test']\n",
    "test['y'] = data_big['y_test'].ravel()\n",
    "\n",
    "print \"Training data\"\n",
    "for key, val in train.iteritems():\n",
    "    print key, val.shape\n",
    "    \n",
    "print \"Testing data\"\n",
    "for key, val in test.iteritems():\n",
    "    print key, val.shape"
   ]
  },
  {
   "cell_type": "markdown",
   "metadata": {},
   "source": [
    "## Setting up and training the CNN, using NoLearn (& Lasagne)"
   ]
  },
  {
   "cell_type": "code",
   "execution_count": 14,
   "metadata": {
    "collapsed": false
   },
   "outputs": [
    {
     "name": "stdout",
     "output_type": "stream",
     "text": [
      "# Neural Network with 618658 learnable parameters\n",
      "\n",
      "## Layer information\n",
      "\n",
      "  #  name        size\n",
      "---  ----------  --------\n",
      "  0  input0      1x75x19\n",
      "  1  conv2d1     96x71x15\n",
      "  2  conv2d2     96x69x13\n",
      "  3  maxpool2d3  96x35x7\n",
      "  4  conv2d4     128x33x5\n",
      "  5  conv2d5     128x31x3\n",
      "  6  conv2d6     128x29x1\n",
      "  7  maxpool2d7  128x15x1\n",
      "  8  dense8      64\n",
      "  9  dropout9    64\n",
      " 10  dense10     64\n",
      " 11  dense11     2\n",
      "\n",
      "  epoch    train loss    valid loss    train/val    valid acc  dur\n",
      "-------  ------------  ------------  -----------  -----------  -------\n",
      "      1       \u001b[36m1.21922\u001b[0m       \u001b[32m0.77165\u001b[0m      1.58002      0.81274  101.40s\n",
      "      2       \u001b[36m0.69551\u001b[0m       \u001b[32m0.61888\u001b[0m      1.12382      0.82113  101.64s\n",
      "      3       \u001b[36m0.60035\u001b[0m       \u001b[32m0.55871\u001b[0m      1.07453      0.82170  101.15s\n",
      "      4       \u001b[36m0.55296\u001b[0m       \u001b[32m0.52198\u001b[0m      1.05937      0.82280  101.03s\n",
      "      5       \u001b[36m0.52393\u001b[0m       \u001b[32m0.49868\u001b[0m      1.05062      0.82623  101.47s\n",
      "      6       \u001b[36m0.50100\u001b[0m       \u001b[32m0.48248\u001b[0m      1.03837      0.82873  100.91s\n",
      "      7       \u001b[36m0.48621\u001b[0m       \u001b[32m0.46817\u001b[0m      1.03853      0.83061  101.27s\n",
      "      8       \u001b[36m0.47483\u001b[0m       \u001b[32m0.45980\u001b[0m      1.03268      0.83238  101.07s\n",
      "      9       \u001b[36m0.46588\u001b[0m       \u001b[32m0.45235\u001b[0m      1.02992      0.83407  100.80s\n",
      "     10       \u001b[36m0.45877\u001b[0m       \u001b[32m0.44697\u001b[0m      1.02640      0.83555  101.11s\n"
     ]
    }
   ],
   "source": [
    "# Xmnist\n",
    "layers0 = [\n",
    "    # layer dealing with the input data\n",
    "    (layers.InputLayer, {'shape': (None, train['X'].shape[1], train['X'].shape[2], train['X'].shape[3])}),\n",
    "\n",
    "    # first stage of our convolutional layers\n",
    "    (layers.Conv2DLayer, {'num_filters': 96, 'filter_size': 5}),\n",
    "#     (layers.Conv2DLayer, {'num_filters': 96, 'filter_size': 3}),\n",
    "#     (layers.Conv2DLayer, {'num_filters': 96, 'filter_size': 3}),\n",
    "#     (layers.Conv2DLayer, {'num_filters': 96, 'filter_size': 3}),\n",
    "    (layers.Conv2DLayer, {'num_filters': 96, 'filter_size': 3}),\n",
    "    (layers.MaxPool2DLayer, {'pool_size': 2}),\n",
    "\n",
    "    # second stage of our convolutional layers\n",
    "    (layers.Conv2DLayer, {'num_filters': 128, 'filter_size': 3}),\n",
    "    (layers.Conv2DLayer, {'num_filters': 128, 'filter_size': 3}),\n",
    "    (layers.Conv2DLayer, {'num_filters': 128, 'filter_size': 3}),\n",
    "    (layers.MaxPool2DLayer, {'pool_size': 2}),\n",
    "\n",
    "    # two dense layers with dropout\n",
    "    (layers.DenseLayer, {'num_units': 64}),\n",
    "    (layers.DropoutLayer, {}),\n",
    "    (layers.DenseLayer, {'num_units': 64}),\n",
    "\n",
    "    # the output layer\n",
    "    (layers.DenseLayer, {'num_units': 2 , 'nonlinearity': softmax}),\n",
    "]\n",
    "\n",
    "def regularization_objective(layers, lambda1=0., lambda2=0., *args, **kwargs):\n",
    "    # default loss\n",
    "    losses = objective(layers, *args, **kwargs)\n",
    "    # get the layers' weights, but only those that should be regularized\n",
    "    # (i.e. not the biases)\n",
    "    weights = get_all_params(layers[-1], regularizable=True)\n",
    "    # sum of absolute weights for L1\n",
    "    sum_abs_weights = sum([abs(w).sum() for w in weights])\n",
    "    # sum of squared weights for L2\n",
    "    sum_squared_weights = sum([(w ** 2).sum() for w in weights])\n",
    "    # add weights to regular loss\n",
    "    losses += lambda1 * sum_abs_weights + lambda2 * sum_squared_weights\n",
    "    return losses\n",
    "\n",
    "\n",
    "net0 = NeuralNet(\n",
    "    layers=layers0,\n",
    "    max_epochs=10,\n",
    "\n",
    "    update=adam,\n",
    "    update_learning_rate=0.0002,\n",
    "\n",
    "    objective=regularization_objective,\n",
    "    objective_lambda2=0.0025,\n",
    "    regression=False,\n",
    "    train_split=TrainSplit(eval_size=0.25),\n",
    "    verbose=1,\n",
    ")\n",
    "\n",
    "# Train the network\n",
    "net0.fit(train['X'], train['y']);"
   ]
  },
  {
   "cell_type": "markdown",
   "metadata": {},
   "source": [
    "## Classification accuracy on the test set"
   ]
  },
  {
   "cell_type": "code",
   "execution_count": 15,
   "metadata": {
    "collapsed": false
   },
   "outputs": [
    {
     "name": "stdout",
     "output_type": "stream",
     "text": [
      "Test accuracy is 0.851307\n"
     ]
    }
   ],
   "source": [
    "#threshold = threshold\n",
    "pred_y = net0.predict_proba(test['X'])[:, 1]\n",
    "\n",
    "test_accuracy = metrics.accuracy_score(test['y'], pred_y>0.5)\n",
    "\n",
    "print \"Test accuracy is %f\" % test_accuracy"
   ]
  },
  {
   "cell_type": "markdown",
   "metadata": {},
   "source": [
    "## ROC Curve"
   ]
  },
  {
   "cell_type": "code",
   "execution_count": 16,
   "metadata": {
    "collapsed": false
   },
   "outputs": [
    {
     "data": {
      "text/plain": [
       "<matplotlib.legend.Legend at 0x7fd9225482d0>"
      ]
     },
     "execution_count": 16,
     "metadata": {},
     "output_type": "execute_result"
    },
    {
     "data": {
      "image/png": "[encoded data removed]",
      "text/plain": [
       "<matplotlib.figure.Figure at 0x7fd913f6df50>"
      ]
     },
     "metadata": {},
     "output_type": "display_data"
    }
   ],
   "source": [
    "from sklearn.metrics import roc_curve, auc\n",
    "\n",
    "# plotting this line\n",
    "plt.figure(figsize=(6, 6))\n",
    "fpr, tpr, _ = roc_curve(test['y'], pred_y.ravel())\n",
    "\n",
    "roc_auc = auc(fpr, tpr)\n",
    "plt.plot(fpr, tpr , label='(area = %0.2f)' % (roc_auc))\n",
    "plt.legend(loc='best')"
   ]
  },
  {
   "cell_type": "code",
   "execution_count": 17,
   "metadata": {
    "collapsed": true
   },
   "outputs": [],
   "source": [
    "# Save the model to disk...\n",
    "import cPickle as pickle\n",
    "\n",
    "savedir = '/home/michael/projects/engaged_hackathon_data/detection/models/'\n",
    "with open(savedir + 'cnn_' + datasetsize + '.pkl', 'w') as f:\n",
    "    pickle.dump(net0, f, -1)\n"
   ]
  }
 ],
 "metadata": {
  "kernelspec": {
   "display_name": "Python 2",
   "language": "python",
   "name": "python2"
  },
  "language_info": {
   "codemirror_mode": {
    "name": "ipython",
    "version": 2
   },
   "file_extension": ".py",
   "mimetype": "text/x-python",
   "name": "python",
   "nbconvert_exporter": "python",
   "pygments_lexer": "ipython2",
   "version": "2.7.10"
  }
 },
 "nbformat": 4,
 "nbformat_minor": 0
}
