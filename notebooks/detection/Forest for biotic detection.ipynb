{
 "cells": [
  {
   "cell_type": "markdown",
   "metadata": {},
   "source": [
    "# Random Forest for biotic/non-biotic test set\n",
    "\n",
    "Using the same data as the NN gets...\n"
   ]
  },
  {
   "cell_type": "code",
   "execution_count": 35,
   "metadata": {
    "collapsed": false
   },
   "outputs": [],
   "source": [
    "%matplotlib inline\n",
    "import matplotlib.pyplot as plt\n",
    "import csv\n",
    "import os\n",
    "import numpy as np\n",
    "import collections\n",
    "import scipy.io\n",
    "\n",
    "from sklearn.ensemble import RandomForestClassifier\n",
    "\n",
    "from time import time\n",
    "\n",
    "from sklearn import metrics\n",
    "from sklearn.metrics import roc_curve, auc\n",
    "\n",
    "\n",
    "import sys, os\n",
    "sys.path.append(os.path.expanduser('~/projects/engaged_hackathon/'))\n",
    "from engaged.features import features as engaged_features\n",
    "from engaged.features import frequency\n"
   ]
  },
  {
   "cell_type": "markdown",
   "metadata": {},
   "source": [
    "## Loading the data "
   ]
  },
  {
   "cell_type": "code",
   "execution_count": 36,
   "metadata": {
    "collapsed": false
   },
   "outputs": [
    {
     "name": "stdout",
     "output_type": "stream",
     "text": [
      "The data\n",
      "train_X (50836, 75, 19)\n",
      "train_y (50836,)\n",
      "test_y (18286,)\n",
      "test_X (18286, 75, 19)\n"
     ]
    }
   ],
   "source": [
    "datapath = '/home/michael/projects/engaged_hackathon_data/detection/train_test_patches/'\n",
    "data_small = scipy.io.loadmat(datapath + 'small.mat')\n",
    "data_big = scipy.io.loadmat(datapath + 'full.mat')\n",
    "\n",
    "datasetsize = 'full'\n",
    "\n",
    "data = collections.defaultdict(dict)\n",
    "data['train_X'] = np.squeeze(data_big['X_train'])\n",
    "data['train_y'] = data_big['y_train'].ravel()\n",
    "data['test_X'] = np.squeeze(data_big['X_test'])\n",
    "data['test_y'] = data_big['y_test'].ravel()\n",
    "\n",
    "print \"The data\"\n",
    "for key, val in data.iteritems():\n",
    "    print key, val.shape"
   ]
  },
  {
   "cell_type": "markdown",
   "metadata": {},
   "source": [
    "## Computing the features "
   ]
  },
  {
   "cell_type": "code",
   "execution_count": null,
   "metadata": {
    "collapsed": false
   },
   "outputs": [],
   "source": [
    "rf_data = {}\n",
    "\n",
    "for key in ['train_X', 'test_X']:\n",
    "    \n",
    "    all_feats = []\n",
    "    for spec in data[key]:\n",
    "        filter_pooling_list = []\n",
    "        for filt in engaged_features.gauss_filters_generator(spec, deviation=6):\n",
    "            max_pooled_filt = filt.max(1)\n",
    "            filter_pooling_list.append(max_pooled_filt)\n",
    "        \n",
    "        filter_pooling = np.hstack(filter_pooling_list)\n",
    "        all_feats.append(filter_pooling)\n",
    "        \n",
    "    rf_data[key] = np.vstack(all_feats)\n",
    "    \n",
    "    print key, rf_data[key].shape"
   ]
  },
  {
   "cell_type": "code",
   "execution_count": null,
   "metadata": {
    "collapsed": true
   },
   "outputs": [],
   "source": [
    "## Training the forest..."
   ]
  },
  {
   "cell_type": "code",
   "execution_count": 38,
   "metadata": {
    "collapsed": false
   },
   "outputs": [
    {
     "data": {
      "text/plain": [
       "RandomForestClassifier(bootstrap=True, compute_importances=None,\n",
       "            criterion='gini', max_depth=None, max_features='auto',\n",
       "            max_leaf_nodes=None, min_density=None, min_samples_leaf=1,\n",
       "            min_samples_split=2, n_estimators=50, n_jobs=1,\n",
       "            oob_score=False, random_state=None, verbose=0)"
      ]
     },
     "execution_count": 38,
     "metadata": {},
     "output_type": "execute_result"
    }
   ],
   "source": [
    "from sklearn.ensemble import RandomForestClassifier\n",
    "rf = RandomForestClassifier(n_estimators=50)\n",
    "rf.fit(rf_data['train_X'], data['train_y'])"
   ]
  },
  {
   "cell_type": "code",
   "execution_count": 39,
   "metadata": {
    "collapsed": false
   },
   "outputs": [],
   "source": [
    "# now test on the test data...\n",
    "pred_y = rf.predict_proba(rf_data['test_X'])[:, 1]"
   ]
  },
  {
   "cell_type": "code",
   "execution_count": 40,
   "metadata": {
    "collapsed": false
   },
   "outputs": [
    {
     "name": "stdout",
     "output_type": "stream",
     "text": [
      "0.750957016297\n"
     ]
    }
   ],
   "source": [
    "from sklearn.metrics import accuracy_score\n",
    "print accuracy_score(data['test_y'], pred_y>0.5)"
   ]
  }
 ],
 "metadata": {
  "kernelspec": {
   "display_name": "Python 2",
   "language": "python",
   "name": "python2"
  },
  "language_info": {
   "codemirror_mode": {
    "name": "ipython",
    "version": 2
   },
   "file_extension": ".py",
   "mimetype": "text/x-python",
   "name": "python",
   "nbconvert_exporter": "python",
   "pygments_lexer": "ipython2",
   "version": "2.7.10"
  }
 },
 "nbformat": 4,
 "nbformat_minor": 0
}
