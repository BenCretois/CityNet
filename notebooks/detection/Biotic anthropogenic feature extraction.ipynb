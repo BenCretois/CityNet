{
 "cells": [
  {
   "cell_type": "markdown",
   "metadata": {},
   "source": [
    "# One minute files feature extraction"
   ]
  },
  {
   "cell_type": "code",
   "execution_count": 1,
   "metadata": {
    "collapsed": true
   },
   "outputs": [],
   "source": [
    "%matplotlib inline\n",
    "import matplotlib.pyplot as plt\n",
    "import csv\n",
    "import os\n",
    "import numpy as np\n",
    "import collections\n",
    "\n",
    "import scipy.io.wavfile\n",
    "from scipy.io import loadmat\n",
    "import collections\n",
    "\n",
    "import sys, os\n",
    "sys.path.append(os.path.expanduser('~/projects/engaged_hackathon/'))\n",
    "from engaged.features import features as engaged_features\n",
    "from engaged.features import frequency"
   ]
  },
  {
   "cell_type": "code",
   "execution_count": 2,
   "metadata": {
    "collapsed": false
   },
   "outputs": [
    {
     "name": "stdout",
     "output_type": "stream",
     "text": [
      "362\n"
     ]
    }
   ],
   "source": [
    "# getting a list of all the files\n",
    "base_path = '/home/michael/projects/engaged_hackathon_data/raw_data/one_minute_files'\n",
    "files = os.listdir(base_path + '/detection_challenge')\n",
    "files = [xx.split('.')[0] for xx in files if 'sampled' not in xx]\n",
    "\n",
    "spectrogram_parameters = {\n",
    "    'nfft': 1024,\n",
    "    'window_width': 0.03,\n",
    "    'overlap': 0.01,\n",
    "    }\n",
    "\n",
    "print len(files)"
   ]
  },
  {
   "cell_type": "markdown",
   "metadata": {},
   "source": [
    "## Creating and saving spectrograms\n",
    "\n",
    "For each input file, compute and save a spectrogram"
   ]
  },
  {
   "cell_type": "code",
   "execution_count": 3,
   "metadata": {
    "collapsed": false
   },
   "outputs": [
    {
     "name": "stdout",
     "output_type": "stream",
     "text": [
      "0 10 20 30 40 50 60 70 80 90 100 110 120 130 140 150 160 170 180 190 200 210 220 230 240 250 260 270 280 290 300 310 320 330 340 350 360\n"
     ]
    }
   ],
   "source": [
    "spec_path = '/home/michael/projects/engaged_hackathon_data/detection/spectrograms/'\n",
    "import skimage \n",
    "\n",
    "\n",
    "for count, fname in enumerate(files):\n",
    "        \n",
    "    # load in wav and convert to spectrogram\n",
    "    sr, wav = scipy.io.wavfile.read(base_path + '/25_Random/' + fname + '.wav')  \n",
    "    spec, spec_sampl_rate = frequency.spectrogram(wav, sr, **spectrogram_parameters)\n",
    "    \n",
    "    # do some smoorthing and denoising  \n",
    "    spec = skimage.filters.gaussian_filter(spec, 1.0)\n",
    "    spec -= np.median(spec, axis=1)[:, None]\n",
    "    spec[spec<0] = 0\n",
    "    \n",
    "    # save to disk\n",
    "    savepath = spec_path + fname + '_spec.mat'\n",
    "    D = dict(spectrogram=spec, sample_rate=spec_sampl_rate)\n",
    "    scipy.io.savemat(savepath, D)\n",
    "    \n",
    "    for height in [75, 128, 256]:\n",
    "        \n",
    "        # do a reduced size spectrogram\n",
    "        factor = (float(height)/float(spec.shape[0]))\n",
    "        new_width = int(factor * float(spec.shape[1]))\n",
    "        output_shape = (height, new_width)\n",
    "        small_spec = skimage.transform.resize(spec, output_shape)\n",
    "\n",
    "        # save to disk\n",
    "        savepath = spec_path + fname + '_spec_' + str(height) + '.mat'\n",
    "        D = dict(spectrogram=small_spec, sample_rate=spec_sampl_rate * factor)\n",
    "        D['wav_sample_rate'] = sr\n",
    "        D['wav_shape'] = wav.shape\n",
    "        scipy.io.savemat(savepath, D)\n",
    "        \n",
    "    if count % 10 == 0:\n",
    "        print count,\n",
    "    "
   ]
  },
  {
   "cell_type": "markdown",
   "metadata": {},
   "source": [
    "## Compare loading times vs generation times"
   ]
  },
  {
   "cell_type": "code",
   "execution_count": 1,
   "metadata": {
    "collapsed": false
   },
   "outputs": [
    {
     "ename": "NameError",
     "evalue": "name 'files' is not defined",
     "output_type": "error",
     "traceback": [
      "\u001b[1;31m---------------------------------------------------------------------------\u001b[0m",
      "\u001b[1;31mNameError\u001b[0m                                 Traceback (most recent call last)",
      "\u001b[1;32m<ipython-input-1-e5a824e3b209>\u001b[0m in \u001b[0;36m<module>\u001b[1;34m()\u001b[0m\n\u001b[0;32m      4\u001b[0m \u001b[1;33m\u001b[0m\u001b[0m\n\u001b[0;32m      5\u001b[0m \u001b[0mtic\u001b[0m \u001b[1;33m=\u001b[0m \u001b[0mtime\u001b[0m\u001b[1;33m(\u001b[0m\u001b[1;33m)\u001b[0m\u001b[1;33m\u001b[0m\u001b[0m\n\u001b[1;32m----> 6\u001b[1;33m \u001b[1;32mfor\u001b[0m \u001b[0mfname\u001b[0m \u001b[1;32min\u001b[0m \u001b[0mfiles\u001b[0m\u001b[1;33m[\u001b[0m\u001b[1;33m:\u001b[0m\u001b[0mnumber\u001b[0m\u001b[1;33m]\u001b[0m\u001b[1;33m:\u001b[0m\u001b[1;33m\u001b[0m\u001b[0m\n\u001b[0m\u001b[0;32m      7\u001b[0m     \u001b[0msr\u001b[0m\u001b[1;33m,\u001b[0m \u001b[0mwav\u001b[0m \u001b[1;33m=\u001b[0m \u001b[0mscipy\u001b[0m\u001b[1;33m.\u001b[0m\u001b[0mio\u001b[0m\u001b[1;33m.\u001b[0m\u001b[0mwavfile\u001b[0m\u001b[1;33m.\u001b[0m\u001b[0mread\u001b[0m\u001b[1;33m(\u001b[0m\u001b[0mbase_path\u001b[0m \u001b[1;33m+\u001b[0m \u001b[1;34m'/25_Random/'\u001b[0m \u001b[1;33m+\u001b[0m \u001b[0mfname\u001b[0m \u001b[1;33m+\u001b[0m \u001b[1;34m'.wav'\u001b[0m\u001b[1;33m)\u001b[0m\u001b[1;33m\u001b[0m\u001b[0m\n\u001b[0;32m      8\u001b[0m     \u001b[0mspec\u001b[0m\u001b[1;33m,\u001b[0m \u001b[0mspec_sampl_rate\u001b[0m \u001b[1;33m=\u001b[0m \u001b[0mfrequency\u001b[0m\u001b[1;33m.\u001b[0m\u001b[0mspectrogram\u001b[0m\u001b[1;33m(\u001b[0m\u001b[0mwav\u001b[0m\u001b[1;33m,\u001b[0m \u001b[0msr\u001b[0m\u001b[1;33m,\u001b[0m \u001b[1;33m**\u001b[0m\u001b[0mspectrogram_parameters\u001b[0m\u001b[1;33m)\u001b[0m\u001b[1;33m\u001b[0m\u001b[0m\n",
      "\u001b[1;31mNameError\u001b[0m: name 'files' is not defined"
     ]
    }
   ],
   "source": [
    "from time import time\n",
    "\n",
    "number = 10\n",
    "\n",
    "tic = time()\n",
    "for fname in files[:number]:\n",
    "    sr, wav = scipy.io.wavfile.read(base_path + '/25_Random/' + fname + '.wav')  \n",
    "    spec, spec_sampl_rate = frequency.spectrogram(wav, sr, **spectrogram_parameters)\n",
    "\n",
    "print \"Generation takes %fs\" % ((time() - tic) / number)\n",
    "\n",
    "tic = time()\n",
    "for fname in files[:number]:\n",
    "    spec = scipy.io.loadmat(spec_path + fname + '_spec.mat')\n",
    "\n",
    "print \"Loading big takes %fs\" %  ((time() - tic) / number)\n",
    "\n",
    "tic = time()\n",
    "for fname in files[:number]:\n",
    "    spec = scipy.io.loadmat(spec_path + fname + '_smallspec.mat')\n",
    "    \n",
    "print \"Loading small takes %fs\" %  ((time() - tic) / number)\n",
    "\n",
    "print wav.shape"
   ]
  },
  {
   "cell_type": "markdown",
   "metadata": {},
   "source": [
    "## Choosing locations and saving to disk\n",
    "\n",
    "For each file, choose a list of where to extract features from"
   ]
  },
  {
   "cell_type": "code",
   "execution_count": 16,
   "metadata": {
    "collapsed": false
   },
   "outputs": [
    {
     "name": "stdout",
     "output_type": "stream",
     "text": [
      "0 20 40 60 80 100 120 140 160 180 200 220 240 260 280 300 320 340 360\n"
     ]
    }
   ],
   "source": [
    "# for each file, compute features for each second and assign to biotic/not_biotic lists\n",
    "# we will worry about anthropogenic later\n",
    "# max_files = 50\n",
    "\n",
    "# maximum num slices of each class to take from each file\n",
    "max_from_each_file = 2000\n",
    "# files_to_use = files[:max_files]\n",
    "\n",
    "features_savepath = '/home/michael/projects/engaged_hackathon_data/detection/biotic_anthrop/'\n",
    "\n",
    "\n",
    "def choose_locations(idxs, maximum, balance=False):\n",
    "    \"\"\"\n",
    "    Given a binary array, the function returns a list of positive and negative locations sampled\n",
    "    at random from the list.\n",
    "    Returns 'maximum' locations unless there there are fewer than maximum locations in\n",
    "    idxs, in which case all are returned\n",
    "    If balance is true then the classes are balanced to the smaller class size to\n",
    "    ensure an equal number of each\n",
    "    \"\"\"\n",
    "    false_idxs = np.where(idxs==0)[0]\n",
    "    true_idxs = np.where(idxs==1)[0]\n",
    "    \n",
    "    if false_idxs.shape[0] > maximum and maximum is not None:\n",
    "        false_idxs = np.random.choice(false_idxs, maximum, replace=False)\n",
    "        \n",
    "    if true_idxs.shape[0] > maximum and maximum is not None:\n",
    "        true_idxs = np.random.choice(true_idxs, maximum, replace=False)\n",
    "        \n",
    "    if false_idxs.shape[0] != true_idxs.shape[0] and balance:\n",
    "        raise Exception(\"Not implemented!\")\n",
    "        \n",
    "    return true_idxs, false_idxs\n",
    "    \n",
    "\n",
    "for count, fname in enumerate(files):\n",
    "        \n",
    "    # load in ground truth - these give positions in terms of the wav file...\n",
    "    gt = loadmat(base_path + '/detection_challenge/' + fname + '.mat')\n",
    "      \n",
    "    # sample positive and negative locations in the file for each sound type\n",
    "    for soundtype in ['biotic', 'anthropogenic']:\n",
    "        \n",
    "        true_idxs, false_idxs = choose_locations(gt[soundtype][0], max_from_each_file)\n",
    "        idxs = np.hstack([true_idxs, false_idxs])\n",
    "        labels = np.hstack([np.ones(true_idxs.shape), np.zeros(false_idxs.shape)])\n",
    "        \n",
    "        D = dict(true_idxs=true_idxs, false_idxs=false_idxs, \n",
    "                 idxs=idxs, labels=labels, sample_rate=gt['sample_rate'])\n",
    "        savepath = base_path + '/detection_challenge/' + fname + \\\n",
    "            '_sampled_' + soundtype + '.mat'\n",
    "        scipy.io.savemat(savepath, D)\n",
    "\n",
    "    if count % 20 == 0:\n",
    "        print count,"
   ]
  },
  {
   "cell_type": "code",
   "execution_count": 62,
   "metadata": {
    "collapsed": false
   },
   "outputs": [],
   "source": [
    "def extract_1d_patches(array, locations, hww):\n",
    "    \"\"\"\n",
    "    Extract vertical patches from the array, at the locations given.\n",
    "    Each slice has a half window width hww\n",
    "    \n",
    "    Returns an array of shape:\n",
    "    (len(locations), array.shape[0], hww*2+1)\n",
    "    \"\"\"\n",
    "    # pad the array to account for overspill\n",
    "    offset_idxs_np = np.array(locations).ravel() + hww\n",
    "    extra1 = np.tile(array[:, 0], (hww, 1)).T\n",
    "    extra2 = np.tile(array[:, -1], (hww, 1)).T\n",
    "    a_temp = np.hstack((extra1, array, extra2))\n",
    "    \n",
    "    # set up the array of index locations to extract from\n",
    "    idxs = [offset_idxs_np]\n",
    "    for offset in range(1, hww+1):\n",
    "        idxs.insert(0, offset_idxs_np-offset)\n",
    "        idxs.append(offset_idxs_np+offset)\n",
    "    new_idx = np.vstack(idxs).T.ravel()\n",
    "    \n",
    "    # extract the patches and do the appropriate reshapgin\n",
    "    \n",
    "    new_shape = (array.shape[0], offset_idxs_np.shape[0], hww*2 + 1)\n",
    "    to_return = a_temp[:, new_idx].reshape(new_shape).transpose((1, 0, 2))\n",
    "    return to_return"
   ]
  },
  {
   "cell_type": "code",
   "execution_count": null,
   "metadata": {
    "collapsed": true
   },
   "outputs": [],
   "source": [
    "# Extracting patches from each spectrogram\n"
   ]
  },
  {
   "cell_type": "code",
   "execution_count": 2,
   "metadata": {
    "collapsed": false
   },
   "outputs": [
    {
     "ename": "NameError",
     "evalue": "name 'files_to_use' is not defined",
     "output_type": "error",
     "traceback": [
      "\u001b[1;31m---------------------------------------------------------------------------\u001b[0m",
      "\u001b[1;31mNameError\u001b[0m                                 Traceback (most recent call last)",
      "\u001b[1;32m<ipython-input-2-76f61e38a231>\u001b[0m in \u001b[0;36m<module>\u001b[1;34m()\u001b[0m\n\u001b[0;32m      6\u001b[0m \u001b[1;33m\u001b[0m\u001b[0m\n\u001b[0;32m      7\u001b[0m train_files, test_files = train_test_split(\n\u001b[1;32m----> 8\u001b[1;33m     range(len(files_to_use)), random_state=0, train_size=0.1, test_size=0.05)\n\u001b[0m\u001b[0;32m      9\u001b[0m \u001b[1;33m\u001b[0m\u001b[0m\n\u001b[0;32m     10\u001b[0m \u001b[0mtX\u001b[0m\u001b[1;33m,\u001b[0m \u001b[0mtY\u001b[0m \u001b[1;33m=\u001b[0m \u001b[0mzip\u001b[0m\u001b[1;33m(\u001b[0m\u001b[1;33m*\u001b[0m\u001b[0mXY\u001b[0m\u001b[1;33m)\u001b[0m\u001b[1;33m\u001b[0m\u001b[0m\n",
      "\u001b[1;31mNameError\u001b[0m: name 'files_to_use' is not defined"
     ]
    }
   ],
   "source": [
    "# Combining all strips into training and test sets...\n",
    "# Then each running script can just load in a set of train/test patches\n",
    "\n",
    "# Do train/test split and combine training data\n",
    "from sklearn.cross_validation import train_test_split\n",
    "\n",
    "train_files, test_files = train_test_split(\n",
    "    range(len(files_to_use)), random_state=0, train_size=0.1, test_size=0.05)\n",
    "\n",
    "tX, tY = zip(*XY)\n",
    "\n",
    "data = {}\n",
    "data['X_train'] = np.vstack([tX[idx] for idx in train_files])\n",
    "data['y_train'] = np.hstack([tY[idx] for idx in train_files]).astype(np.int32)\n",
    "data['X_test'] = np.vstack([tX[idx] for idx in test_files])\n",
    "data['y_test'] = np.hstack([tY[idx] for idx in test_files]).astype(np.int32)\n",
    "\n",
    "for key in ['X_train', 'X_test']:\n",
    "    tshape = data[key].shape\n",
    "    data[key] = data[key].reshape((tshape[0], -1, tshape[1], tshape[2]))\n",
    "    data[key] = data[key].astype(np.float32)\n",
    "\n",
    "def balance_classes(X, Y):\n",
    "    positives = np.where(Y == 0)[0]\n",
    "    negatives = np.where(Y == 1)[0]\n",
    "    max_examples = min(len(positives), len(negatives))\n",
    "    \n",
    "    if len(positives) > max_examples:\n",
    "        positives = np.random.choice(positives, max_examples, replace=False)\n",
    "    if len(negatives) > max_examples:\n",
    "        negatives = np.random.choice(negatives, max_examples, replace=False)\n",
    "        \n",
    "    X = np.vstack((X[negatives, :], X[positives, :]))\n",
    "    new_Y = np.hstack((Y[negatives], Y[positives])) \n",
    "    \n",
    "    shuffle_idxs = np.random.permutation(X.shape[0])\n",
    "    \n",
    "    return X[shuffle_idxs, :], new_Y[shuffle_idxs]\n",
    "    \n",
    "# balance the classes...\n",
    "for key in ['train', 'test']:\n",
    "    data['X_' + key], data['y_' + key] = balance_classes(data['X_' + key], data['y_' + key])\n",
    "    \n",
    "for key, val in data.iteritems():\n",
    "    print key, val.shape, val.dtype\n",
    "    print val.min(), val.max(), val.sum()/float(val.shape[0])\n",
    "\n",
    "for idx in range(10):\n",
    "    plt.subplot(3, 4, idx+1)\n",
    "    plt.imshow(data['X_train'][idx, 0, :, :])\n"
   ]
  },
  {
   "cell_type": "code",
   "execution_count": null,
   "metadata": {
    "collapsed": true
   },
   "outputs": [],
   "source": []
  }
 ],
 "metadata": {
  "kernelspec": {
   "display_name": "Python 2",
   "language": "python",
   "name": "python2"
  },
  "language_info": {
   "codemirror_mode": {
    "name": "ipython",
    "version": 2
   },
   "file_extension": ".py",
   "mimetype": "text/x-python",
   "name": "python",
   "nbconvert_exporter": "python",
   "pygments_lexer": "ipython2",
   "version": "2.7.10"
  }
 },
 "nbformat": 4,
 "nbformat_minor": 0
}
