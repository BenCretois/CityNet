{
 "cells": [
  {
   "cell_type": "markdown",
   "metadata": {},
   "source": [
    "# Biotic anthropogenic classification\n",
    "\n",
    "Aim is to classify each moment in time as being:\n",
    "    \n",
    "- biotic/not biotic\n",
    "- anthropogenic/not anthropogenic\n",
    "\n",
    "\n",
    "We will use a separate model for each of these classifications"
   ]
  },
  {
   "cell_type": "code",
   "execution_count": 1,
   "metadata": {
    "collapsed": false
   },
   "outputs": [],
   "source": [
    "%matplotlib inline\n",
    "import matplotlib.pyplot as plt\n",
    "import csv\n",
    "import os\n",
    "import numpy as np\n",
    "\n",
    "import scipy.io.wavfile\n",
    "from scipy.io import loadmat\n",
    "from sklearn.cross_validation import train_test_split\n",
    "from sklearn.ensemble import RandomForestClassifier\n",
    "from sklearn.cross_validation import train_test_split\n",
    "import collections\n",
    "\n",
    "import sys, os\n",
    "sys.path.append(os.path.expanduser('~/projects/engaged_hackathon/'))\n",
    "from engaged.features import features as engaged_features\n",
    "from engaged.features import frequency\n"
   ]
  },
  {
   "cell_type": "code",
   "execution_count": 2,
   "metadata": {
    "collapsed": false
   },
   "outputs": [
    {
     "name": "stdout",
     "output_type": "stream",
     "text": [
      "362\n"
     ]
    }
   ],
   "source": [
    "# getting a list of all the files\n",
    "base_path = '/home/michael/projects/engaged_hackathon_data/raw_data/one_minute_files'\n",
    "files = os.listdir(base_path + '/detection_challenge')\n",
    "files = [xx.split('.')[0] for xx in files]\n",
    "\n",
    "spectrogram_parameters = {\n",
    "    'nfft': 1024,\n",
    "    'window_width': 0.03,\n",
    "    'overlap': 0.01,\n",
    "    }\n",
    "\n",
    "print len(files)"
   ]
  },
  {
   "cell_type": "code",
   "execution_count": 34,
   "metadata": {
    "collapsed": false
   },
   "outputs": [
    {
     "name": "stdout",
     "output_type": "stream",
     "text": [
      "0 10\n"
     ]
    }
   ],
   "source": [
    "# for each file, compute features for each second and assign to biotic/not_biotic lists\n",
    "# we will worry about anthropogenic later\n",
    "all_data = {}\n",
    "\n",
    "from scipy.ndimage.interpolation import zoom\n",
    "\n",
    "max_files = 20\n",
    "\n",
    "# maximum num slices of each class to take from each file\n",
    "max_from_each_file = 100\n",
    "files_to_use = files[:max_files]\n",
    "\n",
    "\n",
    "def extract_features(spec, idxs, maximum=None):\n",
    "    \"\"\"\n",
    "    returns a set of features from the spectrogram at points marked by idxs.\n",
    "    If there are more idx locations than maximum, then will subsample idxs.\n",
    "    \"\"\"\n",
    "    if maximum is not None and maximum < idxs.sum():\n",
    "        idxs = np.random.choice(np.where(idxs)[0], maximum, replace=False)\n",
    "        N = maximum\n",
    "    else:\n",
    "        N = idxs.sum()\n",
    "        idxs = np.where(idxs)[0]\n",
    "    \n",
    "    if N == 0:\n",
    "        return None\n",
    "# #     2*(spec.shape[0]-1)/8 + 2)[:, None]\n",
    "    \n",
    "    sampled_spec = spec[:-1, idxs]\n",
    "    new_height =  spec.shape[0] / 8\n",
    "    max_features = sampled_spec.T.reshape((8, new_height, N)).max(axis=0)\n",
    "    med_features = np.median(sampled_spec.T.reshape((8, new_height, N)), axis=0)\n",
    "    \n",
    "    max_pos = np.argmax(max_features, axis=0)[None, :]\n",
    "    max_val = np.max(max_features, axis=0)[None, :]\n",
    "    \n",
    "    # take the maximum, mean, var across strips surrounding each idx\n",
    "    substrip_means = [np.zeros((6*new_height))]\n",
    "    substrip_maxs = [np.zeros((6*new_height))]\n",
    "    substrip_vars = [np.zeros((6*new_height))]\n",
    "    \n",
    "    for idx in idxs:\n",
    "        substrip = spec[:-1, idx-3:idx+3]\n",
    "        substrip_reshaped = substrip.T.reshape((8, -1))\n",
    "        substrip_maxs.append(substrip_reshaped.max(axis=0))\n",
    "        substrip_means.append(substrip_reshaped.mean(axis=0))\n",
    "        substrip_vars.append(substrip_reshaped.var(axis=0))\n",
    "    \n",
    "    substrip_maxs = np.hstack(substrip_maxs)\n",
    "    substrip_means = np.hstack(substrip_means)\n",
    "    substrip_vars = np.hstack(substrip_vars)\n",
    "\n",
    "    return {\n",
    "        'max_val': max_val,\n",
    "        'max_pos': max_pos,\n",
    "        'max_features': max_features,\n",
    "        'med_features': med_features,\n",
    "        'substrip_maxs': substrip_maxs,\n",
    "        'substrip_vars': substrip_vars,\n",
    "        'substrip_means': substrip_means,\n",
    "        'num_idxs': N\n",
    "    }\n",
    "\n",
    "# max_features, med_features, max_pos,  \n",
    "    \n",
    "for count, fname in enumerate(files_to_use):\n",
    "    \n",
    "    # load in wav and convert to spectrogram\n",
    "    sr, wav = scipy.io.wavfile.read(base_path + '/25_Random/' + fname + '.wav')  \n",
    "    spec, spec_sample_rate = frequency.spectrogram(wav, sr, **spectrogram_parameters)\n",
    "    spec -= np.median(spec, axis=1)[:, None]\n",
    "#     spec[spec < 0] = 0\n",
    "        \n",
    "    # load in ground truth\n",
    "    gt = loadmat(base_path + '/detection_challenge/' + fname + '.mat')\n",
    "    \n",
    "    # convert the labels to the sampling rate of the spectrogram\n",
    "    zoom_factor = float(spec.shape[1]) / float(wav.shape[0])\n",
    "    \n",
    "    gt_biotic = zoom(gt['biotic'][0], zoom_factor).astype(bool)\n",
    "    gt_anthrop = zoom(gt['anthropogenic'][0], zoom_factor).astype(bool)\n",
    "        \n",
    "    # group spec slices according to labels\n",
    "    these_data = {}\n",
    "    \n",
    "    these_data['biotic'] = {\n",
    "        'yes': extract_features(spec, gt_biotic, max_from_each_file),\n",
    "        'no': extract_features(spec, ~gt_biotic, max_from_each_file)\n",
    "        }\n",
    "    \n",
    "    these_data['anthrop'] = {\n",
    "        'yes': extract_features(spec, gt_anthrop, max_from_each_file),\n",
    "        'no': extract_features(spec, ~gt_anthrop, max_from_each_file)\n",
    "        }\n",
    "    \n",
    "    all_data[fname] = these_data\n",
    "\n",
    "    if count % 10 == 0:\n",
    "        print count,"
   ]
  },
  {
   "cell_type": "code",
   "execution_count": 51,
   "metadata": {
    "collapsed": false
   },
   "outputs": [
    {
     "name": "stdout",
     "output_type": "stream",
     "text": [
      "Doing  max_val\n",
      "Doing  max_pos\n",
      "Doing  max_features\n",
      "Doing  med_features\n",
      "Doing  substrip_maxs\n",
      "Doing  substrip_vars\n",
      "Doing  substrip_means\n",
      "Doing  all_single_strips\n",
      "Doing  all_substrips\n"
     ]
    }
   ],
   "source": [
    "# compiling together the features for each experiment\n",
    "class_to_use = 'biotic'\n",
    "\n",
    "experiments = collections.OrderedDict([\n",
    "    ('max_val', ['max_val']),\n",
    "    ('max_pos', ['max_pos']),\n",
    "    ('max_features', ['max_features']),\n",
    "    ('med_features', ['med_features']),\n",
    "    ('substrip_maxs', ['substrip_maxs']),\n",
    "    ('substrip_vars', ['substrip_vars']),\n",
    "    ('substrip_means', ['substrip_means']),\n",
    "    ('all_single_strips', ['max_val', 'max_pos', 'max_features', 'med_features']),\n",
    "    ('all_substrips', ['substrip_maxs', 'substrip_vars', 'substrip_means'])\n",
    "])\n",
    "\n",
    "import collections\n",
    "X = collections.defaultdict(dict)\n",
    "Y = {}\n",
    "\n",
    "def flip(X):\n",
    "    if X is None:\n",
    "        return 0\n",
    "    else:\n",
    "        return X['num_idxs']\n",
    "    \n",
    "for experiment_name, features in experiments.iteritems():\n",
    "    print \"Doing \", experiment_name\n",
    "    \n",
    "#     test_X_yes = np.hstack([all_data[f][class_to_use]['yes'] for f in test_files]).T\n",
    "    \n",
    "    for fname in files_to_use:\n",
    "\n",
    "        for subclass in ['yes', 'no']:\n",
    "            \n",
    "            # only add if there is some feature here at all...\n",
    "            if all_data[fname][class_to_use][subclass] is not None:    \n",
    "                \n",
    "                X[fname][experiment_name] = np.vstack([\n",
    "                    all_data[fname][class_to_use][subclass][feature] \n",
    "                    for feature in features])\n",
    "\n",
    "for fname in files_to_use:\n",
    "\n",
    "    Y[fname] = np.array([\n",
    "            flip(all_data[fname][class_to_use]['yes']) * [1] + \\\n",
    "            flip(all_data[fname][class_to_use]['no']) * [0]\n",
    "            ])\n"
   ]
  },
  {
   "cell_type": "code",
   "execution_count": 52,
   "metadata": {
    "collapsed": false
   },
   "outputs": [],
   "source": [
    "all_data[fname][class_to_use]['yes']"
   ]
  },
  {
   "cell_type": "code",
   "execution_count": 53,
   "metadata": {
    "collapsed": true
   },
   "outputs": [],
   "source": [
    "# splitting into train and test sets\n",
    "train_files, test_files = train_test_split(files_to_use, random_state=0)"
   ]
  },
  {
   "cell_type": "code",
   "execution_count": 60,
   "metadata": {
    "collapsed": false
   },
   "outputs": [
    {
     "name": "stdout",
     "output_type": "stream",
     "text": [
      "(1, 800)\n",
      "(64, 500)\n"
     ]
    }
   ],
   "source": [
    "# now split the data into training and test...\n",
    "X_train = {}\n",
    "X_test = {}\n",
    "Y_train = []\n",
    "Y_test = []\n",
    "\n",
    "for experiment_name in experiments:\n",
    "    \n",
    "    X_train[experiment_name] = np.hstack([\n",
    "            X[fname][experiment_name]\n",
    "            for fname in train_files\n",
    "        ])\n",
    "    \n",
    "    X_test[experiment_name] = np.hstack([\n",
    "            X[fname][experiment_name]\n",
    "            for fname in test_files\n",
    "        ])\n",
    "    \n",
    "Y_test = np.hstack([Y[fname] for fname in test_files])\n",
    "\n",
    "print Y_test.shape\n",
    "print X_test['max_features'].shape"
   ]
  },
  {
   "cell_type": "code",
   "execution_count": 308,
   "metadata": {
    "collapsed": false,
    "scrolled": true
   },
   "outputs": [
    {
     "name": "stdout",
     "output_type": "stream",
     "text": [
      "(91527, 2)\n",
      "(91527, 2)\n",
      "(183054, 2)\n",
      "(183054,)\n",
      "(1000, 2)\n",
      "(1000, 2)\n",
      "(2000, 2)\n",
      "(2000,)\n"
     ]
    }
   ],
   "source": [
    "        \n",
    "\n",
    "# let's just do biotic for now...\n",
    "train_X_yes = np.hstack([all_data[f][class_to_use]['yes'] for f in train_files]).T\n",
    "train_X_no = np.hstack([all_data[f][class_to_use]['no'] for f in train_files]).T\n",
    "\n",
    "# balance...\n",
    "num_to_use = min(train_X_yes.shape[0], train_X_no.shape[0])\n",
    "\n",
    "def sample_rows(X, num_to_sample):\n",
    "    \"\"\"samples rows without replacement. If shape[0] < num_to_sample, just returns X\"\"\"\n",
    "    if X.shape[0] > num_to_sample:\n",
    "        idxs = np.random.choice(X.shape[0], num_to_sample, replace=False)\n",
    "        return X[idxs, :]\n",
    "    else:\n",
    "        return X\n",
    "    \n",
    "train_X_yes = sample_rows(train_X_yes, num_to_use)\n",
    "train_X_no = sample_rows(train_X_no, num_to_use)\n",
    "\n",
    "train_X = np.vstack((train_X_yes, train_X_no))\n",
    "train_Y = np.array((train_X_yes.shape[0] * [1]) + (train_X_no.shape[0] * [0]))\n",
    "\n",
    "test_X_yes = np.hstack([all_data[f][class_to_use]['yes'] for f in test_files]).T\n",
    "test_X_no = np.hstack([all_data[f][class_to_use]['no'] for f in test_files]).T\n",
    "\n",
    "test_X_yes = sample_rows(test_X_yes, 1000)\n",
    "test_X_no = sample_rows(test_X_no, 1000)\n",
    "\n",
    "test_X = np.vstack((test_X_yes, test_X_no))\n",
    "test_Y = np.array((test_X_yes.shape[0] * [1]) + (test_X_no.shape[0] * [0]))\n",
    "\n",
    "print train_X_yes.shape\n",
    "print train_X_no.shape\n",
    "print train_X.shape\n",
    "print train_Y.shape\n",
    "\n",
    "print test_X_yes.shape\n",
    "print test_X_no.shape\n",
    "print test_X.shape\n",
    "print test_Y.shape\n",
    "\n",
    "# balance the training dataset..."
   ]
  },
  {
   "cell_type": "code",
   "execution_count": 309,
   "metadata": {
    "collapsed": false
   },
   "outputs": [
    {
     "data": {
      "text/plain": [
       "RandomForestClassifier(bootstrap=True, class_weight=None, criterion='gini',\n",
       "            max_depth=None, max_features=None, max_leaf_nodes=None,\n",
       "            min_samples_leaf=1, min_samples_split=2,\n",
       "            min_weight_fraction_leaf=0.0, n_estimators=50, n_jobs=8,\n",
       "            oob_score=False, random_state=None, verbose=0,\n",
       "            warm_start=False)"
      ]
     },
     "execution_count": 309,
     "metadata": {},
     "output_type": "execute_result"
    }
   ],
   "source": [
    "# now train a classifier\n",
    "from sklearn.ensemble import RandomForestClassifier\n",
    "rf = RandomForestClassifier(n_estimators=50, n_jobs=8, max_features=None)\n",
    "rf.fit(train_X, train_Y)"
   ]
  },
  {
   "cell_type": "code",
   "execution_count": 310,
   "metadata": {
    "collapsed": false
   },
   "outputs": [
    {
     "name": "stdout",
     "output_type": "stream",
     "text": [
      "[[ 0.76  0.24]\n",
      " [ 0.02  0.98]\n",
      " [ 0.3   0.7 ]\n",
      " ..., \n",
      " [ 0.32  0.68]\n",
      " [ 0.98  0.02]\n",
      " [ 0.62  0.38]]\n"
     ]
    },
    {
     "data": {
      "text/plain": [
       "<matplotlib.legend.Legend at 0x7f905043a210>"
      ]
     },
     "execution_count": 310,
     "metadata": {},
     "output_type": "execute_result"
    },
    {
     "data": {
      "image/png": "[encoded data removed]",
      "text/plain": [
       "<matplotlib.figure.Figure at 0x7f9057846f50>"
      ]
     },
     "metadata": {},
     "output_type": "display_data"
    }
   ],
   "source": [
    "# test the classifier\n",
    "pred_Y = rf.predict(test_X)\n",
    "pred_Y_probs = rf.predict_proba(test_X)\n",
    "print pred_Y_probs\n",
    "edges = np.linspace(0, 1, 11)\n",
    "Y0, X0 = np.histogram(pred_Y_probs[test_Y==0, 1], edges)\n",
    "Y1, X1 = np.histogram(pred_Y_probs[test_Y==1, 1], edges)\n",
    "plt.plot(X0[:-1]+0.05, Y0.astype(float) / Y0.sum(), label=\"Class = 0\")\n",
    "plt.plot(X1[:-1]+0.05, Y1.astype(float) / Y1.sum(), label=\"Class = 1\")\n",
    "plt.xlim(0, 1)\n",
    "plt.ylabel('Probability of occurance')\n",
    "plt.xlabel('Forest output')\n",
    "plt.legend(loc='best')"
   ]
  },
  {
   "cell_type": "code",
   "execution_count": 311,
   "metadata": {
    "collapsed": false
   },
   "outputs": [
    {
     "data": {
      "image/png": "[encoded data removed]",
      "text/plain": [
       "<matplotlib.figure.Figure at 0x7f9057915c10>"
      ]
     },
     "metadata": {},
     "output_type": "display_data"
    }
   ],
   "source": [
    "from sklearn.metrics import roc_curve, auc\n",
    "\n",
    "fpr, tpr, _ = roc_curve(test_Y, pred_Y_probs[:, 1])\n",
    "roc_auc = auc(fpr, tpr)\n",
    "\n",
    "# Plot of a ROC curve for a specific class\n",
    "plt.figure()\n",
    "plt.plot(fpr, tpr , label='ROC curve (area = %0.2f)' % roc_auc)\n",
    "plt.plot([0, 1], [0, 1], 'k--')\n",
    "plt.xlim([0.0, 1.0])\n",
    "plt.ylim([0.0, 1.0])\n",
    "plt.xlabel('False Positive Rate')\n",
    "plt.ylabel('True Positive Rate')\n",
    "plt.title('ROC curve')\n",
    "plt.legend(loc=\"lower right\")\n",
    "plt.gca().set_aspect('equal', adjustable='box')"
   ]
  },
  {
   "cell_type": "code",
   "execution_count": 312,
   "metadata": {
    "collapsed": false
   },
   "outputs": [
    {
     "data": {
      "text/plain": [
       "[<matplotlib.lines.Line2D at 0x7f9051acab50>]"
      ]
     },
     "execution_count": 312,
     "metadata": {},
     "output_type": "execute_result"
    },
    {
     "data": {
      "image/png": "[encoded data removed]",
      "text/plain": [
       "<matplotlib.figure.Figure at 0x7f90505e8810>"
      ]
     },
     "metadata": {},
     "output_type": "display_data"
    }
   ],
   "source": [
    "plt.plot(rf.feature_importances_, '.-')"
   ]
  },
  {
   "cell_type": "code",
   "execution_count": 313,
   "metadata": {
    "collapsed": false
   },
   "outputs": [
    {
     "name": "stdout",
     "output_type": "stream",
     "text": [
      "[[651 349]\n",
      " [440 560]]\n"
     ]
    },
    {
     "data": {
      "image/png": "[encoded data removed]",
      "text/plain": [
       "<matplotlib.figure.Figure at 0x7f9058192f90>"
      ]
     },
     "metadata": {},
     "output_type": "display_data"
    }
   ],
   "source": [
    "from sklearn.metrics import confusion_matrix\n",
    "import seaborn as sns\n",
    "sns.set_style(\"white\")\n",
    "\n",
    "labels = ['Non-biotic', 'Biotic']\n",
    "cm = confusion_matrix(test_Y, (pred_Y>0.5).astype(int))\n",
    "\n",
    "def plot_confusion_matrix(cm, title='Confusion matrix', cmap=plt.cm.Blues):\n",
    "    plt.imshow(cm, interpolation='nearest', cmap=cmap)\n",
    "    plt.title(title)\n",
    "    plt.colorbar(fraction=0.046, pad=0.04)\n",
    "    tick_marks = np.arange(len(labels))\n",
    "    plt.xticks(tick_marks, labels, rotation=75)\n",
    "    \n",
    "    plt.yticks(tick_marks, labels)\n",
    "    plt.tight_layout()\n",
    "    plt.ylabel('True label')\n",
    "    plt.xlabel('Predicted label')\n",
    "\n",
    "print cm\n",
    "plt.figure(figsize=(10, 10))\n",
    "plot_confusion_matrix(cm);\n",
    "plt.clim(0, cm.max())"
   ]
  },
  {
   "cell_type": "code",
   "execution_count": 314,
   "metadata": {
    "collapsed": false
   },
   "outputs": [
    {
     "name": "stdout",
     "output_type": "stream",
     "text": [
      "(2000,)\n",
      "1000\n",
      "(2000,)\n",
      "909\n"
     ]
    }
   ],
   "source": [
    "print test_Y.shape\n",
    "print test_Y.sum()\n",
    "print pred_Y.shape\n",
    "print (pred_Y>0).sum()"
   ]
  },
  {
   "cell_type": "code",
   "execution_count": 330,
   "metadata": {
    "collapsed": false
   },
   "outputs": [
    {
     "name": "stdout",
     "output_type": "stream",
     "text": [
      "[3 4 1]\n",
      "df\n",
      "No args\n"
     ]
    }
   ],
   "source": [
    "\n",
    "def default(arg=None):\n",
    "    if arg is not None:\n",
    "        print arg\n",
    "    else:\n",
    "        print \"No args\"\n",
    "        \n",
    "default(np.array([3, 4, 1]))\n",
    "default('df')\n",
    "default()"
   ]
  }
 ],
 "metadata": {
  "kernelspec": {
   "display_name": "Python 2",
   "language": "python",
   "name": "python2"
  },
  "language_info": {
   "codemirror_mode": {
    "name": "ipython",
    "version": 2
   },
   "file_extension": ".py",
   "mimetype": "text/x-python",
   "name": "python",
   "nbconvert_exporter": "python",
   "pygments_lexer": "ipython2",
   "version": "2.7.10"
  }
 },
 "nbformat": 4,
 "nbformat_minor": 0
}
