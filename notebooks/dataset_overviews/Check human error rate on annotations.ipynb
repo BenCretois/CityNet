{
 "cells": [
  {
   "cell_type": "code",
   "execution_count": 1,
   "metadata": {
    "collapsed": true
   },
   "outputs": [],
   "source": [
    "%matplotlib inline\n",
    "import matplotlib.pyplot as plt\n",
    "import csv\n",
    "import collections\n",
    "import numpy as np\n",
    "import seaborn as sns"
   ]
  },
  {
   "cell_type": "code",
   "execution_count": 2,
   "metadata": {
    "collapsed": true
   },
   "outputs": [],
   "source": [
    "human_noises = set(['mix traffic', 'braking', 'voices', 'electrical', \n",
    "                   'anthropogenic unknown', 'airplane', 'beep',\n",
    "                   'metal', 'bus emitting', 'footsteps', 'mower', 'whistle',\n",
    "                  'siren', 'coughing', 'music', 'horn', 'startthecar', 'bells', \n",
    "                    'applause', 'dog bark'])\n",
    "\n",
    "animal_noises = set(['bird', 'wing beats', 'bat', 'fox', \n",
    "                     'grey squirrel', 'invertebrate'])\n",
    "\n",
    "other = set(['rain', 'unknown sound'])"
   ]
  },
  {
   "cell_type": "markdown",
   "metadata": {},
   "source": [
    "## Load in the annotations\n",
    "\n",
    "I will want to load in annotations from both sets of labellers"
   ]
  },
  {
   "cell_type": "code",
   "execution_count": 3,
   "metadata": {
    "collapsed": true
   },
   "outputs": [],
   "source": [
    "mapper = {'road traffic': 'Mix traffic',\n",
    "          'electrical disturbance': 'electrical',\n",
    "         'vehicle': 'Mix traffic',\n",
    "         'breaking vehicle': 'Braking',\n",
    "         'Train doors (beeping)': 'beep'}"
   ]
  },
  {
   "cell_type": "code",
   "execution_count": 4,
   "metadata": {
    "collapsed": false
   },
   "outputs": [],
   "source": [
    "import pandas as pd\n",
    "\n",
    "sample_rate = 24000 \n",
    "file_len_in_seconds = 60\n",
    "\n",
    "def read_labels(fname):\n",
    "\n",
    "    df = pd.read_csv(fname)\n",
    "    df = df.ix[1::2]  # we need to take every other row\n",
    "    \n",
    "    # cool, we read in the labels as a pandas df. \n",
    "    # Now we want to convert this to our own format, where we have a dictionary of arrays, one per label...\n",
    "    labels = {}\n",
    "    \n",
    "    for labelname in df['Label'].unique():\n",
    "#     for labelname in ['bird', 'airplane']:\n",
    "        if labelname in mapper:\n",
    "            labelname = mapper[labelname]\n",
    "\n",
    "        these_labs = df.ix[df['Label'] == labelname]\n",
    "        \n",
    "        label_array = np.zeros(sample_rate * file_len_in_seconds)\n",
    "        \n",
    "        start_ends = np.array(\n",
    "            these_labs[['LabelStartTime_Seconds', 'LabelEndTime_Seconds']])\n",
    "        start_ends *= sample_rate\n",
    "        start_ends  = start_ends.astype(int)\n",
    "\n",
    "        for start, end in start_ends:\n",
    "            label_array[start:end] = 1\n",
    "\n",
    "        labels[labelname] = label_array\n",
    "\n",
    "    return labels"
   ]
  },
  {
   "cell_type": "code",
   "execution_count": 5,
   "metadata": {
    "collapsed": false,
    "scrolled": true
   },
   "outputs": [],
   "source": [
    "import os\n",
    "\n",
    "base_path = '/media/michael/Seagate/engage/engage_hackathon_data/data/multiple_humans_labelling_same_files/'\n",
    "humans = ['Ali', 'Jiemin', 'Verity']\n",
    "labels = {human: {} for human in humans}\n",
    "\n",
    "\n",
    "for human in humans:\n",
    "    fnames = os.listdir(base_path + human + '/')\n",
    "    for fname in fnames:\n",
    "        \n",
    "        # generate key for this file\n",
    "        filekey = fname.replace('_below12kHz.csv', '').replace('-sceneRect.csv', '')\n",
    "        \n",
    "#         if filekey != 'E105JP-13548_20131009_0717':\n",
    "#         if filekey != 'CR05EF-13527_20130916_0823':\n",
    "#             continue\n",
    "        \n",
    "        # load the file and add to the dictionary\n",
    "        labels[human][filekey] = read_labels(base_path + human + '/' + fname)"
   ]
  },
  {
   "cell_type": "code",
   "execution_count": 6,
   "metadata": {
    "collapsed": false
   },
   "outputs": [
    {
     "name": "stdout",
     "output_type": "stream",
     "text": [
      "set(['siren', 'barking dog', 'unknown', 'Braking', 'anthropogenic unknown', 'Mix traffic', 'voices', 'beep', 'whistle', 'unknown sound', 'electrical', 'human voice', 'animal', 'lawnmower', 'airplane', 'invertebrate', 'bird', 'wind', 'machinery'])\n"
     ]
    }
   ],
   "source": [
    "all_labels = set()\n",
    "for human in humans:\n",
    "    for fname in labels[human].keys():\n",
    "        all_labels.update(labels[human][fname].keys())\n",
    "print all_labels"
   ]
  },
  {
   "cell_type": "code",
   "execution_count": 7,
   "metadata": {
    "collapsed": false
   },
   "outputs": [
    {
     "name": "stdout",
     "output_type": "stream",
     "text": [
      "963364.0\n"
     ]
    }
   ],
   "source": [
    "tmp = labels['Ali']['E105JP-13548_20131009_0717']\n",
    "print tmp['bird'].sum()"
   ]
  },
  {
   "cell_type": "code",
   "execution_count": 17,
   "metadata": {
    "collapsed": true
   },
   "outputs": [],
   "source": [
    "# now compare the labels from the different labelers\n",
    "classes = ['airplane', 'bird', 'Mix traffic', 'beep', 'electrical']\n",
    "all_agreements = {cls:[] for cls in classes}\n",
    "\n",
    "def get_labels(human, fname, cls):\n",
    "    if cls not in labels[human][fname]:\n",
    "        # if no labels, just give it an array of zeros\n",
    "        return np.zeros(sample_rate * file_len_in_seconds)\n",
    "    else:\n",
    "        return labels[human][fname][cls]\n",
    "    \n",
    "results = pd.DataFrame(columns=['fname'] + classes)\n",
    "\n",
    "\n",
    "# get the labels for this file, for this class, for all humans\n",
    "for idx, fname in enumerate(labels['Ali'].keys()):\n",
    "\n",
    "    fname_agreements = [fname]\n",
    "    \n",
    "    for cls in classes:\n",
    "        labs = np.vstack([get_labels(human, fname, cls) for human in humans])\n",
    "        agreements = labs.max(0) == labs.min(0)\n",
    "        fname_agreements.append(agreements.mean())\n",
    "       \n",
    "    results.loc[idx] = fname_agreements"
   ]
  },
  {
   "cell_type": "code",
   "execution_count": 18,
   "metadata": {
    "collapsed": false
   },
   "outputs": [
    {
     "data": {
      "text/html": [
       "<div>\n",
       "<table border=\"1\" class=\"dataframe\">\n",
       "  <thead>\n",
       "    <tr style=\"text-align: right;\">\n",
       "      <th></th>\n",
       "      <th>fname</th>\n",
       "      <th>airplane</th>\n",
       "      <th>bird</th>\n",
       "      <th>Mix traffic</th>\n",
       "      <th>beep</th>\n",
       "      <th>electrical</th>\n",
       "    </tr>\n",
       "  </thead>\n",
       "  <tbody>\n",
       "    <tr>\n",
       "      <th>0</th>\n",
       "      <td>E105JP-13548_20131009_0717</td>\n",
       "      <td>0.0007</td>\n",
       "      <td>0.3240</td>\n",
       "      <td>1.0000</td>\n",
       "      <td>1.0000</td>\n",
       "      <td>0.9970</td>\n",
       "    </tr>\n",
       "    <tr>\n",
       "      <th>1</th>\n",
       "      <td>CR8-13548_20130918_1109</td>\n",
       "      <td>1.0000</td>\n",
       "      <td>0.7192</td>\n",
       "      <td>0.5452</td>\n",
       "      <td>1.0000</td>\n",
       "      <td>1.0000</td>\n",
       "    </tr>\n",
       "    <tr>\n",
       "      <th>2</th>\n",
       "      <td>SE23-13527_20130907_1651</td>\n",
       "      <td>0.0013</td>\n",
       "      <td>0.4325</td>\n",
       "      <td>1.0000</td>\n",
       "      <td>1.0000</td>\n",
       "      <td>1.0000</td>\n",
       "    </tr>\n",
       "    <tr>\n",
       "      <th>3</th>\n",
       "      <td>HA86RB-13527_20130730_0541</td>\n",
       "      <td>1.0000</td>\n",
       "      <td>0.6880</td>\n",
       "      <td>0.5603</td>\n",
       "      <td>1.0000</td>\n",
       "      <td>1.0000</td>\n",
       "    </tr>\n",
       "    <tr>\n",
       "      <th>4</th>\n",
       "      <td>SW154LA-3527_20130705_0909</td>\n",
       "      <td>1.0000</td>\n",
       "      <td>0.6475</td>\n",
       "      <td>0.0008</td>\n",
       "      <td>0.9888</td>\n",
       "      <td>1.0000</td>\n",
       "    </tr>\n",
       "    <tr>\n",
       "      <th>5</th>\n",
       "      <td>CR05EF-13527_20130921_1236</td>\n",
       "      <td>0.7847</td>\n",
       "      <td>0.6833</td>\n",
       "      <td>0.1207</td>\n",
       "      <td>1.0000</td>\n",
       "      <td>0.9970</td>\n",
       "    </tr>\n",
       "    <tr>\n",
       "      <th>6</th>\n",
       "      <td>CR05EF-13527_20130916_0823</td>\n",
       "      <td>0.0032</td>\n",
       "      <td>0.5602</td>\n",
       "      <td>1.0000</td>\n",
       "      <td>0.8827</td>\n",
       "      <td>0.9980</td>\n",
       "    </tr>\n",
       "    <tr>\n",
       "      <th>7</th>\n",
       "      <td>HA53AA-13548_20130727_0954</td>\n",
       "      <td>1.0000</td>\n",
       "      <td>0.9918</td>\n",
       "      <td>0.5017</td>\n",
       "      <td>1.0000</td>\n",
       "      <td>1.0000</td>\n",
       "    </tr>\n",
       "    <tr>\n",
       "      <th>8</th>\n",
       "      <td>W112NN-13548_20130709_0403</td>\n",
       "      <td>1.0000</td>\n",
       "      <td>0.4755</td>\n",
       "      <td>0.7288</td>\n",
       "      <td>1.0000</td>\n",
       "      <td>1.0000</td>\n",
       "    </tr>\n",
       "    <tr>\n",
       "      <th>9</th>\n",
       "      <td>W112NN-13548_20130713_0448</td>\n",
       "      <td>1.0000</td>\n",
       "      <td>0.6867</td>\n",
       "      <td>0.3445</td>\n",
       "      <td>1.0000</td>\n",
       "      <td>1.0000</td>\n",
       "    </tr>\n",
       "    <tr>\n",
       "      <th>10</th>\n",
       "      <td>W112NN-13548_20130709_1234</td>\n",
       "      <td>1.0000</td>\n",
       "      <td>0.9790</td>\n",
       "      <td>0.9333</td>\n",
       "      <td>1.0000</td>\n",
       "      <td>1.0000</td>\n",
       "    </tr>\n",
       "    <tr>\n",
       "      <th>11</th>\n",
       "      <td>HA86RB-13527_20130728_1101</td>\n",
       "      <td>1.0000</td>\n",
       "      <td>0.6397</td>\n",
       "      <td>0.0007</td>\n",
       "      <td>1.0000</td>\n",
       "      <td>0.9878</td>\n",
       "    </tr>\n",
       "    <tr>\n",
       "      <th>12</th>\n",
       "      <td>SE3-13548_20130911_0655</td>\n",
       "      <td>1.0000</td>\n",
       "      <td>0.9750</td>\n",
       "      <td>0.0025</td>\n",
       "      <td>1.0000</td>\n",
       "      <td>1.0000</td>\n",
       "    </tr>\n",
       "    <tr>\n",
       "      <th>13</th>\n",
       "      <td>WC2H8LG-3527_20130715_1400</td>\n",
       "      <td>1.0000</td>\n",
       "      <td>0.9510</td>\n",
       "      <td>0.0020</td>\n",
       "      <td>0.9733</td>\n",
       "      <td>1.0000</td>\n",
       "    </tr>\n",
       "    <tr>\n",
       "      <th>14</th>\n",
       "      <td>HA53AA-13548_20130729_0801</td>\n",
       "      <td>1.0000</td>\n",
       "      <td>0.7488</td>\n",
       "      <td>0.0007</td>\n",
       "      <td>1.0000</td>\n",
       "      <td>0.9880</td>\n",
       "    </tr>\n",
       "    <tr>\n",
       "      <th>15</th>\n",
       "      <td>CR8-13548_20130921_0806</td>\n",
       "      <td>1.0000</td>\n",
       "      <td>0.1602</td>\n",
       "      <td>0.1515</td>\n",
       "      <td>1.0000</td>\n",
       "      <td>1.0000</td>\n",
       "    </tr>\n",
       "    <tr>\n",
       "      <th>16</th>\n",
       "      <td>HA86RB-13527_20130726_1319</td>\n",
       "      <td>1.0000</td>\n",
       "      <td>0.9895</td>\n",
       "      <td>0.1427</td>\n",
       "      <td>1.0000</td>\n",
       "      <td>1.0000</td>\n",
       "    </tr>\n",
       "  </tbody>\n",
       "</table>\n",
       "</div>"
      ],
      "text/plain": [
       "                         fname  airplane    bird  Mix traffic    beep  \\\n",
       "0   E105JP-13548_20131009_0717    0.0007  0.3240       1.0000  1.0000   \n",
       "1      CR8-13548_20130918_1109    1.0000  0.7192       0.5452  1.0000   \n",
       "2     SE23-13527_20130907_1651    0.0013  0.4325       1.0000  1.0000   \n",
       "3   HA86RB-13527_20130730_0541    1.0000  0.6880       0.5603  1.0000   \n",
       "4   SW154LA-3527_20130705_0909    1.0000  0.6475       0.0008  0.9888   \n",
       "5   CR05EF-13527_20130921_1236    0.7847  0.6833       0.1207  1.0000   \n",
       "6   CR05EF-13527_20130916_0823    0.0032  0.5602       1.0000  0.8827   \n",
       "7   HA53AA-13548_20130727_0954    1.0000  0.9918       0.5017  1.0000   \n",
       "8   W112NN-13548_20130709_0403    1.0000  0.4755       0.7288  1.0000   \n",
       "9   W112NN-13548_20130713_0448    1.0000  0.6867       0.3445  1.0000   \n",
       "10  W112NN-13548_20130709_1234    1.0000  0.9790       0.9333  1.0000   \n",
       "11  HA86RB-13527_20130728_1101    1.0000  0.6397       0.0007  1.0000   \n",
       "12     SE3-13548_20130911_0655    1.0000  0.9750       0.0025  1.0000   \n",
       "13  WC2H8LG-3527_20130715_1400    1.0000  0.9510       0.0020  0.9733   \n",
       "14  HA53AA-13548_20130729_0801    1.0000  0.7488       0.0007  1.0000   \n",
       "15     CR8-13548_20130921_0806    1.0000  0.1602       0.1515  1.0000   \n",
       "16  HA86RB-13527_20130726_1319    1.0000  0.9895       0.1427  1.0000   \n",
       "\n",
       "    electrical  \n",
       "0       0.9970  \n",
       "1       1.0000  \n",
       "2       1.0000  \n",
       "3       1.0000  \n",
       "4       1.0000  \n",
       "5       0.9970  \n",
       "6       0.9980  \n",
       "7       1.0000  \n",
       "8       1.0000  \n",
       "9       1.0000  \n",
       "10      1.0000  \n",
       "11      0.9878  \n",
       "12      1.0000  \n",
       "13      1.0000  \n",
       "14      0.9880  \n",
       "15      1.0000  \n",
       "16      1.0000  "
      ]
     },
     "execution_count": 18,
     "metadata": {},
     "output_type": "execute_result"
    }
   ],
   "source": [
    "pd.set_option('precision',5)\n",
    "results"
   ]
  },
  {
   "cell_type": "code",
   "execution_count": 43,
   "metadata": {
    "collapsed": false
   },
   "outputs": [
    {
     "name": "stdout",
     "output_type": "stream",
     "text": [
      "E105JP-13548_20131009_0717\n",
      "----------------------------------------\n",
      "\n",
      "         Ali labelled 0.00% as airplane\n",
      "      Jiemin labelled 93.77% as airplane\n",
      "      Verity labelled 63.28% as airplane\n",
      "\n",
      "         Ali labelled 66.90% as bird\n",
      "      Jiemin labelled 0.00% as bird\n",
      "      Verity labelled 5.42% as bird\n",
      "\n",
      "         Ali labelled 0.00% as Mix traffic\n",
      "      Jiemin labelled 0.00% as Mix traffic\n",
      "      Verity labelled 0.00% as Mix traffic\n",
      "\n",
      "         Ali labelled 0.00% as beep\n",
      "      Jiemin labelled 0.00% as beep\n",
      "      Verity labelled 0.00% as beep\n",
      "\n",
      "         Ali labelled 0.30% as electrical\n",
      "      Jiemin labelled 0.00% as electrical\n",
      "      Verity labelled 0.00% as electrical\n",
      "\n",
      "CR05EF-13527_20130921_1236\n",
      "----------------------------------------\n",
      "\n",
      "         Ali labelled 0.00% as airplane\n",
      "      Jiemin labelled 0.00% as airplane\n",
      "      Verity labelled 21.53% as airplane\n",
      "\n",
      "         Ali labelled 25.85% as bird\n",
      "      Jiemin labelled 0.00% as bird\n",
      "      Verity labelled 16.87% as bird\n",
      "\n",
      "         Ali labelled 0.00% as Mix traffic\n",
      "      Jiemin labelled 87.93% as Mix traffic\n",
      "      Verity labelled 0.00% as Mix traffic\n",
      "\n",
      "         Ali labelled 0.00% as beep\n",
      "      Jiemin labelled 0.00% as beep\n",
      "      Verity labelled 0.00% as beep\n",
      "\n",
      "         Ali labelled 0.30% as electrical\n",
      "      Jiemin labelled 0.00% as electrical\n",
      "      Verity labelled 0.00% as electrical\n",
      "\n"
     ]
    }
   ],
   "source": [
    "for fname in ['E105JP-13548_20131009_0717', 'CR05EF-13527_20130921_1236']:\n",
    "\n",
    "    print fname\n",
    "    print '-' * 40 + '\\n'\n",
    "    for label in classes:\n",
    "        for human in humans:\n",
    "\n",
    "            if label in labels[human][fname]:\n",
    "                frac = labels[human][fname][label].mean()\n",
    "            else:\n",
    "                frac = 0\n",
    "\n",
    "            print \"    %8s labelled %02.2f%% as %s\" % (human, frac * 100, label)\n",
    "        print \"\""
   ]
  },
  {
   "cell_type": "code",
   "execution_count": 32,
   "metadata": {
    "collapsed": false
   },
   "outputs": [
    {
     "name": "stdout",
     "output_type": "stream",
     "text": [
      "Ali labelled 0.00% as airplane\n",
      "Jiemin labelled 0.00% as airplane\n",
      "Verity labelled 21.53% as airplane\n",
      "\n",
      "Ali labelled 25.85% as bird\n",
      "Jiemin labelled 0.00% as bird\n",
      "Verity labelled 16.87% as bird\n",
      "\n",
      "Ali labelled 0.00% as Mix traffic\n",
      "Jiemin labelled 87.93% as Mix traffic\n",
      "Verity labelled 0.00% as Mix traffic\n",
      "\n",
      "Ali labelled 0.00% as beep\n",
      "Jiemin labelled 0.00% as beep\n",
      "Verity labelled 0.00% as beep\n",
      "\n",
      "Ali labelled 0.30% as electrical\n",
      "Jiemin labelled 0.00% as electrical\n",
      "Verity labelled 0.00% as electrical\n",
      "\n"
     ]
    }
   ],
   "source": [
    "fname = \n",
    "\n",
    "for label in classes:\n",
    "    for human in humans:\n",
    "    \n",
    "        if label in labels[human][fname]:\n",
    "            frac = labels[human][fname][label].mean()\n",
    "        else:\n",
    "            frac = 0\n",
    "\n",
    "        print \"%s labelled %0.2f%% as %s\" % (human, frac * 100, label)\n",
    "    print \"\""
   ]
  },
  {
   "cell_type": "code",
   "execution_count": null,
   "metadata": {
    "collapsed": true
   },
   "outputs": [],
   "source": []
  },
  {
   "cell_type": "code",
   "execution_count": null,
   "metadata": {
    "collapsed": true
   },
   "outputs": [],
   "source": []
  },
  {
   "cell_type": "code",
   "execution_count": null,
   "metadata": {
    "collapsed": true
   },
   "outputs": [],
   "source": []
  }
 ],
 "metadata": {
  "kernelspec": {
   "display_name": "Python 2",
   "language": "python",
   "name": "python2"
  },
  "language_info": {
   "codemirror_mode": {
    "name": "ipython",
    "version": 2
   },
   "file_extension": ".py",
   "mimetype": "text/x-python",
   "name": "python",
   "nbconvert_exporter": "python",
   "pygments_lexer": "ipython2",
   "version": "2.7.11"
  }
 },
 "nbformat": 4,
 "nbformat_minor": 0
}
