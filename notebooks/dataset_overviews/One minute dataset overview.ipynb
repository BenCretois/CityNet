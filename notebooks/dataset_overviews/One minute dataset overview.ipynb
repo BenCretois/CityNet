{
 "cells": [
  {
   "cell_type": "markdown",
   "metadata": {},
   "source": [
    "# One-minute dataset overview\n",
    "\n",
    "Aim is to see, for each moment in time in the one-minute-dataset, is there:\n",
    "\n",
    "- A human noise?\n",
    "- An animal noise?\n",
    "- Both a human and an animal noise?\n",
    "- No noise / unknown noise?\n",
    "\n",
    "At the bottom of this file I display the summary, showing what percentage of times fell into which of these categories.\n",
    "\n",
    "TODO - change to just load in the labels which I have now saved to disk..."
   ]
  },
  {
   "cell_type": "code",
   "execution_count": 2,
   "metadata": {
    "collapsed": true
   },
   "outputs": [],
   "source": [
    "%matplotlib inline\n",
    "import matplotlib.pyplot as plt\n",
    "import csv\n",
    "import collections\n",
    "import numpy as np\n",
    "import seaborn as sns"
   ]
  },
  {
   "cell_type": "code",
   "execution_count": 3,
   "metadata": {
    "collapsed": false
   },
   "outputs": [],
   "source": [
    "human_noises = set(['mix traffic', 'braking', 'voices', 'electrical', \n",
    "                   'anthropogenic unknown', 'airplane', 'beep',\n",
    "                   'metal', 'bus emitting', 'footsteps', 'mower', 'whistle',\n",
    "                  'siren', 'coughing', 'music', 'horn', 'startthecar', 'bells', \n",
    "                    'applause', 'dog bark'])\n",
    "\n",
    "animal_noises = set(['bird', 'wing beats', 'bat', 'fox', \n",
    "                     'grey squirrel', 'invertebrate'])\n",
    "\n",
    "other = set(['rain', 'unknown sound'])"
   ]
  },
  {
   "cell_type": "markdown",
   "metadata": {},
   "source": [
    "## Load in the annotations"
   ]
  },
  {
   "cell_type": "code",
   "execution_count": 5,
   "metadata": {
    "collapsed": false
   },
   "outputs": [],
   "source": [
    "base_path = '/media/michael/Seagate/engage/engage_hackathon_data/data/raw_data/one_minute_files/'\n",
    "dataset_csv = csv.reader(open(base_path + 'urban_sounds_labels.csv'))\n",
    "\n",
    "annotations = []  # list of all class info\n",
    "\n",
    "def try_number(s):\n",
    "    \"\"\"Converts s to float if possible, else leaves as is\"\"\"\n",
    "    try:\n",
    "        return float(s)\n",
    "    except ValueError:\n",
    "        return s\n",
    "\n",
    "# I'm basically reinventing pandas here - very silly\n",
    "for count, line in enumerate(dataset_csv):\n",
    "    if count == 0:\n",
    "        header = line\n",
    "        continue\n",
    "        \n",
    "    annotation = {label:try_number(item) for label, item in zip(header, line)}    \n",
    "    annotation['length'] = \\\n",
    "        annotation['LabelEndTime_Seconds'] - annotation['LabelStartTime_Seconds']\n",
    "    annotation['Label'] = annotation['Label'].strip().lower()\n",
    "    annotations.append(annotation)\n",
    "    \n",
    "# group annotations by filename\n",
    "file_annotations = collections.defaultdict(list)\n",
    "for annotation in annotations:\n",
    "    file_annotations[annotation['Filename']].append(annotation)"
   ]
  },
  {
   "cell_type": "markdown",
   "metadata": {},
   "source": [
    "## From the annotations, work out the lengths of each lael type\n",
    "\n",
    "I do this by forming two vectors for each sound file, one for human and one for animal sounds. These are filled with ones at each moment that a human or animal sound is present.\n",
    "\n",
    "Note that I sort of have to do it this complex way. I can't just look at the length of time of each annotation, or I wouldn't be able to see where human and animal noises overlap. Also multiple animal noises can occur at a time, and I don't want to double count."
   ]
  },
  {
   "cell_type": "code",
   "execution_count": 6,
   "metadata": {
    "collapsed": false
   },
   "outputs": [],
   "source": [
    "# this actually doesn't matter to be correct - it is more the resolution at which we compute statistics\n",
    "sample_rate = 24000 \n",
    "file_len_in_seconds = 60\n",
    "\n",
    "# blank\n",
    "just_animals = 0\n",
    "just_humans = 0\n",
    "animals_and_humans = 0\n",
    "nothing = 0\n",
    "\n",
    "for filename, annotations in file_annotations.iteritems():\n",
    "    # first row is human, second is animal, third is other/blank\n",
    "    labels = np.zeros((2, sample_rate*file_len_in_seconds))\n",
    "    \n",
    "    for annot in annotations:\n",
    "        start_point = int(annot['LabelStartTime_Seconds'] * sample_rate)\n",
    "        end_point =  int(annot['LabelEndTime_Seconds'] * sample_rate)\n",
    "        \n",
    "        if annot['Label'] in human_noises:\n",
    "            labels[0, start_point:end_point] = 1\n",
    "        elif annot['Label'] in animal_noises:\n",
    "            labels[1, start_point:end_point] = 1\n",
    "        elif annot['Label'] in other:\n",
    "            pass\n",
    "        else:\n",
    "            raise Exception(\"Unknown label \", annot['Label'])\n",
    "    \n",
    "    # sum up the labels:\n",
    "    animals_and_humans += float(\n",
    "        np.sum(np.logical_and(labels[0, :]==1, labels[1, :]==1))) / float(sample_rate)\n",
    "    just_animals += float(\n",
    "        np.sum(np.logical_and(labels[0, :]==0, labels[1, :]==1))) / float(sample_rate)\n",
    "    just_humans += float(\n",
    "        np.sum(np.logical_and(labels[0, :]==1, labels[1, :]==0))) / float(sample_rate)\n",
    "    nothing += float(\n",
    "        np.sum(np.logical_and(labels[0, :]==0, labels[1, :]==0))) / float(sample_rate)\n",
    "    "
   ]
  },
  {
   "cell_type": "markdown",
   "metadata": {},
   "source": [
    "## Display the findings nicely(ish)"
   ]
  },
  {
   "cell_type": "code",
   "execution_count": 7,
   "metadata": {
    "collapsed": false
   },
   "outputs": [
    {
     "name": "stdout",
     "output_type": "stream",
     "text": [
      "Total length of sound files is 21720.00 seconds\n",
      "(Sanity check: 21720.00)\n",
      "\n",
      "There are human noises occuring 77.32% of the time\n",
      "There are animal noises occuring 11.85% of the time\n",
      "7.12% of the dataset has both animal and human noises happening\n",
      "17.95% of the dataset has no animal or human noise\n",
      "\n",
      " (THe above percentages shouldn't add up to 100)\n",
      "\n",
      "\n",
      "                 SUMMARY TABLE \n",
      "           (numbers are in seconds) \n",
      "\n",
      "               | Animal       | No animal    |\n",
      "----------------------------------------------\n",
      "Human          | 1546.02      | 15247.32     |\n",
      "No human       | 1028.52      | 3898.14      |\n",
      "----------------------------------------------\n",
      "\n",
      "\n"
     ]
    },
    {
     "data": {
      "image/png": "[encoded data removed]",
      "text/plain": [
       "<matplotlib.figure.Figure at 0x7f7614847450>"
      ]
     },
     "metadata": {},
     "output_type": "display_data"
    }
   ],
   "source": [
    "# Summerising the file\n",
    "total_length = (just_animals + just_humans + animals_and_humans + nothing)\n",
    "print \"Total length of sound files is %.2f seconds\" % total_length\n",
    "    \n",
    "print \"(Sanity check: %.2f)\" % (60 * len(file_annotations))\n",
    "\n",
    "# Printing some percentages\n",
    "print \"\"\n",
    "print \"There are human noises occuring %0.2f%% of the time\" % \\\n",
    "    (100 * ((just_humans + animals_and_humans) / total_length))\n",
    "    \n",
    "print \"There are animal noises occuring %0.2f%% of the time\" % \\\n",
    "    (100 * ((just_animals + animals_and_humans) / total_length))\n",
    "    \n",
    "print \"%0.2f%% of the dataset has both animal and human noises happening\" % \\\n",
    "    (100 * ((animals_and_humans) / total_length))\n",
    "    \n",
    "print \"%0.2f%% of the dataset has no animal or human noise\" % \\\n",
    "    (100 * (nothing / total_length))\n",
    "\n",
    "print \"\\n (THe above percentages shouldn't add up to 100)\"\n",
    "\n",
    "# Creating a table\n",
    "print \"\\n\\n                 SUMMARY TABLE \\n           (numbers are in seconds) \\n\"\n",
    "print \" \" * 15 + \"| Animal       | No animal    |\"\n",
    "print \"-\" * 46\n",
    "print \"Human\".ljust(15) + \\\n",
    "    (\"| %.2f\" % animals_and_humans).ljust(15) + \\\n",
    "    (\"| %.2f\" % just_humans).ljust(15) + '|'\n",
    "print \"No human\".ljust(15) + \\\n",
    "    (\"| %.2f\" % just_animals).ljust(15) + \\\n",
    "    (\"| %.2f\" % nothing).ljust(15) + '|'\n",
    "print  \"-\" * 46\n",
    "print \"\\n\"\n",
    "\n",
    "# Pie chart (sorry)\n",
    "plt.pie([animals_and_humans, just_humans, just_animals, nothing], \n",
    "        labels=['Biotic and anthropogenic', 'Just anthropogenic', 'Just biotic', 'No label / other'], \n",
    "        autopct='%1.1f%%', startangle=90)\n",
    "plt.axis('equal');\n",
    "plt.title('Gratuitous pie chart', y=1.1);"
   ]
  }
 ],
 "metadata": {
  "kernelspec": {
   "display_name": "Python 2",
   "language": "python",
   "name": "python2"
  },
  "language_info": {
   "codemirror_mode": {
    "name": "ipython",
    "version": 2
   },
   "file_extension": ".py",
   "mimetype": "text/x-python",
   "name": "python",
   "nbconvert_exporter": "python",
   "pygments_lexer": "ipython2",
   "version": "2.7.11"
  }
 },
 "nbformat": 4,
 "nbformat_minor": 0
}
